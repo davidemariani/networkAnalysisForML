{
 "cells": [
  {
   "cell_type": "code",
   "execution_count": 1,
   "metadata": {},
   "outputs": [],
   "source": [
    "import numpy as np\n",
    "import pandas as pd\n",
    "import seaborn as sns\n",
    "import matplotlib.pyplot as plt\n",
    "import math\n",
    "\n",
    "# Import TensorFlow\n",
    "import tensorflow as tf\n",
    "from tensorflow.keras.regularizers import l1, l2\n",
    "from tensorflow.keras.optimizers import RMSprop, Adam, SGD\n",
    "from tensorflow.keras.initializers import lecun_uniform\n",
    "\n",
    "from scripts_ml.ann_utils import *"
   ]
  },
  {
   "cell_type": "code",
   "execution_count": 2,
   "metadata": {},
   "outputs": [
    {
     "name": "stdout",
     "output_type": "stream",
     "text": [
      "[name: \"/device:CPU:0\"\n",
      "device_type: \"CPU\"\n",
      "memory_limit: 268435456\n",
      "locality {\n",
      "}\n",
      "incarnation: 1732401341266805532\n",
      ", name: \"/device:GPU:0\"\n",
      "device_type: \"GPU\"\n",
      "memory_limit: 1449056665\n",
      "locality {\n",
      "  bus_id: 1\n",
      "  links {\n",
      "  }\n",
      "}\n",
      "incarnation: 661259424566511482\n",
      "physical_device_desc: \"device: 0, name: GeForce GTX 960M, pci bus id: 0000:01:00.0, compute capability: 5.0\"\n",
      "]\n"
     ]
    }
   ],
   "source": [
    "from tensorflow.python.client import device_lib\n",
    "print(device_lib.list_local_devices())"
   ]
  },
  {
   "cell_type": "code",
   "execution_count": 3,
   "metadata": {},
   "outputs": [],
   "source": [
    "#importing data\n",
    "preproc_folder = \"enriched_time_seq\"\n",
    "datafolder = \"../data/preproc_traintest/\"+preproc_folder+'/'\n",
    "prefix_time_seq = 'time_2018-04-30_p90_bg_'\n",
    "valid_code = '_val_24000_6000_'\n",
    "trainfile = '_traindata'\n",
    "testfile = '_testdata'\n",
    "postfix_time_seq_val = '_190824_1253'\n",
    "postfix_time_seq = '_190824_1230'\n",
    "preproc_folder = \"enriched_time_seq\"\n",
    "datafolder = \"../data/preproc_traintest/\"+preproc_folder+'/'\n",
    "indexfile = '_fold_indexes'\n",
    "expname = \"MLP_\"+preproc_folder+valid_code.split('_val_')[1][:-1]+\"_opt_p90\"\n",
    "\n",
    "[X_train, y_train, feature_labels] = pd.read_pickle(datafolder+prefix_time_seq+trainfile+postfix_time_seq+'.pkl') \n",
    "[X_test, y_test, feature_labels] = pd.read_pickle(datafolder+prefix_time_seq+testfile+postfix_time_seq+'.pkl') \n",
    "[val_X_train, val_y_train, val_feature_labels] = pd.read_pickle(datafolder+prefix_time_seq+valid_code+trainfile+postfix_time_seq_val+'.pkl') \n",
    "[val_X_test, val_y_test, val_feature_labels] = pd.read_pickle(datafolder+prefix_time_seq+valid_code+testfile+postfix_time_seq_val+'.pkl') \n",
    "indexes = pd.read_pickle(datafolder+prefix_time_seq+valid_code+indexfile+postfix_time_seq_val+'.pkl')"
   ]
  },
  {
   "cell_type": "code",
   "execution_count": 6,
   "metadata": {},
   "outputs": [],
   "source": [
    "from tensorflow.keras.layers import SimpleRNN, LSTM, Dense, Bidirectional, Flatten, GRU, BatchNormalization\n",
    "from tensorflow.keras.models import Sequential"
   ]
  },
  {
   "cell_type": "code",
   "execution_count": 7,
   "metadata": {},
   "outputs": [],
   "source": [
    "fold = int(valid_code.split('_val_')[1].split('_')[0])"
   ]
  },
  {
   "cell_type": "code",
   "execution_count": 8,
   "metadata": {},
   "outputs": [],
   "source": [
    "#recombining folds for grid search\n",
    "\n",
    "val_X_tr = []\n",
    "val_y_tr = []\n",
    "val_X_tst = []\n",
    "val_y_tst = []\n",
    "indexes_tuples = []\n",
    "\n",
    "count=0\n",
    "start_tr=0\n",
    "\n",
    "for idx in indexes:\n",
    "    val_X_tr.append(list(val_X_train[idx[0][-fold:]]))\n",
    "    val_y_tr.append(list(val_y_train[idx[0][-fold:]]))\n",
    "    if count==0:\n",
    "        test_idx = np.array(range(0, len(idx[1])))\n",
    "    else:\n",
    "        test_idx+=len(idx[1])\n",
    "    val_X_tst.append(list(val_X_test[test_idx]))\n",
    "    val_y_tst.append(list(val_y_test[test_idx]))\n",
    "    \n",
    "    \n",
    "    if count==0:\n",
    "        start_tst = len(idx[0])\n",
    "    else:\n",
    "        start_tr+=add_to_tr\n",
    "        start_tst=start_tr+len(idx[0])\n",
    "        \n",
    "    indexes_tuples.append((np.array(range(start_tr, start_tr+len(idx[0]))), \n",
    "                          np.array(range(start_tst, start_tst+len(idx[1])))))\n",
    "    \n",
    "    add_to_tr = len(idx[0])+len(idx[1])\n",
    "    \n",
    "    count+=1"
   ]
  },
  {
   "cell_type": "code",
   "execution_count": 9,
   "metadata": {},
   "outputs": [],
   "source": [
    "X = np.array(val_X_tr)\n",
    "X=X.reshape((X.shape[1], X.shape[0], X.shape[2]))\n",
    "#y = np.array([val_X_all[1]])\n"
   ]
  },
  {
   "cell_type": "code",
   "execution_count": 10,
   "metadata": {},
   "outputs": [
    {
     "data": {
      "text/plain": [
       "(24000, 3, 1)"
      ]
     },
     "execution_count": 10,
     "metadata": {},
     "output_type": "execute_result"
    }
   ],
   "source": [
    "y = np.array(val_y_tr)\n",
    "y = y.reshape((X.shape[0], X.shape[1],1))\n",
    "y.shape"
   ]
  },
  {
   "cell_type": "code",
   "execution_count": 11,
   "metadata": {},
   "outputs": [],
   "source": [
    "X_val = np.array(val_X_tst)\n",
    "X_val = X_val.reshape((X_val.shape[1], X_val.shape[0], X_val.shape[2]))"
   ]
  },
  {
   "cell_type": "code",
   "execution_count": 12,
   "metadata": {},
   "outputs": [],
   "source": [
    "y_val = np.array(val_y_tst)\n",
    "y_val = y_val.reshape((X_val.shape[0], X_val.shape[1],1))"
   ]
  },
  {
   "cell_type": "code",
   "execution_count": 13,
   "metadata": {},
   "outputs": [],
   "source": [
    "from sklearn.utils import class_weight\n",
    "\n",
    "#class_weights = class_weight.compute_class_weight('balanced',\n",
    "#                                                 np.unique(y_val),\n",
    "#                                                 y_train)\n",
    "\n",
    "cw = class_weight.compute_sample_weight({False:1, True:50},#'balanced',\n",
    "                                                 #np.unique(y_train),\n",
    "                                                 y.flatten())"
   ]
  },
  {
   "cell_type": "code",
   "execution_count": 14,
   "metadata": {},
   "outputs": [],
   "source": [
    "#model = Sequential()\n",
    "#model.add(GRU(50, return_sequences=True, dropout=0.1))\n",
    "#model.add(GRU(25, return_sequences=True, dropout=0.1)) #activation='relu',\n",
    "#model.add(GRU(10, return_sequences=True, dropout=0.3, recurrent_dropout=0.3)) #activation='relu',\n",
    "#model.add(GRU(5, return_sequences=True, dropout=0.4))\n",
    "#model.add(Dense(1, activation='sigmoid'))\n",
    "#model.compile(optimizer=Adam(), loss='binary_crossentropy', metrics=['acc', tf.keras.metrics.AUC()])"
   ]
  },
  {
   "cell_type": "code",
   "execution_count": 15,
   "metadata": {},
   "outputs": [
    {
     "data": {
      "text/plain": [
       "(24000, 3, 35)"
      ]
     },
     "execution_count": 15,
     "metadata": {},
     "output_type": "execute_result"
    }
   ],
   "source": [
    "X.shape"
   ]
  },
  {
   "cell_type": "code",
   "execution_count": 49,
   "metadata": {},
   "outputs": [],
   "source": [
    "model = Sequential()\n",
    "#model.add(GRU(180, return_sequences=True, dropout=0.5, recurrent_dropout=0.5, kernel_initializer=lecun_uniform(seed=42), activation='relu'))\n",
    "#model.add(GRU(120, return_sequences=True, dropout=0.5, recurrent_dropout=0.5, kernel_initializer=lecun_uniform(seed=42), activation='relu'))\n",
    "model.add(GRU(360, return_sequences=True, dropout=0.55, recurrent_dropout=0.7, kernel_initializer=lecun_uniform(seed=42), activation='relu')) # activation='relu',\n",
    "model.add(BatchNormalization())\n",
    "model.add(GRU(240, return_sequences=True, dropout=0.55, recurrent_dropout=0.7, kernel_initializer=lecun_uniform(seed=42), activation='relu'))\n",
    "model.add(BatchNormalization())\n",
    "model.add(GRU(180, return_sequences=True, dropout=0.55, recurrent_dropout=0.7, kernel_initializer=lecun_uniform(seed=42), activation='relu'))\n",
    "model.add(BatchNormalization())\n",
    "#model.add(GRU(120, return_sequences=True, dropout=0.55, recurrent_dropout=0.7, kernel_initializer=lecun_uniform(seed=42), activation='relu'))\n",
    "#model.add(BatchNormalization())\n",
    "#model.add(GRU(90, return_sequences=True, dropout=0.55, recurrent_dropout=0.7, kernel_initializer=lecun_uniform(seed=42), activation='relu'))\n",
    "#model.add(GRU(60, return_sequences=True, dropout=0.55, recurrent_dropout=0.7, kernel_initializer=lecun_uniform(seed=42), activation='relu'))\n",
    "#model.add(GRU(5, return_sequences=True, dropout=0.5, recurrent_dropout=0.5, kernel_initializer=lecun_uniform(seed=42), activation='relu'))\n",
    "model.add(Dense(50, activation='relu'))\n",
    "model.add(tf.keras.layers.Dropout(0.5))\n",
    "model.add(Dense(1, activation='sigmoid'))\n",
    "model.compile(optimizer= tf.keras.optimizers.Adam(), loss='binary_crossentropy', metrics=['acc', tf.keras.metrics.AUC()], sample_weight_mode=\"temporal\") #Adam(0.0008)"
   ]
  },
  {
   "cell_type": "code",
   "execution_count": null,
   "metadata": {},
   "outputs": [],
   "source": [
    "#with tf.device(\"/device:GPU:0\"):\n",
    "model.fit(X, y, epochs=500, batch_size=1024, verbose=2, shuffle='batch', validation_data=(X_val, y_val)) #, sample_weight=cw.reshape((24000,3)))"
   ]
  },
  {
   "cell_type": "code",
   "execution_count": 46,
   "metadata": {},
   "outputs": [
    {
     "data": {
      "image/png": "[encoded data removed]",
      "text/plain": [
       "<Figure size 432x288 with 1 Axes>"
      ]
     },
     "metadata": {
      "needs_background": "light"
     },
     "output_type": "display_data"
    }
   ],
   "source": [
    "history = model.history.history\n",
    "plot_epochs_graph(history, 'loss', True)"
   ]
  },
  {
   "cell_type": "code",
   "execution_count": 47,
   "metadata": {},
   "outputs": [
    {
     "data": {
      "image/png": "[encoded data removed]",
      "text/plain": [
       "<Figure size 432x288 with 1 Axes>"
      ]
     },
     "metadata": {
      "needs_background": "light"
     },
     "output_type": "display_data"
    }
   ],
   "source": [
    "plot_epochs_graph(history, 'acc', True)"
   ]
  },
  {
   "cell_type": "code",
   "execution_count": 48,
   "metadata": {},
   "outputs": [
    {
     "data": {
      "image/png": "[encoded data removed]",
      "text/plain": [
       "<Figure size 432x288 with 1 Axes>"
      ]
     },
     "metadata": {
      "needs_background": "light"
     },
     "output_type": "display_data"
    }
   ],
   "source": [
    "plot_epochs_graph(history, 'auc_9', True)"
   ]
  },
  {
   "cell_type": "code",
   "execution_count": 36,
   "metadata": {},
   "outputs": [],
   "source": [
    "y_scores = model.predict(X_test.reshape(11518,1,35))"
   ]
  },
  {
   "cell_type": "code",
   "execution_count": 37,
   "metadata": {},
   "outputs": [],
   "source": [
    "y_scores = y_scores.flatten()"
   ]
  },
  {
   "cell_type": "code",
   "execution_count": 38,
   "metadata": {},
   "outputs": [
    {
     "data": {
      "text/plain": [
       "(11518, 35)"
      ]
     },
     "execution_count": 38,
     "metadata": {},
     "output_type": "execute_result"
    }
   ],
   "source": [
    "X_test.shape"
   ]
  },
  {
   "cell_type": "code",
   "execution_count": 39,
   "metadata": {},
   "outputs": [
    {
     "name": "stdout",
     "output_type": "stream",
     "text": [
      "AUC 0.796\n"
     ]
    }
   ],
   "source": [
    "from sklearn.metrics import precision_recall_curve, roc_curve, roc_auc_score, confusion_matrix\n",
    "\n",
    "fpr, tpr, thresholds = roc_curve(y_test, y_scores)\n",
    "auc=roc_auc_score(y_test, y_scores)\n",
    "print(\"AUC {:.3f}\".format(auc))"
   ]
  },
  {
   "cell_type": "code",
   "execution_count": null,
   "metadata": {},
   "outputs": [],
   "source": []
  }
 ],
 "metadata": {
  "kernelspec": {
   "display_name": "Python 3",
   "language": "python",
   "name": "python3"
  },
  "language_info": {
   "codemirror_mode": {
    "name": "ipython",
    "version": 3
   },
   "file_extension": ".py",
   "mimetype": "text/x-python",
   "name": "python",
   "nbconvert_exporter": "python",
   "pygments_lexer": "ipython3",
   "version": "3.6.8"
  }
 },
 "nbformat": 4,
 "nbformat_minor": 2
}

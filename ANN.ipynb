{
 "cells": [
  {
   "cell_type": "code",
   "execution_count": 2,
   "metadata": {},
   "outputs": [
    {
     "name": "stderr",
     "output_type": "stream",
     "text": [
      "C:\\ProgramData\\Anaconda3\\envs\\thesis_mlflow\\lib\\importlib\\_bootstrap.py:219: RuntimeWarning: numpy.ufunc size changed, may indicate binary incompatibility. Expected 192 from C header, got 216 from PyObject\n",
      "  return f(*args, **kwds)\n",
      "C:\\ProgramData\\Anaconda3\\envs\\thesis_mlflow\\lib\\importlib\\_bootstrap.py:219: RuntimeWarning: numpy.ufunc size changed, may indicate binary incompatibility. Expected 216, got 192\n",
      "  return f(*args, **kwds)\n",
      "C:\\ProgramData\\Anaconda3\\envs\\thesis_mlflow\\lib\\importlib\\_bootstrap.py:219: RuntimeWarning: numpy.ufunc size changed, may indicate binary incompatibility. Expected 192 from C header, got 216 from PyObject\n",
      "  return f(*args, **kwds)\n"
     ]
    }
   ],
   "source": [
    "import numpy as np\n",
    "import pandas as pd\n",
    "import seaborn as sns\n",
    "import matplotlib.pyplot as plt\n",
    "import math\n",
    "\n",
    "# Import TensorFlow\n",
    "import tensorflow as tf\n",
    "from tensorflow.keras.regularizers import l1, l2\n",
    "from tensorflow.keras.optimizers import RMSprop, Adam\n",
    "\n",
    "from ann_utils import *"
   ]
  },
  {
   "cell_type": "code",
   "execution_count": 3,
   "metadata": {},
   "outputs": [],
   "source": [
    "preproc_folder = \"enriched_shuffle\"\n",
    "datafolder = \"../data/preproc_traintest/\"+preproc_folder+'/'\n",
    "output_path = \"../data/models/\"\n",
    "\n",
    "prefix = 'shuffle_imp_bg_'\n",
    "postfix = '_190721_1655'\n",
    "trainfile = '_traindata'\n",
    "testfile = '_testdata'\n",
    "\n",
    "[X_train, y_train, feature_labels] = pd.read_pickle(datafolder+prefix+trainfile+postfix+'.pkl') \n",
    "[X_test, y_test, feature_labels] = pd.read_pickle(datafolder+prefix+testfile+postfix+'.pkl') "
   ]
  },
  {
   "cell_type": "code",
   "execution_count": 4,
   "metadata": {},
   "outputs": [
    {
     "data": {
      "text/plain": [
       "35"
      ]
     },
     "execution_count": 4,
     "metadata": {},
     "output_type": "execute_result"
    }
   ],
   "source": [
    "len(feature_labels)"
   ]
  },
  {
   "cell_type": "code",
   "execution_count": 36,
   "metadata": {},
   "outputs": [
    {
     "name": "stdout",
     "output_type": "stream",
     "text": [
      "Model: \"sequential_5\"\n",
      "_________________________________________________________________\n",
      "Layer (type)                 Output Shape              Param #   \n",
      "=================================================================\n",
      "dense_15 (Dense)             (None, 20)                720       \n",
      "_________________________________________________________________\n",
      "dense_16 (Dense)             (None, 1)                 21        \n",
      "=================================================================\n",
      "Total params: 741\n",
      "Trainable params: 741\n",
      "Non-trainable params: 0\n",
      "_________________________________________________________________\n",
      "None\n"
     ]
    }
   ],
   "source": [
    "mlp = create_mlp_model(35, 1, [20], [tf.nn.relu],                                        #35, 2, [20, 5], [tf.nn.relu, tf.nn.relu],\n",
    "                      optimizer = RMSprop(),\n",
    "                      loss_func=\"binary_crossentropy\")"
   ]
  },
  {
   "cell_type": "code",
   "execution_count": 37,
   "metadata": {},
   "outputs": [
    {
     "data": {
      "text/plain": [
       "(46095, 35)"
      ]
     },
     "execution_count": 37,
     "metadata": {},
     "output_type": "execute_result"
    }
   ],
   "source": [
    "X_train.shape"
   ]
  },
  {
   "cell_type": "code",
   "execution_count": 38,
   "metadata": {},
   "outputs": [
    {
     "name": "stdout",
     "output_type": "stream",
     "text": [
      "Epoch 1/100\n",
      "181/181 [==============================] - 2s 13ms/step - loss: 0.2623 - accuracy: 0.9295 - precision: 0.0481 - recall: 0.1262 - val_loss: 0.0855 - val_accuracy: 0.9803 - val_precision: 0.6818 - val_recall: 0.1408\n",
      "Epoch 2/100\n",
      "181/181 [==============================] - 2s 10ms/step - loss: 0.0739 - accuracy: 0.9811 - precision: 0.7118 - recall: 0.1618 - val_loss: 0.0669 - val_accuracy: 0.9820 - val_precision: 0.7895 - val_recall: 0.2113\n",
      "Epoch 3/100\n",
      "181/181 [==============================] - 2s 10ms/step - loss: 0.0636 - accuracy: 0.9820 - precision: 0.7534 - recall: 0.2091 - val_loss: 0.0633 - val_accuracy: 0.9824 - val_precision: 0.7937 - val_recall: 0.2347\n",
      "Epoch 4/100\n",
      "181/181 [==============================] - 2s 11ms/step - loss: 0.0595 - accuracy: 0.9823 - precision: 0.7622 - recall: 0.2240 - val_loss: 0.0619 - val_accuracy: 0.9821 - val_precision: 0.7361 - val_recall: 0.2488\n",
      "Epoch 5/100\n",
      "181/181 [==============================] - 2s 11ms/step - loss: 0.0571 - accuracy: 0.9826 - precision: 0.7583 - recall: 0.2440 - val_loss: 0.0609 - val_accuracy: 0.9820 - val_precision: 0.7391 - val_recall: 0.2394\n",
      "Epoch 6/100\n",
      "181/181 [==============================] - 2s 11ms/step - loss: 0.0556 - accuracy: 0.9827 - precision: 0.7508 - recall: 0.2597 - val_loss: 0.0604 - val_accuracy: 0.9823 - val_precision: 0.7500 - val_recall: 0.2535\n",
      "Epoch 7/100\n",
      "181/181 [==============================] - 2s 11ms/step - loss: 0.0545 - accuracy: 0.9830 - precision: 0.7610 - recall: 0.2751 - val_loss: 0.0601 - val_accuracy: 0.9823 - val_precision: 0.7250 - val_recall: 0.2723\n",
      "Epoch 8/100\n",
      "181/181 [==============================] - 2s 11ms/step - loss: 0.0538 - accuracy: 0.9834 - precision: 0.7763 - recall: 0.2929 - val_loss: 0.0603 - val_accuracy: 0.9829 - val_precision: 0.7500 - val_recall: 0.2958\n",
      "Epoch 9/100\n",
      "181/181 [==============================] - 2s 10ms/step - loss: 0.0532 - accuracy: 0.9838 - precision: 0.7868 - recall: 0.3071 - val_loss: 0.0602 - val_accuracy: 0.9830 - val_precision: 0.7416 - val_recall: 0.3099\n",
      "Epoch 10/100\n",
      "181/181 [==============================] - 2s 11ms/step - loss: 0.0527 - accuracy: 0.9839 - precision: 0.7888 - recall: 0.3120 - val_loss: 0.0603 - val_accuracy: 0.9829 - val_precision: 0.7386 - val_recall: 0.3052\n",
      "Epoch 11/100\n",
      "181/181 [==============================] - 2s 11ms/step - loss: 0.0523 - accuracy: 0.9839 - precision: 0.7887 - recall: 0.3169 - val_loss: 0.0605 - val_accuracy: 0.9830 - val_precision: 0.7172 - val_recall: 0.3333\n",
      "Epoch 12/100\n",
      "181/181 [==============================] - 2s 11ms/step - loss: 0.0520 - accuracy: 0.9841 - precision: 0.7923 - recall: 0.3243 - val_loss: 0.0606 - val_accuracy: 0.9829 - val_precision: 0.7333 - val_recall: 0.3099\n",
      "Epoch 13/100\n",
      "181/181 [==============================] - 2s 11ms/step - loss: 0.0517 - accuracy: 0.9842 - precision: 0.7955 - recall: 0.3287 - val_loss: 0.0608 - val_accuracy: 0.9830 - val_precision: 0.7172 - val_recall: 0.3333\n",
      "Epoch 14/100\n",
      "181/181 [==============================] - 2s 11ms/step - loss: 0.0515 - accuracy: 0.9843 - precision: 0.7984 - recall: 0.3313 - val_loss: 0.0609 - val_accuracy: 0.9829 - val_precision: 0.7333 - val_recall: 0.3099\n",
      "Epoch 15/100\n",
      "181/181 [==============================] - 2s 11ms/step - loss: 0.0512 - accuracy: 0.9843 - precision: 0.7999 - recall: 0.3338 - val_loss: 0.0610 - val_accuracy: 0.9830 - val_precision: 0.7216 - val_recall: 0.3286\n",
      "Epoch 16/100\n",
      "181/181 [==============================] - 2s 11ms/step - loss: 0.0510 - accuracy: 0.9843 - precision: 0.8044 - recall: 0.3318 - val_loss: 0.0610 - val_accuracy: 0.9831 - val_precision: 0.7292 - val_recall: 0.3286\n",
      "Epoch 17/100\n",
      "181/181 [==============================] - 2s 11ms/step - loss: 0.0508 - accuracy: 0.9843 - precision: 0.8055 - recall: 0.3281 - val_loss: 0.0610 - val_accuracy: 0.9834 - val_precision: 0.7527 - val_recall: 0.3286\n",
      "Epoch 18/100\n",
      "181/181 [==============================] - 2s 11ms/step - loss: 0.0506 - accuracy: 0.9843 - precision: 0.8075 - recall: 0.3293 - val_loss: 0.0610 - val_accuracy: 0.9834 - val_precision: 0.7582 - val_recall: 0.3239\n",
      "Epoch 19/100\n",
      "181/181 [==============================] - 2s 11ms/step - loss: 0.0504 - accuracy: 0.9844 - precision: 0.8087 - recall: 0.3308 - val_loss: 0.0612 - val_accuracy: 0.9832 - val_precision: 0.7320 - val_recall: 0.3333\n",
      "Epoch 20/100\n",
      "181/181 [==============================] - 2s 11ms/step - loss: 0.0502 - accuracy: 0.9844 - precision: 0.8107 - recall: 0.3321 - val_loss: 0.0613 - val_accuracy: 0.9834 - val_precision: 0.7640 - val_recall: 0.3192\n",
      "Epoch 21/100\n",
      "181/181 [==============================] - 2s 11ms/step - loss: 0.0500 - accuracy: 0.9844 - precision: 0.8110 - recall: 0.3336 - val_loss: 0.0614 - val_accuracy: 0.9832 - val_precision: 0.7419 - val_recall: 0.3239\n",
      "Epoch 22/100\n",
      "181/181 [==============================] - 2s 11ms/step - loss: 0.0499 - accuracy: 0.9844 - precision: 0.8091 - recall: 0.3357 - val_loss: 0.0613 - val_accuracy: 0.9833 - val_precision: 0.7396 - val_recall: 0.3333\n",
      "Epoch 23/100\n",
      "181/181 [==============================] - 2s 11ms/step - loss: 0.0497 - accuracy: 0.9844 - precision: 0.8083 - recall: 0.3363 - val_loss: 0.0613 - val_accuracy: 0.9831 - val_precision: 0.7340 - val_recall: 0.3239\n",
      "Epoch 24/100\n",
      "181/181 [==============================] - 2s 11ms/step - loss: 0.0496 - accuracy: 0.9845 - precision: 0.8093 - recall: 0.3368 - val_loss: 0.0614 - val_accuracy: 0.9834 - val_precision: 0.7527 - val_recall: 0.3286\n",
      "Epoch 25/100\n",
      "181/181 [==============================] - 2s 11ms/step - loss: 0.0494 - accuracy: 0.9845 - precision: 0.8107 - recall: 0.3394 - val_loss: 0.0616 - val_accuracy: 0.9830 - val_precision: 0.7009 - val_recall: 0.3521\n",
      "Epoch 26/100\n",
      "181/181 [==============================] - 2s 11ms/step - loss: 0.0493 - accuracy: 0.9845 - precision: 0.8117 - recall: 0.3400 - val_loss: 0.0615 - val_accuracy: 0.9832 - val_precision: 0.7528 - val_recall: 0.3146\n",
      "Epoch 27/100\n",
      "181/181 [==============================] - 2s 11ms/step - loss: 0.0491 - accuracy: 0.9845 - precision: 0.8127 - recall: 0.3390 - val_loss: 0.0618 - val_accuracy: 0.9825 - val_precision: 0.6792 - val_recall: 0.3380\n",
      "Epoch 28/100\n",
      "181/181 [==============================] - 2s 11ms/step - loss: 0.0490 - accuracy: 0.9846 - precision: 0.8135 - recall: 0.3400 - val_loss: 0.0619 - val_accuracy: 0.9834 - val_precision: 0.7374 - val_recall: 0.3427\n",
      "Epoch 29/100\n",
      "181/181 [==============================] - 2s 11ms/step - loss: 0.0489 - accuracy: 0.9846 - precision: 0.8128 - recall: 0.3412 - val_loss: 0.0620 - val_accuracy: 0.9827 - val_precision: 0.6961 - val_recall: 0.3333\n",
      "Epoch 30/100\n",
      "181/181 [==============================] - 2s 11ms/step - loss: 0.0488 - accuracy: 0.9846 - precision: 0.8117 - recall: 0.3429 - val_loss: 0.0619 - val_accuracy: 0.9834 - val_precision: 0.7423 - val_recall: 0.3380\n",
      "Epoch 31/100\n",
      "181/181 [==============================] - 2s 11ms/step - loss: 0.0486 - accuracy: 0.9846 - precision: 0.8118 - recall: 0.3450 - val_loss: 0.0620 - val_accuracy: 0.9828 - val_precision: 0.6881 - val_recall: 0.3521\n",
      "Epoch 32/100\n",
      "181/181 [==============================] - 2s 11ms/step - loss: 0.0485 - accuracy: 0.9846 - precision: 0.8118 - recall: 0.3463 - val_loss: 0.0619 - val_accuracy: 0.9830 - val_precision: 0.7087 - val_recall: 0.3427\n",
      "Epoch 33/100\n",
      "181/181 [==============================] - 2s 11ms/step - loss: 0.0484 - accuracy: 0.9847 - precision: 0.8121 - recall: 0.3478 - val_loss: 0.0618 - val_accuracy: 0.9828 - val_precision: 0.6952 - val_recall: 0.3427\n",
      "Epoch 34/100\n",
      "181/181 [==============================] - 2s 11ms/step - loss: 0.0483 - accuracy: 0.9847 - precision: 0.8110 - recall: 0.3475 - val_loss: 0.0617 - val_accuracy: 0.9830 - val_precision: 0.7172 - val_recall: 0.3333\n",
      "Epoch 35/100\n",
      "181/181 [==============================] - 2s 11ms/step - loss: 0.0482 - accuracy: 0.9847 - precision: 0.8118 - recall: 0.3474 - val_loss: 0.0619 - val_accuracy: 0.9828 - val_precision: 0.6783 - val_recall: 0.3662\n",
      "Epoch 36/100\n",
      "181/181 [==============================] - 2s 11ms/step - loss: 0.0481 - accuracy: 0.9847 - precision: 0.8123 - recall: 0.3502 - val_loss: 0.0616 - val_accuracy: 0.9831 - val_precision: 0.7157 - val_recall: 0.3427\n",
      "Epoch 37/100\n",
      "181/181 [==============================] - 2s 11ms/step - loss: 0.0480 - accuracy: 0.9847 - precision: 0.8089 - recall: 0.3503 - val_loss: 0.0618 - val_accuracy: 0.9831 - val_precision: 0.7075 - val_recall: 0.3521\n",
      "Epoch 38/100\n",
      "181/181 [==============================] - 2s 11ms/step - loss: 0.0479 - accuracy: 0.9847 - precision: 0.8069 - recall: 0.3509 - val_loss: 0.0616 - val_accuracy: 0.9833 - val_precision: 0.7212 - val_recall: 0.3521\n",
      "Epoch 39/100\n",
      "181/181 [==============================] - 2s 11ms/step - loss: 0.0478 - accuracy: 0.9847 - precision: 0.8072 - recall: 0.3521 - val_loss: 0.0617 - val_accuracy: 0.9829 - val_precision: 0.6875 - val_recall: 0.3615\n",
      "Epoch 40/100\n",
      "181/181 [==============================] - 2s 11ms/step - loss: 0.0477 - accuracy: 0.9847 - precision: 0.8076 - recall: 0.3538 - val_loss: 0.0616 - val_accuracy: 0.9833 - val_precision: 0.7347 - val_recall: 0.3380\n",
      "Epoch 41/100\n",
      "181/181 [==============================] - 2s 11ms/step - loss: 0.0476 - accuracy: 0.9847 - precision: 0.8074 - recall: 0.3541 - val_loss: 0.0618 - val_accuracy: 0.9831 - val_precision: 0.6964 - val_recall: 0.3662\n",
      "Epoch 42/100\n",
      "181/181 [==============================] - 2s 11ms/step - loss: 0.0476 - accuracy: 0.9847 - precision: 0.8078 - recall: 0.3544 - val_loss: 0.0618 - val_accuracy: 0.9833 - val_precision: 0.7130 - val_recall: 0.3615\n",
      "Epoch 43/100\n",
      "181/181 [==============================] - 2s 11ms/step - loss: 0.0475 - accuracy: 0.9848 - precision: 0.8083 - recall: 0.3556 - val_loss: 0.0618 - val_accuracy: 0.9830 - val_precision: 0.6937 - val_recall: 0.3615\n",
      "Epoch 44/100\n",
      "181/181 [==============================] - 2s 11ms/step - loss: 0.0474 - accuracy: 0.9848 - precision: 0.8091 - recall: 0.3581 - val_loss: 0.0618 - val_accuracy: 0.9833 - val_precision: 0.7347 - val_recall: 0.3380\n",
      "Epoch 45/100\n",
      "181/181 [==============================] - 2s 11ms/step - loss: 0.0474 - accuracy: 0.9848 - precision: 0.8084 - recall: 0.3586 - val_loss: 0.0619 - val_accuracy: 0.9830 - val_precision: 0.6937 - val_recall: 0.3615\n",
      "Epoch 46/100\n",
      "181/181 [==============================] - 2s 11ms/step - loss: 0.0473 - accuracy: 0.9848 - precision: 0.8083 - recall: 0.3597 - val_loss: 0.0619 - val_accuracy: 0.9832 - val_precision: 0.7027 - val_recall: 0.3662\n",
      "Epoch 47/100\n",
      "181/181 [==============================] - 2s 11ms/step - loss: 0.0472 - accuracy: 0.9848 - precision: 0.8083 - recall: 0.3610 - val_loss: 0.0621 - val_accuracy: 0.9828 - val_precision: 0.6752 - val_recall: 0.3709\n",
      "Epoch 48/100\n",
      "181/181 [==============================] - 2s 11ms/step - loss: 0.0472 - accuracy: 0.9849 - precision: 0.8086 - recall: 0.3623 - val_loss: 0.0619 - val_accuracy: 0.9831 - val_precision: 0.7037 - val_recall: 0.3568\n",
      "Epoch 49/100\n",
      "181/181 [==============================] - 2s 11ms/step - loss: 0.0471 - accuracy: 0.9849 - precision: 0.8090 - recall: 0.3627 - val_loss: 0.0621 - val_accuracy: 0.9827 - val_precision: 0.6852 - val_recall: 0.3474\n",
      "Epoch 50/100\n",
      "181/181 [==============================] - 2s 11ms/step - loss: 0.0471 - accuracy: 0.9849 - precision: 0.8083 - recall: 0.3631 - val_loss: 0.0621 - val_accuracy: 0.9828 - val_precision: 0.6990 - val_recall: 0.3380\n",
      "Epoch 51/100\n",
      "181/181 [==============================] - 2s 12ms/step - loss: 0.0471 - accuracy: 0.9849 - precision: 0.8085 - recall: 0.3634 - val_loss: 0.0623 - val_accuracy: 0.9826 - val_precision: 0.6822 - val_recall: 0.3427\n",
      "Epoch 52/100\n",
      "181/181 [==============================] - 2s 12ms/step - loss: 0.0470 - accuracy: 0.9849 - precision: 0.8085 - recall: 0.3636 - val_loss: 0.0622 - val_accuracy: 0.9828 - val_precision: 0.6952 - val_recall: 0.3427\n",
      "Epoch 53/100\n",
      "181/181 [==============================] - 2s 12ms/step - loss: 0.0470 - accuracy: 0.9849 - precision: 0.8086 - recall: 0.3640 - val_loss: 0.0624 - val_accuracy: 0.9827 - val_precision: 0.6786 - val_recall: 0.3568\n",
      "Epoch 54/100\n",
      "181/181 [==============================] - 2s 12ms/step - loss: 0.0469 - accuracy: 0.9849 - precision: 0.8080 - recall: 0.3644 - val_loss: 0.0623 - val_accuracy: 0.9832 - val_precision: 0.7064 - val_recall: 0.3615\n",
      "Epoch 55/100\n",
      "181/181 [==============================] - 2s 12ms/step - loss: 0.0469 - accuracy: 0.9849 - precision: 0.8072 - recall: 0.3645 - val_loss: 0.0626 - val_accuracy: 0.9823 - val_precision: 0.6500 - val_recall: 0.3662\n",
      "Epoch 56/100\n",
      "181/181 [==============================] - 2s 12ms/step - loss: 0.0469 - accuracy: 0.9849 - precision: 0.8083 - recall: 0.3646 - val_loss: 0.0624 - val_accuracy: 0.9831 - val_precision: 0.7037 - val_recall: 0.3568\n",
      "Epoch 57/100\n",
      "181/181 [==============================] - 2s 12ms/step - loss: 0.0468 - accuracy: 0.9849 - precision: 0.8091 - recall: 0.3645 - val_loss: 0.0626 - val_accuracy: 0.9826 - val_precision: 0.6757 - val_recall: 0.3521\n",
      "Epoch 58/100\n",
      "181/181 [==============================] - 2s 12ms/step - loss: 0.0468 - accuracy: 0.9849 - precision: 0.8092 - recall: 0.3640 - val_loss: 0.0626 - val_accuracy: 0.9827 - val_precision: 0.7000 - val_recall: 0.3286\n",
      "Epoch 59/100\n",
      "181/181 [==============================] - 2s 12ms/step - loss: 0.0467 - accuracy: 0.9849 - precision: 0.8104 - recall: 0.3639 - val_loss: 0.0627 - val_accuracy: 0.9827 - val_precision: 0.6754 - val_recall: 0.3615\n",
      "Epoch 60/100\n",
      "181/181 [==============================] - 2s 12ms/step - loss: 0.0467 - accuracy: 0.9849 - precision: 0.8107 - recall: 0.3645 - val_loss: 0.0626 - val_accuracy: 0.9831 - val_precision: 0.7000 - val_recall: 0.3615\n",
      "Epoch 61/100\n",
      "181/181 [==============================] - 2s 13ms/step - loss: 0.0467 - accuracy: 0.9849 - precision: 0.8103 - recall: 0.3643 - val_loss: 0.0629 - val_accuracy: 0.9825 - val_precision: 0.6557 - val_recall: 0.3756\n",
      "Epoch 62/100\n",
      "181/181 [==============================] - 2s 12ms/step - loss: 0.0466 - accuracy: 0.9849 - precision: 0.8103 - recall: 0.3645 - val_loss: 0.0628 - val_accuracy: 0.9831 - val_precision: 0.7000 - val_recall: 0.3615\n",
      "Epoch 63/100\n",
      "181/181 [==============================] - 2s 11ms/step - loss: 0.0466 - accuracy: 0.9849 - precision: 0.8098 - recall: 0.3647 - val_loss: 0.0630 - val_accuracy: 0.9827 - val_precision: 0.6786 - val_recall: 0.3568\n",
      "Epoch 64/100\n",
      "181/181 [==============================] - 2s 11ms/step - loss: 0.0466 - accuracy: 0.9849 - precision: 0.8096 - recall: 0.3652 - val_loss: 0.0629 - val_accuracy: 0.9828 - val_precision: 0.7030 - val_recall: 0.3333\n",
      "Epoch 65/100\n",
      "181/181 [==============================] - 2s 11ms/step - loss: 0.0465 - accuracy: 0.9849 - precision: 0.8097 - recall: 0.3658 - val_loss: 0.0631 - val_accuracy: 0.9827 - val_precision: 0.6695 - val_recall: 0.3709\n",
      "Epoch 66/100\n",
      "181/181 [==============================] - 2s 12ms/step - loss: 0.0465 - accuracy: 0.9850 - precision: 0.8093 - recall: 0.3670 - val_loss: 0.0630 - val_accuracy: 0.9829 - val_precision: 0.6944 - val_recall: 0.3521\n",
      "Epoch 67/100\n",
      "181/181 [==============================] - 2s 12ms/step - loss: 0.0465 - accuracy: 0.9850 - precision: 0.8104 - recall: 0.3684 - val_loss: 0.0633 - val_accuracy: 0.9823 - val_precision: 0.6667 - val_recall: 0.3380\n",
      "Epoch 68/100\n",
      "179/181 [============================>.] - ETA: 0s - loss: 0.0464 - accuracy: 0.9850 - precision: 0.8116 - recall: 0.3699Epoch 67: Reached baseline, terminating training\n",
      "181/181 [==============================] - 2s 12ms/step - loss: 0.0464 - accuracy: 0.9850 - precision: 0.8116 - recall: 0.3699 - val_loss: 0.0631 - val_accuracy: 0.9828 - val_precision: 0.6881 - val_recall: 0.3521\n"
     ]
    }
   ],
   "source": [
    "early_stopping = TerminateOnBaseline(monitor='accuracy', baseline=0.985)\n",
    "batch_size = 256\n",
    "epochs=100\n",
    "\n",
    "#creating validation data\n",
    "validation_size = 10000\n",
    "\n",
    "X_val = X_train[:validation_size]\n",
    "partial_X_train = X_train[validation_size:]\n",
    "y_val = y_train[:validation_size]\n",
    "partial_y_train = y_train[validation_size:]\n",
    "\n",
    "history = mlp.fit(partial_X_train, partial_y_train, epochs=epochs,  batch_size = batch_size, verbose=1, \n",
    "        steps_per_epoch=math.ceil(X_train.shape[0]/batch_size), callbacks=[early_stopping],\n",
    "                 validation_data=(X_val, y_val))\n",
    "        "
   ]
  },
  {
   "cell_type": "code",
   "execution_count": 39,
   "metadata": {},
   "outputs": [],
   "source": [
    "history_dict = history.history"
   ]
  },
  {
   "cell_type": "code",
   "execution_count": 40,
   "metadata": {},
   "outputs": [
    {
     "data": {
      "image/png": "[encoded data removed]",
      "text/plain": [
       "<Figure size 432x288 with 1 Axes>"
      ]
     },
     "metadata": {
      "needs_background": "light"
     },
     "output_type": "display_data"
    }
   ],
   "source": [
    "loss_values = history_dict['loss']\n",
    "val_loss_values = history_dict['val_loss']\n",
    "epochs = range(1, len(loss_values)+1)\n",
    "\n",
    "plt.plot(epochs, loss_values, 'bo', label='Training loss')\n",
    "plt.plot(epochs, val_loss_values, 'b', label='Validation loss')\n",
    "plt.title(\"Training and validation loss\")\n",
    "plt.xlabel(\"Epochs\")\n",
    "plt.ylabel(\"Loss\")\n",
    "plt.legend()\n",
    "\n",
    "plt.show()"
   ]
  },
  {
   "cell_type": "code",
   "execution_count": 41,
   "metadata": {},
   "outputs": [
    {
     "data": {
      "image/png": "[encoded data removed]",
      "text/plain": [
       "<Figure size 432x288 with 1 Axes>"
      ]
     },
     "metadata": {
      "needs_background": "light"
     },
     "output_type": "display_data"
    }
   ],
   "source": [
    "acc_values = history_dict['accuracy']\n",
    "val_acc_values = history_dict['val_accuracy']\n",
    "epochs = range(1, len(acc_values)+1)\n",
    "\n",
    "plt.plot(epochs, acc_values, 'bo', label='Training acc')\n",
    "plt.plot(epochs, val_acc_values, 'b', label='Validation acc')\n",
    "plt.title(\"Training and validation accuracy\")\n",
    "plt.xlabel(\"Epochs\")\n",
    "plt.ylabel(\"Acc\")\n",
    "plt.legend()\n",
    "\n",
    "plt.show()"
   ]
  },
  {
   "cell_type": "code",
   "execution_count": 42,
   "metadata": {},
   "outputs": [],
   "source": [
    "predictions = mlp.predict(X_test)"
   ]
  },
  {
   "cell_type": "code",
   "execution_count": 43,
   "metadata": {},
   "outputs": [
    {
     "data": {
      "text/plain": [
       "array([[0.],\n",
       "       [0.],\n",
       "       [0.],\n",
       "       ...,\n",
       "       [0.],\n",
       "       [0.],\n",
       "       [0.]], dtype=float32)"
      ]
     },
     "execution_count": 43,
     "metadata": {},
     "output_type": "execute_result"
    }
   ],
   "source": [
    "predictions.round()"
   ]
  },
  {
   "cell_type": "code",
   "execution_count": 44,
   "metadata": {},
   "outputs": [
    {
     "name": "stdout",
     "output_type": "stream",
     "text": [
      "AUC: 0.9065894035214989\n"
     ]
    }
   ],
   "source": [
    "from sklearn.metrics import precision_recall_curve, roc_curve, roc_auc_score, confusion_matrix\n",
    "fpr, tpr, thresholds = roc_curve(y_test, predictions) #false positive rate, true positive rate and thresholds\n",
    "auc = roc_auc_score(y_test, predictions)\n",
    "        \n",
    "print('AUC: {}'.format(auc))"
   ]
  },
  {
   "cell_type": "code",
   "execution_count": null,
   "metadata": {},
   "outputs": [],
   "source": []
  }
 ],
 "metadata": {
  "kernelspec": {
   "display_name": "Python 3",
   "language": "python",
   "name": "python3"
  },
  "language_info": {
   "codemirror_mode": {
    "name": "ipython",
    "version": 3
   },
   "file_extension": ".py",
   "mimetype": "text/x-python",
   "name": "python",
   "nbconvert_exporter": "python",
   "pygments_lexer": "ipython3",
   "version": "3.6.8"
  }
 },
 "nbformat": 4,
 "nbformat_minor": 2
}

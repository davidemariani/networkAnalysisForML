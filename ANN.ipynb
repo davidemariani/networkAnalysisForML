{
 "cells": [
  {
   "cell_type": "code",
   "execution_count": 19,
   "metadata": {},
   "outputs": [],
   "source": [
    "import numpy as np\n",
    "import pandas as pd\n",
    "import seaborn as sns\n",
    "import matplotlib.pyplot as plt\n",
    "import math\n",
    "\n",
    "# Import TensorFlow\n",
    "import tensorflow as tf\n",
    "from tensorflow.keras.regularizers import l1, l2\n",
    "\n",
    "from ann_utils import *"
   ]
  },
  {
   "cell_type": "code",
   "execution_count": 20,
   "metadata": {},
   "outputs": [],
   "source": [
    "preproc_folder = \"enriched_shuffle\"\n",
    "datafolder = \"../data/preproc_traintest/\"+preproc_folder+'/'\n",
    "output_path = \"../data/models/\"\n",
    "\n",
    "prefix = 'shuffle_imp_bg_'\n",
    "postfix = '_190721_1655'\n",
    "trainfile = '_traindata'\n",
    "testfile = '_testdata'\n",
    "\n",
    "[X_train, y_train, feature_labels] = pd.read_pickle(datafolder+prefix+trainfile+postfix+'.pkl') \n",
    "[X_test, y_test, feature_labels] = pd.read_pickle(datafolder+prefix+testfile+postfix+'.pkl') "
   ]
  },
  {
   "cell_type": "code",
   "execution_count": 21,
   "metadata": {},
   "outputs": [
    {
     "data": {
      "text/plain": [
       "35"
      ]
     },
     "execution_count": 21,
     "metadata": {},
     "output_type": "execute_result"
    }
   ],
   "source": [
    "len(feature_labels)"
   ]
  },
  {
   "cell_type": "code",
   "execution_count": 22,
   "metadata": {},
   "outputs": [
    {
     "name": "stdout",
     "output_type": "stream",
     "text": [
      "Model: \"sequential_1\"\n",
      "_________________________________________________________________\n",
      "Layer (type)                 Output Shape              Param #   \n",
      "=================================================================\n",
      "dense_3 (Dense)              (None, 20)                720       \n",
      "_________________________________________________________________\n",
      "dense_4 (Dense)              (None, 5)                 105       \n",
      "_________________________________________________________________\n",
      "dense_5 (Dense)              (None, 1)                 6         \n",
      "=================================================================\n",
      "Total params: 831\n",
      "Trainable params: 831\n",
      "Non-trainable params: 0\n",
      "_________________________________________________________________\n",
      "None\n"
     ]
    }
   ],
   "source": [
    "mlp = create_mlp_model(35, 2, [20, 5], [tf.nn.relu, tf.nn.relu],\n",
    "                      optimizer = tf.keras.optimizers.Adam())"
   ]
  },
  {
   "cell_type": "code",
   "execution_count": 23,
   "metadata": {},
   "outputs": [
    {
     "name": "stdout",
     "output_type": "stream",
     "text": [
      "Epoch 1/100\n",
      "181/181 [==============================] - 4s 20ms/step - loss: 0.1226 - accuracy: 0.9786 - precision: 0.3285 - recall: 0.0191\n",
      "Epoch 2/100\n",
      "181/181 [==============================] - 3s 18ms/step - loss: 0.0774 - accuracy: 0.9799 - precision: 0.7084 - recall: 0.0743\n",
      "Epoch 3/100\n",
      "181/181 [==============================] - 3s 18ms/step - loss: 0.0718 - accuracy: 0.9808 - precision: 0.7452 - recall: 0.1284\n",
      "Epoch 4/100\n",
      "181/181 [==============================] - 4s 22ms/step - loss: 0.0683 - accuracy: 0.9815 - precision: 0.7498 - recall: 0.1771\n",
      "Epoch 5/100\n",
      "181/181 [==============================] - 4s 24ms/step - loss: 0.0656 - accuracy: 0.9818 - precision: 0.7378 - recall: 0.2061\n",
      "Epoch 6/100\n",
      "181/181 [==============================] - 4s 24ms/step - loss: 0.0634 - accuracy: 0.9820 - precision: 0.7438 - recall: 0.2205\n",
      "Epoch 7/100\n",
      "181/181 [==============================] - 4s 23ms/step - loss: 0.0613 - accuracy: 0.9821 - precision: 0.7411 - recall: 0.2280\n",
      "Epoch 8/100\n",
      "181/181 [==============================] - 4s 24ms/step - loss: 0.0595 - accuracy: 0.9821 - precision: 0.7350 - recall: 0.2334\n",
      "Epoch 9/100\n",
      "181/181 [==============================] - 4s 24ms/step - loss: 0.0577 - accuracy: 0.9823 - precision: 0.7328 - recall: 0.2452\n",
      "Epoch 10/100\n",
      "181/181 [==============================] - 4s 23ms/step - loss: 0.0562 - accuracy: 0.9827 - precision: 0.7501 - recall: 0.2672\n",
      "Epoch 11/100\n",
      "181/181 [==============================] - 4s 24ms/step - loss: 0.0550 - accuracy: 0.9831 - precision: 0.7616 - recall: 0.2830\n",
      "Epoch 12/100\n",
      "181/181 [==============================] - 4s 23ms/step - loss: 0.0540 - accuracy: 0.9833 - precision: 0.7645 - recall: 0.2943\n",
      "Epoch 13/100\n",
      "181/181 [==============================] - 4s 23ms/step - loss: 0.0533 - accuracy: 0.9834 - precision: 0.7676 - recall: 0.2990\n",
      "Epoch 14/100\n",
      "181/181 [==============================] - 4s 24ms/step - loss: 0.0527 - accuracy: 0.9833 - precision: 0.7627 - recall: 0.2995\n",
      "Epoch 15/100\n",
      "181/181 [==============================] - 4s 24ms/step - loss: 0.0522 - accuracy: 0.9835 - precision: 0.7623 - recall: 0.3094\n",
      "Epoch 16/100\n",
      "181/181 [==============================] - 4s 24ms/step - loss: 0.0515 - accuracy: 0.9835 - precision: 0.7572 - recall: 0.3144\n",
      "Epoch 17/100\n",
      "181/181 [==============================] - 4s 24ms/step - loss: 0.0510 - accuracy: 0.9835 - precision: 0.7609 - recall: 0.3150\n",
      "Epoch 18/100\n",
      "181/181 [==============================] - 5s 25ms/step - loss: 0.0505 - accuracy: 0.9835 - precision: 0.7492 - recall: 0.3191\n",
      "Epoch 19/100\n",
      "181/181 [==============================] - 4s 25ms/step - loss: 0.0501 - accuracy: 0.9834 - precision: 0.7392 - recall: 0.3262\n",
      "Epoch 20/100\n",
      "181/181 [==============================] - 4s 25ms/step - loss: 0.0497 - accuracy: 0.9836 - precision: 0.7438 - recall: 0.3331\n",
      "Epoch 21/100\n",
      "181/181 [==============================] - 4s 24ms/step - loss: 0.0493 - accuracy: 0.9838 - precision: 0.7499 - recall: 0.3395\n",
      "Epoch 22/100\n",
      "181/181 [==============================] - 4s 23ms/step - loss: 0.0489 - accuracy: 0.9838 - precision: 0.7522 - recall: 0.3442\n",
      "Epoch 23/100\n",
      "181/181 [==============================] - 4s 24ms/step - loss: 0.0485 - accuracy: 0.9840 - precision: 0.7601 - recall: 0.3460\n",
      "Epoch 24/100\n",
      "181/181 [==============================] - 4s 23ms/step - loss: 0.0480 - accuracy: 0.9842 - precision: 0.7751 - recall: 0.3493\n",
      "Epoch 25/100\n",
      "181/181 [==============================] - 4s 22ms/step - loss: 0.0476 - accuracy: 0.9844 - precision: 0.7813 - recall: 0.3568\n",
      "Epoch 26/100\n",
      "181/181 [==============================] - 4s 23ms/step - loss: 0.0471 - accuracy: 0.9846 - precision: 0.7910 - recall: 0.3602\n",
      "Epoch 27/100\n",
      "181/181 [==============================] - 4s 22ms/step - loss: 0.0466 - accuracy: 0.9846 - precision: 0.7889 - recall: 0.3629\n",
      "Epoch 28/100\n",
      "181/181 [==============================] - 4s 23ms/step - loss: 0.0462 - accuracy: 0.9847 - precision: 0.7872 - recall: 0.3713\n",
      "Epoch 29/100\n",
      "181/181 [==============================] - 4s 22ms/step - loss: 0.0458 - accuracy: 0.9849 - precision: 0.7902 - recall: 0.3827\n",
      "Epoch 30/100\n",
      "180/181 [============================>.] - ETA: 0s - loss: 0.0455 - accuracy: 0.9851 - precision: 0.7973 - recall: 0.3868Epoch 29: Reached baseline, terminating training\n",
      "181/181 [==============================] - 4s 22ms/step - loss: 0.0455 - accuracy: 0.9851 - precision: 0.7972 - recall: 0.3868\n"
     ]
    },
    {
     "data": {
      "text/plain": [
       "<tensorflow.python.keras.callbacks.History at 0x2cf6ce02668>"
      ]
     },
     "execution_count": 23,
     "metadata": {},
     "output_type": "execute_result"
    }
   ],
   "source": [
    "early_stopping = TerminateOnBaseline(monitor='accuracy', baseline=0.985)\n",
    "batch_size = 256\n",
    "epochs=100\n",
    "mlp.fit(X_train, y_train, epochs=epochs,  batch_size = batch_size, verbose=1, \n",
    "        steps_per_epoch=math.ceil(X_train.shape[0]/batch_size), callbacks=[early_stopping])\n",
    "        "
   ]
  },
  {
   "cell_type": "code",
   "execution_count": 24,
   "metadata": {},
   "outputs": [],
   "source": [
    "predictions = mlp.predict(X_test)"
   ]
  },
  {
   "cell_type": "code",
   "execution_count": 25,
   "metadata": {},
   "outputs": [
    {
     "data": {
      "text/plain": [
       "array([[0.],\n",
       "       [0.],\n",
       "       [0.],\n",
       "       ...,\n",
       "       [0.],\n",
       "       [0.],\n",
       "       [0.]], dtype=float32)"
      ]
     },
     "execution_count": 25,
     "metadata": {},
     "output_type": "execute_result"
    }
   ],
   "source": [
    "predictions.round()"
   ]
  },
  {
   "cell_type": "code",
   "execution_count": 26,
   "metadata": {},
   "outputs": [
    {
     "name": "stdout",
     "output_type": "stream",
     "text": [
      "AUC: 0.9198259336613408\n"
     ]
    }
   ],
   "source": [
    "from sklearn.metrics import precision_recall_curve, roc_curve, roc_auc_score, confusion_matrix\n",
    "fpr, tpr, thresholds = roc_curve(y_test, predictions) #false positive rate, true positive rate and thresholds\n",
    "auc = roc_auc_score(y_test, predictions)\n",
    "        \n",
    "print('AUC: {}'.format(auc))"
   ]
  },
  {
   "cell_type": "code",
   "execution_count": null,
   "metadata": {},
   "outputs": [],
   "source": []
  }
 ],
 "metadata": {
  "kernelspec": {
   "display_name": "Python 3",
   "language": "python",
   "name": "python3"
  },
  "language_info": {
   "codemirror_mode": {
    "name": "ipython",
    "version": 3
   },
   "file_extension": ".py",
   "mimetype": "text/x-python",
   "name": "python",
   "nbconvert_exporter": "python",
   "pygments_lexer": "ipython3",
   "version": "3.6.8"
  }
 },
 "nbformat": 4,
 "nbformat_minor": 2
}

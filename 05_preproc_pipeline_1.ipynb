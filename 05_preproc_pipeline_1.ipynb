{
 "cells": [
  {
   "cell_type": "markdown",
   "metadata": {},
   "source": [
    "# Preprocessing pipeline - benchmark models"
   ]
  },
  {
   "cell_type": "markdown",
   "metadata": {},
   "source": [
    "This notebook starts from the output at step 4 in order to prepare the data to be put into the benchmark models for predictions"
   ]
  },
  {
   "cell_type": "code",
   "execution_count": 1,
   "metadata": {},
   "outputs": [],
   "source": [
    "import numpy as np\n",
    "import pandas as pd\n",
    "import pickle\n",
    "import datetime\n",
    "from preprocessing_pipeline import *"
   ]
  },
  {
   "cell_type": "markdown",
   "metadata": {},
   "source": [
    "## Importing data and cleaning unnnecessary instruments"
   ]
  },
  {
   "cell_type": "code",
   "execution_count": 2,
   "metadata": {},
   "outputs": [],
   "source": [
    "datafolder = \"..\"+\"/data/\"\n",
    "inputfilename = '03_instrumentsdf_deg1stats.pkl'\n",
    "\n",
    "#feature selection\n",
    "feat_str = ['currency']\n",
    "feat_quant = ['has_purchase', 'dd_value_date', 'cd_lent_c', 'cd_repaid_c', 'cd_impaired1_c', 'cd_pastdue90_c', 'cd_trend_a',  'c_lent_c', \n",
    "             'c_repaid_c', 'c_impaired1_c', 'c_pastdue90_c', 'c_trend_a', 'cd_lent_c', 'd_repaid_c', 'd_impaired1_c', 'd_pastdue90_c',\n",
    "             'd_trend_a', 'd_we_payment_share']\n",
    "feat_exp = ['invoice_amount', 'purchase_amount']\n",
    "feat_date = ['invoice_date']"
   ]
  },
  {
   "cell_type": "code",
   "execution_count": 3,
   "metadata": {},
   "outputs": [
    {
     "data": {
      "text/html": [
       "<div>\n",
       "<style scoped>\n",
       "    .dataframe tbody tr th:only-of-type {\n",
       "        vertical-align: middle;\n",
       "    }\n",
       "\n",
       "    .dataframe tbody tr th {\n",
       "        vertical-align: top;\n",
       "    }\n",
       "\n",
       "    .dataframe thead th {\n",
       "        text-align: right;\n",
       "    }\n",
       "</style>\n",
       "<table border=\"1\" class=\"dataframe\">\n",
       "  <thead>\n",
       "    <tr style=\"text-align: right;\">\n",
       "      <th></th>\n",
       "      <th>customer_id</th>\n",
       "      <th>customer_name_1</th>\n",
       "      <th>debtor_id</th>\n",
       "      <th>debtor_name_1</th>\n",
       "      <th>invoice_number</th>\n",
       "      <th>invoice_date</th>\n",
       "      <th>due_date</th>\n",
       "      <th>invoice_amount</th>\n",
       "      <th>purchase_amount</th>\n",
       "      <th>purchase_amount_open</th>\n",
       "      <th>...</th>\n",
       "      <th>c_pastdue90_c</th>\n",
       "      <th>c_pastdue180_c</th>\n",
       "      <th>c_trend_a</th>\n",
       "      <th>c_we_payment_share</th>\n",
       "      <th>c_pd_mismatch_mean</th>\n",
       "      <th>c_pd_mismatch_std</th>\n",
       "      <th>c_repaid_r</th>\n",
       "      <th>c_impaired1_r</th>\n",
       "      <th>c_pastdue90_r</th>\n",
       "      <th>c_pastdue180_r</th>\n",
       "    </tr>\n",
       "    <tr>\n",
       "      <th>uid</th>\n",
       "      <th></th>\n",
       "      <th></th>\n",
       "      <th></th>\n",
       "      <th></th>\n",
       "      <th></th>\n",
       "      <th></th>\n",
       "      <th></th>\n",
       "      <th></th>\n",
       "      <th></th>\n",
       "      <th></th>\n",
       "      <th></th>\n",
       "      <th></th>\n",
       "      <th></th>\n",
       "      <th></th>\n",
       "      <th></th>\n",
       "      <th></th>\n",
       "      <th></th>\n",
       "      <th></th>\n",
       "      <th></th>\n",
       "      <th></th>\n",
       "      <th></th>\n",
       "    </tr>\n",
       "  </thead>\n",
       "  <tbody>\n",
       "    <tr>\n",
       "      <th>2744:79/231</th>\n",
       "      <td>2004008</td>\n",
       "      <td>Castillo GmbH</td>\n",
       "      <td>79</td>\n",
       "      <td>Sana Hyannis Sarl</td>\n",
       "      <td>2744</td>\n",
       "      <td>2013-07-23</td>\n",
       "      <td>2013-08-02</td>\n",
       "      <td>913.70</td>\n",
       "      <td>0.0</td>\n",
       "      <td>0.0</td>\n",
       "      <td>...</td>\n",
       "      <td>0.0</td>\n",
       "      <td>0.0</td>\n",
       "      <td>0.000000</td>\n",
       "      <td>NaN</td>\n",
       "      <td>NaN</td>\n",
       "      <td>NaN</td>\n",
       "      <td>NaN</td>\n",
       "      <td>NaN</td>\n",
       "      <td>NaN</td>\n",
       "      <td>NaN</td>\n",
       "    </tr>\n",
       "    <tr>\n",
       "      <th>2861:79/232</th>\n",
       "      <td>2004008</td>\n",
       "      <td>Castillo GmbH</td>\n",
       "      <td>79</td>\n",
       "      <td>Sana Hyannis Sarl</td>\n",
       "      <td>2861</td>\n",
       "      <td>2013-07-30</td>\n",
       "      <td>2013-08-09</td>\n",
       "      <td>2233.45</td>\n",
       "      <td>0.0</td>\n",
       "      <td>0.0</td>\n",
       "      <td>...</td>\n",
       "      <td>0.0</td>\n",
       "      <td>0.0</td>\n",
       "      <td>0.000000</td>\n",
       "      <td>NaN</td>\n",
       "      <td>NaN</td>\n",
       "      <td>NaN</td>\n",
       "      <td>0.0</td>\n",
       "      <td>0.0</td>\n",
       "      <td>0.0</td>\n",
       "      <td>0.0</td>\n",
       "    </tr>\n",
       "    <tr>\n",
       "      <th>2932:79/233</th>\n",
       "      <td>2004008</td>\n",
       "      <td>Castillo GmbH</td>\n",
       "      <td>79</td>\n",
       "      <td>Sana Hyannis Sarl</td>\n",
       "      <td>2932</td>\n",
       "      <td>2013-08-06</td>\n",
       "      <td>2013-08-16</td>\n",
       "      <td>1370.50</td>\n",
       "      <td>0.0</td>\n",
       "      <td>0.0</td>\n",
       "      <td>...</td>\n",
       "      <td>0.0</td>\n",
       "      <td>0.0</td>\n",
       "      <td>7.185198</td>\n",
       "      <td>NaN</td>\n",
       "      <td>NaN</td>\n",
       "      <td>NaN</td>\n",
       "      <td>0.0</td>\n",
       "      <td>0.0</td>\n",
       "      <td>0.0</td>\n",
       "      <td>0.0</td>\n",
       "    </tr>\n",
       "    <tr>\n",
       "      <th>1472:489/688</th>\n",
       "      <td>2004009</td>\n",
       "      <td>Orpheus Wyandotte Supply LLC</td>\n",
       "      <td>489</td>\n",
       "      <td>Isfahan SA</td>\n",
       "      <td>1472</td>\n",
       "      <td>2013-08-13</td>\n",
       "      <td>2013-08-23</td>\n",
       "      <td>9195.10</td>\n",
       "      <td>0.0</td>\n",
       "      <td>0.0</td>\n",
       "      <td>...</td>\n",
       "      <td>0.0</td>\n",
       "      <td>0.0</td>\n",
       "      <td>0.000000</td>\n",
       "      <td>NaN</td>\n",
       "      <td>NaN</td>\n",
       "      <td>NaN</td>\n",
       "      <td>NaN</td>\n",
       "      <td>NaN</td>\n",
       "      <td>NaN</td>\n",
       "      <td>NaN</td>\n",
       "    </tr>\n",
       "    <tr>\n",
       "      <th>2042:512/645</th>\n",
       "      <td>2004009</td>\n",
       "      <td>Orpheus Wyandotte Supply LLC</td>\n",
       "      <td>512</td>\n",
       "      <td>Aldrich Chloe GmbH</td>\n",
       "      <td>2042</td>\n",
       "      <td>2013-08-13</td>\n",
       "      <td>2013-08-23</td>\n",
       "      <td>4594.60</td>\n",
       "      <td>0.0</td>\n",
       "      <td>0.0</td>\n",
       "      <td>...</td>\n",
       "      <td>0.0</td>\n",
       "      <td>0.0</td>\n",
       "      <td>0.000000</td>\n",
       "      <td>NaN</td>\n",
       "      <td>NaN</td>\n",
       "      <td>NaN</td>\n",
       "      <td>0.0</td>\n",
       "      <td>0.0</td>\n",
       "      <td>0.0</td>\n",
       "      <td>0.0</td>\n",
       "    </tr>\n",
       "  </tbody>\n",
       "</table>\n",
       "<p>5 rows × 110 columns</p>\n",
       "</div>"
      ],
      "text/plain": [
       "             customer_id               customer_name_1 debtor_id  \\\n",
       "uid                                                                \n",
       "2744:79/231      2004008                 Castillo GmbH        79   \n",
       "2861:79/232      2004008                 Castillo GmbH        79   \n",
       "2932:79/233      2004008                 Castillo GmbH        79   \n",
       "1472:489/688     2004009  Orpheus Wyandotte Supply LLC       489   \n",
       "2042:512/645     2004009  Orpheus Wyandotte Supply LLC       512   \n",
       "\n",
       "                   debtor_name_1 invoice_number invoice_date   due_date  \\\n",
       "uid                                                                       \n",
       "2744:79/231    Sana Hyannis Sarl           2744   2013-07-23 2013-08-02   \n",
       "2861:79/232    Sana Hyannis Sarl           2861   2013-07-30 2013-08-09   \n",
       "2932:79/233    Sana Hyannis Sarl           2932   2013-08-06 2013-08-16   \n",
       "1472:489/688          Isfahan SA           1472   2013-08-13 2013-08-23   \n",
       "2042:512/645  Aldrich Chloe GmbH           2042   2013-08-13 2013-08-23   \n",
       "\n",
       "              invoice_amount  purchase_amount  purchase_amount_open  ...  \\\n",
       "uid                                                                  ...   \n",
       "2744:79/231           913.70              0.0                   0.0  ...   \n",
       "2861:79/232          2233.45              0.0                   0.0  ...   \n",
       "2932:79/233          1370.50              0.0                   0.0  ...   \n",
       "1472:489/688         9195.10              0.0                   0.0  ...   \n",
       "2042:512/645         4594.60              0.0                   0.0  ...   \n",
       "\n",
       "             c_pastdue90_c  c_pastdue180_c c_trend_a c_we_payment_share  \\\n",
       "uid                                                                       \n",
       "2744:79/231            0.0             0.0  0.000000                NaN   \n",
       "2861:79/232            0.0             0.0  0.000000                NaN   \n",
       "2932:79/233            0.0             0.0  7.185198                NaN   \n",
       "1472:489/688           0.0             0.0  0.000000                NaN   \n",
       "2042:512/645           0.0             0.0  0.000000                NaN   \n",
       "\n",
       "             c_pd_mismatch_mean  c_pd_mismatch_std c_repaid_r c_impaired1_r  \\\n",
       "uid                                                                           \n",
       "2744:79/231                 NaN                NaN        NaN           NaN   \n",
       "2861:79/232                 NaN                NaN        0.0           0.0   \n",
       "2932:79/233                 NaN                NaN        0.0           0.0   \n",
       "1472:489/688                NaN                NaN        NaN           NaN   \n",
       "2042:512/645                NaN                NaN        0.0           0.0   \n",
       "\n",
       "             c_pastdue90_r c_pastdue180_r  \n",
       "uid                                        \n",
       "2744:79/231            NaN            NaN  \n",
       "2861:79/232            0.0            0.0  \n",
       "2932:79/233            0.0            0.0  \n",
       "1472:489/688           NaN            NaN  \n",
       "2042:512/645           0.0            0.0  \n",
       "\n",
       "[5 rows x 110 columns]"
      ]
     },
     "execution_count": 3,
     "metadata": {},
     "output_type": "execute_result"
    }
   ],
   "source": [
    "df = pd.read_pickle(datafolder+inputfilename)\n",
    "df.head()"
   ]
  },
  {
   "cell_type": "code",
   "execution_count": 4,
   "metadata": {},
   "outputs": [
    {
     "name": "stdout",
     "output_type": "stream",
     "text": [
      "2201 instruments that are not due yet, dropping...\n",
      "57619 instruments remaining\n"
     ]
    }
   ],
   "source": [
    "#drop all instruments that are not due yet, since they can't be labelled\n",
    "print(\"{:} instruments that are not due yet, dropping...\".format(sum(~df.is_due)))\n",
    "ri=df.loc[df.is_due, :]\n",
    "print(\"{:} instruments remaining\".format(ri.shape[0]))"
   ]
  },
  {
   "cell_type": "markdown",
   "metadata": {},
   "source": [
    "## Pipeline"
   ]
  },
  {
   "cell_type": "code",
   "execution_count": 7,
   "metadata": {},
   "outputs": [],
   "source": [
    "preproc_pipeline = preprocessing_pipeline(feat_str, feat_quant, feat_exp, feat_date)\n",
    "\n",
    "trainsize = int(df.shape[0]*.80)\n",
    "testsize = int(df.shape[0]*.20)-1\n",
    "train_all, test_all = shuffle_train_test(df, trainsize, testsize, 'invoice_date')\n",
    "\n",
    "testdate = pd.to_datetime('2018-09-01', yearfirst=True)\n",
    "train_all, test_all = time_train_test(df, trainsize, testsize, 'invoice_date', testdate)\n",
    "\n",
    "y_train, X_train, y_test, X_test, feature_labels = transform_train_test(train_all, test_all, preproc_pipeline, target_feature)"
   ]
  },
  {
   "cell_type": "markdown",
   "metadata": {},
   "source": [
    "## Train-test split (shuffle or time based)"
   ]
  },
  {
   "cell_type": "code",
   "execution_count": 8,
   "metadata": {},
   "outputs": [
    {
     "name": "stdout",
     "output_type": "stream",
     "text": [
      "Sampling 46095 for train and 11522 for test sets by shuffling...\n"
     ]
    }
   ],
   "source": [
    "# split training and test sets ('shuffle' and 'time' mode)\n",
    "\n",
    "trainsize = int(ri.shape[0]*.80)\n",
    "testsize = int(ri.shape[0]*.20)-1\n",
    "\n",
    "#for time splitting\n",
    "TestDate = pd.to_datetime('2018-09-01', yearfirst=True)\n",
    "control_feature = 'invoice_date'\n",
    "\n",
    "#for shuffle splitting \n",
    "testset_control_feature = 'invoice_date'\n",
    "\n",
    "split_mode = 'shuffle' #other option is 'time'\n",
    "\n",
    "if split_mode == 'shuffle':\n",
    "    print(\"Sampling {:} for train and {:} for test sets by shuffling...\".format(trainsize, testsize))\n",
    "\n",
    "    ri[\"invoice_date_year\"] = ri[testset_control_feature].apply(lambda x: x.year)\n",
    "\n",
    "        \n",
    "    split = StratifiedShuffleSplit(n_splits=1, \n",
    "                                    train_size = trainsize, \n",
    "                                    test_size = testsize, \n",
    "                                    random_state=42)\n",
    "\n",
    "    ri = ri.reset_index(drop=True)\n",
    "    \n",
    "    #constructing oversampled class y=1 train and test sets:\n",
    "    for train_index, test_index in split.split(ri, ri.invoice_date_year):\n",
    "        train_all = ri.loc[train_index]\n",
    "        test_all = ri.loc[test_index]\n",
    "    \n",
    "elif split_mode == 'time':\n",
    "    print(\"Splitting train and test sets by time, test cutoff: {:}...\".format(TestDate))\n",
    "    test_all  = ri.loc[ri[control_feature] >= TestDate]\n",
    "    train_all = ri.loc[ri[control_feature] <  TestDate]\n",
    "    print(\"  {:}({:.1f}%) train, {:}({:.1f}%) test\".format(train_all.shape[0], 100*train_all.shape[0]/ri.shape[0],\n",
    "                                                            test_all.shape[0],   100*test_all.shape[0]/ri.shape[0]))"
   ]
  },
  {
   "cell_type": "markdown",
   "metadata": {},
   "source": [
    "## Transform data depending on target feature"
   ]
  },
  {
   "cell_type": "code",
   "execution_count": 9,
   "metadata": {},
   "outputs": [],
   "source": [
    "#DEFINING THE TARGET FEATURE (it could be 'has_impairment1', 'is_pastdue90', 'is_pastdue180')\n",
    "targetfeature = 'has_impairment1'"
   ]
  },
  {
   "cell_type": "markdown",
   "metadata": {},
   "source": [
    "### Train set"
   ]
  },
  {
   "cell_type": "code",
   "execution_count": 10,
   "metadata": {},
   "outputs": [
    {
     "name": "stdout",
     "output_type": "stream",
     "text": [
      "Running the pipeline, target feature is has_impairment1...\n",
      "Train y: 46095 total, 968 class_1 observations (2.10%) > 0\n",
      "pipeline fit_transform for train set...\n"
     ]
    }
   ],
   "source": [
    "print(\"Running the pipeline, target feature is {:}...\".format(targetfeature))\n",
    "\n",
    "#prepare and save train sets\n",
    "#separate features and labels\n",
    "y_train = train_all[targetfeature].copy().values\n",
    "print(\"Train y: {:} total, {:} class_1 observations ({:.2f}%) > 0\".format(y_train.shape[0], sum(y_train>0), sum(y_train>0)/y_train.shape[0]*100))\n",
    "#apply the pipeline to the training set\n",
    "print(\"pipeline fit_transform for train set...\")\n",
    "X_train = preproc_pipeline.fit_transform(train_all)"
   ]
  },
  {
   "cell_type": "markdown",
   "metadata": {},
   "source": [
    "### Test set"
   ]
  },
  {
   "cell_type": "code",
   "execution_count": 11,
   "metadata": {},
   "outputs": [
    {
     "name": "stdout",
     "output_type": "stream",
     "text": [
      "Test y: 11522 total, 227 class_1 observations (1.97%) > 0\n",
      "pipeline transform only for test set...\n"
     ]
    }
   ],
   "source": [
    "#prepare and save test sets\n",
    "#separate features and labels\n",
    "y_test = test_all[targetfeature].copy().values\n",
    "print(\"Test y: {:} total, {:} class_1 observations ({:.2f}%) > 0\".format(y_test.shape[0], sum(y_test>0), sum(y_test>0)/y_test.shape[0]*100))\n",
    "#apply the pipeline to the training set\n",
    "print(\"pipeline transform only for test set...\")\n",
    "X_test = preproc_pipeline.transform(test_all) #will be a problem if new categories are encountered here"
   ]
  },
  {
   "cell_type": "markdown",
   "metadata": {},
   "source": [
    "## Output"
   ]
  },
  {
   "cell_type": "code",
   "execution_count": 12,
   "metadata": {},
   "outputs": [],
   "source": [
    "#group the category labels together for charting\n",
    "feature_labels = preproc_pipeline.transformed_names_"
   ]
  },
  {
   "cell_type": "code",
   "execution_count": 16,
   "metadata": {},
   "outputs": [
    {
     "name": "stdout",
     "output_type": "stream",
     "text": [
      "Saving with file name postfix _shuffle_imp1...\n",
      "...done.\n"
     ]
    }
   ],
   "source": [
    "#creating reference for output file\n",
    "year = str(datetime.datetime.now().year)[2:]\n",
    "month = str(datetime.datetime.now().month)\n",
    "if len(month)==1:\n",
    "    month = '0'+month\n",
    "day = str(datetime.datetime.now().day)\n",
    "\n",
    "prefix = year+month+day+'_'+str(datetime.datetime.now().hour)+str(datetime.datetime.now().minute)\n",
    "postfix = '_shuffle_imp1'\n",
    "outputfolder = datafolder+'/preproc_traintest/'\n",
    "\n",
    "#saving training and test sets\n",
    "print(\"Saving with file name postfix {:}...\".format(postfix))\n",
    "pickle.dump([X_train, y_train, feature_labels], open(outputfolder+prefix+\"_traindata\" + postfix+'.pkl', \"wb\"), protocol=4)\n",
    "pickle.dump([X_test, y_test, feature_labels], open(outputfolder+prefix+\"_testdata\" + postfix+'.pkl', \"wb\"), protocol=4)\n",
    "pickle.dump(preproc_pipeline, open(outputfolder+prefix+\"_preproc_pipeline\" + postfix+'.pkl', \"wb\"))\n",
    "pickle.dump(feature_labels, open(outputfolder+prefix+\"_feature_labels\" + postfix+'.pkl', \"wb\"))\n",
    "print(\"...done.\")"
   ]
  },
  {
   "cell_type": "code",
   "execution_count": null,
   "metadata": {},
   "outputs": [],
   "source": []
  }
 ],
 "metadata": {
  "kernelspec": {
   "display_name": "Python 3",
   "language": "python",
   "name": "python3"
  },
  "language_info": {
   "codemirror_mode": {
    "name": "ipython",
    "version": 3
   },
   "file_extension": ".py",
   "mimetype": "text/x-python",
   "name": "python",
   "nbconvert_exporter": "python",
   "pygments_lexer": "ipython3",
   "version": "3.6.8"
  }
 },
 "nbformat": 4,
 "nbformat_minor": 2
}

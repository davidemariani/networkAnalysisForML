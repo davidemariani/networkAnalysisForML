{
 "cells": [
  {
   "cell_type": "code",
   "execution_count": 2,
   "metadata": {},
   "outputs": [],
   "source": [
    "import pandas as pd\n",
    "import seaborn as sns\n",
    "\n",
    "import scripts_viz.visualization_utils as viz\n",
    "\n",
    "from scripts_viz.visualization_utils import TTQcolor"
   ]
  },
  {
   "cell_type": "code",
   "execution_count": 32,
   "metadata": {},
   "outputs": [
    {
     "data": {
      "text/plain": [
       "{'font': '#353535',\n",
       " 'lightGrey': '#fafafa',\n",
       " 'borderColour': '#707070',\n",
       " 'cream': '#EFEFDC',\n",
       " 'lightCream': '#F8F7F7',\n",
       " 'background': '#ffffff',\n",
       " 'link': '#3B5A95',\n",
       " 'brightLink': '#FE4045',\n",
       " 'marketplaceOrange': '#F6601E',\n",
       " 'warningRed': '#ce130b',\n",
       " 'Salmon': '#F1B096',\n",
       " 'victorian': '#CEDFDD',\n",
       " 'whiteGrey': '#EDECE9',\n",
       " 'eightyGrey': '#D1D0CF',\n",
       " 'blueGrey': '#939EA9',\n",
       " 'sixtyGrey': '#8E9494',\n",
       " 'navy': '#143154',\n",
       " 'darkPurple': '#323651',\n",
       " 'darkNavy': '#0E2335',\n",
       " 'darkCyan': '#0D2B2C',\n",
       " 'redBrown': '#6B191E',\n",
       " 'richBrown': '#85372B',\n",
       " 'algae': '#0E6930',\n",
       " 'mutedBlue': '#496592',\n",
       " 'azureBlue': '#155C8A',\n",
       " 'electric': '#67BDCE',\n",
       " 'sky': '#76B9D0',\n",
       " 'turq': '#1A9E78',\n",
       " 'pea': '#94CB91',\n",
       " 'ocean': '#55B7BB',\n",
       " 'richOrange': '#FB8C36',\n",
       " 'richPeach': '#F66B53',\n",
       " 'yell': '#F9EE16',\n",
       " 'yellowOrange': '#F6BD4F',\n",
       " 'peach': '#F2B097',\n",
       " 'bloodRed': '#CD130B',\n",
       " 'PPTbg': '#19242F'}"
      ]
     },
     "execution_count": 32,
     "metadata": {},
     "output_type": "execute_result"
    }
   ],
   "source": [
    "TTQcolor"
   ]
  },
  {
   "cell_type": "code",
   "execution_count": null,
   "metadata": {},
   "outputs": [],
   "source": [
    "f \"benchmarks\" in e:\n",
    "            if \"shuffle\" in e:\n",
    "                color_list.append(TTQcolor['azureBlue'])\n",
    "            elif \"time_old\" in e:\n",
    "                color_list.append(TTQcolor['electric'])\n",
    "            elif \"time_opt\" in e:\n",
    "                color_list.append(TTQcolor['pea'])\n",
    "        elif \"enriched\" in e:\n",
    "            if \"shuffle\" in e:\n",
    "                color_list.append(TTQcolor['yell'])\n",
    "            elif \"time_seq\" in e and \"opt\" not in e:\n",
    "                color_list.append(TTQcolor['richOrange'])\n",
    "            elif \"time_seq\" in e and \"opt\" in e:\n",
    "                color_list.append(TTQcolor['bloodRed'])"
   ]
  },
  {
   "cell_type": "code",
   "execution_count": 40,
   "metadata": {},
   "outputs": [],
   "source": [
    "perf_dict_imp = {'sgd': [0.784, 0.779, 0.796, 0.809, 0.725, 0.725],\n",
    "                'rf':[0.912, 0.862, 0.854, 0.967, 0.951, 0.954],\n",
    "                'mlp':[np.nan, np.nan, np.nan, np.nan, np.nan, np.nan],\n",
    "                'rnn': [np.nan, np.nan, np.nan, np.nan, np.nan, np.nan]}\n",
    "\n",
    "df_imp = pd.DataFrame(perf_dict_imp, index=['benchmark_shuffle', 'benchmark_time', 'benchmark_time_tuned', 'enriched_shuffle', 'enriched_time', 'enriched_time_tuned'])"
   ]
  },
  {
   "cell_type": "code",
   "execution_count": 42,
   "metadata": {},
   "outputs": [
    {
     "data": {
      "text/plain": [
       "<matplotlib.axes._subplots.AxesSubplot at 0x1c35db14208>"
      ]
     },
     "execution_count": 42,
     "metadata": {},
     "output_type": "execute_result"
    },
    {
     "data": {
      "image/png": "[encoded data removed]",
      "text/plain": [
       "<Figure size 432x288 with 1 Axes>"
      ]
     },
     "metadata": {
      "needs_background": "light"
     },
     "output_type": "display_data"
    }
   ],
   "source": [
    "df_imp.transpose().plot(kind='bar', color = [TTQcolor['azureBlue'], TTQcolor['yell'], TTQcolor['electric'], TTQcolor['pea'], TTQcolor['richOrange'], TTQcolor['bloodRed']])"
   ]
  },
  {
   "cell_type": "code",
   "execution_count": 37,
   "metadata": {},
   "outputs": [
    {
     "data": {
      "text/html": [
       "<div>\n",
       "<style scoped>\n",
       "    .dataframe tbody tr th:only-of-type {\n",
       "        vertical-align: middle;\n",
       "    }\n",
       "\n",
       "    .dataframe tbody tr th {\n",
       "        vertical-align: top;\n",
       "    }\n",
       "\n",
       "    .dataframe thead th {\n",
       "        text-align: right;\n",
       "    }\n",
       "</style>\n",
       "<table border=\"1\" class=\"dataframe\">\n",
       "  <thead>\n",
       "    <tr style=\"text-align: right;\">\n",
       "      <th></th>\n",
       "      <th>basline_shuffle</th>\n",
       "      <th>enriched_shuffle</th>\n",
       "    </tr>\n",
       "  </thead>\n",
       "  <tbody>\n",
       "    <tr>\n",
       "      <th>sgd</th>\n",
       "      <td>0.784</td>\n",
       "      <td>0.809</td>\n",
       "    </tr>\n",
       "    <tr>\n",
       "      <th>rf</th>\n",
       "      <td>0.912</td>\n",
       "      <td>0.969</td>\n",
       "    </tr>\n",
       "    <tr>\n",
       "      <th>mlp</th>\n",
       "      <td>NaN</td>\n",
       "      <td>NaN</td>\n",
       "    </tr>\n",
       "  </tbody>\n",
       "</table>\n",
       "</div>"
      ],
      "text/plain": [
       "     basline_shuffle  enriched_shuffle\n",
       "sgd            0.784             0.809\n",
       "rf             0.912             0.969\n",
       "mlp              NaN               NaN"
      ]
     },
     "execution_count": 37,
     "metadata": {},
     "output_type": "execute_result"
    }
   ],
   "source": [
    "df_imp.transpose()"
   ]
  },
  {
   "cell_type": "code",
   "execution_count": null,
   "metadata": {},
   "outputs": [],
   "source": [
    "viz.histfolds()"
   ]
  }
 ],
 "metadata": {
  "kernelspec": {
   "display_name": "Python 3",
   "language": "python",
   "name": "python3"
  },
  "language_info": {
   "codemirror_mode": {
    "name": "ipython",
    "version": 3
   },
   "file_extension": ".py",
   "mimetype": "text/x-python",
   "name": "python",
   "nbconvert_exporter": "python",
   "pygments_lexer": "ipython3",
   "version": "3.6.8"
  }
 },
 "nbformat": 4,
 "nbformat_minor": 2
}

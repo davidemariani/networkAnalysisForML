{
 "cells": [
  {
   "cell_type": "code",
   "execution_count": 1,
   "metadata": {},
   "outputs": [],
   "source": [
    "import numpy as np\n",
    "import pandas as pd\n",
    "import seaborn as sns\n",
    "import matplotlib.pyplot as plt\n",
    "import math\n",
    "\n",
    "# Import TensorFlow\n",
    "import tensorflow as tf\n",
    "from tensorflow.keras.regularizers import l1, l2\n",
    "from tensorflow.keras.optimizers import RMSprop, Adam, SGD\n",
    "\n",
    "from scripts_ml.ann_utils import *"
   ]
  },
  {
   "cell_type": "code",
   "execution_count": 2,
   "metadata": {},
   "outputs": [],
   "source": [
    "preproc_folder = \"enriched_time\"\n",
    "datafolder = \"../data/preproc_traintest/\"+preproc_folder+'/'\n",
    "output_path = \"../data/models/\"\n",
    "\n",
    "prefix = 'time_2018-02-20_p180_bg_'\n",
    "postfix = '_190721_170'\n",
    "trainfile = '_traindata'\n",
    "testfile = '_testdata'\n"
   ]
  },
  {
   "cell_type": "code",
   "execution_count": 3,
   "metadata": {},
   "outputs": [],
   "source": [
    "#settings for mlp architecture\n",
    "#input_shape = len(feature_labels)\n",
    "#hidden_layers_no=2 \n",
    "#hidden_nodes=[20,5] \n",
    "#hl_activations=[tf.nn.relu]*2 \n",
    "#optimizer=Adam()\n",
    "#loss_func='binary_crossentropy'\n",
    "#metrics=['accuracy',tf.keras.metrics.AUC(),\n",
    "#                                 tf.keras.metrics.Precision(), tf.keras.metrics.Recall()]\n",
    "#dropout = [0.5]*2\n",
    "\n",
    "#mlp = create_mlp_model(input_shape=input_shape, \n",
    "#                       hidden_layers=hidden_layers,\n",
    "#                       hidden_nodes=hidden_nodes, \n",
    "#                       hl_activations=hl_activations,                                        \n",
    "#                       optimizer = optimizer,\n",
    "#                       loss_func=loss_func,\n",
    "#                      #kernel_regularizers = [l2(0.001)]*3,\n",
    "#                       dropout = dropout,\n",
    "#                      metrics = metrics)\n",
    "\n",
    "#settings for fitting the model\n",
    "#to_monitor = 'auc'+mlp.name.split('sequential')[-1]\n",
    "#DISABLED early_stopping = TerminateOnBaseline(monitor=to_monitor #keep track of the model name adding the postfix to the metric to monitor\n",
    "#                                     , baseline=0.93)\n",
    "#batch_size = 256\n",
    "#epochs=150\n",
    "#class_1_weight = 10\n",
    "\n",
    "#creating validation data\n",
    "#validation_size = 20000\n",
    "\n",
    "#Shuffle set to true"
   ]
  },
  {
   "cell_type": "code",
   "execution_count": 4,
   "metadata": {},
   "outputs": [],
   "source": [
    "# mlp_exp(datafolder, prefix, postfix, \n",
    "#            trainfile='_traindata', testfile='_testdata',\n",
    "#               hidden_layers_no=1,\n",
    "#               hidden_nodes=[5],\n",
    "#               hl_activations=[tf.nn.relu],\n",
    "#               optimizer=Adam(),\n",
    "#               loss_func=tf.keras.losses.BinaryCrossentropy(),\n",
    "#               kernel_initializer = tf.keras.initializers.lecun_uniform(seed=42),\n",
    "#               bias_initializer = tf.keras.initializers.Zeros(),\n",
    "#               metrics=['accuracy', tf.keras.metrics.AUC(), tf.keras.metrics.Precision(), tf.keras.metrics.Recall()],\n",
    "#               dropout=[0.45],\n",
    "#               to_monitor=('accuracy', 0.9),\n",
    "#               early_stopping=False,\n",
    "#               batch_size=512,\n",
    "#               epochs=5,\n",
    "#               class_1_weight=50,\n",
    "#               validation_size=10000,\n",
    "#               pred_threshold = 0.55,\n",
    "#               kernel_regularizers=[],\n",
    "#               shuffle=False,\n",
    "#               use_batch_and_steps=False,\n",
    "#               save_model=False,\n",
    "#               plot_diagnostics = True,\n",
    "#               models_path='../data/models/', mlf_tracking=False, experiment_name='experiment',\n",
    "#               save_results_for_viz=False, viz_output_path='../data/viz_data/')"
   ]
  },
  {
   "cell_type": "code",
   "execution_count": 5,
   "metadata": {},
   "outputs": [
    {
     "name": "stdout",
     "output_type": "stream",
     "text": [
      "-Loading preprocessed data...\n",
      "training files: ../data/preproc_traintest/enriched_time/time_2018-02-20_p180_bg__traindata_190721_170.pkl\n",
      "testing files: ../data/preproc_traintest/enriched_time/time_2018-02-20_p180_bg__testdata_190721_170.pkl\n",
      "Model: \"sequential\"\n",
      "_________________________________________________________________\n",
      "Layer (type)                 Output Shape              Param #   \n",
      "=================================================================\n",
      "dense (Dense)                (None, 90)                3240      \n",
      "_________________________________________________________________\n",
      "dropout (Dropout)            (None, 90)                0         \n",
      "_________________________________________________________________\n",
      "dense_1 (Dense)              (None, 45)                4095      \n",
      "_________________________________________________________________\n",
      "dropout_1 (Dropout)          (None, 45)                0         \n",
      "_________________________________________________________________\n",
      "dense_2 (Dense)              (None, 20)                920       \n",
      "_________________________________________________________________\n",
      "dropout_2 (Dropout)          (None, 20)                0         \n",
      "_________________________________________________________________\n",
      "dense_3 (Dense)              (None, 10)                210       \n",
      "_________________________________________________________________\n",
      "dropout_3 (Dropout)          (None, 10)                0         \n",
      "_________________________________________________________________\n",
      "dense_4 (Dense)              (None, 1)                 11        \n",
      "=================================================================\n",
      "Total params: 8,476\n",
      "Trainable params: 8,476\n",
      "Non-trainable params: 0\n",
      "_________________________________________________________________\n",
      "None\n",
      "Early stopping active: training will be stopped when accuracy overcomes the value 0.9\n",
      "Train on 595 samples, validate on 4000 samples\n",
      "Epoch 1/10\n",
      "595/595 [==============================] - 36s 60ms/step - loss: 1.8056 - accuracy: 0.4785 - auc_1: 0.8456 - precision_2: 0.1298 - recall_2: 0.9470 - val_loss: 0.7070 - val_accuracy: 0.7255 - val_auc_1: 0.8942 - val_precision_2: 0.2796 - val_recall_2: 0.9347\n",
      "Epoch 2/10\n",
      "595/595 [==============================] - 34s 58ms/step - loss: 1.0335 - accuracy: 0.7333 - auc_1: 0.9492 - precision_2: 0.2315 - recall_2: 0.9799 - val_loss: 0.5656 - val_accuracy: 0.7423 - val_auc_1: 0.9091 - val_precision_2: 0.2940 - val_recall_2: 0.9437\n",
      "Epoch 3/10\n",
      "595/595 [==============================] - 34s 58ms/step - loss: 0.8508 - accuracy: 0.7773 - auc_1: 0.9629 - precision_2: 0.2661 - recall_2: 0.9853 - val_loss: 0.4815 - val_accuracy: 0.7862 - val_auc_1: 0.9147 - val_precision_2: 0.3336 - val_recall_2: 0.9279\n",
      "Epoch 4/10\n",
      "595/595 [==============================] - 34s 58ms/step - loss: 0.7674 - accuracy: 0.7944 - auc_1: 0.9683 - precision_2: 0.2824 - recall_2: 0.9876 - val_loss: 0.4738 - val_accuracy: 0.8002 - val_auc_1: 0.9127 - val_precision_2: 0.3497 - val_recall_2: 0.9302\n",
      "Epoch 5/10\n",
      "595/595 [==============================] - 34s 57ms/step - loss: 0.7184 - accuracy: 0.8029 - auc_1: 0.9714 - precision_2: 0.2912 - recall_2: 0.9889 - val_loss: 0.4602 - val_accuracy: 0.8133 - val_auc_1: 0.9099 - val_precision_2: 0.3656 - val_recall_2: 0.9279\n",
      "Epoch 6/10\n",
      "595/595 [==============================] - 34s 58ms/step - loss: 0.6829 - accuracy: 0.8086 - auc_1: 0.9737 - precision_2: 0.2974 - recall_2: 0.9898 - val_loss: 0.4640 - val_accuracy: 0.8235 - val_auc_1: 0.9082 - val_precision_2: 0.3776 - val_recall_2: 0.9099\n",
      "Epoch 7/10\n",
      "595/595 [==============================] - 34s 58ms/step - loss: 0.6608 - accuracy: 0.8105 - auc_1: 0.9752 - precision_2: 0.2996 - recall_2: 0.9906 - val_loss: 0.4604 - val_accuracy: 0.8292 - val_auc_1: 0.9080 - val_precision_2: 0.3856 - val_recall_2: 0.9077\n",
      "Epoch 8/10\n",
      "595/595 [==============================] - 34s 58ms/step - loss: 0.6464 - accuracy: 0.8123 - auc_1: 0.9761 - precision_2: 0.3016 - recall_2: 0.9908 - val_loss: 0.4692 - val_accuracy: 0.8290 - val_auc_1: 0.9084 - val_precision_2: 0.3855 - val_recall_2: 0.9099\n",
      "Epoch 9/10\n",
      "595/595 [==============================] - 34s 58ms/step - loss: 0.6381 - accuracy: 0.8134 - auc_1: 0.9766 - precision_2: 0.3028 - recall_2: 0.9910 - val_loss: 0.4689 - val_accuracy: 0.8332 - val_auc_1: 0.9084 - val_precision_2: 0.3916 - val_recall_2: 0.9077\n",
      "Epoch 10/10\n",
      "595/595 [==============================] - 34s 58ms/step - loss: 0.6295 - accuracy: 0.8148 - auc_1: 0.9773 - precision_2: 0.3046 - recall_2: 0.9912 - val_loss: 0.4553 - val_accuracy: 0.8407 - val_auc_1: 0.9108 - val_precision_2: 0.4032 - val_recall_2: 0.9054\n",
      "-------------TRAINING TIME--------------\n",
      "Training completed in 5 mins and 46.18 secs\n"
     ]
    },
    {
     "data": {
      "image/png": "[encoded data removed]",
      "text/plain": [
       "<Figure size 432x288 with 1 Axes>"
      ]
     },
     "metadata": {
      "needs_background": "light"
     },
     "output_type": "display_data"
    },
    {
     "data": {
      "image/png": "[encoded data removed]",
      "text/plain": [
       "<Figure size 432x288 with 1 Axes>"
      ]
     },
     "metadata": {
      "needs_background": "light"
     },
     "output_type": "display_data"
    },
    {
     "data": {
      "image/png": "[encoded data removed]",
      "text/plain": [
       "<Figure size 432x288 with 1 Axes>"
      ]
     },
     "metadata": {
      "needs_background": "light"
     },
     "output_type": "display_data"
    },
    {
     "name": "stdout",
     "output_type": "stream",
     "text": [
      "- Saving the model to ../data/models/test_mlp/...\n",
      "Saving model to ../data/models/test_mlp/time_2018-02-20_p180_bg__sequential_190730_733.h5\n",
      "Prediction performance on 4000 observations from validation set using holdout\n",
      "Confusion matrix: \n",
      "[[0.83746 0.16254]\n",
      " [0.01265 0.1122 ]]\n",
      "AUC 0.913\n",
      "Prediction performance on 15540 observations from test set\n",
      "Confusion matrix: \n",
      "[[0.87227 0.12773]\n",
      " [0.0022  0.00129]]\n",
      "AUC 0.759\n",
      "Confusion matrix:\n",
      "[[13508  1978]\n",
      " [   34    20]]\n",
      "Saving dictionary to ../data/viz_data/test_mlp/time_2018-02-20_p180_bg__sequential_190730_733_viz.pkl\n",
      "- Activating existing experiment 'test_mlp', the following results will be saved in it...\n",
      "- Tracking the experiment on mlflow...\n"
     ]
    },
    {
     "name": "stderr",
     "output_type": "stream",
     "text": [
      "Using TensorFlow backend.\n"
     ]
    },
    {
     "name": "stdout",
     "output_type": "stream",
     "text": [
      "- Experiment tracked.\n"
     ]
    }
   ],
   "source": [
    "experiment = mlp_exp(datafolder, prefix, postfix, experiment_name='test_mlp', \n",
    "                     hidden_layers_no=4, hidden_nodes=[90,45,20,10],\n",
    "                     optimizer=Adam(0.001),\n",
    "                     hl_activations=[tf.nn.relu, tf.nn.relu, tf.nn.selu, tf.nn.relu], dropout=[0.5, 0.5, 0.5, 0.4], \n",
    "                     loss_func = tf.keras.losses.BinaryCrossentropy(),\n",
    "                     validation_size=4000,\n",
    "                     validation_mode='endpoint',\n",
    "                     metrics=['accuracy', tf.keras.metrics.AUC(), tf.keras.metrics.Precision(), tf.keras.metrics.Recall()],\n",
    "                     to_monitor=('accuracy', 0.9),\n",
    "                     epochs=10, \n",
    "                     batch_size=64, \n",
    "                     use_batch_and_steps=True,\n",
    "                     class_1_weight=50,\n",
    "                     pred_threshold = 0.55,\n",
    "                     early_stopping=True, \n",
    "                     save_model=True, \n",
    "                     save_results_for_viz=True,\n",
    "                     mlf_tracking=True)"
   ]
  },
  {
   "cell_type": "code",
   "execution_count": null,
   "metadata": {},
   "outputs": [],
   "source": []
  }
 ],
 "metadata": {
  "kernelspec": {
   "display_name": "Python 3",
   "language": "python",
   "name": "python3"
  },
  "language_info": {
   "codemirror_mode": {
    "name": "ipython",
    "version": 3
   },
   "file_extension": ".py",
   "mimetype": "text/x-python",
   "name": "python",
   "nbconvert_exporter": "python",
   "pygments_lexer": "ipython3",
   "version": "3.6.8"
  }
 },
 "nbformat": 4,
 "nbformat_minor": 2
}

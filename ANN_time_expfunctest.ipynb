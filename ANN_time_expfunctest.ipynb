{
 "cells": [
  {
   "cell_type": "code",
   "execution_count": 1,
   "metadata": {},
   "outputs": [],
   "source": [
    "import numpy as np\n",
    "import pandas as pd\n",
    "import seaborn as sns\n",
    "import matplotlib.pyplot as plt\n",
    "import math\n",
    "\n",
    "# Import TensorFlow\n",
    "import tensorflow as tf\n",
    "from tensorflow.keras.regularizers import l1, l2\n",
    "from tensorflow.keras.optimizers import RMSprop, Adam, SGD\n",
    "\n",
    "from ann_utils import *"
   ]
  },
  {
   "cell_type": "code",
   "execution_count": 2,
   "metadata": {},
   "outputs": [],
   "source": [
    "preproc_folder = \"enriched_time\"\n",
    "datafolder = \"../data/preproc_traintest/\"+preproc_folder+'/'\n",
    "output_path = \"../data/models/\"\n",
    "\n",
    "prefix = 'time_2018-02-20_p180_bg_'\n",
    "postfix = '_190721_170'\n",
    "trainfile = '_traindata'\n",
    "testfile = '_testdata'\n"
   ]
  },
  {
   "cell_type": "code",
   "execution_count": 3,
   "metadata": {},
   "outputs": [],
   "source": [
    "#settings for mlp architecture\n",
    "#input_shape = len(feature_labels)\n",
    "#hidden_layers_no=2 \n",
    "#hidden_nodes=[20,5] \n",
    "#hl_activations=[tf.nn.relu]*2 \n",
    "#optimizer=Adam()\n",
    "#loss_func='binary_crossentropy'\n",
    "#metrics=['accuracy',tf.keras.metrics.AUC(),\n",
    "#                                 tf.keras.metrics.Precision(), tf.keras.metrics.Recall()]\n",
    "#dropout = [0.5]*2\n",
    "\n",
    "#mlp = create_mlp_model(input_shape=input_shape, \n",
    "#                       hidden_layers=hidden_layers,\n",
    "#                       hidden_nodes=hidden_nodes, \n",
    "#                       hl_activations=hl_activations,                                        \n",
    "#                       optimizer = optimizer,\n",
    "#                       loss_func=loss_func,\n",
    "#                      #kernel_regularizers = [l2(0.001)]*3,\n",
    "#                       dropout = dropout,\n",
    "#                      metrics = metrics)\n",
    "\n",
    "#settings for fitting the model\n",
    "#to_monitor = 'auc'+mlp.name.split('sequential')[-1]\n",
    "#DISABLED early_stopping = TerminateOnBaseline(monitor=to_monitor #keep track of the model name adding the postfix to the metric to monitor\n",
    "#                                     , baseline=0.93)\n",
    "#batch_size = 256\n",
    "#epochs=150\n",
    "#class_1_weight = 10\n",
    "\n",
    "#creating validation data\n",
    "#validation_size = 20000\n",
    "\n",
    "#Shuffle set to true"
   ]
  },
  {
   "cell_type": "code",
   "execution_count": 4,
   "metadata": {},
   "outputs": [],
   "source": [
    "# mlp_exp(datafolder, prefix, postfix, \n",
    "#            trainfile='_traindata', testfile='_testdata',\n",
    "#               hidden_layers_no=1,\n",
    "#               hidden_nodes=[5],\n",
    "#               hl_activations=[tf.nn.relu],\n",
    "#               optimizer=Adam(),\n",
    "#               loss_func=tf.keras.losses.BinaryCrossentropy(),\n",
    "#               kernel_initializer = tf.keras.initializers.lecun_uniform(seed=42),\n",
    "#               bias_initializer = tf.keras.initializers.Zeros(),\n",
    "#               metrics=['accuracy', tf.keras.metrics.AUC(), tf.keras.metrics.Precision(), tf.keras.metrics.Recall()],\n",
    "#               dropout=[0.45],\n",
    "#               to_monitor=('accuracy', 0.9),\n",
    "#               early_stopping=False,\n",
    "#               batch_size=512,\n",
    "#               epochs=5,\n",
    "#               class_1_weight=50,\n",
    "#               validation_size=10000,\n",
    "#               pred_threshold = 0.55,\n",
    "#               kernel_regularizers=[],\n",
    "#               shuffle=False,\n",
    "#               use_batch_and_steps=False,\n",
    "#               save_model=False,\n",
    "#               plot_diagnostics = True,\n",
    "#               models_path='../data/models/', mlf_tracking=False, experiment_name='experiment',\n",
    "#               save_results_for_viz=False, viz_output_path='../data/viz_data/')"
   ]
  },
  {
   "cell_type": "code",
   "execution_count": 5,
   "metadata": {},
   "outputs": [
    {
     "name": "stdout",
     "output_type": "stream",
     "text": [
      "-Loading preprocessed data...\n",
      "training files: ../data/preproc_traintest/enriched_time/time_2018-02-20_p180_bg__traindata_190721_170.pkl\n",
      "testing files: ../data/preproc_traintest/enriched_time/time_2018-02-20_p180_bg__testdata_190721_170.pkl\n",
      "Model: \"sequential\"\n",
      "_________________________________________________________________\n",
      "Layer (type)                 Output Shape              Param #   \n",
      "=================================================================\n",
      "dense (Dense)                (None, 90)                3240      \n",
      "_________________________________________________________________\n",
      "dropout (Dropout)            (None, 90)                0         \n",
      "_________________________________________________________________\n",
      "dense_1 (Dense)              (None, 45)                4095      \n",
      "_________________________________________________________________\n",
      "dropout_1 (Dropout)          (None, 45)                0         \n",
      "_________________________________________________________________\n",
      "dense_2 (Dense)              (None, 20)                920       \n",
      "_________________________________________________________________\n",
      "dropout_2 (Dropout)          (None, 20)                0         \n",
      "_________________________________________________________________\n",
      "dense_3 (Dense)              (None, 1)                 21        \n",
      "=================================================================\n",
      "Total params: 8,276\n",
      "Trainable params: 8,276\n",
      "Non-trainable params: 0\n",
      "_________________________________________________________________\n",
      "None\n",
      "Early stopping active: training will be stopped when accuracy overcomes the value 0.9\n",
      "Train on 41079 samples, validate on 1000 samples\n",
      "Epoch 1/3\n",
      "41079/41079 [==============================] - 2s 45us/sample - loss: 2.5090 - accuracy: 0.4092 - auc_1: 0.7029 - precision_2: 0.1138 - recall_2: 0.8856 - val_loss: 1.1765 - val_accuracy: 0.3050 - val_auc_1: 0.8250 - val_precision_2: 0.1049 - val_recall_2: 0.9529\n",
      "Epoch 2/3\n",
      "41079/41079 [==============================] - 1s 30us/sample - loss: 2.1297 - accuracy: 0.3261 - auc_1: 0.7558 - precision_2: 0.1070 - recall_2: 0.9523 - val_loss: 1.0242 - val_accuracy: 0.3760 - val_auc_1: 0.8470 - val_precision_2: 0.1155 - val_recall_2: 0.9529\n",
      "Epoch 3/3\n",
      "41079/41079 [==============================] - 1s 28us/sample - loss: 1.9750 - accuracy: 0.3525 - auc_1: 0.7974 - precision_2: 0.1119 - recall_2: 0.9633 - val_loss: 0.9029 - val_accuracy: 0.3770 - val_auc_1: 0.8764 - val_precision_2: 0.1157 - val_recall_2: 0.9529\n",
      "Training completed in 5.096365690231323\n"
     ]
    },
    {
     "data": {
      "image/png": "[encoded data removed]",
      "text/plain": [
       "<Figure size 432x288 with 1 Axes>"
      ]
     },
     "metadata": {
      "needs_background": "light"
     },
     "output_type": "display_data"
    },
    {
     "data": {
      "image/png": "[encoded data removed]",
      "text/plain": [
       "<Figure size 432x288 with 1 Axes>"
      ]
     },
     "metadata": {
      "needs_background": "light"
     },
     "output_type": "display_data"
    },
    {
     "ename": "KeyError",
     "evalue": "'auc'",
     "output_type": "error",
     "traceback": [
      "\u001b[1;31m---------------------------------------------------------------------------\u001b[0m",
      "\u001b[1;31mKeyError\u001b[0m                                  Traceback (most recent call last)",
      "\u001b[1;32m<ipython-input-5-1b6efa6eaaa9>\u001b[0m in \u001b[0;36m<module>\u001b[1;34m\u001b[0m\n\u001b[0;32m     14\u001b[0m                      \u001b[0msave_model\u001b[0m\u001b[1;33m=\u001b[0m\u001b[1;32mTrue\u001b[0m\u001b[1;33m,\u001b[0m\u001b[1;33m\u001b[0m\u001b[1;33m\u001b[0m\u001b[0m\n\u001b[0;32m     15\u001b[0m                      \u001b[0msave_results_for_viz\u001b[0m\u001b[1;33m=\u001b[0m\u001b[1;32mTrue\u001b[0m\u001b[1;33m,\u001b[0m\u001b[1;33m\u001b[0m\u001b[1;33m\u001b[0m\u001b[0m\n\u001b[1;32m---> 16\u001b[1;33m                      mlf_tracking=True)\n\u001b[0m",
      "\u001b[1;32m~\\Dropbox\\University\\MscDataScience_Birkbeck\\thesis_project\\code\\ann_utils.py\u001b[0m in \u001b[0;36mmlp_exp\u001b[1;34m(datafolder, prefix, postfix, trainfile, testfile, hidden_layers_no, hidden_nodes, hl_activations, optimizer, loss_func, kernel_initializer, bias_initializer, metrics, dropout, to_monitor, early_stopping, batch_size, epochs, class_1_weight, validation_size, pred_threshold, kernel_regularizers, shuffle, use_batch_and_steps, save_model, plot_diagnostics, models_path, mlf_tracking, experiment_name, save_results_for_viz, viz_output_path)\u001b[0m\n\u001b[0;32m    272\u001b[0m         \u001b[0mplot_epochs_graph\u001b[0m\u001b[1;33m(\u001b[0m\u001b[0mhistory_dict\u001b[0m\u001b[1;33m,\u001b[0m \u001b[1;34m'loss'\u001b[0m\u001b[1;33m)\u001b[0m\u001b[1;33m\u001b[0m\u001b[1;33m\u001b[0m\u001b[0m\n\u001b[0;32m    273\u001b[0m         \u001b[0mplot_epochs_graph\u001b[0m\u001b[1;33m(\u001b[0m\u001b[0mhistory_dict\u001b[0m\u001b[1;33m,\u001b[0m \u001b[1;34m'accuracy'\u001b[0m\u001b[1;33m)\u001b[0m\u001b[1;33m\u001b[0m\u001b[1;33m\u001b[0m\u001b[0m\n\u001b[1;32m--> 274\u001b[1;33m         \u001b[0mplot_epochs_graph\u001b[0m\u001b[1;33m(\u001b[0m\u001b[0mhistory_dict\u001b[0m\u001b[1;33m,\u001b[0m  \u001b[1;34m'auc'\u001b[0m\u001b[1;33m+\u001b[0m\u001b[0mmlp\u001b[0m\u001b[1;33m.\u001b[0m\u001b[0mname\u001b[0m\u001b[1;33m.\u001b[0m\u001b[0msplit\u001b[0m\u001b[1;33m(\u001b[0m\u001b[1;34m'sequential'\u001b[0m\u001b[1;33m)\u001b[0m\u001b[1;33m[\u001b[0m\u001b[1;33m-\u001b[0m\u001b[1;36m1\u001b[0m\u001b[1;33m]\u001b[0m\u001b[1;33m)\u001b[0m \u001b[1;31m#name extension to match variable auc names\u001b[0m\u001b[1;33m\u001b[0m\u001b[1;33m\u001b[0m\u001b[0m\n\u001b[0m\u001b[0;32m    275\u001b[0m \u001b[1;33m\u001b[0m\u001b[0m\n\u001b[0;32m    276\u001b[0m     \u001b[1;32mif\u001b[0m \u001b[0msave_model\u001b[0m\u001b[1;33m:\u001b[0m\u001b[1;33m\u001b[0m\u001b[1;33m\u001b[0m\u001b[0m\n",
      "\u001b[1;32m~\\Dropbox\\University\\MscDataScience_Birkbeck\\thesis_project\\code\\ann_utils.py\u001b[0m in \u001b[0;36mplot_epochs_graph\u001b[1;34m(history_dict, metric)\u001b[0m\n\u001b[0;32m    121\u001b[0m     \u001b[1;32mfor\u001b[0m \u001b[0mmodel\u001b[0m \u001b[0mdiagnostics\u001b[0m\u001b[1;33m\u001b[0m\u001b[1;33m\u001b[0m\u001b[0m\n\u001b[0;32m    122\u001b[0m     \"\"\"\n\u001b[1;32m--> 123\u001b[1;33m     \u001b[0mvalues\u001b[0m \u001b[1;33m=\u001b[0m \u001b[0mhistory_dict\u001b[0m\u001b[1;33m[\u001b[0m\u001b[0mmetric\u001b[0m\u001b[1;33m]\u001b[0m\u001b[1;33m\u001b[0m\u001b[1;33m\u001b[0m\u001b[0m\n\u001b[0m\u001b[0;32m    124\u001b[0m     \u001b[0mval_values\u001b[0m \u001b[1;33m=\u001b[0m \u001b[0mhistory_dict\u001b[0m\u001b[1;33m[\u001b[0m\u001b[1;34m'val_'\u001b[0m\u001b[1;33m+\u001b[0m\u001b[0mmetric\u001b[0m\u001b[1;33m]\u001b[0m\u001b[1;33m\u001b[0m\u001b[1;33m\u001b[0m\u001b[0m\n\u001b[0;32m    125\u001b[0m     \u001b[0mepochs\u001b[0m \u001b[1;33m=\u001b[0m \u001b[0mrange\u001b[0m\u001b[1;33m(\u001b[0m\u001b[1;36m1\u001b[0m\u001b[1;33m,\u001b[0m \u001b[0mlen\u001b[0m\u001b[1;33m(\u001b[0m\u001b[0mval_values\u001b[0m\u001b[1;33m)\u001b[0m\u001b[1;33m+\u001b[0m\u001b[1;36m1\u001b[0m\u001b[1;33m)\u001b[0m\u001b[1;33m\u001b[0m\u001b[1;33m\u001b[0m\u001b[0m\n",
      "\u001b[1;31mKeyError\u001b[0m: 'auc'"
     ]
    }
   ],
   "source": [
    "experiment = mlp_exp(datafolder, prefix, postfix, experiment_name='test_mlp', \n",
    "                     hidden_layers_no=3, hidden_nodes=[90,45,20],\n",
    "                     optimizer=Adam(0.001),\n",
    "                     hl_activations=[tf.nn.relu, tf.nn.tanh, tf.nn.relu], dropout=[0.6, 0.5, 0.4], \n",
    "                     loss_func = tf.keras.losses.BinaryCrossentropy(),\n",
    "                     validation_size=1000,\n",
    "                     metrics=['accuracy', tf.keras.metrics.AUC(), tf.keras.metrics.Precision(), tf.keras.metrics.Recall()],\n",
    "                     to_monitor=('accuracy', 0.9),\n",
    "                     epochs=3, \n",
    "                     batch_size=64, \n",
    "                     class_1_weight=50,\n",
    "                     pred_threshold = 0.55,\n",
    "                     early_stopping=True, \n",
    "                     save_model=True, \n",
    "                     save_results_for_viz=True,\n",
    "                     mlf_tracking=True)"
   ]
  },
  {
   "cell_type": "code",
   "execution_count": null,
   "metadata": {},
   "outputs": [],
   "source": []
  }
 ],
 "metadata": {
  "kernelspec": {
   "display_name": "Python 3",
   "language": "python",
   "name": "python3"
  },
  "language_info": {
   "codemirror_mode": {
    "name": "ipython",
    "version": 3
   },
   "file_extension": ".py",
   "mimetype": "text/x-python",
   "name": "python",
   "nbconvert_exporter": "python",
   "pygments_lexer": "ipython3",
   "version": "3.6.8"
  }
 },
 "nbformat": 4,
 "nbformat_minor": 2
}

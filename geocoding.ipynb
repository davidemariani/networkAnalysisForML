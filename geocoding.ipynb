{
 "cells": [
  {
   "cell_type": "code",
   "execution_count": 6,
   "metadata": {},
   "outputs": [],
   "source": [
    "import pandas as pd\n",
    "import numpy as np\n",
    "from geopy.geocoders import Nominatim\n",
    "import os"
   ]
  },
  {
   "cell_type": "code",
   "execution_count": 3,
   "metadata": {},
   "outputs": [],
   "source": [
    "user = os.environ['USERNAME']\n",
    "datafolder = \"C:/Users/{}/Dropbox/University/MscDataScience_Birkbeck/thesis_project/data/original_data/\".format(user)\n",
    "file = 'Debitoren_active_gesamt_14092018_incl_DUNS.xlsx'\n",
    "df = pd.read_excel(datafolder+file)"
   ]
  },
  {
   "cell_type": "code",
   "execution_count": 4,
   "metadata": {},
   "outputs": [
    {
     "data": {
      "text/html": [
       "<div>\n",
       "<style scoped>\n",
       "    .dataframe tbody tr th:only-of-type {\n",
       "        vertical-align: middle;\n",
       "    }\n",
       "\n",
       "    .dataframe tbody tr th {\n",
       "        vertical-align: top;\n",
       "    }\n",
       "\n",
       "    .dataframe thead th {\n",
       "        text-align: right;\n",
       "    }\n",
       "</style>\n",
       "<table border=\"1\" class=\"dataframe\">\n",
       "  <thead>\n",
       "    <tr style=\"text-align: right;\">\n",
       "      <th></th>\n",
       "      <th>Kunden Id</th>\n",
       "      <th>K-Debitoren Id</th>\n",
       "      <th>Debitoren Id</th>\n",
       "      <th>Debitorenname 1</th>\n",
       "      <th>DUNS</th>\n",
       "      <th>UID</th>\n",
       "      <th>Namenszusatz</th>\n",
       "      <th>Anschrift</th>\n",
       "      <th>Währung</th>\n",
       "      <th>Genehmigtes Limit</th>\n",
       "      <th>Verfügbares Limit</th>\n",
       "      <th>Mahnsperre</th>\n",
       "      <th>Mahnsperre bis</th>\n",
       "      <th>Sperre Debitor</th>\n",
       "      <th>Eigene Factoringgebühren</th>\n",
       "      <th>Zahlungsbedingung</th>\n",
       "      <th>Limitgrundlage</th>\n",
       "      <th>Telefon 1</th>\n",
       "    </tr>\n",
       "  </thead>\n",
       "  <tbody>\n",
       "    <tr>\n",
       "      <th>0</th>\n",
       "      <td>2004025</td>\n",
       "      <td>0</td>\n",
       "      <td>9999999999</td>\n",
       "      <td>CPD-Debitor</td>\n",
       "      <td>NaN</td>\n",
       "      <td>NaN</td>\n",
       "      <td>NaN</td>\n",
       "      <td>CH-1201 Genève; Quai du Seujet 12</td>\n",
       "      <td>Schweizer Franken</td>\n",
       "      <td>0,00</td>\n",
       "      <td>0,00</td>\n",
       "      <td>keine</td>\n",
       "      <td>NaN</td>\n",
       "      <td>nicht gesperrt</td>\n",
       "      <td>Nein</td>\n",
       "      <td>30 net</td>\n",
       "      <td>kein Limit</td>\n",
       "      <td>NaN</td>\n",
       "    </tr>\n",
       "    <tr>\n",
       "      <th>1</th>\n",
       "      <td>che2004009</td>\n",
       "      <td>0</td>\n",
       "      <td>9999999999</td>\n",
       "      <td>CPD-Debitor</td>\n",
       "      <td>NaN</td>\n",
       "      <td>NaN</td>\n",
       "      <td>NaN</td>\n",
       "      <td>CH-8872 Weesen; Hauptstrasse 12</td>\n",
       "      <td>Schweizer Franken</td>\n",
       "      <td>0,00</td>\n",
       "      <td>0,00</td>\n",
       "      <td>keine</td>\n",
       "      <td>NaN</td>\n",
       "      <td>nicht gesperrt</td>\n",
       "      <td>Nein</td>\n",
       "      <td>90 Net</td>\n",
       "      <td>kein Limit</td>\n",
       "      <td>NaN</td>\n",
       "    </tr>\n",
       "    <tr>\n",
       "      <th>2</th>\n",
       "      <td>2004056</td>\n",
       "      <td>0</td>\n",
       "      <td>9999999999</td>\n",
       "      <td>CPD-Debitor</td>\n",
       "      <td>NaN</td>\n",
       "      <td>NaN</td>\n",
       "      <td>NaN</td>\n",
       "      <td>CH-8001 Zürich; Weinbergstrasse  22</td>\n",
       "      <td>Schweizer Franken</td>\n",
       "      <td>0,00</td>\n",
       "      <td>0,00</td>\n",
       "      <td>keine</td>\n",
       "      <td>NaN</td>\n",
       "      <td>nicht gesperrt</td>\n",
       "      <td>Nein</td>\n",
       "      <td>10 Net</td>\n",
       "      <td>kein Limit</td>\n",
       "      <td>NaN</td>\n",
       "    </tr>\n",
       "    <tr>\n",
       "      <th>3</th>\n",
       "      <td>2004071</td>\n",
       "      <td>0</td>\n",
       "      <td>9999999999</td>\n",
       "      <td>CPD-Debitor</td>\n",
       "      <td>NaN</td>\n",
       "      <td>NaN</td>\n",
       "      <td>NaN</td>\n",
       "      <td>CH-8001 Zürich; Weinbergstrasse  22</td>\n",
       "      <td>Schweizer Franken</td>\n",
       "      <td>0,00</td>\n",
       "      <td>0,00</td>\n",
       "      <td>keine</td>\n",
       "      <td>NaN</td>\n",
       "      <td>nicht gesperrt</td>\n",
       "      <td>Nein</td>\n",
       "      <td>30 Tage netto</td>\n",
       "      <td>kein Limit</td>\n",
       "      <td>NaN</td>\n",
       "    </tr>\n",
       "    <tr>\n",
       "      <th>4</th>\n",
       "      <td>2004037</td>\n",
       "      <td>0</td>\n",
       "      <td>9999999999</td>\n",
       "      <td>CPD-Debitor</td>\n",
       "      <td>NaN</td>\n",
       "      <td>NaN</td>\n",
       "      <td>NaN</td>\n",
       "      <td>CH-8001 Zürich; Weinbergstrasse  22</td>\n",
       "      <td>Schweizer Franken</td>\n",
       "      <td>0,00</td>\n",
       "      <td>0,00</td>\n",
       "      <td>keine</td>\n",
       "      <td>NaN</td>\n",
       "      <td>nicht gesperrt</td>\n",
       "      <td>Nein</td>\n",
       "      <td>10 Net</td>\n",
       "      <td>kein Limit</td>\n",
       "      <td>NaN</td>\n",
       "    </tr>\n",
       "  </tbody>\n",
       "</table>\n",
       "</div>"
      ],
      "text/plain": [
       "    Kunden Id  K-Debitoren Id Debitoren Id Debitorenname 1  DUNS  UID  \\\n",
       "0     2004025               0   9999999999     CPD-Debitor   NaN  NaN   \n",
       "1  che2004009               0   9999999999     CPD-Debitor   NaN  NaN   \n",
       "2     2004056               0   9999999999     CPD-Debitor   NaN  NaN   \n",
       "3     2004071               0   9999999999     CPD-Debitor   NaN  NaN   \n",
       "4     2004037               0   9999999999     CPD-Debitor   NaN  NaN   \n",
       "\n",
       "  Namenszusatz                            Anschrift            Währung  \\\n",
       "0          NaN    CH-1201 Genève; Quai du Seujet 12  Schweizer Franken   \n",
       "1          NaN      CH-8872 Weesen; Hauptstrasse 12  Schweizer Franken   \n",
       "2          NaN  CH-8001 Zürich; Weinbergstrasse  22  Schweizer Franken   \n",
       "3          NaN  CH-8001 Zürich; Weinbergstrasse  22  Schweizer Franken   \n",
       "4          NaN  CH-8001 Zürich; Weinbergstrasse  22  Schweizer Franken   \n",
       "\n",
       "  Genehmigtes Limit Verfügbares Limit Mahnsperre Mahnsperre bis  \\\n",
       "0              0,00              0,00      keine            NaN   \n",
       "1              0,00              0,00      keine            NaN   \n",
       "2              0,00              0,00      keine            NaN   \n",
       "3              0,00              0,00      keine            NaN   \n",
       "4              0,00              0,00      keine            NaN   \n",
       "\n",
       "   Sperre Debitor Eigene Factoringgebühren Zahlungsbedingung Limitgrundlage  \\\n",
       "0  nicht gesperrt                     Nein            30 net     kein Limit   \n",
       "1  nicht gesperrt                     Nein            90 Net     kein Limit   \n",
       "2  nicht gesperrt                     Nein            10 Net     kein Limit   \n",
       "3  nicht gesperrt                     Nein     30 Tage netto     kein Limit   \n",
       "4  nicht gesperrt                     Nein            10 Net     kein Limit   \n",
       "\n",
       "   Telefon 1  \n",
       "0        NaN  \n",
       "1        NaN  \n",
       "2        NaN  \n",
       "3        NaN  \n",
       "4        NaN  "
      ]
     },
     "execution_count": 4,
     "metadata": {},
     "output_type": "execute_result"
    }
   ],
   "source": [
    "df.head()"
   ]
  },
  {
   "cell_type": "code",
   "execution_count": 7,
   "metadata": {},
   "outputs": [],
   "source": [
    "adds = df.Anschrift.str.split(' ').apply(lambda x:x[0])"
   ]
  },
  {
   "cell_type": "code",
   "execution_count": 8,
   "metadata": {},
   "outputs": [
    {
     "name": "stderr",
     "output_type": "stream",
     "text": [
      "C:\\ProgramData\\Anaconda3\\lib\\site-packages\\ipykernel_launcher.py:1: DeprecationWarning: Using Nominatim with the default \"geopy/1.18.1\" `user_agent` is strongly discouraged, as it violates Nominatim's ToS https://operations.osmfoundation.org/policies/nominatim/ and may possibly cause 403 and 429 HTTP errors. Please specify a custom `user_agent` with `Nominatim(user_agent=\"my-application\")` or by overriding the default `user_agent`: `geopy.geocoders.options.default_user_agent = \"my-application\"`. In geopy 2.0 this will become an exception.\n",
      "  \"\"\"Entry point for launching an IPython kernel.\n"
     ]
    }
   ],
   "source": [
    "geolocator = Nominatim()\n",
    "location = geolocator.geocode(adds[0])"
   ]
  },
  {
   "cell_type": "code",
   "execution_count": 11,
   "metadata": {},
   "outputs": [
    {
     "data": {
      "text/plain": [
       "46.2097891809351"
      ]
     },
     "execution_count": 11,
     "metadata": {},
     "output_type": "execute_result"
    }
   ],
   "source": [
    "location.latitude"
   ]
  },
  {
   "cell_type": "code",
   "execution_count": 12,
   "metadata": {},
   "outputs": [
    {
     "data": {
      "text/plain": [
       "6.14559611329695"
      ]
     },
     "execution_count": 12,
     "metadata": {},
     "output_type": "execute_result"
    }
   ],
   "source": [
    "location.longitude"
   ]
  },
  {
   "cell_type": "code",
   "execution_count": 13,
   "metadata": {},
   "outputs": [],
   "source": [
    "def geolocator(address):\n",
    "    \"\"\"\n",
    "    This function, given a string representing the address, will return latitude and longitude, if available.\n",
    "    \"\"\"\n",
    "    geolocator = Nominatim()\n",
    "    location = geolocator.geocode(address)\n",
    "    \n",
    "    try:\n",
    "        lat = location.latitude\n",
    "        lon = location.longitude\n",
    "    \n",
    "    except AttributeError('Geolocation data not available for postcode {}'.format(address)):\n",
    "        lat = np.nan\n",
    "        lon = np.nan\n",
    "    \n",
    "    return lon, lat"
   ]
  },
  {
   "cell_type": "code",
   "execution_count": 14,
   "metadata": {},
   "outputs": [
    {
     "name": "stderr",
     "output_type": "stream",
     "text": [
      "C:\\ProgramData\\Anaconda3\\lib\\site-packages\\ipykernel_launcher.py:5: DeprecationWarning: Using Nominatim with the default \"geopy/1.18.1\" `user_agent` is strongly discouraged, as it violates Nominatim's ToS https://operations.osmfoundation.org/policies/nominatim/ and may possibly cause 403 and 429 HTTP errors. Please specify a custom `user_agent` with `Nominatim(user_agent=\"my-application\")` or by overriding the default `user_agent`: `geopy.geocoders.options.default_user_agent = \"my-application\"`. In geopy 2.0 this will become an exception.\n",
      "  \"\"\"\n"
     ]
    },
    {
     "data": {
      "text/plain": [
       "(9.1113280844253, 47.137559863812)"
      ]
     },
     "execution_count": 14,
     "metadata": {},
     "output_type": "execute_result"
    }
   ],
   "source": [
    "geolocator(adds[1])"
   ]
  },
  {
   "cell_type": "code",
   "execution_count": null,
   "metadata": {},
   "outputs": [],
   "source": []
  }
 ],
 "metadata": {
  "kernelspec": {
   "display_name": "Python 3",
   "language": "python",
   "name": "python3"
  },
  "language_info": {
   "codemirror_mode": {
    "name": "ipython",
    "version": 3
   },
   "file_extension": ".py",
   "mimetype": "text/x-python",
   "name": "python",
   "nbconvert_exporter": "python",
   "pygments_lexer": "ipython3",
   "version": "3.6.8"
  }
 },
 "nbformat": 4,
 "nbformat_minor": 2
}

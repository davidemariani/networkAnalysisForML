{
 "cells": [
  {
   "cell_type": "code",
   "execution_count": 1,
   "metadata": {},
   "outputs": [],
   "source": [
    "import numpy as np\n",
    "import pandas as pd\n",
    "import seaborn as sns\n",
    "import matplotlib.pyplot as plt\n",
    "import math\n",
    "\n",
    "# Import TensorFlow\n",
    "import tensorflow as tf\n",
    "from tensorflow.keras.regularizers import l1, l2\n",
    "from tensorflow.keras.optimizers import RMSprop, Adam\n",
    "\n",
    "from ann_utils import *"
   ]
  },
  {
   "cell_type": "code",
   "execution_count": 2,
   "metadata": {},
   "outputs": [],
   "source": [
    "preproc_folder = \"enriched_time\"\n",
    "datafolder = \"../data/preproc_traintest/\"+preproc_folder+'/'\n",
    "output_path = \"../data/models/\"\n",
    "\n",
    "prefix = 'time_2018-04-30_imp_bg_'\n",
    "postfix = '_190721_170'\n",
    "trainfile = '_traindata'\n",
    "testfile = '_testdata'\n",
    "\n",
    "[X_train, y_train, feature_labels] = pd.read_pickle(datafolder+prefix+trainfile+postfix+'.pkl') \n",
    "[X_test, y_test, feature_labels] = pd.read_pickle(datafolder+prefix+testfile+postfix+'.pkl') "
   ]
  },
  {
   "cell_type": "code",
   "execution_count": 3,
   "metadata": {},
   "outputs": [
    {
     "data": {
      "text/plain": [
       "35"
      ]
     },
     "execution_count": 3,
     "metadata": {},
     "output_type": "execute_result"
    }
   ],
   "source": [
    "len(feature_labels)"
   ]
  },
  {
   "cell_type": "code",
   "execution_count": 64,
   "metadata": {},
   "outputs": [
    {
     "name": "stdout",
     "output_type": "stream",
     "text": [
      "Model: \"sequential_6\"\n",
      "_________________________________________________________________\n",
      "Layer (type)                 Output Shape              Param #   \n",
      "=================================================================\n",
      "dense_22 (Dense)             (None, 45)                1620      \n",
      "_________________________________________________________________\n",
      "dropout_16 (Dropout)         (None, 45)                0         \n",
      "_________________________________________________________________\n",
      "dense_23 (Dense)             (None, 30)                1380      \n",
      "_________________________________________________________________\n",
      "dropout_17 (Dropout)         (None, 30)                0         \n",
      "_________________________________________________________________\n",
      "dense_24 (Dense)             (None, 25)                775       \n",
      "_________________________________________________________________\n",
      "dropout_18 (Dropout)         (None, 25)                0         \n",
      "_________________________________________________________________\n",
      "dense_25 (Dense)             (None, 5)                 130       \n",
      "_________________________________________________________________\n",
      "dropout_19 (Dropout)         (None, 5)                 0         \n",
      "_________________________________________________________________\n",
      "dense_26 (Dense)             (None, 1)                 6         \n",
      "=================================================================\n",
      "Total params: 3,911\n",
      "Trainable params: 3,911\n",
      "Non-trainable params: 0\n",
      "_________________________________________________________________\n",
      "None\n"
     ]
    }
   ],
   "source": [
    "mlp = create_mlp_model(len(feature_labels), 4, [45,30, 25, 5], [tf.nn.relu]*4,                                        #35, 2, [20, 5], [tf.nn.relu, tf.nn.relu],\n",
    "                      optimizer = Adam(),\n",
    "                      loss_func=\"binary_crossentropy\",\n",
    "                      #kernel_regularizers = [l2(0.001)]*3,\n",
    "                      dropout = [0.5]*4,\n",
    "                      metrics = ['accuracy',tf.keras.metrics.AUC(),\n",
    "                                 tf.keras.metrics.Precision(), tf.keras.metrics.Recall()])"
   ]
  },
  {
   "cell_type": "code",
   "execution_count": 65,
   "metadata": {},
   "outputs": [
    {
     "data": {
      "text/plain": [
       "(46101, 35)"
      ]
     },
     "execution_count": 65,
     "metadata": {},
     "output_type": "execute_result"
    }
   ],
   "source": [
    "X_train.shape"
   ]
  },
  {
   "cell_type": "code",
   "execution_count": 66,
   "metadata": {},
   "outputs": [
    {
     "name": "stdout",
     "output_type": "stream",
     "text": [
      "Epoch 1/100\n",
      "181/181 [==============================] - 24s 134ms/step - loss: 1.2190 - accuracy: 0.7084 - auc_6: 0.6157 - precision_7: 0.0250 - recall_7: 0.4658 - val_loss: 0.6024 - val_accuracy: 0.8868 - val_auc_6: 0.7620 - val_precision_7: 0.0587 - val_recall_7: 0.4714\n",
      "Epoch 2/100\n",
      "181/181 [==============================] - 24s 132ms/step - loss: 1.0252 - accuracy: 0.8915 - auc_6: 0.7502 - precision_7: 0.0699 - recall_7: 0.4849 - val_loss: 0.4973 - val_accuracy: 0.9176 - val_auc_6: 0.8273 - val_precision_7: 0.0929 - val_recall_7: 0.5571\n",
      "Epoch 3/100\n",
      "181/181 [==============================] - 24s 132ms/step - loss: 0.9305 - accuracy: 0.8993 - auc_6: 0.8161 - precision_7: 0.0889 - recall_7: 0.5911 - val_loss: 0.4229 - val_accuracy: 0.9000 - val_auc_6: 0.8358 - val_precision_7: 0.0833 - val_recall_7: 0.6143\n",
      "Epoch 4/100\n",
      "181/181 [==============================] - 24s 132ms/step - loss: 0.8556 - accuracy: 0.8970 - auc_6: 0.8548 - precision_7: 0.0964 - recall_7: 0.6703 - val_loss: 0.3574 - val_accuracy: 0.9182 - val_auc_6: 0.8275 - val_precision_7: 0.1012 - val_recall_7: 0.6143\n",
      "Epoch 5/100\n",
      "181/181 [==============================] - 24s 133ms/step - loss: 0.8046 - accuracy: 0.9022 - auc_6: 0.8731 - precision_7: 0.1057 - recall_7: 0.7080 - val_loss: 0.3292 - val_accuracy: 0.9080 - val_auc_6: 0.8292 - val_precision_7: 0.0938 - val_recall_7: 0.6429\n",
      "Epoch 6/100\n",
      "181/181 [==============================] - 24s 133ms/step - loss: 0.7716 - accuracy: 0.9087 - auc_6: 0.8832 - precision_7: 0.1147 - recall_7: 0.7231 - val_loss: 0.3253 - val_accuracy: 0.9114 - val_auc_6: 0.8226 - val_precision_7: 0.0954 - val_recall_7: 0.6286\n",
      "Epoch 7/100\n",
      "181/181 [==============================] - 24s 134ms/step - loss: 0.7469 - accuracy: 0.9126 - auc_6: 0.8900 - precision_7: 0.1207 - recall_7: 0.7335 - val_loss: 0.3336 - val_accuracy: 0.8992 - val_auc_6: 0.8219 - val_precision_7: 0.0795 - val_recall_7: 0.5857\n",
      "Epoch 8/100\n",
      "181/181 [==============================] - 24s 133ms/step - loss: 0.7264 - accuracy: 0.9168 - auc_6: 0.8953 - precision_7: 0.1273 - recall_7: 0.7413 - val_loss: 0.3664 - val_accuracy: 0.8454 - val_auc_6: 0.8235 - val_precision_7: 0.0579 - val_recall_7: 0.6571\n",
      "Epoch 9/100\n",
      "181/181 [==============================] - 25s 137ms/step - loss: 0.7158 - accuracy: 0.9189 - auc_6: 0.8976 - precision_7: 0.1306 - recall_7: 0.7438 - val_loss: 0.3700 - val_accuracy: 0.8280 - val_auc_6: 0.8166 - val_precision_7: 0.0501 - val_recall_7: 0.6286\n",
      "Epoch 10/100\n",
      "181/181 [==============================] - 24s 135ms/step - loss: 0.7046 - accuracy: 0.9207 - auc_6: 0.8999 - precision_7: 0.1338 - recall_7: 0.7471 - val_loss: 0.3723 - val_accuracy: 0.8132 - val_auc_6: 0.8075 - val_precision_7: 0.0453 - val_recall_7: 0.6143\n",
      "Epoch 11/100\n",
      "180/181 [============================>.] - ETA: 0s - loss: 0.6952 - accuracy: 0.9222 - auc_6: 0.9024 - precision_7: 0.1366 - recall_7: 0.7513Epoch 10: Reached baseline, terminating training\n",
      "181/181 [==============================] - 24s 135ms/step - loss: 0.6951 - accuracy: 0.9222 - auc_6: 0.9024 - precision_7: 0.1366 - recall_7: 0.7513 - val_loss: 0.3579 - val_accuracy: 0.8138 - val_auc_6: 0.8104 - val_precision_7: 0.0454 - val_recall_7: 0.6143\n"
     ]
    }
   ],
   "source": [
    "early_stopping = TerminateOnBaseline(monitor='auc'+mlp.name.split('sequential')[-1] #keep track of the model name adding the postfix to the metric to monitor\n",
    "                                     , baseline=0.9)\n",
    "batch_size = 256\n",
    "epochs=100\n",
    "\n",
    "#creating validation data\n",
    "validation_size = 5000\n",
    "\n",
    "X_val = X_train[:validation_size]\n",
    "partial_X_train = X_train[validation_size:]\n",
    "y_val = y_train[:validation_size]\n",
    "partial_y_train = y_train[validation_size:]\n",
    "\n",
    "history = mlp.fit(partial_X_train, partial_y_train, epochs=epochs,  batch_size = batch_size, verbose=1, \n",
    "        steps_per_epoch=math.ceil(X_train.shape[0]/batch_size), callbacks=[early_stopping],\n",
    "                 validation_data=(X_val, y_val), class_weight={0:1, 1:50})\n",
    "        "
   ]
  },
  {
   "cell_type": "code",
   "execution_count": 67,
   "metadata": {},
   "outputs": [],
   "source": [
    "history_dict = history.history"
   ]
  },
  {
   "cell_type": "code",
   "execution_count": 68,
   "metadata": {},
   "outputs": [
    {
     "data": {
      "image/png": "[encoded data removed]",
      "text/plain": [
       "<Figure size 432x288 with 1 Axes>"
      ]
     },
     "metadata": {
      "needs_background": "light"
     },
     "output_type": "display_data"
    }
   ],
   "source": [
    "loss_values = history_dict['loss']\n",
    "val_loss_values = history_dict['val_loss']\n",
    "epochs = range(1, len(loss_values)+1)\n",
    "\n",
    "plt.plot(epochs, loss_values, 'bo', label='Training loss')\n",
    "plt.plot(epochs, val_loss_values, 'b', label='Validation loss')\n",
    "plt.title(\"Training and validation loss\")\n",
    "plt.xlabel(\"Epochs\")\n",
    "plt.ylabel(\"Loss\")\n",
    "plt.legend()\n",
    "\n",
    "plt.show()"
   ]
  },
  {
   "cell_type": "code",
   "execution_count": 69,
   "metadata": {},
   "outputs": [
    {
     "data": {
      "image/png": "[encoded data removed]",
      "text/plain": [
       "<Figure size 432x288 with 1 Axes>"
      ]
     },
     "metadata": {
      "needs_background": "light"
     },
     "output_type": "display_data"
    }
   ],
   "source": [
    "acc_values = history_dict['accuracy']\n",
    "val_acc_values = history_dict['val_accuracy']\n",
    "epochs = range(1, len(acc_values)+1)\n",
    "\n",
    "plt.plot(epochs, acc_values, 'bo', label='Training acc')\n",
    "plt.plot(epochs, val_acc_values, 'b', label='Validation acc')\n",
    "plt.title(\"Training and validation accuracy\")\n",
    "plt.xlabel(\"Epochs\")\n",
    "plt.ylabel(\"Acc\")\n",
    "plt.legend()\n",
    "\n",
    "plt.show()"
   ]
  },
  {
   "cell_type": "code",
   "execution_count": 70,
   "metadata": {},
   "outputs": [],
   "source": [
    "predictions = mlp.predict(X_test)"
   ]
  },
  {
   "cell_type": "code",
   "execution_count": 71,
   "metadata": {},
   "outputs": [
    {
     "data": {
      "text/plain": [
       "array([[0.],\n",
       "       [0.],\n",
       "       [0.],\n",
       "       ...,\n",
       "       [0.],\n",
       "       [0.],\n",
       "       [0.]], dtype=float32)"
      ]
     },
     "execution_count": 71,
     "metadata": {},
     "output_type": "execute_result"
    }
   ],
   "source": [
    "predictions.round()"
   ]
  },
  {
   "cell_type": "code",
   "execution_count": 72,
   "metadata": {},
   "outputs": [
    {
     "name": "stdout",
     "output_type": "stream",
     "text": [
      "AUC: 0.8773888269586742\n"
     ]
    }
   ],
   "source": [
    "from sklearn.metrics import precision_recall_curve, roc_curve, roc_auc_score, confusion_matrix\n",
    "fpr, tpr, thresholds = roc_curve(y_test, predictions) #false positive rate, true positive rate and thresholds\n",
    "auc = roc_auc_score(y_test, predictions)\n",
    "        \n",
    "print('AUC: {}'.format(auc))"
   ]
  },
  {
   "cell_type": "code",
   "execution_count": null,
   "metadata": {},
   "outputs": [],
   "source": []
  }
 ],
 "metadata": {
  "kernelspec": {
   "display_name": "Python 3",
   "language": "python",
   "name": "python3"
  },
  "language_info": {
   "codemirror_mode": {
    "name": "ipython",
    "version": 3
   },
   "file_extension": ".py",
   "mimetype": "text/x-python",
   "name": "python",
   "nbconvert_exporter": "python",
   "pygments_lexer": "ipython3",
   "version": "3.6.8"
  }
 },
 "nbformat": 4,
 "nbformat_minor": 2
}

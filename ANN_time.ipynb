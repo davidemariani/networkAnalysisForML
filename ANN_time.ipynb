{
 "cells": [
  {
   "cell_type": "code",
   "execution_count": 1,
   "metadata": {},
   "outputs": [],
   "source": [
    "import numpy as np\n",
    "import pandas as pd\n",
    "import seaborn as sns\n",
    "import matplotlib.pyplot as plt\n",
    "import math\n",
    "\n",
    "# Import TensorFlow\n",
    "import tensorflow as tf\n",
    "from tensorflow.keras.regularizers import l1, l2\n",
    "from tensorflow.keras.optimizers import RMSprop, Adam\n",
    "\n",
    "from ann_utils import *"
   ]
  },
  {
   "cell_type": "code",
   "execution_count": 2,
   "metadata": {},
   "outputs": [],
   "source": [
    "preproc_folder = \"enriched_time\"\n",
    "datafolder = \"../data/preproc_traintest/\"+preproc_folder+'/'\n",
    "output_path = \"../data/models/\"\n",
    "\n",
    "prefix = 'time_2018-02-20_p180_bg_'\n",
    "postfix = '_190721_170'\n",
    "trainfile = '_traindata'\n",
    "testfile = '_testdata'\n",
    "\n",
    "[X_train, y_train, feature_labels] = pd.read_pickle(datafolder+prefix+trainfile+postfix+'.pkl') \n",
    "[X_test, y_test, feature_labels] = pd.read_pickle(datafolder+prefix+testfile+postfix+'.pkl') "
   ]
  },
  {
   "cell_type": "code",
   "execution_count": 3,
   "metadata": {},
   "outputs": [
    {
     "data": {
      "text/plain": [
       "35"
      ]
     },
     "execution_count": 3,
     "metadata": {},
     "output_type": "execute_result"
    }
   ],
   "source": [
    "len(feature_labels)"
   ]
  },
  {
   "cell_type": "code",
   "execution_count": 4,
   "metadata": {},
   "outputs": [],
   "source": [
    "#settings for mlp architecture\n",
    "#input_shape = len(feature_labels)\n",
    "#hidden_layers_no=2 \n",
    "#hidden_nodes=[20,5] \n",
    "#hl_activations=[tf.nn.relu]*2 \n",
    "#optimizer=Adam()\n",
    "#loss_func='binary_crossentropy'\n",
    "#metrics=['accuracy',tf.keras.metrics.AUC(),\n",
    "#                                 tf.keras.metrics.Precision(), tf.keras.metrics.Recall()]\n",
    "#dropout = [0.5]*2\n",
    "\n",
    "#mlp = create_mlp_model(input_shape=input_shape, \n",
    "#                       hidden_layers=hidden_layers,\n",
    "#                       hidden_nodes=hidden_nodes, \n",
    "#                       hl_activations=hl_activations,                                        \n",
    "#                       optimizer = optimizer,\n",
    "#                       loss_func=loss_func,\n",
    "#                      #kernel_regularizers = [l2(0.001)]*3,\n",
    "#                       dropout = dropout,\n",
    "#                      metrics = metrics)\n",
    "\n",
    "#settings for fitting the model\n",
    "#to_monitor = 'auc'+mlp.name.split('sequential')[-1]\n",
    "#DISABLED early_stopping = TerminateOnBaseline(monitor=to_monitor #keep track of the model name adding the postfix to the metric to monitor\n",
    "#                                     , baseline=0.93)\n",
    "#batch_size = 256\n",
    "#epochs=150\n",
    "#class_1_weight = 10\n",
    "\n",
    "#creating validation data\n",
    "#validation_size = 20000\n",
    "\n",
    "#Shuffle set to true"
   ]
  },
  {
   "cell_type": "code",
   "execution_count": 5,
   "metadata": {},
   "outputs": [
    {
     "name": "stdout",
     "output_type": "stream",
     "text": [
      "Model: \"sequential\"\n",
      "_________________________________________________________________\n",
      "Layer (type)                 Output Shape              Param #   \n",
      "=================================================================\n",
      "dense (Dense)                (None, 60)                2160      \n",
      "_________________________________________________________________\n",
      "dropout (Dropout)            (None, 60)                0         \n",
      "_________________________________________________________________\n",
      "dense_1 (Dense)              (None, 20)                1220      \n",
      "_________________________________________________________________\n",
      "dropout_1 (Dropout)          (None, 20)                0         \n",
      "_________________________________________________________________\n",
      "dense_2 (Dense)              (None, 10)                210       \n",
      "_________________________________________________________________\n",
      "dropout_2 (Dropout)          (None, 10)                0         \n",
      "_________________________________________________________________\n",
      "dense_3 (Dense)              (None, 1)                 11        \n",
      "=================================================================\n",
      "Total params: 3,601\n",
      "Trainable params: 3,601\n",
      "Non-trainable params: 0\n",
      "_________________________________________________________________\n",
      "None\n"
     ]
    }
   ],
   "source": [
    "#settings for mlp architecture\n",
    "input_shape = len(feature_labels)\n",
    "hidden_layers_no=3 \n",
    "hidden_nodes=[60,20,10] \n",
    "hl_activations=[tf.nn.relu]*3 \n",
    "optimizer=Adam()\n",
    "loss_func='binary_crossentropy'\n",
    "metrics=['accuracy',tf.keras.metrics.AUC(),\n",
    "                                 tf.keras.metrics.Precision(), tf.keras.metrics.Recall()]\n",
    "dropout = [0.45]*3\n",
    "\n",
    "mlp = create_mlp_model(input_shape=input_shape, \n",
    "                       hidden_layers_no=hidden_layers_no,\n",
    "                       hidden_nodes=hidden_nodes, \n",
    "                       hl_activations=hl_activations,                                        \n",
    "                       optimizer = optimizer,\n",
    "                       loss_func=loss_func,\n",
    "                      #kernel_regularizers = [l2(0.001)]*3,\n",
    "                       dropout = dropout,\n",
    "                      metrics = metrics)\n",
    "\n",
    "#settings for fitting the model\n",
    "to_monitor = 'accuracy' #+mlp.name.split('sequential')[-1]\n",
    "early_stopping = TerminateOnBaseline(monitor=to_monitor #keep track of the model name adding the postfix to the metric to monitor\n",
    "                                     , baseline=0.9)\n",
    "batch_size = 64\n",
    "epochs=100\n",
    "class_1_weight = 15 #20 #10\n",
    "\n",
    "#creating validation data\n",
    "validation_size = 10000"
   ]
  },
  {
   "cell_type": "code",
   "execution_count": 6,
   "metadata": {},
   "outputs": [
    {
     "data": {
      "text/plain": [
       "(42079, 35)"
      ]
     },
     "execution_count": 6,
     "metadata": {},
     "output_type": "execute_result"
    }
   ],
   "source": [
    "X_train.shape"
   ]
  },
  {
   "cell_type": "code",
   "execution_count": 7,
   "metadata": {},
   "outputs": [
    {
     "name": "stdout",
     "output_type": "stream",
     "text": [
      "Epoch 1/100\n",
      "658/658 [==============================] - 68s 104ms/step - loss: 0.9959 - accuracy: 0.6805 - auc: 0.8929 - precision_1: 0.2376 - recall_1: 0.9143 - val_loss: 0.3967 - val_accuracy: 0.9287 - val_auc: 0.6866 - val_precision_1: 0.0035 - val_recall_1: 0.0131\n",
      "Epoch 2/100\n",
      "658/658 [==============================] - 68s 104ms/step - loss: 0.6590 - accuracy: 0.8147 - auc: 0.9530 - precision_1: 0.3573 - recall_1: 0.9408 - val_loss: 0.1747 - val_accuracy: 0.9354 - val_auc: 0.6610 - val_precision_1: 0.0060 - val_recall_1: 0.0196\n",
      "Epoch 3/100\n",
      "658/658 [==============================] - 69s 104ms/step - loss: 0.5797 - accuracy: 0.8290 - auc: 0.9632 - precision_1: 0.3777 - recall_1: 0.9522 - val_loss: 0.1592 - val_accuracy: 0.9648 - val_auc: 0.4776 - val_precision_1: 0.0099 - val_recall_1: 0.0131\n",
      "Epoch 4/100\n",
      "658/658 [==============================] - 69s 105ms/step - loss: 0.5454 - accuracy: 0.8343 - auc: 0.9672 - precision_1: 0.3860 - recall_1: 0.9582 - val_loss: 0.2298 - val_accuracy: 0.9638 - val_auc: 0.4533 - val_precision_1: 0.0140 - val_recall_1: 0.0196\n",
      "Epoch 5/100\n",
      "658/658 [==============================] - 69s 106ms/step - loss: 0.5277 - accuracy: 0.8378 - auc: 0.9693 - precision_1: 0.3913 - recall_1: 0.9601 - val_loss: 0.2584 - val_accuracy: 0.9591 - val_auc: 0.4556 - val_precision_1: 0.0115 - val_recall_1: 0.0196\n",
      "Epoch 6/100\n",
      "658/658 [==============================] - 70s 107ms/step - loss: 0.5161 - accuracy: 0.8408 - auc: 0.9706 - precision_1: 0.3960 - recall_1: 0.9609 - val_loss: 0.2966 - val_accuracy: 0.9458 - val_auc: 0.4535 - val_precision_1: 0.0076 - val_recall_1: 0.0196\n",
      "Epoch 7/100\n",
      "658/658 [==============================] - 71s 108ms/step - loss: 0.5092 - accuracy: 0.8422 - auc: 0.9713 - precision_1: 0.3983 - recall_1: 0.9618 - val_loss: 0.3337 - val_accuracy: 0.9406 - val_auc: 0.4552 - val_precision_1: 0.0111 - val_recall_1: 0.0327\n",
      "Epoch 8/100\n",
      "658/658 [==============================] - 71s 108ms/step - loss: 0.5031 - accuracy: 0.8437 - auc: 0.9719 - precision_1: 0.4007 - recall_1: 0.9622 - val_loss: 0.3410 - val_accuracy: 0.9300 - val_auc: 0.4462 - val_precision_1: 0.0090 - val_recall_1: 0.0327\n",
      "Epoch 9/100\n",
      "658/658 [==============================] - 71s 108ms/step - loss: 0.4991 - accuracy: 0.8446 - auc: 0.9723 - precision_1: 0.4021 - recall_1: 0.9618 - val_loss: 0.3419 - val_accuracy: 0.9342 - val_auc: 0.4441 - val_precision_1: 0.0097 - val_recall_1: 0.0327\n",
      "Epoch 10/100\n",
      "658/658 [==============================] - 135s 205ms/step - loss: 0.4963 - accuracy: 0.8454 - auc: 0.9726 - precision_1: 0.4033 - recall_1: 0.9618 - val_loss: 0.3789 - val_accuracy: 0.9409 - val_auc: 0.4511 - val_precision_1: 0.0068 - val_recall_1: 0.0196\n",
      "Epoch 11/100\n",
      "658/658 [==============================] - 95s 145ms/step - loss: 0.4935 - accuracy: 0.8460 - auc: 0.9728 - precision_1: 0.4042 - recall_1: 0.9620 - val_loss: 0.3599 - val_accuracy: 0.9601 - val_auc: 0.4552 - val_precision_1: 0.0157 - val_recall_1: 0.0261\n",
      "Epoch 12/100\n",
      "658/658 [==============================] - 80s 121ms/step - loss: 0.4901 - accuracy: 0.8466 - auc: 0.9732 - precision_1: 0.4053 - recall_1: 0.9623 - val_loss: 0.3454 - val_accuracy: 0.9618 - val_auc: 0.4496 - val_precision_1: 0.0128 - val_recall_1: 0.0196\n",
      "Epoch 13/100\n",
      "658/658 [==============================] - 73s 111ms/step - loss: 0.4886 - accuracy: 0.8473 - auc: 0.9733 - precision_1: 0.4064 - recall_1: 0.9622 - val_loss: 0.3514 - val_accuracy: 0.9617 - val_auc: 0.4488 - val_precision_1: 0.0168 - val_recall_1: 0.0261\n",
      "Epoch 14/100\n",
      "658/658 [==============================] - 70s 106ms/step - loss: 0.4865 - accuracy: 0.8481 - auc: 0.9735 - precision_1: 0.4077 - recall_1: 0.9622 - val_loss: 0.3445 - val_accuracy: 0.9640 - val_auc: 0.4509 - val_precision_1: 0.0141 - val_recall_1: 0.0196\n",
      "Epoch 15/100\n",
      "658/658 [==============================] - 70s 106ms/step - loss: 0.4851 - accuracy: 0.8488 - auc: 0.9736 - precision_1: 0.4089 - recall_1: 0.9622 - val_loss: 0.3928 - val_accuracy: 0.9670 - val_auc: 0.4454 - val_precision_1: 0.0164 - val_recall_1: 0.0196\n",
      "Epoch 16/100\n",
      "658/658 [==============================] - 71s 109ms/step - loss: 0.4842 - accuracy: 0.8492 - auc: 0.9737 - precision_1: 0.4095 - recall_1: 0.9623 - val_loss: 0.3899 - val_accuracy: 0.9662 - val_auc: 0.4687 - val_precision_1: 0.0207 - val_recall_1: 0.0261\n",
      "Epoch 17/100\n",
      "658/658 [==============================] - 77s 118ms/step - loss: 0.4822 - accuracy: 0.8495 - auc: 0.9738 - precision_1: 0.4100 - recall_1: 0.9626 - val_loss: 0.3851 - val_accuracy: 0.9649 - val_auc: 0.4617 - val_precision_1: 0.0194 - val_recall_1: 0.0261\n",
      "Epoch 18/100\n",
      "658/658 [==============================] - 89s 135ms/step - loss: 0.4803 - accuracy: 0.8504 - auc: 0.9741 - precision_1: 0.4116 - recall_1: 0.9626 - val_loss: 0.4318 - val_accuracy: 0.9651 - val_auc: 0.4513 - val_precision_1: 0.0149 - val_recall_1: 0.0196\n",
      "Epoch 19/100\n",
      "658/658 [==============================] - 89s 136ms/step - loss: 0.4795 - accuracy: 0.8506 - auc: 0.9741 - precision_1: 0.4118 - recall_1: 0.9624 - val_loss: 0.4017 - val_accuracy: 0.9642 - val_auc: 0.4608 - val_precision_1: 0.0188 - val_recall_1: 0.0261\n",
      "Epoch 20/100\n",
      "658/658 [==============================] - 79s 121ms/step - loss: 0.4790 - accuracy: 0.8506 - auc: 0.9741 - precision_1: 0.4118 - recall_1: 0.9626 - val_loss: 0.4297 - val_accuracy: 0.9608 - val_auc: 0.4787 - val_precision_1: 0.0162 - val_recall_1: 0.0261\n",
      "Epoch 21/100\n",
      "658/658 [==============================] - 77s 116ms/step - loss: 0.4768 - accuracy: 0.8511 - auc: 0.9744 - precision_1: 0.4127 - recall_1: 0.9630 - val_loss: 0.4344 - val_accuracy: 0.9689 - val_auc: 0.4597 - val_precision_1: 0.0241 - val_recall_1: 0.0261\n",
      "Epoch 22/100\n",
      "658/658 [==============================] - 79s 120ms/step - loss: 0.4759 - accuracy: 0.8510 - auc: 0.9744 - precision_1: 0.4125 - recall_1: 0.9635 - val_loss: 0.4573 - val_accuracy: 0.9494 - val_auc: 0.4703 - val_precision_1: 0.0084 - val_recall_1: 0.0196\n",
      "Epoch 23/100\n",
      "658/658 [==============================] - 76s 116ms/step - loss: 0.4742 - accuracy: 0.8509 - auc: 0.9745 - precision_1: 0.4124 - recall_1: 0.9639 - val_loss: 0.4561 - val_accuracy: 0.9616 - val_auc: 0.4744 - val_precision_1: 0.0167 - val_recall_1: 0.0261\n",
      "Epoch 24/100\n",
      "658/658 [==============================] - 75s 113ms/step - loss: 0.4733 - accuracy: 0.8513 - auc: 0.9746 - precision_1: 0.4131 - recall_1: 0.9635 - val_loss: 0.5012 - val_accuracy: 0.9654 - val_auc: 0.4624 - val_precision_1: 0.0199 - val_recall_1: 0.0261\n",
      "Epoch 25/100\n",
      "658/658 [==============================] - 76s 115ms/step - loss: 0.4725 - accuracy: 0.8513 - auc: 0.9747 - precision_1: 0.4131 - recall_1: 0.9642 - val_loss: 0.4695 - val_accuracy: 0.9589 - val_auc: 0.4687 - val_precision_1: 0.0187 - val_recall_1: 0.0327\n",
      "Epoch 26/100\n",
      "658/658 [==============================] - 76s 115ms/step - loss: 0.4721 - accuracy: 0.8511 - auc: 0.9747 - precision_1: 0.4128 - recall_1: 0.9644 - val_loss: 0.4626 - val_accuracy: 0.9492 - val_auc: 0.4692 - val_precision_1: 0.0137 - val_recall_1: 0.0327\n",
      "Epoch 27/100\n",
      "658/658 [==============================] - 78s 118ms/step - loss: 0.4717 - accuracy: 0.8518 - auc: 0.9748 - precision_1: 0.4140 - recall_1: 0.9641 - val_loss: 0.4590 - val_accuracy: 0.9469 - val_auc: 0.4763 - val_precision_1: 0.0129 - val_recall_1: 0.0327\n",
      "Epoch 28/100\n",
      "658/658 [==============================] - 87s 132ms/step - loss: 0.4720 - accuracy: 0.8521 - auc: 0.9747 - precision_1: 0.4144 - recall_1: 0.9643 - val_loss: 0.4469 - val_accuracy: 0.9423 - val_auc: 0.4774 - val_precision_1: 0.0115 - val_recall_1: 0.0327\n",
      "Epoch 29/100\n",
      "658/658 [==============================] - 83s 126ms/step - loss: 0.4712 - accuracy: 0.8521 - auc: 0.9748 - precision_1: 0.4145 - recall_1: 0.9641 - val_loss: 0.4617 - val_accuracy: 0.9436 - val_auc: 0.4937 - val_precision_1: 0.0119 - val_recall_1: 0.0327\n",
      "Epoch 30/100\n",
      "658/658 [==============================] - 76s 116ms/step - loss: 0.4698 - accuracy: 0.8521 - auc: 0.9749 - precision_1: 0.4145 - recall_1: 0.9647 - val_loss: 0.4647 - val_accuracy: 0.9396 - val_auc: 0.4886 - val_precision_1: 0.0130 - val_recall_1: 0.0392\n",
      "Epoch 31/100\n",
      "658/658 [==============================] - 81s 123ms/step - loss: 0.4631 - accuracy: 0.8556 - auc: 0.9755 - precision_1: 0.4205 - recall_1: 0.9646 - val_loss: 0.7230 - val_accuracy: 0.9598 - val_auc: 0.4724 - val_precision_1: 0.0193 - val_recall_1: 0.0327\n",
      "Epoch 45/100\n",
      "658/658 [==============================] - 72s 109ms/step - loss: 0.4622 - accuracy: 0.8553 - auc: 0.9755 - precision_1: 0.4199 - recall_1: 0.9648 - val_loss: 0.7672 - val_accuracy: 0.9602 - val_auc: 0.4733 - val_precision_1: 0.0196 - val_recall_1: 0.0327\n",
      "Epoch 47/100\n",
      "658/658 [==============================] - 86s 131ms/step - loss: 0.4601 - accuracy: 0.8564 - auc: 0.9758 - precision_1: 0.4219 - recall_1: 0.9647 - val_loss: 0.9764 - val_accuracy: 0.9605 - val_auc: 0.4778 - val_precision_1: 0.0198 - val_recall_1: 0.0327\n",
      "Epoch 50/100\n",
      "658/658 [==============================] - 101s 154ms/step - loss: 0.4589 - accuracy: 0.8571 - auc: 0.9759 - precision_1: 0.4232 - recall_1: 0.9650 - val_loss: 0.9477 - val_accuracy: 0.9604 - val_auc: 0.4807 - val_precision_1: 0.0198 - val_recall_1: 0.0327\n",
      "Epoch 51/100\n",
      "658/658 [==============================] - 75s 114ms/step - loss: 0.4582 - accuracy: 0.8574 - auc: 0.9759 - precision_1: 0.4237 - recall_1: 0.9651 - val_loss: 1.1209 - val_accuracy: 0.9610 - val_auc: 0.4889 - val_precision_1: 0.0202 - val_recall_1: 0.0327\n",
      "Epoch 53/100\n",
      "658/658 [==============================] - 80s 122ms/step - loss: 0.4579 - accuracy: 0.8573 - auc: 0.9759 - precision_1: 0.4236 - recall_1: 0.9650 - val_loss: 1.2646 - val_accuracy: 0.9606 - val_auc: 0.4910 - val_precision_1: 0.0161 - val_recall_1: 0.0261\n",
      "Epoch 56/100\n",
      "658/658 [==============================] - 81s 123ms/step - loss: 0.4587 - accuracy: 0.8570 - auc: 0.9759 - precision_1: 0.4229 - recall_1: 0.9648 - val_loss: 1.1994 - val_accuracy: 0.9616 - val_auc: 0.4913 - val_precision_1: 0.0167 - val_recall_1: 0.0261\n",
      "Epoch 57/100\n",
      "658/658 [==============================] - 77s 117ms/step - loss: 0.4587 - accuracy: 0.8572 - auc: 0.9758 - precision_1: 0.4232 - recall_1: 0.9647 - val_loss: 1.2507 - val_accuracy: 0.9610 - val_auc: 0.4961 - val_precision_1: 0.0163 - val_recall_1: 0.0261\n",
      "Epoch 60/100\n",
      "658/658 [==============================] - 76s 115ms/step - loss: 0.4569 - accuracy: 0.8578 - auc: 0.9760 - precision_1: 0.4243 - recall_1: 0.9648 - val_loss: 1.3934 - val_accuracy: 0.9609 - val_auc: 0.4935 - val_precision_1: 0.0163 - val_recall_1: 0.0261\n",
      "Epoch 63/100\n",
      "658/658 [==============================] - 87s 133ms/step - loss: 0.4557 - accuracy: 0.8583 - auc: 0.9761 - precision_1: 0.4253 - recall_1: 0.9649 - val_loss: 1.3962 - val_accuracy: 0.9577 - val_auc: 0.4910 - val_precision_1: 0.0179 - val_recall_1: 0.0327\n",
      "Epoch 67/100\n",
      "658/658 [==============================] - 81s 122ms/step - loss: 0.4544 - accuracy: 0.8588 - auc: 0.9762 - precision_1: 0.4262 - recall_1: 0.9649 - val_loss: 1.6705 - val_accuracy: 0.9593 - val_auc: 0.4888 - val_precision_1: 0.0115 - val_recall_1: 0.0196\n",
      "Epoch 70/100\n",
      "658/658 [==============================] - 73s 111ms/step - loss: 0.4537 - accuracy: 0.8594 - auc: 0.9763 - precision_1: 0.4272 - recall_1: 0.9649 - val_loss: 1.9288 - val_accuracy: 0.9608 - val_auc: 0.4858 - val_precision_1: 0.0122 - val_recall_1: 0.0196\n",
      "Epoch 73/100\n",
      "658/658 [==============================] - 86s 131ms/step - loss: 0.4532 - accuracy: 0.8597 - auc: 0.9763 - precision_1: 0.4277 - recall_1: 0.9649 - val_loss: 2.1557 - val_accuracy: 0.9661 - val_auc: 0.4871 - val_precision_1: 0.0156 - val_recall_1: 0.0196\n",
      "Epoch 76/100\n",
      "658/658 [==============================] - 74s 112ms/step - loss: 0.4543 - accuracy: 0.8601 - auc: 0.9762 - precision_1: 0.4284 - recall_1: 0.9645 - val_loss: 2.9305 - val_accuracy: 0.9761 - val_auc: 0.4920 - val_precision_1: 0.0222 - val_recall_1: 0.0131\n",
      "Epoch 79/100\n",
      "658/658 [==============================] - 85s 129ms/step - loss: 0.4524 - accuracy: 0.8604 - auc: 0.9764 - precision_1: 0.4289 - recall_1: 0.9650 - val_loss: 3.6790 - val_accuracy: 0.9791 - val_auc: 0.4933 - val_precision_1: 0.0333 - val_recall_1: 0.0131\n",
      "Epoch 83/100\n",
      "658/658 [==============================] - 78s 118ms/step - loss: 0.4527 - accuracy: 0.8605 - auc: 0.9763 - precision_1: 0.4292 - recall_1: 0.9652 - val_loss: 4.4878 - val_accuracy: 0.9790 - val_auc: 0.4970 - val_precision_1: 0.0328 - val_recall_1: 0.0131\n",
      "Epoch 86/100\n",
      "658/658 [==============================] - 85s 130ms/step - loss: 0.4529 - accuracy: 0.8612 - auc: 0.9763 - precision_1: 0.4304 - recall_1: 0.9644 - val_loss: 4.9785 - val_accuracy: 0.9789 - val_auc: 0.4961 - val_precision_1: 0.0167 - val_recall_1: 0.0065\n",
      "Epoch 89/100\n",
      "658/658 [==============================] - 69s 105ms/step - loss: 0.4513 - accuracy: 0.8615 - auc: 0.9764 - precision_1: 0.4310 - recall_1: 0.9646 - val_loss: 5.6644 - val_accuracy: 0.9786 - val_auc: 0.4968 - val_precision_1: 0.0159 - val_recall_1: 0.0065\n",
      "Epoch 92/100\n",
      "658/658 [==============================] - 93s 141ms/step - loss: 0.4507 - accuracy: 0.8619 - auc: 0.9765 - precision_1: 0.4318 - recall_1: 0.9651 - val_loss: 6.4689 - val_accuracy: 0.9782 - val_auc: 0.4964 - val_precision_1: 0.0290 - val_recall_1: 0.0131\n",
      "Epoch 96/100\n",
      "658/658 [==============================] - 72s 110ms/step - loss: 0.4499 - accuracy: 0.8620 - auc: 0.9765 - precision_1: 0.4318 - recall_1: 0.9652 - val_loss: 7.1521 - val_accuracy: 0.9777 - val_auc: 0.4954 - val_precision_1: 0.0139 - val_recall_1: 0.0065\n",
      "Epoch 99/100\n",
      "658/658 [==============================] - 70s 106ms/step - loss: 0.4498 - accuracy: 0.8623 - auc: 0.9765 - precision_1: 0.4324 - recall_1: 0.9652 - val_loss: 7.5447 - val_accuracy: 0.9784 - val_auc: 0.4974 - val_precision_1: 0.0154 - val_recall_1: 0.0065\n",
      "Epoch 100/100\n",
      "658/658 [==============================] - 75s 113ms/step - loss: 0.4504 - accuracy: 0.8622 - auc: 0.9765 - precision_1: 0.4323 - recall_1: 0.9648 - val_loss: 7.4422 - val_accuracy: 0.9782 - val_auc: 0.4963 - val_precision_1: 0.0149 - val_recall_1: 0.0065\n"
     ]
    }
   ],
   "source": [
    "#fitting\n",
    "X_val = X_train[:validation_size]\n",
    "partial_X_train = X_train[validation_size:]\n",
    "y_val = y_train[:validation_size]\n",
    "partial_y_train = y_train[validation_size:]\n",
    "\n",
    "history = mlp.fit(partial_X_train, partial_y_train, epochs=epochs,  batch_size = batch_size, verbose=1, \n",
    "        steps_per_epoch=math.ceil(X_train.shape[0]/batch_size), callbacks=[early_stopping],\n",
    "                 validation_data=(X_val, y_val), class_weight={0:1, 1:class_1_weight}, \n",
    "                  shuffle=False)\n",
    "        "
   ]
  },
  {
   "cell_type": "code",
   "execution_count": 8,
   "metadata": {},
   "outputs": [],
   "source": [
    "history_dict = history.history"
   ]
  },
  {
   "cell_type": "code",
   "execution_count": 9,
   "metadata": {},
   "outputs": [
    {
     "data": {
      "image/png": "[encoded data removed]",
      "text/plain": [
       "<Figure size 432x288 with 1 Axes>"
      ]
     },
     "metadata": {
      "needs_background": "light"
     },
     "output_type": "display_data"
    }
   ],
   "source": [
    "loss_values = history_dict['loss']\n",
    "val_loss_values = history_dict['val_loss']\n",
    "epochs = range(1, len(loss_values)+1)\n",
    "\n",
    "plt.plot(epochs, loss_values, 'bo', label='Training loss')\n",
    "plt.plot(epochs, val_loss_values, 'b', label='Validation loss')\n",
    "plt.title(\"Training and validation loss\")\n",
    "plt.xlabel(\"Epochs\")\n",
    "plt.ylabel(\"Loss\")\n",
    "plt.legend()\n",
    "\n",
    "plt.show()"
   ]
  },
  {
   "cell_type": "code",
   "execution_count": 10,
   "metadata": {},
   "outputs": [
    {
     "data": {
      "image/png": "[encoded data removed]",
      "text/plain": [
       "<Figure size 432x288 with 1 Axes>"
      ]
     },
     "metadata": {
      "needs_background": "light"
     },
     "output_type": "display_data"
    }
   ],
   "source": [
    "acc_values = history_dict['accuracy']\n",
    "val_acc_values = history_dict['val_accuracy']\n",
    "epochs = range(1, len(acc_values)+1)\n",
    "\n",
    "plt.plot(epochs, acc_values, 'bo', label='Training acc')\n",
    "plt.plot(epochs, val_acc_values, 'b', label='Validation acc')\n",
    "plt.title(\"Training and validation accuracy\")\n",
    "plt.xlabel(\"Epochs\")\n",
    "plt.ylabel(\"Acc\")\n",
    "plt.legend()\n",
    "\n",
    "plt.show()"
   ]
  },
  {
   "cell_type": "code",
   "execution_count": 11,
   "metadata": {},
   "outputs": [
    {
     "data": {
      "image/png": "[encoded data removed]",
      "text/plain": [
       "<Figure size 432x288 with 1 Axes>"
      ]
     },
     "metadata": {
      "needs_background": "light"
     },
     "output_type": "display_data"
    }
   ],
   "source": [
    "aucname = 'auc'+mlp.name.split('sequential')[-1]\n",
    "\n",
    "auc_values = history_dict[aucname]\n",
    "val_auc_values = history_dict['val_'+aucname]\n",
    "epochs = range(1, len(auc_values)+1)\n",
    "\n",
    "plt.plot(epochs, auc_values, 'bo', label='Training auc')\n",
    "plt.plot(epochs, val_auc_values, 'b', label='Validation auc')\n",
    "plt.title(\"Training and validation auc\")\n",
    "plt.xlabel(\"Epochs\")\n",
    "plt.ylabel(\"AUC\")\n",
    "plt.legend()\n",
    "\n",
    "plt.show()"
   ]
  },
  {
   "cell_type": "code",
   "execution_count": 12,
   "metadata": {},
   "outputs": [],
   "source": [
    "predictions = mlp.predict(X_test)"
   ]
  },
  {
   "cell_type": "code",
   "execution_count": 13,
   "metadata": {},
   "outputs": [
    {
     "data": {
      "text/plain": [
       "(15540,)"
      ]
     },
     "execution_count": 13,
     "metadata": {},
     "output_type": "execute_result"
    }
   ],
   "source": [
    "y_test.shape"
   ]
  },
  {
   "cell_type": "code",
   "execution_count": 14,
   "metadata": {},
   "outputs": [
    {
     "data": {
      "text/plain": [
       "54"
      ]
     },
     "execution_count": 14,
     "metadata": {},
     "output_type": "execute_result"
    }
   ],
   "source": [
    "y_test.sum()"
   ]
  },
  {
   "cell_type": "code",
   "execution_count": 31,
   "metadata": {},
   "outputs": [],
   "source": [
    "threshold = 0.65"
   ]
  },
  {
   "cell_type": "code",
   "execution_count": 38,
   "metadata": {},
   "outputs": [],
   "source": [
    "preds = (predictions>threshold)"
   ]
  },
  {
   "cell_type": "code",
   "execution_count": 42,
   "metadata": {},
   "outputs": [
    {
     "name": "stdout",
     "output_type": "stream",
     "text": [
      "AUC: 0.8688905391249444\n"
     ]
    }
   ],
   "source": [
    "from sklearn.metrics import precision_recall_curve, roc_curve, roc_auc_score, confusion_matrix\n",
    "fpr, tpr, thresholds = roc_curve(y_test, predictions) #false positive rate, true positive rate and thresholds\n",
    "auc = roc_auc_score(y_test, predictions)\n",
    "        \n",
    "print('AUC: {}'.format(auc))"
   ]
  },
  {
   "cell_type": "code",
   "execution_count": 43,
   "metadata": {},
   "outputs": [
    {
     "data": {
      "text/plain": [
       "array([[14544,   942],\n",
       "       [   32,    22]], dtype=int64)"
      ]
     },
     "execution_count": 43,
     "metadata": {},
     "output_type": "execute_result"
    }
   ],
   "source": [
    "cm = confusion_matrix(y_test, preds)\n",
    "cm"
   ]
  },
  {
   "cell_type": "code",
   "execution_count": 44,
   "metadata": {},
   "outputs": [
    {
     "name": "stdout",
     "output_type": "stream",
     "text": [
      "Confusion matrix: \n",
      "[[0.93917 0.06083]\n",
      " [0.00207 0.00142]]\n"
     ]
    },
    {
     "data": {
      "text/plain": [
       "array([[0.93917086, 0.06082914],\n",
       "       [0.00206638, 0.00142064]])"
      ]
     },
     "execution_count": 44,
     "metadata": {},
     "output_type": "execute_result"
    }
   ],
   "source": [
    "from models_utils import cm_ratio\n",
    "cm_ratio(cm)"
   ]
  },
  {
   "cell_type": "code",
   "execution_count": 45,
   "metadata": {},
   "outputs": [
    {
     "data": {
      "text/plain": [
       "array([14544,   942,    32,    22], dtype=int64)"
      ]
     },
     "execution_count": 45,
     "metadata": {},
     "output_type": "execute_result"
    }
   ],
   "source": [
    "cm.ravel()"
   ]
  },
  {
   "cell_type": "code",
   "execution_count": 46,
   "metadata": {},
   "outputs": [
    {
     "ename": "FileNotFoundError",
     "evalue": "[Errno 2] No such file or directory: '../data/viz_data/enriched_time_opt_p180_bg_/time_2018-02-20_p180_bg__RandomForestClassifier_190721_239_viz.pkl'",
     "output_type": "error",
     "traceback": [
      "\u001b[1;31m---------------------------------------------------------------------------\u001b[0m",
      "\u001b[1;31mFileNotFoundError\u001b[0m                         Traceback (most recent call last)",
      "\u001b[1;32mC:\\ProgramData\\Anaconda3\\envs\\thesis_mlflow\\lib\\site-packages\\pandas\\io\\pickle.py\u001b[0m in \u001b[0;36mtry_read\u001b[1;34m(path, encoding)\u001b[0m\n\u001b[0;32m    165\u001b[0m                 \u001b[0mwarnings\u001b[0m\u001b[1;33m.\u001b[0m\u001b[0msimplefilter\u001b[0m\u001b[1;33m(\u001b[0m\u001b[1;34m\"ignore\"\u001b[0m\u001b[1;33m,\u001b[0m \u001b[0mWarning\u001b[0m\u001b[1;33m)\u001b[0m\u001b[1;33m\u001b[0m\u001b[1;33m\u001b[0m\u001b[0m\n\u001b[1;32m--> 166\u001b[1;33m                 \u001b[1;32mreturn\u001b[0m \u001b[0mread_wrapper\u001b[0m\u001b[1;33m(\u001b[0m\u001b[1;32mlambda\u001b[0m \u001b[0mf\u001b[0m\u001b[1;33m:\u001b[0m \u001b[0mpkl\u001b[0m\u001b[1;33m.\u001b[0m\u001b[0mload\u001b[0m\u001b[1;33m(\u001b[0m\u001b[0mf\u001b[0m\u001b[1;33m)\u001b[0m\u001b[1;33m)\u001b[0m\u001b[1;33m\u001b[0m\u001b[1;33m\u001b[0m\u001b[0m\n\u001b[0m\u001b[0;32m    167\u001b[0m         \u001b[1;32mexcept\u001b[0m \u001b[0mException\u001b[0m\u001b[1;33m:\u001b[0m  \u001b[1;31m# noqa: E722\u001b[0m\u001b[1;33m\u001b[0m\u001b[1;33m\u001b[0m\u001b[0m\n",
      "\u001b[1;32mC:\\ProgramData\\Anaconda3\\envs\\thesis_mlflow\\lib\\site-packages\\pandas\\io\\pickle.py\u001b[0m in \u001b[0;36mread_wrapper\u001b[1;34m(func)\u001b[0m\n\u001b[0;32m    145\u001b[0m                             \u001b[0mcompression\u001b[0m\u001b[1;33m=\u001b[0m\u001b[0mcompression\u001b[0m\u001b[1;33m,\u001b[0m\u001b[1;33m\u001b[0m\u001b[1;33m\u001b[0m\u001b[0m\n\u001b[1;32m--> 146\u001b[1;33m                             is_text=False)\n\u001b[0m\u001b[0;32m    147\u001b[0m         \u001b[1;32mtry\u001b[0m\u001b[1;33m:\u001b[0m\u001b[1;33m\u001b[0m\u001b[1;33m\u001b[0m\u001b[0m\n",
      "\u001b[1;32mC:\\ProgramData\\Anaconda3\\envs\\thesis_mlflow\\lib\\site-packages\\pandas\\io\\common.py\u001b[0m in \u001b[0;36m_get_handle\u001b[1;34m(path_or_buf, mode, encoding, compression, memory_map, is_text)\u001b[0m\n\u001b[0;32m    429\u001b[0m             \u001b[1;31m# Python 3 and binary mode\u001b[0m\u001b[1;33m\u001b[0m\u001b[1;33m\u001b[0m\u001b[1;33m\u001b[0m\u001b[0m\n\u001b[1;32m--> 430\u001b[1;33m             \u001b[0mf\u001b[0m \u001b[1;33m=\u001b[0m \u001b[0mopen\u001b[0m\u001b[1;33m(\u001b[0m\u001b[0mpath_or_buf\u001b[0m\u001b[1;33m,\u001b[0m \u001b[0mmode\u001b[0m\u001b[1;33m)\u001b[0m\u001b[1;33m\u001b[0m\u001b[1;33m\u001b[0m\u001b[0m\n\u001b[0m\u001b[0;32m    431\u001b[0m         \u001b[0mhandles\u001b[0m\u001b[1;33m.\u001b[0m\u001b[0mappend\u001b[0m\u001b[1;33m(\u001b[0m\u001b[0mf\u001b[0m\u001b[1;33m)\u001b[0m\u001b[1;33m\u001b[0m\u001b[1;33m\u001b[0m\u001b[0m\n",
      "\u001b[1;31mFileNotFoundError\u001b[0m: [Errno 2] No such file or directory: '../data/viz_data/enriched_time_opt_p180_bg_/time_2018-02-20_p180_bg__RandomForestClassifier_190721_239_viz.pkl'",
      "\nDuring handling of the above exception, another exception occurred:\n",
      "\u001b[1;31mFileNotFoundError\u001b[0m                         Traceback (most recent call last)",
      "\u001b[1;32mC:\\ProgramData\\Anaconda3\\envs\\thesis_mlflow\\lib\\site-packages\\pandas\\io\\pickle.py\u001b[0m in \u001b[0;36mtry_read\u001b[1;34m(path, encoding)\u001b[0m\n\u001b[0;32m    172\u001b[0m                 return read_wrapper(\n\u001b[1;32m--> 173\u001b[1;33m                     lambda f: pc.load(f, encoding=encoding, compat=False))\n\u001b[0m\u001b[0;32m    174\u001b[0m             \u001b[1;31m# compat pickle\u001b[0m\u001b[1;33m\u001b[0m\u001b[1;33m\u001b[0m\u001b[1;33m\u001b[0m\u001b[0m\n",
      "\u001b[1;32mC:\\ProgramData\\Anaconda3\\envs\\thesis_mlflow\\lib\\site-packages\\pandas\\io\\pickle.py\u001b[0m in \u001b[0;36mread_wrapper\u001b[1;34m(func)\u001b[0m\n\u001b[0;32m    145\u001b[0m                             \u001b[0mcompression\u001b[0m\u001b[1;33m=\u001b[0m\u001b[0mcompression\u001b[0m\u001b[1;33m,\u001b[0m\u001b[1;33m\u001b[0m\u001b[1;33m\u001b[0m\u001b[0m\n\u001b[1;32m--> 146\u001b[1;33m                             is_text=False)\n\u001b[0m\u001b[0;32m    147\u001b[0m         \u001b[1;32mtry\u001b[0m\u001b[1;33m:\u001b[0m\u001b[1;33m\u001b[0m\u001b[1;33m\u001b[0m\u001b[0m\n",
      "\u001b[1;32mC:\\ProgramData\\Anaconda3\\envs\\thesis_mlflow\\lib\\site-packages\\pandas\\io\\common.py\u001b[0m in \u001b[0;36m_get_handle\u001b[1;34m(path_or_buf, mode, encoding, compression, memory_map, is_text)\u001b[0m\n\u001b[0;32m    429\u001b[0m             \u001b[1;31m# Python 3 and binary mode\u001b[0m\u001b[1;33m\u001b[0m\u001b[1;33m\u001b[0m\u001b[1;33m\u001b[0m\u001b[0m\n\u001b[1;32m--> 430\u001b[1;33m             \u001b[0mf\u001b[0m \u001b[1;33m=\u001b[0m \u001b[0mopen\u001b[0m\u001b[1;33m(\u001b[0m\u001b[0mpath_or_buf\u001b[0m\u001b[1;33m,\u001b[0m \u001b[0mmode\u001b[0m\u001b[1;33m)\u001b[0m\u001b[1;33m\u001b[0m\u001b[1;33m\u001b[0m\u001b[0m\n\u001b[0m\u001b[0;32m    431\u001b[0m         \u001b[0mhandles\u001b[0m\u001b[1;33m.\u001b[0m\u001b[0mappend\u001b[0m\u001b[1;33m(\u001b[0m\u001b[0mf\u001b[0m\u001b[1;33m)\u001b[0m\u001b[1;33m\u001b[0m\u001b[1;33m\u001b[0m\u001b[0m\n",
      "\u001b[1;31mFileNotFoundError\u001b[0m: [Errno 2] No such file or directory: '../data/viz_data/enriched_time_opt_p180_bg_/time_2018-02-20_p180_bg__RandomForestClassifier_190721_239_viz.pkl'",
      "\nDuring handling of the above exception, another exception occurred:\n",
      "\u001b[1;31mFileNotFoundError\u001b[0m                         Traceback (most recent call last)",
      "\u001b[1;32mC:\\ProgramData\\Anaconda3\\envs\\thesis_mlflow\\lib\\site-packages\\pandas\\io\\pickle.py\u001b[0m in \u001b[0;36mread_pickle\u001b[1;34m(path, compression)\u001b[0m\n\u001b[0;32m    178\u001b[0m     \u001b[1;32mtry\u001b[0m\u001b[1;33m:\u001b[0m\u001b[1;33m\u001b[0m\u001b[1;33m\u001b[0m\u001b[0m\n\u001b[1;32m--> 179\u001b[1;33m         \u001b[1;32mreturn\u001b[0m \u001b[0mtry_read\u001b[0m\u001b[1;33m(\u001b[0m\u001b[0mpath\u001b[0m\u001b[1;33m)\u001b[0m\u001b[1;33m\u001b[0m\u001b[1;33m\u001b[0m\u001b[0m\n\u001b[0m\u001b[0;32m    180\u001b[0m     \u001b[1;32mexcept\u001b[0m \u001b[0mException\u001b[0m\u001b[1;33m:\u001b[0m  \u001b[1;31m# noqa: E722\u001b[0m\u001b[1;33m\u001b[0m\u001b[1;33m\u001b[0m\u001b[0m\n",
      "\u001b[1;32mC:\\ProgramData\\Anaconda3\\envs\\thesis_mlflow\\lib\\site-packages\\pandas\\io\\pickle.py\u001b[0m in \u001b[0;36mtry_read\u001b[1;34m(path, encoding)\u001b[0m\n\u001b[0;32m    176\u001b[0m                 return read_wrapper(\n\u001b[1;32m--> 177\u001b[1;33m                     lambda f: pc.load(f, encoding=encoding, compat=True))\n\u001b[0m\u001b[0;32m    178\u001b[0m     \u001b[1;32mtry\u001b[0m\u001b[1;33m:\u001b[0m\u001b[1;33m\u001b[0m\u001b[1;33m\u001b[0m\u001b[0m\n",
      "\u001b[1;32mC:\\ProgramData\\Anaconda3\\envs\\thesis_mlflow\\lib\\site-packages\\pandas\\io\\pickle.py\u001b[0m in \u001b[0;36mread_wrapper\u001b[1;34m(func)\u001b[0m\n\u001b[0;32m    145\u001b[0m                             \u001b[0mcompression\u001b[0m\u001b[1;33m=\u001b[0m\u001b[0mcompression\u001b[0m\u001b[1;33m,\u001b[0m\u001b[1;33m\u001b[0m\u001b[1;33m\u001b[0m\u001b[0m\n\u001b[1;32m--> 146\u001b[1;33m                             is_text=False)\n\u001b[0m\u001b[0;32m    147\u001b[0m         \u001b[1;32mtry\u001b[0m\u001b[1;33m:\u001b[0m\u001b[1;33m\u001b[0m\u001b[1;33m\u001b[0m\u001b[0m\n",
      "\u001b[1;32mC:\\ProgramData\\Anaconda3\\envs\\thesis_mlflow\\lib\\site-packages\\pandas\\io\\common.py\u001b[0m in \u001b[0;36m_get_handle\u001b[1;34m(path_or_buf, mode, encoding, compression, memory_map, is_text)\u001b[0m\n\u001b[0;32m    429\u001b[0m             \u001b[1;31m# Python 3 and binary mode\u001b[0m\u001b[1;33m\u001b[0m\u001b[1;33m\u001b[0m\u001b[1;33m\u001b[0m\u001b[0m\n\u001b[1;32m--> 430\u001b[1;33m             \u001b[0mf\u001b[0m \u001b[1;33m=\u001b[0m \u001b[0mopen\u001b[0m\u001b[1;33m(\u001b[0m\u001b[0mpath_or_buf\u001b[0m\u001b[1;33m,\u001b[0m \u001b[0mmode\u001b[0m\u001b[1;33m)\u001b[0m\u001b[1;33m\u001b[0m\u001b[1;33m\u001b[0m\u001b[0m\n\u001b[0m\u001b[0;32m    431\u001b[0m         \u001b[0mhandles\u001b[0m\u001b[1;33m.\u001b[0m\u001b[0mappend\u001b[0m\u001b[1;33m(\u001b[0m\u001b[0mf\u001b[0m\u001b[1;33m)\u001b[0m\u001b[1;33m\u001b[0m\u001b[1;33m\u001b[0m\u001b[0m\n",
      "\u001b[1;31mFileNotFoundError\u001b[0m: [Errno 2] No such file or directory: '../data/viz_data/enriched_time_opt_p180_bg_/time_2018-02-20_p180_bg__RandomForestClassifier_190721_239_viz.pkl'",
      "\nDuring handling of the above exception, another exception occurred:\n",
      "\u001b[1;31mFileNotFoundError\u001b[0m                         Traceback (most recent call last)",
      "\u001b[1;32mC:\\ProgramData\\Anaconda3\\envs\\thesis_mlflow\\lib\\site-packages\\pandas\\io\\pickle.py\u001b[0m in \u001b[0;36mtry_read\u001b[1;34m(path, encoding)\u001b[0m\n\u001b[0;32m    165\u001b[0m                 \u001b[0mwarnings\u001b[0m\u001b[1;33m.\u001b[0m\u001b[0msimplefilter\u001b[0m\u001b[1;33m(\u001b[0m\u001b[1;34m\"ignore\"\u001b[0m\u001b[1;33m,\u001b[0m \u001b[0mWarning\u001b[0m\u001b[1;33m)\u001b[0m\u001b[1;33m\u001b[0m\u001b[1;33m\u001b[0m\u001b[0m\n\u001b[1;32m--> 166\u001b[1;33m                 \u001b[1;32mreturn\u001b[0m \u001b[0mread_wrapper\u001b[0m\u001b[1;33m(\u001b[0m\u001b[1;32mlambda\u001b[0m \u001b[0mf\u001b[0m\u001b[1;33m:\u001b[0m \u001b[0mpkl\u001b[0m\u001b[1;33m.\u001b[0m\u001b[0mload\u001b[0m\u001b[1;33m(\u001b[0m\u001b[0mf\u001b[0m\u001b[1;33m)\u001b[0m\u001b[1;33m)\u001b[0m\u001b[1;33m\u001b[0m\u001b[1;33m\u001b[0m\u001b[0m\n\u001b[0m\u001b[0;32m    167\u001b[0m         \u001b[1;32mexcept\u001b[0m \u001b[0mException\u001b[0m\u001b[1;33m:\u001b[0m  \u001b[1;31m# noqa: E722\u001b[0m\u001b[1;33m\u001b[0m\u001b[1;33m\u001b[0m\u001b[0m\n",
      "\u001b[1;32mC:\\ProgramData\\Anaconda3\\envs\\thesis_mlflow\\lib\\site-packages\\pandas\\io\\pickle.py\u001b[0m in \u001b[0;36mread_wrapper\u001b[1;34m(func)\u001b[0m\n\u001b[0;32m    145\u001b[0m                             \u001b[0mcompression\u001b[0m\u001b[1;33m=\u001b[0m\u001b[0mcompression\u001b[0m\u001b[1;33m,\u001b[0m\u001b[1;33m\u001b[0m\u001b[1;33m\u001b[0m\u001b[0m\n\u001b[1;32m--> 146\u001b[1;33m                             is_text=False)\n\u001b[0m\u001b[0;32m    147\u001b[0m         \u001b[1;32mtry\u001b[0m\u001b[1;33m:\u001b[0m\u001b[1;33m\u001b[0m\u001b[1;33m\u001b[0m\u001b[0m\n",
      "\u001b[1;32mC:\\ProgramData\\Anaconda3\\envs\\thesis_mlflow\\lib\\site-packages\\pandas\\io\\common.py\u001b[0m in \u001b[0;36m_get_handle\u001b[1;34m(path_or_buf, mode, encoding, compression, memory_map, is_text)\u001b[0m\n\u001b[0;32m    429\u001b[0m             \u001b[1;31m# Python 3 and binary mode\u001b[0m\u001b[1;33m\u001b[0m\u001b[1;33m\u001b[0m\u001b[1;33m\u001b[0m\u001b[0m\n\u001b[1;32m--> 430\u001b[1;33m             \u001b[0mf\u001b[0m \u001b[1;33m=\u001b[0m \u001b[0mopen\u001b[0m\u001b[1;33m(\u001b[0m\u001b[0mpath_or_buf\u001b[0m\u001b[1;33m,\u001b[0m \u001b[0mmode\u001b[0m\u001b[1;33m)\u001b[0m\u001b[1;33m\u001b[0m\u001b[1;33m\u001b[0m\u001b[0m\n\u001b[0m\u001b[0;32m    431\u001b[0m         \u001b[0mhandles\u001b[0m\u001b[1;33m.\u001b[0m\u001b[0mappend\u001b[0m\u001b[1;33m(\u001b[0m\u001b[0mf\u001b[0m\u001b[1;33m)\u001b[0m\u001b[1;33m\u001b[0m\u001b[1;33m\u001b[0m\u001b[0m\n",
      "\u001b[1;31mFileNotFoundError\u001b[0m: [Errno 2] No such file or directory: '../data/viz_data/enriched_time_opt_p180_bg_/time_2018-02-20_p180_bg__RandomForestClassifier_190721_239_viz.pkl'",
      "\nDuring handling of the above exception, another exception occurred:\n",
      "\u001b[1;31mFileNotFoundError\u001b[0m                         Traceback (most recent call last)",
      "\u001b[1;32mC:\\ProgramData\\Anaconda3\\envs\\thesis_mlflow\\lib\\site-packages\\pandas\\io\\pickle.py\u001b[0m in \u001b[0;36mtry_read\u001b[1;34m(path, encoding)\u001b[0m\n\u001b[0;32m    172\u001b[0m                 return read_wrapper(\n\u001b[1;32m--> 173\u001b[1;33m                     lambda f: pc.load(f, encoding=encoding, compat=False))\n\u001b[0m\u001b[0;32m    174\u001b[0m             \u001b[1;31m# compat pickle\u001b[0m\u001b[1;33m\u001b[0m\u001b[1;33m\u001b[0m\u001b[1;33m\u001b[0m\u001b[0m\n",
      "\u001b[1;32mC:\\ProgramData\\Anaconda3\\envs\\thesis_mlflow\\lib\\site-packages\\pandas\\io\\pickle.py\u001b[0m in \u001b[0;36mread_wrapper\u001b[1;34m(func)\u001b[0m\n\u001b[0;32m    145\u001b[0m                             \u001b[0mcompression\u001b[0m\u001b[1;33m=\u001b[0m\u001b[0mcompression\u001b[0m\u001b[1;33m,\u001b[0m\u001b[1;33m\u001b[0m\u001b[1;33m\u001b[0m\u001b[0m\n\u001b[1;32m--> 146\u001b[1;33m                             is_text=False)\n\u001b[0m\u001b[0;32m    147\u001b[0m         \u001b[1;32mtry\u001b[0m\u001b[1;33m:\u001b[0m\u001b[1;33m\u001b[0m\u001b[1;33m\u001b[0m\u001b[0m\n",
      "\u001b[1;32mC:\\ProgramData\\Anaconda3\\envs\\thesis_mlflow\\lib\\site-packages\\pandas\\io\\common.py\u001b[0m in \u001b[0;36m_get_handle\u001b[1;34m(path_or_buf, mode, encoding, compression, memory_map, is_text)\u001b[0m\n\u001b[0;32m    429\u001b[0m             \u001b[1;31m# Python 3 and binary mode\u001b[0m\u001b[1;33m\u001b[0m\u001b[1;33m\u001b[0m\u001b[1;33m\u001b[0m\u001b[0m\n\u001b[1;32m--> 430\u001b[1;33m             \u001b[0mf\u001b[0m \u001b[1;33m=\u001b[0m \u001b[0mopen\u001b[0m\u001b[1;33m(\u001b[0m\u001b[0mpath_or_buf\u001b[0m\u001b[1;33m,\u001b[0m \u001b[0mmode\u001b[0m\u001b[1;33m)\u001b[0m\u001b[1;33m\u001b[0m\u001b[1;33m\u001b[0m\u001b[0m\n\u001b[0m\u001b[0;32m    431\u001b[0m         \u001b[0mhandles\u001b[0m\u001b[1;33m.\u001b[0m\u001b[0mappend\u001b[0m\u001b[1;33m(\u001b[0m\u001b[0mf\u001b[0m\u001b[1;33m)\u001b[0m\u001b[1;33m\u001b[0m\u001b[1;33m\u001b[0m\u001b[0m\n",
      "\u001b[1;31mFileNotFoundError\u001b[0m: [Errno 2] No such file or directory: '../data/viz_data/enriched_time_opt_p180_bg_/time_2018-02-20_p180_bg__RandomForestClassifier_190721_239_viz.pkl'",
      "\nDuring handling of the above exception, another exception occurred:\n",
      "\u001b[1;31mFileNotFoundError\u001b[0m                         Traceback (most recent call last)",
      "\u001b[1;32m<ipython-input-46-e27e7aaad1cc>\u001b[0m in \u001b[0;36m<module>\u001b[1;34m\u001b[0m\n\u001b[0;32m      2\u001b[0m \u001b[0mfilename\u001b[0m \u001b[1;33m=\u001b[0m \u001b[1;34m'time_2018-02-20_p180_bg__RandomForestClassifier_190721_239_viz.pkl'\u001b[0m\u001b[1;33m\u001b[0m\u001b[1;33m\u001b[0m\u001b[0m\n\u001b[0;32m      3\u001b[0m \u001b[1;33m\u001b[0m\u001b[0m\n\u001b[1;32m----> 4\u001b[1;33m \u001b[0mres\u001b[0m \u001b[1;33m=\u001b[0m \u001b[0mpd\u001b[0m\u001b[1;33m.\u001b[0m\u001b[0mread_pickle\u001b[0m\u001b[1;33m(\u001b[0m\u001b[0mresults_folder\u001b[0m\u001b[1;33m+\u001b[0m\u001b[0mfilename\u001b[0m\u001b[1;33m)\u001b[0m\u001b[1;33m\u001b[0m\u001b[1;33m\u001b[0m\u001b[0m\n\u001b[0m\u001b[0;32m      5\u001b[0m \u001b[0mres\u001b[0m\u001b[1;33m[\u001b[0m\u001b[1;34m'RandomForestClassifier_time_2018-02-20_p180_bg_testing'\u001b[0m\u001b[1;33m]\u001b[0m\u001b[1;33m\u001b[0m\u001b[1;33m\u001b[0m\u001b[0m\n",
      "\u001b[1;32mC:\\ProgramData\\Anaconda3\\envs\\thesis_mlflow\\lib\\site-packages\\pandas\\io\\pickle.py\u001b[0m in \u001b[0;36mread_pickle\u001b[1;34m(path, compression)\u001b[0m\n\u001b[0;32m    180\u001b[0m     \u001b[1;32mexcept\u001b[0m \u001b[0mException\u001b[0m\u001b[1;33m:\u001b[0m  \u001b[1;31m# noqa: E722\u001b[0m\u001b[1;33m\u001b[0m\u001b[1;33m\u001b[0m\u001b[0m\n\u001b[0;32m    181\u001b[0m         \u001b[1;32mif\u001b[0m \u001b[0mPY3\u001b[0m\u001b[1;33m:\u001b[0m\u001b[1;33m\u001b[0m\u001b[1;33m\u001b[0m\u001b[0m\n\u001b[1;32m--> 182\u001b[1;33m             \u001b[1;32mreturn\u001b[0m \u001b[0mtry_read\u001b[0m\u001b[1;33m(\u001b[0m\u001b[0mpath\u001b[0m\u001b[1;33m,\u001b[0m \u001b[0mencoding\u001b[0m\u001b[1;33m=\u001b[0m\u001b[1;34m'latin1'\u001b[0m\u001b[1;33m)\u001b[0m\u001b[1;33m\u001b[0m\u001b[1;33m\u001b[0m\u001b[0m\n\u001b[0m\u001b[0;32m    183\u001b[0m         \u001b[1;32mraise\u001b[0m\u001b[1;33m\u001b[0m\u001b[1;33m\u001b[0m\u001b[0m\n\u001b[0;32m    184\u001b[0m \u001b[1;33m\u001b[0m\u001b[0m\n",
      "\u001b[1;32mC:\\ProgramData\\Anaconda3\\envs\\thesis_mlflow\\lib\\site-packages\\pandas\\io\\pickle.py\u001b[0m in \u001b[0;36mtry_read\u001b[1;34m(path, encoding)\u001b[0m\n\u001b[0;32m    175\u001b[0m             \u001b[1;32mexcept\u001b[0m \u001b[0mException\u001b[0m\u001b[1;33m:\u001b[0m  \u001b[1;31m# noqa: E722\u001b[0m\u001b[1;33m\u001b[0m\u001b[1;33m\u001b[0m\u001b[0m\n\u001b[0;32m    176\u001b[0m                 return read_wrapper(\n\u001b[1;32m--> 177\u001b[1;33m                     lambda f: pc.load(f, encoding=encoding, compat=True))\n\u001b[0m\u001b[0;32m    178\u001b[0m     \u001b[1;32mtry\u001b[0m\u001b[1;33m:\u001b[0m\u001b[1;33m\u001b[0m\u001b[1;33m\u001b[0m\u001b[0m\n\u001b[0;32m    179\u001b[0m         \u001b[1;32mreturn\u001b[0m \u001b[0mtry_read\u001b[0m\u001b[1;33m(\u001b[0m\u001b[0mpath\u001b[0m\u001b[1;33m)\u001b[0m\u001b[1;33m\u001b[0m\u001b[1;33m\u001b[0m\u001b[0m\n",
      "\u001b[1;32mC:\\ProgramData\\Anaconda3\\envs\\thesis_mlflow\\lib\\site-packages\\pandas\\io\\pickle.py\u001b[0m in \u001b[0;36mread_wrapper\u001b[1;34m(func)\u001b[0m\n\u001b[0;32m    144\u001b[0m         f, fh = _get_handle(path, 'rb',\n\u001b[0;32m    145\u001b[0m                             \u001b[0mcompression\u001b[0m\u001b[1;33m=\u001b[0m\u001b[0mcompression\u001b[0m\u001b[1;33m,\u001b[0m\u001b[1;33m\u001b[0m\u001b[1;33m\u001b[0m\u001b[0m\n\u001b[1;32m--> 146\u001b[1;33m                             is_text=False)\n\u001b[0m\u001b[0;32m    147\u001b[0m         \u001b[1;32mtry\u001b[0m\u001b[1;33m:\u001b[0m\u001b[1;33m\u001b[0m\u001b[1;33m\u001b[0m\u001b[0m\n\u001b[0;32m    148\u001b[0m             \u001b[1;32mreturn\u001b[0m \u001b[0mfunc\u001b[0m\u001b[1;33m(\u001b[0m\u001b[0mf\u001b[0m\u001b[1;33m)\u001b[0m\u001b[1;33m\u001b[0m\u001b[1;33m\u001b[0m\u001b[0m\n",
      "\u001b[1;32mC:\\ProgramData\\Anaconda3\\envs\\thesis_mlflow\\lib\\site-packages\\pandas\\io\\common.py\u001b[0m in \u001b[0;36m_get_handle\u001b[1;34m(path_or_buf, mode, encoding, compression, memory_map, is_text)\u001b[0m\n\u001b[0;32m    428\u001b[0m         \u001b[1;32melse\u001b[0m\u001b[1;33m:\u001b[0m\u001b[1;33m\u001b[0m\u001b[1;33m\u001b[0m\u001b[0m\n\u001b[0;32m    429\u001b[0m             \u001b[1;31m# Python 3 and binary mode\u001b[0m\u001b[1;33m\u001b[0m\u001b[1;33m\u001b[0m\u001b[1;33m\u001b[0m\u001b[0m\n\u001b[1;32m--> 430\u001b[1;33m             \u001b[0mf\u001b[0m \u001b[1;33m=\u001b[0m \u001b[0mopen\u001b[0m\u001b[1;33m(\u001b[0m\u001b[0mpath_or_buf\u001b[0m\u001b[1;33m,\u001b[0m \u001b[0mmode\u001b[0m\u001b[1;33m)\u001b[0m\u001b[1;33m\u001b[0m\u001b[1;33m\u001b[0m\u001b[0m\n\u001b[0m\u001b[0;32m    431\u001b[0m         \u001b[0mhandles\u001b[0m\u001b[1;33m.\u001b[0m\u001b[0mappend\u001b[0m\u001b[1;33m(\u001b[0m\u001b[0mf\u001b[0m\u001b[1;33m)\u001b[0m\u001b[1;33m\u001b[0m\u001b[1;33m\u001b[0m\u001b[0m\n\u001b[0;32m    432\u001b[0m \u001b[1;33m\u001b[0m\u001b[0m\n",
      "\u001b[1;31mFileNotFoundError\u001b[0m: [Errno 2] No such file or directory: '../data/viz_data/enriched_time_opt_p180_bg_/time_2018-02-20_p180_bg__RandomForestClassifier_190721_239_viz.pkl'"
     ]
    }
   ],
   "source": [
    "results_folder = '../data/viz_data/enriched_time_opt_p180_bg_/'\n",
    "filename = 'time_2018-02-20_p180_bg__RandomForestClassifier_190721_239_viz.pkl'\n",
    "\n",
    "res = pd.read_pickle(results_folder+filename)\n",
    "res['RandomForestClassifier_time_2018-02-20_p180_bg_testing']"
   ]
  },
  {
   "cell_type": "code",
   "execution_count": null,
   "metadata": {},
   "outputs": [],
   "source": []
  }
 ],
 "metadata": {
  "kernelspec": {
   "display_name": "Python 3",
   "language": "python",
   "name": "python3"
  },
  "language_info": {
   "codemirror_mode": {
    "name": "ipython",
    "version": 3
   },
   "file_extension": ".py",
   "mimetype": "text/x-python",
   "name": "python",
   "nbconvert_exporter": "python",
   "pygments_lexer": "ipython3",
   "version": "3.6.8"
  }
 },
 "nbformat": 4,
 "nbformat_minor": 2
}

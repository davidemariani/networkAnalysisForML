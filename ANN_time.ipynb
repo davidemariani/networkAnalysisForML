{
 "cells": [
  {
   "cell_type": "code",
   "execution_count": 1,
   "metadata": {},
   "outputs": [
    {
     "name": "stderr",
     "output_type": "stream",
     "text": [
      "Using TensorFlow backend.\n"
     ]
    }
   ],
   "source": [
    "import numpy as np\n",
    "import pandas as pd\n",
    "import seaborn as sns\n",
    "import matplotlib.pyplot as plt\n",
    "import math\n",
    "\n",
    "# Import TensorFlow\n",
    "import tensorflow as tf\n",
    "from tensorflow.keras.regularizers import l1, l2\n",
    "from tensorflow.keras.optimizers import RMSprop, Adam\n",
    "\n",
    "from ann_utils import *"
   ]
  },
  {
   "cell_type": "code",
   "execution_count": 2,
   "metadata": {},
   "outputs": [],
   "source": [
    "preproc_folder = \"enriched_time\"\n",
    "datafolder = \"../data/preproc_traintest/\"+preproc_folder+'/'\n",
    "output_path = \"../data/models/\"\n",
    "\n",
    "prefix = 'time_2018-02-20_p180_bg_'\n",
    "postfix = '_190721_170'\n",
    "trainfile = '_traindata'\n",
    "testfile = '_testdata'\n",
    "\n",
    "[X_train, y_train, feature_labels] = pd.read_pickle(datafolder+prefix+trainfile+postfix+'.pkl') \n",
    "[X_test, y_test, feature_labels] = pd.read_pickle(datafolder+prefix+testfile+postfix+'.pkl') "
   ]
  },
  {
   "cell_type": "code",
   "execution_count": 3,
   "metadata": {},
   "outputs": [
    {
     "data": {
      "text/plain": [
       "35"
      ]
     },
     "execution_count": 3,
     "metadata": {},
     "output_type": "execute_result"
    }
   ],
   "source": [
    "len(feature_labels)"
   ]
  },
  {
   "cell_type": "code",
   "execution_count": 4,
   "metadata": {},
   "outputs": [],
   "source": [
    "#settings for mlp architecture\n",
    "#input_shape = len(feature_labels)\n",
    "#hidden_layers_no=2 \n",
    "#hidden_nodes=[20,5] \n",
    "#hl_activations=[tf.nn.relu]*2 \n",
    "#optimizer=Adam()\n",
    "#loss_func='binary_crossentropy'\n",
    "#metrics=['accuracy',tf.keras.metrics.AUC(),\n",
    "#                                 tf.keras.metrics.Precision(), tf.keras.metrics.Recall()]\n",
    "#dropout = [0.5]*2\n",
    "\n",
    "#mlp = create_mlp_model(input_shape=input_shape, \n",
    "#                       hidden_layers=hidden_layers,\n",
    "#                       hidden_nodes=hidden_nodes, \n",
    "#                       hl_activations=hl_activations,                                        \n",
    "#                       optimizer = optimizer,\n",
    "#                       loss_func=loss_func,\n",
    "#                      #kernel_regularizers = [l2(0.001)]*3,\n",
    "#                       dropout = dropout,\n",
    "#                      metrics = metrics)\n",
    "\n",
    "#settings for fitting the model\n",
    "#to_monitor = 'auc'+mlp.name.split('sequential')[-1]\n",
    "#DISABLED early_stopping = TerminateOnBaseline(monitor=to_monitor #keep track of the model name adding the postfix to the metric to monitor\n",
    "#                                     , baseline=0.93)\n",
    "#batch_size = 256\n",
    "#epochs=150\n",
    "#class_1_weight = 10\n",
    "\n",
    "#creating validation data\n",
    "#validation_size = 20000\n",
    "\n",
    "#Shuffle set to true"
   ]
  },
  {
   "cell_type": "code",
   "execution_count": 5,
   "metadata": {},
   "outputs": [
    {
     "name": "stdout",
     "output_type": "stream",
     "text": [
      "Model: \"sequential\"\n",
      "_________________________________________________________________\n",
      "Layer (type)                 Output Shape              Param #   \n",
      "=================================================================\n",
      "dense (Dense)                (None, 80)                2880      \n",
      "_________________________________________________________________\n",
      "dropout (Dropout)            (None, 80)                0         \n",
      "_________________________________________________________________\n",
      "dense_1 (Dense)              (None, 60)                4860      \n",
      "_________________________________________________________________\n",
      "dropout_1 (Dropout)          (None, 60)                0         \n",
      "_________________________________________________________________\n",
      "dense_2 (Dense)              (None, 40)                2440      \n",
      "_________________________________________________________________\n",
      "dropout_2 (Dropout)          (None, 40)                0         \n",
      "_________________________________________________________________\n",
      "dense_3 (Dense)              (None, 20)                820       \n",
      "_________________________________________________________________\n",
      "dropout_3 (Dropout)          (None, 20)                0         \n",
      "_________________________________________________________________\n",
      "dense_4 (Dense)              (None, 10)                210       \n",
      "_________________________________________________________________\n",
      "dropout_4 (Dropout)          (None, 10)                0         \n",
      "_________________________________________________________________\n",
      "dense_5 (Dense)              (None, 1)                 11        \n",
      "=================================================================\n",
      "Total params: 11,221\n",
      "Trainable params: 11,221\n",
      "Non-trainable params: 0\n",
      "_________________________________________________________________\n",
      "None\n"
     ]
    }
   ],
   "source": [
    "#settings for mlp architecture\n",
    "input_shape = len(feature_labels)\n",
    "hidden_layers_no=5 \n",
    "hidden_nodes=[80,60,40,20,10] \n",
    "hl_activations=[tf.nn.relu]*5 \n",
    "optimizer=Adam()\n",
    "loss_func='binary_crossentropy'\n",
    "metrics=['accuracy',tf.keras.metrics.AUC(),\n",
    "                                 tf.keras.metrics.Precision(), tf.keras.metrics.Recall()]\n",
    "dropout = [0.6]*5\n",
    "\n",
    "mlp = create_mlp_model(input_shape=input_shape, \n",
    "                       hidden_layers_no=hidden_layers_no,\n",
    "                       hidden_nodes=hidden_nodes, \n",
    "                       hl_activations=hl_activations,                                        \n",
    "                       optimizer = optimizer,\n",
    "                       loss_func=loss_func,\n",
    "                      #kernel_regularizers = [l2(0.001)]*3,\n",
    "                       dropout = dropout,\n",
    "                      metrics = metrics)\n",
    "\n",
    "#settings for fitting the model\n",
    "to_monitor = 'accuracy' #+mlp.name.split('sequential')[-1]\n",
    "early_stopping = TerminateOnBaseline(monitor=to_monitor #keep track of the model name adding the postfix to the metric to monitor\n",
    "                                     , baseline=0.88)\n",
    "batch_size = 256\n",
    "epochs=150\n",
    "class_1_weight = 10\n",
    "\n",
    "#creating validation data\n",
    "validation_size = 5000"
   ]
  },
  {
   "cell_type": "code",
   "execution_count": 6,
   "metadata": {},
   "outputs": [
    {
     "data": {
      "text/plain": [
       "(42079, 35)"
      ]
     },
     "execution_count": 6,
     "metadata": {},
     "output_type": "execute_result"
    }
   ],
   "source": [
    "X_train.shape"
   ]
  },
  {
   "cell_type": "code",
   "execution_count": 7,
   "metadata": {},
   "outputs": [
    {
     "name": "stdout",
     "output_type": "stream",
     "text": [
      "Epoch 1/150\n",
      "165/165 [==============================] - 24s 147ms/step - loss: 1.3150 - accuracy: 0.3082 - auc: 0.5242 - precision_1: 0.0954 - recall_1: 0.7679 - val_loss: 0.7110 - val_accuracy: 0.0516 - val_auc: 0.5032 - val_precision_1: 0.0267 - val_recall_1: 0.9924\n",
      "Epoch 2/150\n",
      "165/165 [==============================] - 24s 144ms/step - loss: 1.0968 - accuracy: 0.5535 - auc: 0.7545 - precision_1: 0.1515 - recall_1: 0.8361 - val_loss: 0.2173 - val_accuracy: 0.9384 - val_auc: 0.4872 - val_precision_1: 0.0000e+00 - val_recall_1: 0.0000e+00\n",
      "Epoch 3/150\n",
      "165/165 [==============================] - 25s 149ms/step - loss: 0.8127 - accuracy: 0.7703 - auc: 0.8890 - precision_1: 0.2724 - recall_1: 0.8935 - val_loss: 0.4599 - val_accuracy: 0.9732 - val_auc: 0.4587 - val_precision_1: 0.0000e+00 - val_recall_1: 0.0000e+00\n",
      "Epoch 4/150\n",
      "165/165 [==============================] - 24s 145ms/step - loss: 0.6820 - accuracy: 0.8196 - auc: 0.9207 - precision_1: 0.3272 - recall_1: 0.9075 - val_loss: 0.6259 - val_accuracy: 0.9738 - val_auc: 0.4670 - val_precision_1: 0.0000e+00 - val_recall_1: 0.0000e+00\n",
      "Epoch 5/150\n",
      "165/165 [==============================] - 24s 145ms/step - loss: 0.6212 - accuracy: 0.8325 - auc: 0.9327 - precision_1: 0.3457 - recall_1: 0.9173 - val_loss: 0.6990 - val_accuracy: 0.9738 - val_auc: 0.4631 - val_precision_1: 0.0000e+00 - val_recall_1: 0.0000e+00\n",
      "Epoch 6/150\n",
      "165/165 [==============================] - 24s 147ms/step - loss: 0.5845 - accuracy: 0.8377 - auc: 0.9395 - precision_1: 0.3539 - recall_1: 0.9225 - val_loss: 0.7934 - val_accuracy: 0.9738 - val_auc: 0.4618 - val_precision_1: 0.0000e+00 - val_recall_1: 0.0000e+00\n",
      "Epoch 7/150\n",
      "165/165 [==============================] - 24s 146ms/step - loss: 0.5609 - accuracy: 0.8404 - auc: 0.9436 - precision_1: 0.3583 - recall_1: 0.9260 - val_loss: 1.0574 - val_accuracy: 0.9738 - val_auc: 0.4670 - val_precision_1: 0.0000e+00 - val_recall_1: 0.0000e+00\n",
      "Epoch 8/150\n",
      "165/165 [==============================] - 24s 145ms/step - loss: 0.5429 - accuracy: 0.8419 - auc: 0.9467 - precision_1: 0.3609 - recall_1: 0.9285 - val_loss: 1.1795 - val_accuracy: 0.9738 - val_auc: 0.4651 - val_precision_1: 0.0000e+00 - val_recall_1: 0.0000e+00\n",
      "Epoch 9/150\n",
      "165/165 [==============================] - 24s 147ms/step - loss: 0.5302 - accuracy: 0.8433 - auc: 0.9488 - precision_1: 0.3633 - recall_1: 0.9315 - val_loss: 1.5572 - val_accuracy: 0.9738 - val_auc: 0.4736 - val_precision_1: 0.0000e+00 - val_recall_1: 0.0000e+00\n",
      "Epoch 10/150\n",
      "165/165 [==============================] - 24s 147ms/step - loss: 0.5208 - accuracy: 0.8441 - auc: 0.9504 - precision_1: 0.3646 - recall_1: 0.9317 - val_loss: 1.9492 - val_accuracy: 0.9738 - val_auc: 0.4815 - val_precision_1: 0.0000e+00 - val_recall_1: 0.0000e+00\n",
      "Epoch 11/150\n",
      "165/165 [==============================] - 25s 151ms/step - loss: 0.5125 - accuracy: 0.8447 - auc: 0.9518 - precision_1: 0.3655 - recall_1: 0.9323 - val_loss: 2.2322 - val_accuracy: 0.9738 - val_auc: 0.4821 - val_precision_1: 0.0000e+00 - val_recall_1: 0.0000e+00\n",
      "Epoch 12/150\n",
      "165/165 [==============================] - 24s 146ms/step - loss: 0.5045 - accuracy: 0.8463 - auc: 0.9530 - precision_1: 0.3683 - recall_1: 0.9338 - val_loss: 2.8108 - val_accuracy: 0.9738 - val_auc: 0.4861 - val_precision_1: 0.0000e+00 - val_recall_1: 0.0000e+00\n",
      "Epoch 13/150\n",
      "165/165 [==============================] - 24s 146ms/step - loss: 0.4982 - accuracy: 0.8474 - auc: 0.9542 - precision_1: 0.3699 - recall_1: 0.9336 - val_loss: 3.3344 - val_accuracy: 0.9738 - val_auc: 0.4881 - val_precision_1: 0.0000e+00 - val_recall_1: 0.0000e+00\n",
      "Epoch 14/150\n",
      "165/165 [==============================] - 24s 147ms/step - loss: 0.4955 - accuracy: 0.8489 - auc: 0.9547 - precision_1: 0.3723 - recall_1: 0.9331 - val_loss: 3.5447 - val_accuracy: 0.9738 - val_auc: 0.4875 - val_precision_1: 0.0000e+00 - val_recall_1: 0.0000e+00\n",
      "Epoch 15/150\n",
      "165/165 [==============================] - 24s 146ms/step - loss: 0.4906 - accuracy: 0.8499 - auc: 0.9554 - precision_1: 0.3741 - recall_1: 0.9347 - val_loss: 3.8892 - val_accuracy: 0.9738 - val_auc: 0.4889 - val_precision_1: 0.0000e+00 - val_recall_1: 0.0000e+00\n",
      "Epoch 16/150\n",
      "165/165 [==============================] - 24s 147ms/step - loss: 0.4861 - accuracy: 0.8510 - auc: 0.9560 - precision_1: 0.3759 - recall_1: 0.9346 - val_loss: 4.5228 - val_accuracy: 0.9738 - val_auc: 0.4908 - val_precision_1: 0.0000e+00 - val_recall_1: 0.0000e+00\n",
      "Epoch 17/150\n",
      "165/165 [==============================] - 24s 147ms/step - loss: 0.4832 - accuracy: 0.8514 - auc: 0.9565 - precision_1: 0.3767 - recall_1: 0.9355 - val_loss: 5.0054 - val_accuracy: 0.9738 - val_auc: 0.4919 - val_precision_1: 0.0000e+00 - val_recall_1: 0.0000e+00\n",
      "Epoch 18/150\n",
      "165/165 [==============================] - 24s 147ms/step - loss: 0.4807 - accuracy: 0.8521 - auc: 0.9567 - precision_1: 0.3777 - recall_1: 0.9350 - val_loss: 5.2198 - val_accuracy: 0.9738 - val_auc: 0.4910 - val_precision_1: 0.0000e+00 - val_recall_1: 0.0000e+00\n",
      "Epoch 19/150\n",
      "165/165 [==============================] - 24s 146ms/step - loss: 0.4777 - accuracy: 0.8530 - auc: 0.9572 - precision_1: 0.3793 - recall_1: 0.9357 - val_loss: 5.7318 - val_accuracy: 0.9738 - val_auc: 0.4931 - val_precision_1: 0.0000e+00 - val_recall_1: 0.0000e+00\n",
      "Epoch 20/150\n",
      "165/165 [==============================] - 24s 147ms/step - loss: 0.4752 - accuracy: 0.8541 - auc: 0.9575 - precision_1: 0.3812 - recall_1: 0.9362 - val_loss: 6.1171 - val_accuracy: 0.9738 - val_auc: 0.4930 - val_precision_1: 0.0000e+00 - val_recall_1: 0.0000e+00\n",
      "Epoch 21/150\n",
      "165/165 [==============================] - 24s 148ms/step - loss: 0.4733 - accuracy: 0.8540 - auc: 0.9578 - precision_1: 0.3810 - recall_1: 0.9365 - val_loss: 6.6299 - val_accuracy: 0.9738 - val_auc: 0.4924 - val_precision_1: 0.0000e+00 - val_recall_1: 0.0000e+00\n",
      "Epoch 22/150\n",
      "165/165 [==============================] - 24s 148ms/step - loss: 0.4739 - accuracy: 0.8552 - auc: 0.9577 - precision_1: 0.3831 - recall_1: 0.9367 - val_loss: 6.6172 - val_accuracy: 0.9736 - val_auc: 0.4921 - val_precision_1: 0.0000e+00 - val_recall_1: 0.0000e+00\n",
      "Epoch 23/150\n",
      "165/165 [==============================] - 24s 146ms/step - loss: 0.4703 - accuracy: 0.8558 - auc: 0.9584 - precision_1: 0.3841 - recall_1: 0.9361 - val_loss: 6.8412 - val_accuracy: 0.9738 - val_auc: 0.4941 - val_precision_1: 0.0000e+00 - val_recall_1: 0.0000e+00\n",
      "Epoch 24/150\n",
      "165/165 [==============================] - 24s 146ms/step - loss: 0.4706 - accuracy: 0.8567 - auc: 0.9583 - precision_1: 0.3856 - recall_1: 0.9361 - val_loss: 7.4626 - val_accuracy: 0.9732 - val_auc: 0.4939 - val_precision_1: 0.0000e+00 - val_recall_1: 0.0000e+00\n",
      "Epoch 25/150\n",
      "165/165 [==============================] - 24s 147ms/step - loss: 0.4681 - accuracy: 0.8571 - auc: 0.9587 - precision_1: 0.3863 - recall_1: 0.9360 - val_loss: 7.4531 - val_accuracy: 0.9732 - val_auc: 0.4929 - val_precision_1: 0.0000e+00 - val_recall_1: 0.0000e+00\n",
      "Epoch 26/150\n",
      "165/165 [==============================] - 24s 148ms/step - loss: 0.4680 - accuracy: 0.8569 - auc: 0.9586 - precision_1: 0.3859 - recall_1: 0.9361 - val_loss: 8.2343 - val_accuracy: 0.9736 - val_auc: 0.4938 - val_precision_1: 0.0000e+00 - val_recall_1: 0.0000e+00\n",
      "Epoch 27/150\n",
      "165/165 [==============================] - 24s 147ms/step - loss: 0.4657 - accuracy: 0.8582 - auc: 0.9591 - precision_1: 0.3883 - recall_1: 0.9365 - val_loss: 8.3284 - val_accuracy: 0.9736 - val_auc: 0.4941 - val_precision_1: 0.0000e+00 - val_recall_1: 0.0000e+00\n",
      "Epoch 28/150\n",
      "165/165 [==============================] - 24s 148ms/step - loss: 0.4688 - accuracy: 0.8573 - auc: 0.9582 - precision_1: 0.3865 - recall_1: 0.9355 - val_loss: 8.9781 - val_accuracy: 0.9738 - val_auc: 0.4948 - val_precision_1: 0.0000e+00 - val_recall_1: 0.0000e+00\n",
      "Epoch 29/150\n",
      "165/165 [==============================] - 24s 148ms/step - loss: 0.4631 - accuracy: 0.8587 - auc: 0.9592 - precision_1: 0.3891 - recall_1: 0.9367 - val_loss: 8.9468 - val_accuracy: 0.9736 - val_auc: 0.4942 - val_precision_1: 0.0000e+00 - val_recall_1: 0.0000e+00\n",
      "Epoch 30/150\n",
      "165/165 [==============================] - 25s 150ms/step - loss: 0.4654 - accuracy: 0.8580 - auc: 0.9588 - precision_1: 0.3879 - recall_1: 0.9368 - val_loss: 9.4664 - val_accuracy: 0.9736 - val_auc: 0.4950 - val_precision_1: 0.0000e+00 - val_recall_1: 0.0000e+00\n",
      "Epoch 31/150\n",
      "165/165 [==============================] - 25s 149ms/step - loss: 0.4631 - accuracy: 0.8593 - auc: 0.9593 - precision_1: 0.3902 - recall_1: 0.9366 - val_loss: 9.1378 - val_accuracy: 0.9736 - val_auc: 0.4949 - val_precision_1: 0.0000e+00 - val_recall_1: 0.0000e+00\n",
      "Epoch 32/150\n",
      "165/165 [==============================] - 25s 149ms/step - loss: 0.4595 - accuracy: 0.8597 - auc: 0.9597 - precision_1: 0.3911 - recall_1: 0.9376 - val_loss: 9.8231 - val_accuracy: 0.9736 - val_auc: 0.4938 - val_precision_1: 0.0000e+00 - val_recall_1: 0.0000e+00\n",
      "Epoch 33/150\n",
      "165/165 [==============================] - 26s 156ms/step - loss: 0.4605 - accuracy: 0.8602 - auc: 0.9597 - precision_1: 0.3917 - recall_1: 0.9366 - val_loss: 9.7879 - val_accuracy: 0.9732 - val_auc: 0.4948 - val_precision_1: 0.0000e+00 - val_recall_1: 0.0000e+00\n",
      "Epoch 34/150\n",
      "165/165 [==============================] - 24s 145ms/step - loss: 0.4589 - accuracy: 0.8611 - auc: 0.9598 - precision_1: 0.3934 - recall_1: 0.9370 - val_loss: 10.5690 - val_accuracy: 0.9732 - val_auc: 0.4950 - val_precision_1: 0.0000e+00 - val_recall_1: 0.0000e+00\n",
      "Epoch 35/150\n",
      "165/165 [==============================] - 24s 147ms/step - loss: 0.4621 - accuracy: 0.8590 - auc: 0.9593 - precision_1: 0.3897 - recall_1: 0.9375 - val_loss: 10.6776 - val_accuracy: 0.9736 - val_auc: 0.4956 - val_precision_1: 0.0000e+00 - val_recall_1: 0.0000e+00\n",
      "Epoch 36/150\n",
      "165/165 [==============================] - 24s 147ms/step - loss: 0.4602 - accuracy: 0.8605 - auc: 0.9596 - precision_1: 0.3923 - recall_1: 0.9374 - val_loss: 11.4817 - val_accuracy: 0.9736 - val_auc: 0.4953 - val_precision_1: 0.0000e+00 - val_recall_1: 0.0000e+00\n",
      "Epoch 37/150\n",
      "165/165 [==============================] - 24s 147ms/step - loss: 0.4594 - accuracy: 0.8610 - auc: 0.9598 - precision_1: 0.3932 - recall_1: 0.9375 - val_loss: 10.9663 - val_accuracy: 0.9736 - val_auc: 0.4949 - val_precision_1: 0.0000e+00 - val_recall_1: 0.0000e+00\n",
      "Epoch 38/150\n",
      "165/165 [==============================] - 25s 151ms/step - loss: 0.4573 - accuracy: 0.8610 - auc: 0.9601 - precision_1: 0.3932 - recall_1: 0.9371 - val_loss: 11.7342 - val_accuracy: 0.9732 - val_auc: 0.4945 - val_precision_1: 0.0000e+00 - val_recall_1: 0.0000e+00\n",
      "Epoch 39/150\n",
      "165/165 [==============================] - 25s 150ms/step - loss: 0.4618 - accuracy: 0.8606 - auc: 0.9593 - precision_1: 0.3924 - recall_1: 0.9361 - val_loss: 11.8127 - val_accuracy: 0.9732 - val_auc: 0.4951 - val_precision_1: 0.0000e+00 - val_recall_1: 0.0000e+00\n",
      "Epoch 40/150\n",
      "165/165 [==============================] - 26s 157ms/step - loss: 0.4605 - accuracy: 0.8612 - auc: 0.9596 - precision_1: 0.3935 - recall_1: 0.9366 - val_loss: 12.0334 - val_accuracy: 0.9732 - val_auc: 0.4951 - val_precision_1: 0.0000e+00 - val_recall_1: 0.0000e+00\n",
      "Epoch 41/150\n",
      "165/165 [==============================] - 26s 156ms/step - loss: 0.4595 - accuracy: 0.8615 - auc: 0.9596 - precision_1: 0.3942 - recall_1: 0.9368 - val_loss: 12.2754 - val_accuracy: 0.9732 - val_auc: 0.4952 - val_precision_1: 0.0000e+00 - val_recall_1: 0.0000e+00\n",
      "Epoch 42/150\n",
      "165/165 [==============================] - 24s 147ms/step - loss: 0.4574 - accuracy: 0.8618 - auc: 0.9600 - precision_1: 0.3947 - recall_1: 0.9372 - val_loss: 12.6522 - val_accuracy: 0.9732 - val_auc: 0.4956 - val_precision_1: 0.0000e+00 - val_recall_1: 0.0000e+00\n",
      "Epoch 43/150\n",
      "165/165 [==============================] - 24s 146ms/step - loss: 0.4564 - accuracy: 0.8628 - auc: 0.9602 - precision_1: 0.3965 - recall_1: 0.9371 - val_loss: 13.6489 - val_accuracy: 0.9732 - val_auc: 0.4956 - val_precision_1: 0.0000e+00 - val_recall_1: 0.0000e+00\n",
      "Epoch 44/150\n",
      "165/165 [==============================] - 24s 147ms/step - loss: 0.4567 - accuracy: 0.8612 - auc: 0.9599 - precision_1: 0.3937 - recall_1: 0.9375 - val_loss: 13.6838 - val_accuracy: 0.9732 - val_auc: 0.4956 - val_precision_1: 0.0000e+00 - val_recall_1: 0.0000e+00\n",
      "Epoch 45/150\n",
      "165/165 [==============================] - 24s 147ms/step - loss: 0.4583 - accuracy: 0.8612 - auc: 0.9596 - precision_1: 0.3936 - recall_1: 0.9373 - val_loss: 14.0739 - val_accuracy: 0.9732 - val_auc: 0.4951 - val_precision_1: 0.0000e+00 - val_recall_1: 0.0000e+00\n",
      "Epoch 46/150\n",
      "165/165 [==============================] - 24s 147ms/step - loss: 0.4542 - accuracy: 0.8627 - auc: 0.9605 - precision_1: 0.3963 - recall_1: 0.9375 - val_loss: 14.7736 - val_accuracy: 0.9736 - val_auc: 0.4940 - val_precision_1: 0.0000e+00 - val_recall_1: 0.0000e+00\n",
      "Epoch 47/150\n",
      "165/165 [==============================] - 24s 145ms/step - loss: 0.4538 - accuracy: 0.8630 - auc: 0.9606 - precision_1: 0.3968 - recall_1: 0.9368 - val_loss: 14.7612 - val_accuracy: 0.9732 - val_auc: 0.4958 - val_precision_1: 0.0000e+00 - val_recall_1: 0.0000e+00\n",
      "Epoch 48/150\n",
      "165/165 [==============================] - 25s 149ms/step - loss: 0.4532 - accuracy: 0.8628 - auc: 0.9607 - precision_1: 0.3965 - recall_1: 0.9370 - val_loss: 15.8609 - val_accuracy: 0.9732 - val_auc: 0.4957 - val_precision_1: 0.0000e+00 - val_recall_1: 0.0000e+00\n",
      "Epoch 49/150\n",
      "165/165 [==============================] - 24s 147ms/step - loss: 0.4517 - accuracy: 0.8632 - auc: 0.9610 - precision_1: 0.3972 - recall_1: 0.9372 - val_loss: 15.6858 - val_accuracy: 0.9732 - val_auc: 0.4959 - val_precision_1: 0.0000e+00 - val_recall_1: 0.0000e+00\n",
      "Epoch 50/150\n",
      "165/165 [==============================] - 24s 146ms/step - loss: 0.4539 - accuracy: 0.8628 - auc: 0.9607 - precision_1: 0.3964 - recall_1: 0.9370 - val_loss: 16.2826 - val_accuracy: 0.9732 - val_auc: 0.4962 - val_precision_1: 0.0000e+00 - val_recall_1: 0.0000e+00\n",
      "Epoch 51/150\n",
      "165/165 [==============================] - 24s 148ms/step - loss: 0.4520 - accuracy: 0.8641 - auc: 0.9607 - precision_1: 0.3989 - recall_1: 0.9380 - val_loss: 15.9360 - val_accuracy: 0.9736 - val_auc: 0.4952 - val_precision_1: 0.0000e+00 - val_recall_1: 0.0000e+00\n",
      "Epoch 52/150\n",
      "165/165 [==============================] - 25s 149ms/step - loss: 0.4530 - accuracy: 0.8632 - auc: 0.9605 - precision_1: 0.3972 - recall_1: 0.9379 - val_loss: 15.8582 - val_accuracy: 0.9732 - val_auc: 0.4954 - val_precision_1: 0.0000e+00 - val_recall_1: 0.0000e+00\n",
      "Epoch 53/150\n",
      "165/165 [==============================] - 25s 151ms/step - loss: 0.4536 - accuracy: 0.8635 - auc: 0.9605 - precision_1: 0.3977 - recall_1: 0.9372 - val_loss: 16.2760 - val_accuracy: 0.9732 - val_auc: 0.4951 - val_precision_1: 0.0000e+00 - val_recall_1: 0.0000e+00\n",
      "Epoch 54/150\n",
      "165/165 [==============================] - 25s 150ms/step - loss: 0.4511 - accuracy: 0.8648 - auc: 0.9609 - precision_1: 0.4001 - recall_1: 0.9371 - val_loss: 16.1088 - val_accuracy: 0.9736 - val_auc: 0.4946 - val_precision_1: 0.0000e+00 - val_recall_1: 0.0000e+00\n",
      "Epoch 55/150\n",
      "165/165 [==============================] - 25s 152ms/step - loss: 0.4551 - accuracy: 0.8616 - auc: 0.9603 - precision_1: 0.3943 - recall_1: 0.9366 - val_loss: 16.3355 - val_accuracy: 0.9736 - val_auc: 0.4951 - val_precision_1: 0.0000e+00 - val_recall_1: 0.0000e+00\n",
      "Epoch 56/150\n",
      "165/165 [==============================] - 25s 152ms/step - loss: 0.4495 - accuracy: 0.8643 - auc: 0.9611 - precision_1: 0.3992 - recall_1: 0.9371 - val_loss: 17.7024 - val_accuracy: 0.9736 - val_auc: 0.4953 - val_precision_1: 0.0000e+00 - val_recall_1: 0.0000e+00\n",
      "Epoch 57/150\n",
      "165/165 [==============================] - 25s 153ms/step - loss: 0.4533 - accuracy: 0.8638 - auc: 0.9605 - precision_1: 0.3984 - recall_1: 0.9370 - val_loss: 17.0838 - val_accuracy: 0.9736 - val_auc: 0.4951 - val_precision_1: 0.0000e+00 - val_recall_1: 0.0000e+00\n",
      "Epoch 58/150\n",
      "165/165 [==============================] - 24s 148ms/step - loss: 0.4543 - accuracy: 0.8637 - auc: 0.9603 - precision_1: 0.3981 - recall_1: 0.9368 - val_loss: 17.5532 - val_accuracy: 0.9736 - val_auc: 0.4959 - val_precision_1: 0.0000e+00 - val_recall_1: 0.0000e+00\n",
      "Epoch 59/150\n",
      "165/165 [==============================] - 24s 147ms/step - loss: 0.4550 - accuracy: 0.8641 - auc: 0.9602 - precision_1: 0.3988 - recall_1: 0.9365 - val_loss: 18.2969 - val_accuracy: 0.9736 - val_auc: 0.4956 - val_precision_1: 0.0000e+00 - val_recall_1: 0.0000e+00\n",
      "Epoch 60/150\n",
      "165/165 [==============================] - 24s 148ms/step - loss: 0.4637 - accuracy: 0.8633 - auc: 0.9588 - precision_1: 0.3973 - recall_1: 0.9351 - val_loss: 17.5291 - val_accuracy: 0.9736 - val_auc: 0.4955 - val_precision_1: 0.0000e+00 - val_recall_1: 0.0000e+00\n",
      "Epoch 61/150\n",
      "165/165 [==============================] - 24s 148ms/step - loss: 0.4575 - accuracy: 0.8643 - auc: 0.9598 - precision_1: 0.3991 - recall_1: 0.9362 - val_loss: 18.1724 - val_accuracy: 0.9738 - val_auc: 0.4950 - val_precision_1: 0.0000e+00 - val_recall_1: 0.0000e+00\n",
      "Epoch 62/150\n",
      "165/165 [==============================] - 25s 150ms/step - loss: 0.4615 - accuracy: 0.8621 - auc: 0.9592 - precision_1: 0.3951 - recall_1: 0.9363 - val_loss: 18.4281 - val_accuracy: 0.9736 - val_auc: 0.4956 - val_precision_1: 0.0000e+00 - val_recall_1: 0.0000e+00\n",
      "Epoch 63/150\n",
      "165/165 [==============================] - 24s 148ms/step - loss: 0.4562 - accuracy: 0.8636 - auc: 0.9601 - precision_1: 0.3979 - recall_1: 0.9366 - val_loss: 19.4617 - val_accuracy: 0.9732 - val_auc: 0.4958 - val_precision_1: 0.0000e+00 - val_recall_1: 0.0000e+00\n",
      "Epoch 64/150\n",
      "165/165 [==============================] - 24s 148ms/step - loss: 0.4544 - accuracy: 0.8635 - auc: 0.9601 - precision_1: 0.3977 - recall_1: 0.9376 - val_loss: 19.1773 - val_accuracy: 0.9736 - val_auc: 0.4953 - val_precision_1: 0.0000e+00 - val_recall_1: 0.0000e+00\n",
      "Epoch 65/150\n",
      "165/165 [==============================] - 25s 150ms/step - loss: 0.4539 - accuracy: 0.8622 - auc: 0.9603 - precision_1: 0.3954 - recall_1: 0.9375 - val_loss: 18.0968 - val_accuracy: 0.9736 - val_auc: 0.4958 - val_precision_1: 0.0000e+00 - val_recall_1: 0.0000e+00\n",
      "Epoch 66/150\n",
      "165/165 [==============================] - 25s 149ms/step - loss: 0.4577 - accuracy: 0.8642 - auc: 0.9596 - precision_1: 0.3989 - recall_1: 0.9366 - val_loss: 19.4564 - val_accuracy: 0.9732 - val_auc: 0.4961 - val_precision_1: 0.0000e+00 - val_recall_1: 0.0000e+00\n",
      "Epoch 67/150\n",
      "165/165 [==============================] - 25s 149ms/step - loss: 0.4540 - accuracy: 0.8650 - auc: 0.9602 - precision_1: 0.4006 - recall_1: 0.9373 - val_loss: 20.5375 - val_accuracy: 0.9736 - val_auc: 0.4959 - val_precision_1: 0.0000e+00 - val_recall_1: 0.0000e+00\n",
      "Epoch 68/150\n",
      "165/165 [==============================] - 25s 149ms/step - loss: 0.4478 - accuracy: 0.8656 - auc: 0.9613 - precision_1: 0.4018 - recall_1: 0.9389 - val_loss: 21.0236 - val_accuracy: 0.9736 - val_auc: 0.4957 - val_precision_1: 0.0000e+00 - val_recall_1: 0.0000e+00\n",
      "Epoch 69/150\n",
      "165/165 [==============================] - 25s 149ms/step - loss: 0.4494 - accuracy: 0.8658 - auc: 0.9609 - precision_1: 0.4021 - recall_1: 0.9377 - val_loss: 22.1476 - val_accuracy: 0.9736 - val_auc: 0.4959 - val_precision_1: 0.0000e+00 - val_recall_1: 0.0000e+00\n",
      "Epoch 70/150\n",
      "165/165 [==============================] - 25s 149ms/step - loss: 0.4489 - accuracy: 0.8657 - auc: 0.9611 - precision_1: 0.4019 - recall_1: 0.9376 - val_loss: 22.2415 - val_accuracy: 0.9736 - val_auc: 0.4962 - val_precision_1: 0.0000e+00 - val_recall_1: 0.0000e+00\n",
      "Epoch 71/150\n",
      "165/165 [==============================] - 24s 148ms/step - loss: 0.4512 - accuracy: 0.8647 - auc: 0.9607 - precision_1: 0.4000 - recall_1: 0.9379 - val_loss: 23.7686 - val_accuracy: 0.9736 - val_auc: 0.4957 - val_precision_1: 0.0000e+00 - val_recall_1: 0.0000e+00\n",
      "Epoch 72/150\n",
      "165/165 [==============================] - 25s 153ms/step - loss: 0.4464 - accuracy: 0.8664 - auc: 0.9616 - precision_1: 0.4032 - recall_1: 0.9385 - val_loss: 23.6674 - val_accuracy: 0.9736 - val_auc: 0.4963 - val_precision_1: 0.0000e+00 - val_recall_1: 0.0000e+00\n",
      "Epoch 73/150\n",
      "165/165 [==============================] - 25s 153ms/step - loss: 0.4447 - accuracy: 0.8657 - auc: 0.9618 - precision_1: 0.4020 - recall_1: 0.9388 - val_loss: 22.1176 - val_accuracy: 0.9736 - val_auc: 0.4955 - val_precision_1: 0.0000e+00 - val_recall_1: 0.0000e+00\n",
      "Epoch 74/150\n",
      "165/165 [==============================] - 25s 149ms/step - loss: 0.4480 - accuracy: 0.8651 - auc: 0.9613 - precision_1: 0.4008 - recall_1: 0.9387 - val_loss: 22.6547 - val_accuracy: 0.9736 - val_auc: 0.4963 - val_precision_1: 0.0000e+00 - val_recall_1: 0.0000e+00\n",
      "Epoch 75/150\n",
      "165/165 [==============================] - 25s 150ms/step - loss: 0.4473 - accuracy: 0.8654 - auc: 0.9614 - precision_1: 0.4014 - recall_1: 0.9391 - val_loss: 22.4835 - val_accuracy: 0.9736 - val_auc: 0.4959 - val_precision_1: 0.0000e+00 - val_recall_1: 0.0000e+00\n",
      "Epoch 76/150\n",
      "165/165 [==============================] - 25s 150ms/step - loss: 0.4463 - accuracy: 0.8652 - auc: 0.9614 - precision_1: 0.4011 - recall_1: 0.9387 - val_loss: 24.8684 - val_accuracy: 0.9736 - val_auc: 0.4962 - val_precision_1: 0.0000e+00 - val_recall_1: 0.0000e+00\n",
      "Epoch 77/150\n",
      "165/165 [==============================] - 25s 149ms/step - loss: 0.4437 - accuracy: 0.8662 - auc: 0.9619 - precision_1: 0.4030 - recall_1: 0.9388 - val_loss: 26.3684 - val_accuracy: 0.9736 - val_auc: 0.4963 - val_precision_1: 0.0000e+00 - val_recall_1: 0.0000e+00\n",
      "Epoch 78/150\n",
      "165/165 [==============================] - 25s 151ms/step - loss: 0.4444 - accuracy: 0.8653 - auc: 0.9617 - precision_1: 0.4013 - recall_1: 0.9393 - val_loss: 25.8976 - val_accuracy: 0.9736 - val_auc: 0.4959 - val_precision_1: 0.0000e+00 - val_recall_1: 0.0000e+00\n",
      "Epoch 79/150\n",
      "165/165 [==============================] - 24s 148ms/step - loss: 0.4428 - accuracy: 0.8657 - auc: 0.9620 - precision_1: 0.4021 - recall_1: 0.9389 - val_loss: 28.1843 - val_accuracy: 0.9736 - val_auc: 0.4961 - val_precision_1: 0.0000e+00 - val_recall_1: 0.0000e+00\n",
      "Epoch 80/150\n",
      "165/165 [==============================] - 24s 148ms/step - loss: 0.4454 - accuracy: 0.8651 - auc: 0.9617 - precision_1: 0.4009 - recall_1: 0.9392 - val_loss: 27.3190 - val_accuracy: 0.9736 - val_auc: 0.4967 - val_precision_1: 0.0000e+00 - val_recall_1: 0.0000e+00\n",
      "Epoch 81/150\n",
      "165/165 [==============================] - 24s 148ms/step - loss: 0.4480 - accuracy: 0.8643 - auc: 0.9611 - precision_1: 0.3994 - recall_1: 0.9385 - val_loss: 28.7243 - val_accuracy: 0.9736 - val_auc: 0.4970 - val_precision_1: 0.0000e+00 - val_recall_1: 0.0000e+00\n",
      "Epoch 82/150\n",
      "165/165 [==============================] - 24s 148ms/step - loss: 0.4486 - accuracy: 0.8668 - auc: 0.9612 - precision_1: 0.4039 - recall_1: 0.9373 - val_loss: 27.2026 - val_accuracy: 0.9736 - val_auc: 0.4966 - val_precision_1: 0.0000e+00 - val_recall_1: 0.0000e+00\n",
      "Epoch 83/150\n",
      "165/165 [==============================] - 24s 148ms/step - loss: 0.4484 - accuracy: 0.8633 - auc: 0.9611 - precision_1: 0.3976 - recall_1: 0.9390 - val_loss: 27.5194 - val_accuracy: 0.9732 - val_auc: 0.4967 - val_precision_1: 0.0000e+00 - val_recall_1: 0.0000e+00\n",
      "Epoch 84/150\n",
      "165/165 [==============================] - 24s 148ms/step - loss: 0.4453 - accuracy: 0.8633 - auc: 0.9615 - precision_1: 0.3975 - recall_1: 0.9381 - val_loss: 28.6647 - val_accuracy: 0.9732 - val_auc: 0.4969 - val_precision_1: 0.0000e+00 - val_recall_1: 0.0000e+00\n",
      "Epoch 85/150\n",
      "165/165 [==============================] - 24s 147ms/step - loss: 0.4465 - accuracy: 0.8634 - auc: 0.9614 - precision_1: 0.3978 - recall_1: 0.9392 - val_loss: 26.8528 - val_accuracy: 0.9736 - val_auc: 0.4967 - val_precision_1: 0.0000e+00 - val_recall_1: 0.0000e+00\n",
      "Epoch 86/150\n",
      "165/165 [==============================] - 25s 149ms/step - loss: 0.4463 - accuracy: 0.8646 - auc: 0.9613 - precision_1: 0.4000 - recall_1: 0.9390 - val_loss: 29.2533 - val_accuracy: 0.9736 - val_auc: 0.4967 - val_precision_1: 0.0000e+00 - val_recall_1: 0.0000e+00\n",
      "Epoch 87/150\n",
      "165/165 [==============================] - 24s 146ms/step - loss: 0.4431 - accuracy: 0.8656 - auc: 0.9620 - precision_1: 0.4019 - recall_1: 0.9390 - val_loss: 28.7309 - val_accuracy: 0.9732 - val_auc: 0.4969 - val_precision_1: 0.0000e+00 - val_recall_1: 0.0000e+00\n",
      "Epoch 88/150\n",
      "165/165 [==============================] - 24s 148ms/step - loss: 0.4427 - accuracy: 0.8658 - auc: 0.9620 - precision_1: 0.4023 - recall_1: 0.9395 - val_loss: 29.3647 - val_accuracy: 0.9732 - val_auc: 0.4971 - val_precision_1: 0.0000e+00 - val_recall_1: 0.0000e+00\n",
      "Epoch 89/150\n",
      "162/165 [============================>.] - ETA: 0s - loss: 0.4468 - accuracy: 0.8648 - auc: 0.9612 - precision_1: 0.4003 - recall_1: 0.9385"
     ]
    },
    {
     "ename": "KeyboardInterrupt",
     "evalue": "",
     "output_type": "error",
     "traceback": [
      "\u001b[1;31m---------------------------------------------------------------------------\u001b[0m",
      "\u001b[1;31mKeyboardInterrupt\u001b[0m                         Traceback (most recent call last)",
      "\u001b[1;32m<ipython-input-7-8e45d7cdf50f>\u001b[0m in \u001b[0;36m<module>\u001b[1;34m\u001b[0m\n\u001b[0;32m      8\u001b[0m         \u001b[0msteps_per_epoch\u001b[0m\u001b[1;33m=\u001b[0m\u001b[0mmath\u001b[0m\u001b[1;33m.\u001b[0m\u001b[0mceil\u001b[0m\u001b[1;33m(\u001b[0m\u001b[0mX_train\u001b[0m\u001b[1;33m.\u001b[0m\u001b[0mshape\u001b[0m\u001b[1;33m[\u001b[0m\u001b[1;36m0\u001b[0m\u001b[1;33m]\u001b[0m\u001b[1;33m/\u001b[0m\u001b[0mbatch_size\u001b[0m\u001b[1;33m)\u001b[0m\u001b[1;33m,\u001b[0m \u001b[0mcallbacks\u001b[0m\u001b[1;33m=\u001b[0m\u001b[1;33m[\u001b[0m\u001b[0mearly_stopping\u001b[0m\u001b[1;33m]\u001b[0m\u001b[1;33m,\u001b[0m\u001b[1;33m\u001b[0m\u001b[1;33m\u001b[0m\u001b[0m\n\u001b[0;32m      9\u001b[0m                  \u001b[0mvalidation_data\u001b[0m\u001b[1;33m=\u001b[0m\u001b[1;33m(\u001b[0m\u001b[0mX_val\u001b[0m\u001b[1;33m,\u001b[0m \u001b[0my_val\u001b[0m\u001b[1;33m)\u001b[0m\u001b[1;33m,\u001b[0m \u001b[0mclass_weight\u001b[0m\u001b[1;33m=\u001b[0m\u001b[1;33m{\u001b[0m\u001b[1;36m0\u001b[0m\u001b[1;33m:\u001b[0m\u001b[1;36m1\u001b[0m\u001b[1;33m,\u001b[0m \u001b[1;36m1\u001b[0m\u001b[1;33m:\u001b[0m\u001b[0mclass_1_weight\u001b[0m\u001b[1;33m}\u001b[0m\u001b[1;33m,\u001b[0m\u001b[1;33m\u001b[0m\u001b[1;33m\u001b[0m\u001b[0m\n\u001b[1;32m---> 10\u001b[1;33m                   shuffle=False)\n\u001b[0m\u001b[0;32m     11\u001b[0m \u001b[1;33m\u001b[0m\u001b[0m\n",
      "\u001b[1;32m~\\Anaconda3\\envs\\mlflow\\lib\\site-packages\\tensorflow\\python\\keras\\engine\\training.py\u001b[0m in \u001b[0;36mfit\u001b[1;34m(self, x, y, batch_size, epochs, verbose, callbacks, validation_split, validation_data, shuffle, class_weight, sample_weight, initial_epoch, steps_per_epoch, validation_steps, validation_freq, max_queue_size, workers, use_multiprocessing, **kwargs)\u001b[0m\n\u001b[0;32m    871\u001b[0m           \u001b[0mvalidation_steps\u001b[0m\u001b[1;33m=\u001b[0m\u001b[0mvalidation_steps\u001b[0m\u001b[1;33m,\u001b[0m\u001b[1;33m\u001b[0m\u001b[1;33m\u001b[0m\u001b[0m\n\u001b[0;32m    872\u001b[0m           \u001b[0mvalidation_freq\u001b[0m\u001b[1;33m=\u001b[0m\u001b[0mvalidation_freq\u001b[0m\u001b[1;33m,\u001b[0m\u001b[1;33m\u001b[0m\u001b[1;33m\u001b[0m\u001b[0m\n\u001b[1;32m--> 873\u001b[1;33m           steps_name='steps_per_epoch')\n\u001b[0m\u001b[0;32m    874\u001b[0m \u001b[1;33m\u001b[0m\u001b[0m\n\u001b[0;32m    875\u001b[0m   def evaluate(self,\n",
      "\u001b[1;32m~\\Anaconda3\\envs\\mlflow\\lib\\site-packages\\tensorflow\\python\\keras\\engine\\training_arrays.py\u001b[0m in \u001b[0;36mmodel_iteration\u001b[1;34m(model, inputs, targets, sample_weights, batch_size, epochs, verbose, callbacks, val_inputs, val_targets, val_sample_weights, shuffle, initial_epoch, steps_per_epoch, validation_steps, validation_freq, mode, validation_in_fit, prepared_feed_values_from_dataset, steps_name, **kwargs)\u001b[0m\n\u001b[0;32m    261\u001b[0m           \u001b[1;31m# `ins` can be callable in DistributionStrategy + eager case.\u001b[0m\u001b[1;33m\u001b[0m\u001b[1;33m\u001b[0m\u001b[1;33m\u001b[0m\u001b[0m\n\u001b[0;32m    262\u001b[0m           \u001b[0mactual_inputs\u001b[0m \u001b[1;33m=\u001b[0m \u001b[0mins\u001b[0m\u001b[1;33m(\u001b[0m\u001b[1;33m)\u001b[0m \u001b[1;32mif\u001b[0m \u001b[0mcallable\u001b[0m\u001b[1;33m(\u001b[0m\u001b[0mins\u001b[0m\u001b[1;33m)\u001b[0m \u001b[1;32melse\u001b[0m \u001b[0mins\u001b[0m\u001b[1;33m\u001b[0m\u001b[1;33m\u001b[0m\u001b[0m\n\u001b[1;32m--> 263\u001b[1;33m           \u001b[0mbatch_outs\u001b[0m \u001b[1;33m=\u001b[0m \u001b[0mf\u001b[0m\u001b[1;33m(\u001b[0m\u001b[0mactual_inputs\u001b[0m\u001b[1;33m)\u001b[0m\u001b[1;33m\u001b[0m\u001b[1;33m\u001b[0m\u001b[0m\n\u001b[0m\u001b[0;32m    264\u001b[0m         \u001b[1;32mexcept\u001b[0m \u001b[0merrors\u001b[0m\u001b[1;33m.\u001b[0m\u001b[0mOutOfRangeError\u001b[0m\u001b[1;33m:\u001b[0m\u001b[1;33m\u001b[0m\u001b[1;33m\u001b[0m\u001b[0m\n\u001b[0;32m    265\u001b[0m           \u001b[1;32mif\u001b[0m \u001b[0mis_dataset\u001b[0m\u001b[1;33m:\u001b[0m\u001b[1;33m\u001b[0m\u001b[1;33m\u001b[0m\u001b[0m\n",
      "\u001b[1;32m~\\Anaconda3\\envs\\mlflow\\lib\\site-packages\\tensorflow\\python\\keras\\backend.py\u001b[0m in \u001b[0;36m__call__\u001b[1;34m(self, inputs)\u001b[0m\n\u001b[0;32m   3215\u001b[0m         \u001b[0mvalue\u001b[0m \u001b[1;33m=\u001b[0m \u001b[0mmath_ops\u001b[0m\u001b[1;33m.\u001b[0m\u001b[0mcast\u001b[0m\u001b[1;33m(\u001b[0m\u001b[0mvalue\u001b[0m\u001b[1;33m,\u001b[0m \u001b[0mtensor\u001b[0m\u001b[1;33m.\u001b[0m\u001b[0mdtype\u001b[0m\u001b[1;33m)\u001b[0m\u001b[1;33m\u001b[0m\u001b[1;33m\u001b[0m\u001b[0m\n\u001b[0;32m   3216\u001b[0m       \u001b[0mconverted_inputs\u001b[0m\u001b[1;33m.\u001b[0m\u001b[0mappend\u001b[0m\u001b[1;33m(\u001b[0m\u001b[0mvalue\u001b[0m\u001b[1;33m)\u001b[0m\u001b[1;33m\u001b[0m\u001b[1;33m\u001b[0m\u001b[0m\n\u001b[1;32m-> 3217\u001b[1;33m     \u001b[0moutputs\u001b[0m \u001b[1;33m=\u001b[0m \u001b[0mself\u001b[0m\u001b[1;33m.\u001b[0m\u001b[0m_graph_fn\u001b[0m\u001b[1;33m(\u001b[0m\u001b[1;33m*\u001b[0m\u001b[0mconverted_inputs\u001b[0m\u001b[1;33m)\u001b[0m\u001b[1;33m\u001b[0m\u001b[1;33m\u001b[0m\u001b[0m\n\u001b[0m\u001b[0;32m   3218\u001b[0m     return nest.pack_sequence_as(self._outputs_structure,\n\u001b[0;32m   3219\u001b[0m                                  [x.numpy() for x in outputs])\n",
      "\u001b[1;32m~\\Anaconda3\\envs\\mlflow\\lib\\site-packages\\tensorflow\\python\\eager\\function.py\u001b[0m in \u001b[0;36m__call__\u001b[1;34m(self, *args, **kwargs)\u001b[0m\n\u001b[0;32m    556\u001b[0m       raise TypeError(\"Keyword arguments {} unknown. Expected {}.\".format(\n\u001b[0;32m    557\u001b[0m           list(kwargs.keys()), list(self._arg_keywords)))\n\u001b[1;32m--> 558\u001b[1;33m     \u001b[1;32mreturn\u001b[0m \u001b[0mself\u001b[0m\u001b[1;33m.\u001b[0m\u001b[0m_call_flat\u001b[0m\u001b[1;33m(\u001b[0m\u001b[0margs\u001b[0m\u001b[1;33m)\u001b[0m\u001b[1;33m\u001b[0m\u001b[1;33m\u001b[0m\u001b[0m\n\u001b[0m\u001b[0;32m    559\u001b[0m \u001b[1;33m\u001b[0m\u001b[0m\n\u001b[0;32m    560\u001b[0m   \u001b[1;32mdef\u001b[0m \u001b[0m_filtered_call\u001b[0m\u001b[1;33m(\u001b[0m\u001b[0mself\u001b[0m\u001b[1;33m,\u001b[0m \u001b[0margs\u001b[0m\u001b[1;33m,\u001b[0m \u001b[0mkwargs\u001b[0m\u001b[1;33m)\u001b[0m\u001b[1;33m:\u001b[0m\u001b[1;33m\u001b[0m\u001b[1;33m\u001b[0m\u001b[0m\n",
      "\u001b[1;32m~\\Anaconda3\\envs\\mlflow\\lib\\site-packages\\tensorflow\\python\\eager\\function.py\u001b[0m in \u001b[0;36m_call_flat\u001b[1;34m(self, args)\u001b[0m\n\u001b[0;32m    625\u001b[0m     \u001b[1;31m# Only need to override the gradient in graph mode and when we have outputs.\u001b[0m\u001b[1;33m\u001b[0m\u001b[1;33m\u001b[0m\u001b[1;33m\u001b[0m\u001b[0m\n\u001b[0;32m    626\u001b[0m     \u001b[1;32mif\u001b[0m \u001b[0mcontext\u001b[0m\u001b[1;33m.\u001b[0m\u001b[0mexecuting_eagerly\u001b[0m\u001b[1;33m(\u001b[0m\u001b[1;33m)\u001b[0m \u001b[1;32mor\u001b[0m \u001b[1;32mnot\u001b[0m \u001b[0mself\u001b[0m\u001b[1;33m.\u001b[0m\u001b[0moutputs\u001b[0m\u001b[1;33m:\u001b[0m\u001b[1;33m\u001b[0m\u001b[1;33m\u001b[0m\u001b[0m\n\u001b[1;32m--> 627\u001b[1;33m       \u001b[0moutputs\u001b[0m \u001b[1;33m=\u001b[0m \u001b[0mself\u001b[0m\u001b[1;33m.\u001b[0m\u001b[0m_inference_function\u001b[0m\u001b[1;33m.\u001b[0m\u001b[0mcall\u001b[0m\u001b[1;33m(\u001b[0m\u001b[0mctx\u001b[0m\u001b[1;33m,\u001b[0m \u001b[0margs\u001b[0m\u001b[1;33m)\u001b[0m\u001b[1;33m\u001b[0m\u001b[1;33m\u001b[0m\u001b[0m\n\u001b[0m\u001b[0;32m    628\u001b[0m     \u001b[1;32melse\u001b[0m\u001b[1;33m:\u001b[0m\u001b[1;33m\u001b[0m\u001b[1;33m\u001b[0m\u001b[0m\n\u001b[0;32m    629\u001b[0m       \u001b[0mself\u001b[0m\u001b[1;33m.\u001b[0m\u001b[0m_register_gradient\u001b[0m\u001b[1;33m(\u001b[0m\u001b[1;33m)\u001b[0m\u001b[1;33m\u001b[0m\u001b[1;33m\u001b[0m\u001b[0m\n",
      "\u001b[1;32m~\\Anaconda3\\envs\\mlflow\\lib\\site-packages\\tensorflow\\python\\eager\\function.py\u001b[0m in \u001b[0;36mcall\u001b[1;34m(self, ctx, args)\u001b[0m\n\u001b[0;32m    413\u001b[0m             attrs=(\"executor_type\", executor_type,\n\u001b[0;32m    414\u001b[0m                    \"config_proto\", config),\n\u001b[1;32m--> 415\u001b[1;33m             ctx=ctx)\n\u001b[0m\u001b[0;32m    416\u001b[0m       \u001b[1;31m# Replace empty list with None\u001b[0m\u001b[1;33m\u001b[0m\u001b[1;33m\u001b[0m\u001b[1;33m\u001b[0m\u001b[0m\n\u001b[0;32m    417\u001b[0m       \u001b[0moutputs\u001b[0m \u001b[1;33m=\u001b[0m \u001b[0moutputs\u001b[0m \u001b[1;32mor\u001b[0m \u001b[1;32mNone\u001b[0m\u001b[1;33m\u001b[0m\u001b[1;33m\u001b[0m\u001b[0m\n",
      "\u001b[1;32m~\\Anaconda3\\envs\\mlflow\\lib\\site-packages\\tensorflow\\python\\eager\\execute.py\u001b[0m in \u001b[0;36mquick_execute\u001b[1;34m(op_name, num_outputs, inputs, attrs, ctx, name)\u001b[0m\n\u001b[0;32m     58\u001b[0m     tensors = pywrap_tensorflow.TFE_Py_Execute(ctx._handle, device_name,\n\u001b[0;32m     59\u001b[0m                                                \u001b[0mop_name\u001b[0m\u001b[1;33m,\u001b[0m \u001b[0minputs\u001b[0m\u001b[1;33m,\u001b[0m \u001b[0mattrs\u001b[0m\u001b[1;33m,\u001b[0m\u001b[1;33m\u001b[0m\u001b[1;33m\u001b[0m\u001b[0m\n\u001b[1;32m---> 60\u001b[1;33m                                                num_outputs)\n\u001b[0m\u001b[0;32m     61\u001b[0m   \u001b[1;32mexcept\u001b[0m \u001b[0mcore\u001b[0m\u001b[1;33m.\u001b[0m\u001b[0m_NotOkStatusException\u001b[0m \u001b[1;32mas\u001b[0m \u001b[0me\u001b[0m\u001b[1;33m:\u001b[0m\u001b[1;33m\u001b[0m\u001b[1;33m\u001b[0m\u001b[0m\n\u001b[0;32m     62\u001b[0m     \u001b[1;32mif\u001b[0m \u001b[0mname\u001b[0m \u001b[1;32mis\u001b[0m \u001b[1;32mnot\u001b[0m \u001b[1;32mNone\u001b[0m\u001b[1;33m:\u001b[0m\u001b[1;33m\u001b[0m\u001b[1;33m\u001b[0m\u001b[0m\n",
      "\u001b[1;31mKeyboardInterrupt\u001b[0m: "
     ]
    }
   ],
   "source": [
    "#fitting\n",
    "X_val = X_train[:validation_size]\n",
    "partial_X_train = X_train[validation_size:]\n",
    "y_val = y_train[:validation_size]\n",
    "partial_y_train = y_train[validation_size:]\n",
    "\n",
    "history = mlp.fit(partial_X_train, partial_y_train, epochs=epochs,  batch_size = batch_size, verbose=1, \n",
    "        steps_per_epoch=math.ceil(X_train.shape[0]/batch_size), callbacks=[early_stopping],\n",
    "                 validation_data=(X_val, y_val), class_weight={0:1, 1:class_1_weight}, \n",
    "                  shuffle=False)\n",
    "        "
   ]
  },
  {
   "cell_type": "code",
   "execution_count": 61,
   "metadata": {},
   "outputs": [],
   "source": [
    "history_dict = history.history"
   ]
  },
  {
   "cell_type": "code",
   "execution_count": 62,
   "metadata": {},
   "outputs": [
    {
     "data": {
      "image/png": "[encoded data removed]",
      "text/plain": [
       "<Figure size 432x288 with 1 Axes>"
      ]
     },
     "metadata": {
      "needs_background": "light"
     },
     "output_type": "display_data"
    }
   ],
   "source": [
    "loss_values = history_dict['loss']\n",
    "val_loss_values = history_dict['val_loss']\n",
    "epochs = range(1, len(loss_values)+1)\n",
    "\n",
    "plt.plot(epochs, loss_values, 'bo', label='Training loss')\n",
    "plt.plot(epochs, val_loss_values, 'b', label='Validation loss')\n",
    "plt.title(\"Training and validation loss\")\n",
    "plt.xlabel(\"Epochs\")\n",
    "plt.ylabel(\"Loss\")\n",
    "plt.legend()\n",
    "\n",
    "plt.show()"
   ]
  },
  {
   "cell_type": "code",
   "execution_count": 63,
   "metadata": {},
   "outputs": [
    {
     "data": {
      "image/png": "[encoded data removed]",
      "text/plain": [
       "<Figure size 432x288 with 1 Axes>"
      ]
     },
     "metadata": {
      "needs_background": "light"
     },
     "output_type": "display_data"
    }
   ],
   "source": [
    "acc_values = history_dict['accuracy']\n",
    "val_acc_values = history_dict['val_accuracy']\n",
    "epochs = range(1, len(acc_values)+1)\n",
    "\n",
    "plt.plot(epochs, acc_values, 'bo', label='Training acc')\n",
    "plt.plot(epochs, val_acc_values, 'b', label='Validation acc')\n",
    "plt.title(\"Training and validation accuracy\")\n",
    "plt.xlabel(\"Epochs\")\n",
    "plt.ylabel(\"Acc\")\n",
    "plt.legend()\n",
    "\n",
    "plt.show()"
   ]
  },
  {
   "cell_type": "code",
   "execution_count": 65,
   "metadata": {},
   "outputs": [
    {
     "data": {
      "image/png": "[encoded data removed]",
      "text/plain": [
       "<Figure size 432x288 with 1 Axes>"
      ]
     },
     "metadata": {
      "needs_background": "light"
     },
     "output_type": "display_data"
    }
   ],
   "source": [
    "aucname = 'auc_4'\n",
    "\n",
    "auc_values = history_dict[aucname]\n",
    "val_auc_values = history_dict['val_'+aucname]\n",
    "epochs = range(1, len(auc_values)+1)\n",
    "\n",
    "plt.plot(epochs, auc_values, 'bo', label='Training auc')\n",
    "plt.plot(epochs, val_auc_values, 'b', label='Validation auc')\n",
    "plt.title(\"Training and validation auc\")\n",
    "plt.xlabel(\"Epochs\")\n",
    "plt.ylabel(\"AUC\")\n",
    "plt.legend()\n",
    "\n",
    "plt.show()"
   ]
  },
  {
   "cell_type": "code",
   "execution_count": 66,
   "metadata": {},
   "outputs": [],
   "source": [
    "predictions = mlp.predict(X_test)"
   ]
  },
  {
   "cell_type": "code",
   "execution_count": 67,
   "metadata": {},
   "outputs": [
    {
     "data": {
      "text/plain": [
       "(15540,)"
      ]
     },
     "execution_count": 67,
     "metadata": {},
     "output_type": "execute_result"
    }
   ],
   "source": [
    "y_test.shape"
   ]
  },
  {
   "cell_type": "code",
   "execution_count": 68,
   "metadata": {},
   "outputs": [
    {
     "data": {
      "text/plain": [
       "54"
      ]
     },
     "execution_count": 68,
     "metadata": {},
     "output_type": "execute_result"
    }
   ],
   "source": [
    "y_test.sum()"
   ]
  },
  {
   "cell_type": "code",
   "execution_count": 69,
   "metadata": {},
   "outputs": [
    {
     "data": {
      "text/plain": [
       "1481.0"
      ]
     },
     "execution_count": 69,
     "metadata": {},
     "output_type": "execute_result"
    }
   ],
   "source": [
    "predictions.round().sum()"
   ]
  },
  {
   "cell_type": "code",
   "execution_count": 70,
   "metadata": {},
   "outputs": [
    {
     "name": "stdout",
     "output_type": "stream",
     "text": [
      "AUC: 0.8553388723865283\n"
     ]
    }
   ],
   "source": [
    "from sklearn.metrics import precision_recall_curve, roc_curve, roc_auc_score, confusion_matrix\n",
    "fpr, tpr, thresholds = roc_curve(y_test, predictions) #false positive rate, true positive rate and thresholds\n",
    "auc = roc_auc_score(y_test, predictions)\n",
    "        \n",
    "print('AUC: {}'.format(auc))"
   ]
  },
  {
   "cell_type": "code",
   "execution_count": 71,
   "metadata": {},
   "outputs": [
    {
     "data": {
      "text/plain": [
       "array([[14033,  1453],\n",
       "       [   26,    28]], dtype=int64)"
      ]
     },
     "execution_count": 71,
     "metadata": {},
     "output_type": "execute_result"
    }
   ],
   "source": [
    "cm = confusion_matrix(y_test, predictions.round())\n",
    "cm"
   ]
  },
  {
   "cell_type": "code",
   "execution_count": 72,
   "metadata": {},
   "outputs": [
    {
     "name": "stdout",
     "output_type": "stream",
     "text": [
      "Confusion matrix: \n",
      "[[0.90617 0.09383]\n",
      " [0.00168 0.00181]]\n"
     ]
    },
    {
     "data": {
      "text/plain": [
       "array([[0.90617332, 0.09382668],\n",
       "       [0.00167894, 0.00180808]])"
      ]
     },
     "execution_count": 72,
     "metadata": {},
     "output_type": "execute_result"
    }
   ],
   "source": [
    "from models_utils import cm_ratio\n",
    "cm_ratio(cm)"
   ]
  },
  {
   "cell_type": "code",
   "execution_count": 34,
   "metadata": {},
   "outputs": [
    {
     "data": {
      "text/plain": [
       "{'fpr': array([0.        , 0.00445564, 0.00452021, ..., 0.9997417 , 0.99987085,\n",
       "        1.        ]),\n",
       " 'tpr': array([0., 0., 0., ..., 1., 1., 1.]),\n",
       " 'auc': 0.7886131320523675,\n",
       " 'rcm': array([[0.8366912 , 0.1633088 ],\n",
       "        [0.00200181, 0.00148521]])}"
      ]
     },
     "execution_count": 34,
     "metadata": {},
     "output_type": "execute_result"
    }
   ],
   "source": [
    "results_folder = '../data/viz_data/enriched_time_opt_p180_bg_/'\n",
    "filename = 'time_2018-02-20_p180_bg__RandomForestClassifier_190721_239_viz.pkl'\n",
    "\n",
    "res = pd.read_pickle(results_folder+filename)\n",
    "res['RandomForestClassifier_time_2018-02-20_p180_bg_testing']"
   ]
  },
  {
   "cell_type": "code",
   "execution_count": null,
   "metadata": {},
   "outputs": [],
   "source": []
  }
 ],
 "metadata": {
  "kernelspec": {
   "display_name": "Python 3",
   "language": "python",
   "name": "python3"
  },
  "language_info": {
   "codemirror_mode": {
    "name": "ipython",
    "version": 3
   },
   "file_extension": ".py",
   "mimetype": "text/x-python",
   "name": "python",
   "nbconvert_exporter": "python",
   "pygments_lexer": "ipython3",
   "version": "3.6.8"
  }
 },
 "nbformat": 4,
 "nbformat_minor": 2
}

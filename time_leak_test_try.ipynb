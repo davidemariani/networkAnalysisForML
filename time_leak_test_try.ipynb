{
 "cells": [
  {
   "cell_type": "code",
   "execution_count": 1,
   "metadata": {},
   "outputs": [
    {
     "data": {
      "text/html": [
       "\n",
       "    <div class=\"bk-root\">\n",
       "        <a href=\"https://bokeh.pydata.org\" target=\"_blank\" class=\"bk-logo bk-logo-small bk-logo-notebook\"></a>\n",
       "        <span id=\"1001\">Loading BokehJS ...</span>\n",
       "    </div>"
      ]
     },
     "metadata": {},
     "output_type": "display_data"
    },
    {
     "data": {
      "application/javascript": [
       "\n",
       "(function(root) {\n",
       "  function now() {\n",
       "    return new Date();\n",
       "  }\n",
       "\n",
       "  var force = true;\n",
       "\n",
       "  if (typeof root._bokeh_onload_callbacks === \"undefined\" || force === true) {\n",
       "    root._bokeh_onload_callbacks = [];\n",
       "    root._bokeh_is_loading = undefined;\n",
       "  }\n",
       "\n",
       "  var JS_MIME_TYPE = 'application/javascript';\n",
       "  var HTML_MIME_TYPE = 'text/html';\n",
       "  var EXEC_MIME_TYPE = 'application/vnd.bokehjs_exec.v0+json';\n",
       "  var CLASS_NAME = 'output_bokeh rendered_html';\n",
       "\n",
       "  /**\n",
       "   * Render data to the DOM node\n",
       "   */\n",
       "  function render(props, node) {\n",
       "    var script = document.createElement(\"script\");\n",
       "    node.appendChild(script);\n",
       "  }\n",
       "\n",
       "  /**\n",
       "   * Handle when an output is cleared or removed\n",
       "   */\n",
       "  function handleClearOutput(event, handle) {\n",
       "    var cell = handle.cell;\n",
       "\n",
       "    var id = cell.output_area._bokeh_element_id;\n",
       "    var server_id = cell.output_area._bokeh_server_id;\n",
       "    // Clean up Bokeh references\n",
       "    if (id != null && id in Bokeh.index) {\n",
       "      Bokeh.index[id].model.document.clear();\n",
       "      delete Bokeh.index[id];\n",
       "    }\n",
       "\n",
       "    if (server_id !== undefined) {\n",
       "      // Clean up Bokeh references\n",
       "      var cmd = \"from bokeh.io.state import curstate; print(curstate().uuid_to_server['\" + server_id + \"'].get_sessions()[0].document.roots[0]._id)\";\n",
       "      cell.notebook.kernel.execute(cmd, {\n",
       "        iopub: {\n",
       "          output: function(msg) {\n",
       "            var id = msg.content.text.trim();\n",
       "            if (id in Bokeh.index) {\n",
       "              Bokeh.index[id].model.document.clear();\n",
       "              delete Bokeh.index[id];\n",
       "            }\n",
       "          }\n",
       "        }\n",
       "      });\n",
       "      // Destroy server and session\n",
       "      var cmd = \"import bokeh.io.notebook as ion; ion.destroy_server('\" + server_id + \"')\";\n",
       "      cell.notebook.kernel.execute(cmd);\n",
       "    }\n",
       "  }\n",
       "\n",
       "  /**\n",
       "   * Handle when a new output is added\n",
       "   */\n",
       "  function handleAddOutput(event, handle) {\n",
       "    var output_area = handle.output_area;\n",
       "    var output = handle.output;\n",
       "\n",
       "    // limit handleAddOutput to display_data with EXEC_MIME_TYPE content only\n",
       "    if ((output.output_type != \"display_data\") || (!output.data.hasOwnProperty(EXEC_MIME_TYPE))) {\n",
       "      return\n",
       "    }\n",
       "\n",
       "    var toinsert = output_area.element.find(\".\" + CLASS_NAME.split(' ')[0]);\n",
       "\n",
       "    if (output.metadata[EXEC_MIME_TYPE][\"id\"] !== undefined) {\n",
       "      toinsert[toinsert.length - 1].firstChild.textContent = output.data[JS_MIME_TYPE];\n",
       "      // store reference to embed id on output_area\n",
       "      output_area._bokeh_element_id = output.metadata[EXEC_MIME_TYPE][\"id\"];\n",
       "    }\n",
       "    if (output.metadata[EXEC_MIME_TYPE][\"server_id\"] !== undefined) {\n",
       "      var bk_div = document.createElement(\"div\");\n",
       "      bk_div.innerHTML = output.data[HTML_MIME_TYPE];\n",
       "      var script_attrs = bk_div.children[0].attributes;\n",
       "      for (var i = 0; i < script_attrs.length; i++) {\n",
       "        toinsert[toinsert.length - 1].firstChild.setAttribute(script_attrs[i].name, script_attrs[i].value);\n",
       "      }\n",
       "      // store reference to server id on output_area\n",
       "      output_area._bokeh_server_id = output.metadata[EXEC_MIME_TYPE][\"server_id\"];\n",
       "    }\n",
       "  }\n",
       "\n",
       "  function register_renderer(events, OutputArea) {\n",
       "\n",
       "    function append_mime(data, metadata, element) {\n",
       "      // create a DOM node to render to\n",
       "      var toinsert = this.create_output_subarea(\n",
       "        metadata,\n",
       "        CLASS_NAME,\n",
       "        EXEC_MIME_TYPE\n",
       "      );\n",
       "      this.keyboard_manager.register_events(toinsert);\n",
       "      // Render to node\n",
       "      var props = {data: data, metadata: metadata[EXEC_MIME_TYPE]};\n",
       "      render(props, toinsert[toinsert.length - 1]);\n",
       "      element.append(toinsert);\n",
       "      return toinsert\n",
       "    }\n",
       "\n",
       "    /* Handle when an output is cleared or removed */\n",
       "    events.on('clear_output.CodeCell', handleClearOutput);\n",
       "    events.on('delete.Cell', handleClearOutput);\n",
       "\n",
       "    /* Handle when a new output is added */\n",
       "    events.on('output_added.OutputArea', handleAddOutput);\n",
       "\n",
       "    /**\n",
       "     * Register the mime type and append_mime function with output_area\n",
       "     */\n",
       "    OutputArea.prototype.register_mime_type(EXEC_MIME_TYPE, append_mime, {\n",
       "      /* Is output safe? */\n",
       "      safe: true,\n",
       "      /* Index of renderer in `output_area.display_order` */\n",
       "      index: 0\n",
       "    });\n",
       "  }\n",
       "\n",
       "  // register the mime type if in Jupyter Notebook environment and previously unregistered\n",
       "  if (root.Jupyter !== undefined) {\n",
       "    var events = require('base/js/events');\n",
       "    var OutputArea = require('notebook/js/outputarea').OutputArea;\n",
       "\n",
       "    if (OutputArea.prototype.mime_types().indexOf(EXEC_MIME_TYPE) == -1) {\n",
       "      register_renderer(events, OutputArea);\n",
       "    }\n",
       "  }\n",
       "\n",
       "  \n",
       "  if (typeof (root._bokeh_timeout) === \"undefined\" || force === true) {\n",
       "    root._bokeh_timeout = Date.now() + 5000;\n",
       "    root._bokeh_failed_load = false;\n",
       "  }\n",
       "\n",
       "  var NB_LOAD_WARNING = {'data': {'text/html':\n",
       "     \"<div style='background-color: #fdd'>\\n\"+\n",
       "     \"<p>\\n\"+\n",
       "     \"BokehJS does not appear to have successfully loaded. If loading BokehJS from CDN, this \\n\"+\n",
       "     \"may be due to a slow or bad network connection. Possible fixes:\\n\"+\n",
       "     \"</p>\\n\"+\n",
       "     \"<ul>\\n\"+\n",
       "     \"<li>re-rerun `output_notebook()` to attempt to load from CDN again, or</li>\\n\"+\n",
       "     \"<li>use INLINE resources instead, as so:</li>\\n\"+\n",
       "     \"</ul>\\n\"+\n",
       "     \"<code>\\n\"+\n",
       "     \"from bokeh.resources import INLINE\\n\"+\n",
       "     \"output_notebook(resources=INLINE)\\n\"+\n",
       "     \"</code>\\n\"+\n",
       "     \"</div>\"}};\n",
       "\n",
       "  function display_loaded() {\n",
       "    var el = document.getElementById(\"1001\");\n",
       "    if (el != null) {\n",
       "      el.textContent = \"BokehJS is loading...\";\n",
       "    }\n",
       "    if (root.Bokeh !== undefined) {\n",
       "      if (el != null) {\n",
       "        el.textContent = \"BokehJS \" + root.Bokeh.version + \" successfully loaded.\";\n",
       "      }\n",
       "    } else if (Date.now() < root._bokeh_timeout) {\n",
       "      setTimeout(display_loaded, 100)\n",
       "    }\n",
       "  }\n",
       "\n",
       "\n",
       "  function run_callbacks() {\n",
       "    try {\n",
       "      root._bokeh_onload_callbacks.forEach(function(callback) {\n",
       "        if (callback != null)\n",
       "          callback();\n",
       "      });\n",
       "    } finally {\n",
       "      delete root._bokeh_onload_callbacks\n",
       "    }\n",
       "    console.debug(\"Bokeh: all callbacks have finished\");\n",
       "  }\n",
       "\n",
       "  function load_libs(css_urls, js_urls, callback) {\n",
       "    if (css_urls == null) css_urls = [];\n",
       "    if (js_urls == null) js_urls = [];\n",
       "\n",
       "    root._bokeh_onload_callbacks.push(callback);\n",
       "    if (root._bokeh_is_loading > 0) {\n",
       "      console.debug(\"Bokeh: BokehJS is being loaded, scheduling callback at\", now());\n",
       "      return null;\n",
       "    }\n",
       "    if (js_urls == null || js_urls.length === 0) {\n",
       "      run_callbacks();\n",
       "      return null;\n",
       "    }\n",
       "    console.debug(\"Bokeh: BokehJS not loaded, scheduling load and callback at\", now());\n",
       "    root._bokeh_is_loading = css_urls.length + js_urls.length;\n",
       "\n",
       "    function on_load() {\n",
       "      root._bokeh_is_loading--;\n",
       "      if (root._bokeh_is_loading === 0) {\n",
       "        console.debug(\"Bokeh: all BokehJS libraries/stylesheets loaded\");\n",
       "        run_callbacks()\n",
       "      }\n",
       "    }\n",
       "\n",
       "    function on_error() {\n",
       "      console.error(\"failed to load \" + url);\n",
       "    }\n",
       "\n",
       "    for (var i = 0; i < css_urls.length; i++) {\n",
       "      var url = css_urls[i];\n",
       "      const element = document.createElement(\"link\");\n",
       "      element.onload = on_load;\n",
       "      element.onerror = on_error;\n",
       "      element.rel = \"stylesheet\";\n",
       "      element.type = \"text/css\";\n",
       "      element.href = url;\n",
       "      console.debug(\"Bokeh: injecting link tag for BokehJS stylesheet: \", url);\n",
       "      document.body.appendChild(element);\n",
       "    }\n",
       "\n",
       "    for (var i = 0; i < js_urls.length; i++) {\n",
       "      var url = js_urls[i];\n",
       "      var element = document.createElement('script');\n",
       "      element.onload = on_load;\n",
       "      element.onerror = on_error;\n",
       "      element.async = false;\n",
       "      element.src = url;\n",
       "      console.debug(\"Bokeh: injecting script tag for BokehJS library: \", url);\n",
       "      document.head.appendChild(element);\n",
       "    }\n",
       "  };var element = document.getElementById(\"1001\");\n",
       "  if (element == null) {\n",
       "    console.error(\"Bokeh: ERROR: autoload.js configured with elementid '1001' but no matching script tag was found. \")\n",
       "    return false;\n",
       "  }\n",
       "\n",
       "  function inject_raw_css(css) {\n",
       "    const element = document.createElement(\"style\");\n",
       "    element.appendChild(document.createTextNode(css));\n",
       "    document.body.appendChild(element);\n",
       "  }\n",
       "\n",
       "  var js_urls = [\"https://cdn.pydata.org/bokeh/release/bokeh-1.2.0.min.js\", \"https://cdn.pydata.org/bokeh/release/bokeh-widgets-1.2.0.min.js\", \"https://cdn.pydata.org/bokeh/release/bokeh-tables-1.2.0.min.js\", \"https://cdn.pydata.org/bokeh/release/bokeh-gl-1.2.0.min.js\"];\n",
       "  var css_urls = [\"https://cdn.pydata.org/bokeh/release/bokeh-1.2.0.min.css\", \"https://cdn.pydata.org/bokeh/release/bokeh-widgets-1.2.0.min.css\", \"https://cdn.pydata.org/bokeh/release/bokeh-tables-1.2.0.min.css\"];\n",
       "\n",
       "  var inline_js = [\n",
       "    function(Bokeh) {\n",
       "      Bokeh.set_log_level(\"info\");\n",
       "    },\n",
       "    \n",
       "    function(Bokeh) {\n",
       "      \n",
       "    },\n",
       "    function(Bokeh) {} // ensure no trailing comma for IE\n",
       "  ];\n",
       "\n",
       "  function run_inline_js() {\n",
       "    \n",
       "    if ((root.Bokeh !== undefined) || (force === true)) {\n",
       "      for (var i = 0; i < inline_js.length; i++) {\n",
       "        inline_js[i].call(root, root.Bokeh);\n",
       "      }if (force === true) {\n",
       "        display_loaded();\n",
       "      }} else if (Date.now() < root._bokeh_timeout) {\n",
       "      setTimeout(run_inline_js, 100);\n",
       "    } else if (!root._bokeh_failed_load) {\n",
       "      console.log(\"Bokeh: BokehJS failed to load within specified timeout.\");\n",
       "      root._bokeh_failed_load = true;\n",
       "    } else if (force !== true) {\n",
       "      var cell = $(document.getElementById(\"1001\")).parents('.cell').data().cell;\n",
       "      cell.output_area.append_execute_result(NB_LOAD_WARNING)\n",
       "    }\n",
       "\n",
       "  }\n",
       "\n",
       "  if (root._bokeh_is_loading === 0) {\n",
       "    console.debug(\"Bokeh: BokehJS loaded, going straight to plotting\");\n",
       "    run_inline_js();\n",
       "  } else {\n",
       "    load_libs(css_urls, js_urls, function() {\n",
       "      console.debug(\"Bokeh: BokehJS plotting callback run at\", now());\n",
       "      run_inline_js();\n",
       "    });\n",
       "  }\n",
       "}(window));"
      ],
      "application/vnd.bokehjs_load.v0+json": "\n(function(root) {\n  function now() {\n    return new Date();\n  }\n\n  var force = true;\n\n  if (typeof root._bokeh_onload_callbacks === \"undefined\" || force === true) {\n    root._bokeh_onload_callbacks = [];\n    root._bokeh_is_loading = undefined;\n  }\n\n  \n\n  \n  if (typeof (root._bokeh_timeout) === \"undefined\" || force === true) {\n    root._bokeh_timeout = Date.now() + 5000;\n    root._bokeh_failed_load = false;\n  }\n\n  var NB_LOAD_WARNING = {'data': {'text/html':\n     \"<div style='background-color: #fdd'>\\n\"+\n     \"<p>\\n\"+\n     \"BokehJS does not appear to have successfully loaded. If loading BokehJS from CDN, this \\n\"+\n     \"may be due to a slow or bad network connection. Possible fixes:\\n\"+\n     \"</p>\\n\"+\n     \"<ul>\\n\"+\n     \"<li>re-rerun `output_notebook()` to attempt to load from CDN again, or</li>\\n\"+\n     \"<li>use INLINE resources instead, as so:</li>\\n\"+\n     \"</ul>\\n\"+\n     \"<code>\\n\"+\n     \"from bokeh.resources import INLINE\\n\"+\n     \"output_notebook(resources=INLINE)\\n\"+\n     \"</code>\\n\"+\n     \"</div>\"}};\n\n  function display_loaded() {\n    var el = document.getElementById(\"1001\");\n    if (el != null) {\n      el.textContent = \"BokehJS is loading...\";\n    }\n    if (root.Bokeh !== undefined) {\n      if (el != null) {\n        el.textContent = \"BokehJS \" + root.Bokeh.version + \" successfully loaded.\";\n      }\n    } else if (Date.now() < root._bokeh_timeout) {\n      setTimeout(display_loaded, 100)\n    }\n  }\n\n\n  function run_callbacks() {\n    try {\n      root._bokeh_onload_callbacks.forEach(function(callback) {\n        if (callback != null)\n          callback();\n      });\n    } finally {\n      delete root._bokeh_onload_callbacks\n    }\n    console.debug(\"Bokeh: all callbacks have finished\");\n  }\n\n  function load_libs(css_urls, js_urls, callback) {\n    if (css_urls == null) css_urls = [];\n    if (js_urls == null) js_urls = [];\n\n    root._bokeh_onload_callbacks.push(callback);\n    if (root._bokeh_is_loading > 0) {\n      console.debug(\"Bokeh: BokehJS is being loaded, scheduling callback at\", now());\n      return null;\n    }\n    if (js_urls == null || js_urls.length === 0) {\n      run_callbacks();\n      return null;\n    }\n    console.debug(\"Bokeh: BokehJS not loaded, scheduling load and callback at\", now());\n    root._bokeh_is_loading = css_urls.length + js_urls.length;\n\n    function on_load() {\n      root._bokeh_is_loading--;\n      if (root._bokeh_is_loading === 0) {\n        console.debug(\"Bokeh: all BokehJS libraries/stylesheets loaded\");\n        run_callbacks()\n      }\n    }\n\n    function on_error() {\n      console.error(\"failed to load \" + url);\n    }\n\n    for (var i = 0; i < css_urls.length; i++) {\n      var url = css_urls[i];\n      const element = document.createElement(\"link\");\n      element.onload = on_load;\n      element.onerror = on_error;\n      element.rel = \"stylesheet\";\n      element.type = \"text/css\";\n      element.href = url;\n      console.debug(\"Bokeh: injecting link tag for BokehJS stylesheet: \", url);\n      document.body.appendChild(element);\n    }\n\n    for (var i = 0; i < js_urls.length; i++) {\n      var url = js_urls[i];\n      var element = document.createElement('script');\n      element.onload = on_load;\n      element.onerror = on_error;\n      element.async = false;\n      element.src = url;\n      console.debug(\"Bokeh: injecting script tag for BokehJS library: \", url);\n      document.head.appendChild(element);\n    }\n  };var element = document.getElementById(\"1001\");\n  if (element == null) {\n    console.error(\"Bokeh: ERROR: autoload.js configured with elementid '1001' but no matching script tag was found. \")\n    return false;\n  }\n\n  function inject_raw_css(css) {\n    const element = document.createElement(\"style\");\n    element.appendChild(document.createTextNode(css));\n    document.body.appendChild(element);\n  }\n\n  var js_urls = [\"https://cdn.pydata.org/bokeh/release/bokeh-1.2.0.min.js\", \"https://cdn.pydata.org/bokeh/release/bokeh-widgets-1.2.0.min.js\", \"https://cdn.pydata.org/bokeh/release/bokeh-tables-1.2.0.min.js\", \"https://cdn.pydata.org/bokeh/release/bokeh-gl-1.2.0.min.js\"];\n  var css_urls = [\"https://cdn.pydata.org/bokeh/release/bokeh-1.2.0.min.css\", \"https://cdn.pydata.org/bokeh/release/bokeh-widgets-1.2.0.min.css\", \"https://cdn.pydata.org/bokeh/release/bokeh-tables-1.2.0.min.css\"];\n\n  var inline_js = [\n    function(Bokeh) {\n      Bokeh.set_log_level(\"info\");\n    },\n    \n    function(Bokeh) {\n      \n    },\n    function(Bokeh) {} // ensure no trailing comma for IE\n  ];\n\n  function run_inline_js() {\n    \n    if ((root.Bokeh !== undefined) || (force === true)) {\n      for (var i = 0; i < inline_js.length; i++) {\n        inline_js[i].call(root, root.Bokeh);\n      }if (force === true) {\n        display_loaded();\n      }} else if (Date.now() < root._bokeh_timeout) {\n      setTimeout(run_inline_js, 100);\n    } else if (!root._bokeh_failed_load) {\n      console.log(\"Bokeh: BokehJS failed to load within specified timeout.\");\n      root._bokeh_failed_load = true;\n    } else if (force !== true) {\n      var cell = $(document.getElementById(\"1001\")).parents('.cell').data().cell;\n      cell.output_area.append_execute_result(NB_LOAD_WARNING)\n    }\n\n  }\n\n  if (root._bokeh_is_loading === 0) {\n    console.debug(\"Bokeh: BokehJS loaded, going straight to plotting\");\n    run_inline_js();\n  } else {\n    load_libs(css_urls, js_urls, function() {\n      console.debug(\"Bokeh: BokehJS plotting callback run at\", now());\n      run_inline_js();\n    });\n  }\n}(window));"
     },
     "metadata": {},
     "output_type": "display_data"
    }
   ],
   "source": [
    "import pandas as pd\n",
    "import numpy as np\n",
    "import pickle\n",
    "from os import environ\n",
    "\n",
    "from sklearn.model_selection import cross_val_predict, RandomizedSearchCV, GridSearchCV\n",
    "from sklearn.metrics import precision_recall_curve, roc_curve, roc_auc_score, confusion_matrix, make_scorer, accuracy_score\n",
    "from sklearn.linear_model import SGDClassifier, LogisticRegression\n",
    "from sklearn.ensemble import RandomForestClassifier\n",
    "\n",
    "from scripts_viz.visualization_utils import *\n",
    "from scripts_ml.models_utils import *\n",
    "\n",
    "from bokeh.io import show, output_notebook\n",
    "output_notebook()\n",
    "\n",
    "import datetime as dt"
   ]
  },
  {
   "cell_type": "code",
   "execution_count": 2,
   "metadata": {},
   "outputs": [],
   "source": [
    "#importing data\n",
    "\n",
    "#time_2018-04-30_imp_bg__val_12000_3000__traindata_190812_1612.pkl\n",
    "\n",
    "prefix = 'time_2018-04-30_imp_bg_'\n",
    "valid_code = '_val_12000_3000_'\n",
    "trainfile = '_traindata'\n",
    "testfile = '_testdata'\n",
    "postfix = '_190812_1612'\n",
    "preproc_folder = \"enriched_time_seq\"\n",
    "datafolder = \"../data/preproc_traintest/\"+preproc_folder+'/'\n",
    "indexfile = '_fold_indexes'\n",
    "\n",
    "[X_train, y_train, feature_labels] = pd.read_pickle(datafolder+prefix+valid_code+trainfile+postfix+'.pkl') \n",
    "[X_test, y_test, feature_labels] = pd.read_pickle(datafolder+prefix+valid_code+testfile+postfix+'.pkl') \n",
    "indexes = pd.read_pickle(datafolder+prefix+valid_code+indexfile+postfix+'.pkl')"
   ]
  },
  {
   "cell_type": "code",
   "execution_count": 3,
   "metadata": {},
   "outputs": [
    {
     "data": {
      "text/plain": [
       "11"
      ]
     },
     "execution_count": 3,
     "metadata": {},
     "output_type": "execute_result"
    }
   ],
   "source": [
    "len(indexes)"
   ]
  },
  {
   "cell_type": "code",
   "execution_count": 4,
   "metadata": {},
   "outputs": [
    {
     "data": {
      "text/plain": [
       "(33000, 35)"
      ]
     },
     "execution_count": 4,
     "metadata": {},
     "output_type": "execute_result"
    }
   ],
   "source": [
    "X_test.shape"
   ]
  },
  {
   "cell_type": "code",
   "execution_count": 5,
   "metadata": {},
   "outputs": [],
   "source": [
    "n_estimators = 200\n",
    "max_leaf_nodes = 40\n",
    "rf_clf = RandomForestClassifier(random_state=42,\n",
    "                               n_estimators=n_estimators,\n",
    "                               max_leaf_nodes=max_leaf_nodes,\n",
    "                               class_weight=\"balanced\",\n",
    "                               n_jobs=7)\n",
    "\n",
    "sgd_clf = SGDClassifier(random_state=42, max_iter=250, loss='log', tol=0.0001) \n",
    "\n",
    "model = rf_clf"
   ]
  },
  {
   "cell_type": "code",
   "execution_count": 6,
   "metadata": {},
   "outputs": [
    {
     "name": "stdout",
     "output_type": "stream",
     "text": [
      "Fold 1: train  on 13101 from index 0 to 13100, test on 3000 from 0 to 2999\n",
      "Fold 1 AUC: 0.908734724572288\n",
      "Fold 2: train  on 12000 from index 4101 to 16100, test on 3000 from 3000 to 5999\n",
      "Fold 2 AUC: 0.7906072307728607\n",
      "Fold 3: train  on 12000 from index 7101 to 19100, test on 3000 from 6000 to 8999\n",
      "Fold 3 AUC: 0.5623367803673406\n",
      "Fold 4: train  on 12000 from index 10101 to 22100, test on 3000 from 9000 to 11999\n",
      "Fold 4 AUC: 0.7062196533423668\n",
      "Fold 5: train  on 12000 from index 13101 to 25100, test on 3000 from 12000 to 14999\n",
      "Fold 5 AUC: 0.8569012178619756\n",
      "Fold 6: train  on 12000 from index 16101 to 28100, test on 3000 from 15000 to 17999\n",
      "Fold 6 AUC: 0.8455419765544219\n",
      "Fold 7: train  on 12000 from index 19101 to 31100, test on 3000 from 18000 to 20999\n",
      "Fold 7 AUC: 0.8358762416339628\n",
      "Fold 8: train  on 12000 from index 22101 to 34100, test on 3000 from 21000 to 23999\n",
      "Fold 8 AUC: 0.903902384165542\n",
      "Fold 9: train  on 12000 from index 25101 to 37100, test on 3000 from 24000 to 26999\n",
      "Fold 9 AUC: 0.7529011824324323\n",
      "Fold 10: train  on 12000 from index 28101 to 40100, test on 3000 from 27000 to 29999\n",
      "Fold 10 AUC: 0.7560197687098389\n",
      "Fold 11: train  on 12000 from index 31101 to 43100, test on 3000 from 30000 to 32999\n",
      "Fold 11 AUC: 0.6528764204545455\n",
      "Validation AUC 0.758\n"
     ]
    }
   ],
   "source": [
    "exp = model_diag_seq(model, X_train, y_train, specify_idxs=True, idx_tuples=indexes, X_test=X_test, y_test=y_test)"
   ]
  },
  {
   "cell_type": "code",
   "execution_count": 7,
   "metadata": {},
   "outputs": [
    {
     "data": {
      "text/plain": [
       "{'AUC_fold_1': 0.908734724572288,\n",
       " 'AUC_fold_2': 0.7906072307728607,\n",
       " 'AUC_fold_3': 0.5623367803673406,\n",
       " 'AUC_fold_4': 0.7062196533423668,\n",
       " 'AUC_fold_5': 0.8569012178619756,\n",
       " 'AUC_fold_6': 0.8455419765544219,\n",
       " 'AUC_fold_7': 0.8358762416339628,\n",
       " 'AUC_fold_8': 0.903902384165542,\n",
       " 'AUC_fold_9': 0.7529011824324323,\n",
       " 'AUC_fold_10': 0.7560197687098389,\n",
       " 'AUC_fold_11': 0.6528764204545455,\n",
       " 'fpr': array([0.00000000e+00, 3.08166410e-05, 6.16332820e-05, ...,\n",
       "        9.99876733e-01, 9.99938367e-01, 1.00000000e+00]),\n",
       " 'tpr': array([0., 0., 0., ..., 1., 1., 1.]),\n",
       " 'auc': 0.7577275808936825}"
      ]
     },
     "execution_count": 7,
     "metadata": {},
     "output_type": "execute_result"
    }
   ],
   "source": [
    "exp"
   ]
  },
  {
   "cell_type": "markdown",
   "metadata": {},
   "source": [
    "### TRAIN Data import"
   ]
  },
  {
   "cell_type": "code",
   "execution_count": 8,
   "metadata": {},
   "outputs": [],
   "source": [
    "#importing data\n",
    "prefix = 'time_2018-04-30_imp_bg_'\n",
    "trainfile = '_traindata'\n",
    "testfile = '_testdata'\n",
    "postfix = '_190812_1547'\n",
    "preproc_folder = \"enriched_time_seq\"\n",
    "datafolder = \"../data/preproc_traintest/\"+preproc_folder+'/'\n",
    "\n",
    "[X_train, y_train, feature_labels] = pd.read_pickle(datafolder+prefix+trainfile+postfix+'.pkl') \n",
    "[X_test, y_test, feature_labels] = pd.read_pickle(datafolder+prefix+testfile+postfix+'.pkl') "
   ]
  },
  {
   "cell_type": "code",
   "execution_count": 9,
   "metadata": {},
   "outputs": [
    {
     "name": "stdout",
     "output_type": "stream",
     "text": [
      "Confusion matrix: \n",
      "[[0.99665 0.00335]\n",
      " [0.03734 0.00662]]\n",
      "AUC 0.780\n"
     ]
    },
    {
     "data": {
      "text/html": [
       "\n",
       "\n",
       "\n",
       "\n",
       "\n",
       "\n",
       "  <div class=\"bk-root\" id=\"3a9ba027-8671-4dac-b546-5bf084f73577\" data-root-id=\"1005\"></div>\n"
      ]
     },
     "metadata": {},
     "output_type": "display_data"
    },
    {
     "data": {
      "application/javascript": [
       "(function(root) {\n",
       "  function embed_document(root) {\n",
       "    \n",
       "  var docs_json = {\"dd1462b1-9236-4dae-bfca-6ee2be1dfddf\":{\"roots\":{\"references\":[{\"attributes\":{\"below\":[{\"id\":\"1016\",\"type\":\"LinearAxis\"}],\"center\":[{\"id\":\"1020\",\"type\":\"Grid\"},{\"id\":\"1025\",\"type\":\"Grid\"},{\"id\":\"1041\",\"type\":\"Legend\"},{\"id\":\"1058\",\"type\":\"LabelSet\"}],\"left\":[{\"id\":\"1021\",\"type\":\"LinearAxis\"}],\"output_backend\":\"webgl\",\"renderers\":[{\"id\":\"1033\",\"type\":\"GlyphRenderer\"},{\"id\":\"1046\",\"type\":\"GlyphRenderer\"},{\"id\":\"1063\",\"type\":\"GlyphRenderer\"}],\"title\":{\"id\":\"1006\",\"type\":\"Title\"},\"toolbar\":{\"id\":\"1026\",\"type\":\"Toolbar\"},\"toolbar_location\":\"above\",\"x_range\":{\"id\":\"1008\",\"type\":\"DataRange1d\"},\"x_scale\":{\"id\":\"1012\",\"type\":\"LinearScale\"},\"y_range\":{\"id\":\"1010\",\"type\":\"DataRange1d\"},\"y_scale\":{\"id\":\"1014\",\"type\":\"LinearScale\"}},\"id\":\"1005\",\"subtype\":\"Figure\",\"type\":\"Plot\"},{\"attributes\":{},\"id\":\"1053\",\"type\":\"UnionRenderers\"},{\"attributes\":{},\"id\":\"1072\",\"type\":\"UnionRenderers\"},{\"attributes\":{\"callback\":null,\"data\":{\"x\":[0,1],\"y\":[0,1]},\"selected\":{\"id\":\"1054\",\"type\":\"Selection\"},\"selection_policy\":{\"id\":\"1053\",\"type\":\"UnionRenderers\"}},\"id\":\"1030\",\"type\":\"ColumnDataSource\"},{\"attributes\":{},\"id\":\"1074\",\"type\":\"UnionRenderers\"},{\"attributes\":{\"level\":\"glyph\",\"render_mode\":\"css\",\"source\":{\"id\":\"1057\",\"type\":\"ColumnDataSource\"},\"text\":{\"field\":\"text_lab\"},\"text_color\":{\"value\":\"black\"},\"text_font_size\":{\"value\":\"12pt\"},\"x\":{\"field\":\"fpr80_lab\"},\"x_offset\":{\"value\":-20},\"y\":{\"field\":\"select_point_lab\"},\"y_offset\":{\"value\":-28}},\"id\":\"1058\",\"type\":\"LabelSet\"},{\"attributes\":{\"label\":{\"value\":\"AUC = 0.5\"},\"renderers\":[{\"id\":\"1033\",\"type\":\"GlyphRenderer\"}]},\"id\":\"1042\",\"type\":\"LegendItem\"},{\"attributes\":{\"callback\":null},\"id\":\"1008\",\"type\":\"DataRange1d\"},{\"attributes\":{\"callback\":null},\"id\":\"1004\",\"type\":\"HoverTool\"},{\"attributes\":{\"bottom_units\":\"screen\",\"fill_alpha\":{\"value\":0.5},\"fill_color\":{\"value\":\"lightgrey\"},\"left_units\":\"screen\",\"level\":\"overlay\",\"line_alpha\":{\"value\":1.0},\"line_color\":{\"value\":\"black\"},\"line_dash\":[4,4],\"line_width\":{\"value\":2},\"render_mode\":\"css\",\"right_units\":\"screen\",\"top_units\":\"screen\"},\"id\":\"1040\",\"type\":\"BoxAnnotation\"},{\"attributes\":{},\"id\":\"1012\",\"type\":\"LinearScale\"},{\"attributes\":{\"callback\":null,\"data\":{\"x\":{\"__ndarray__\":\"AAAAAAAAAAAmQ4LijsIXP8L6MQY9ykQ/wvoxBj3KRD+Li9K+4LpKP4uL0r7guko/XbLhKevRUT9dsuEp69FRP8L6MQY9ylQ/wvoxBj3KVD9ZZ6rQtz5ZP1lnqtC3Plk/i4vSvuC6Wj+Li9K+4LpaP76v+qwJN1w/vq/6rAk3XD/w0yKbMrNdP/DTIpsys10/IvhKiVsvXz8i+EqJWy9fPyqOuTvCVWA/Ko65O8JVYD9dsuEp69FhP12y4Snr0WE/dsT1oP+PYj92xPWg/49iP4/WCRgUTmM/j9YJGBROYz+o6B2PKAxkP6joHY8oDGQ/2wxGfVGIZT/bDEZ9UYhlP/QeWvRlRmY/9B5a9GVGZj9AVZZZo4BoP0BVllmjgGg/cnm+R8z8aT9yeb5HzPxpP6Sd5jX1eGs/pJ3mNfV4az++r/qsCTdsP76v+qwJN2w/18EOJB71bD/XwQ4kHvVsP/DTIpsys20/8NMimzKzbT8i+EqJWy9vPyL4SolbL28/PApfAHDtbz88Cl8AcO1vP3+CSIPWW3o/f4JIg9Zbej+YlFz66hl7P5iUXPrqGXs/pJ3mNfV4ez+kneY19Xh7PxbvwE1R0H4/Fu/ATVHQfj88Cl8AcO1/PzwKXwBw7X8/sZJ+WUeFgD+xkn5ZR4WAP9atHAxmooE/1q0cDGaigT/8yLq+hL+CP/zIur6Ev4I/L+3irK07hD8v7eKsrTuEP84DvEFHKYU/zgO8QUcphT9UCIFfzFiFP1QIgV/MWIU/2wxGfVGIhT/bDEZ9UYiFP+cV0Lhb54U/5xXQuFvnhT+HLKlN9dSGP4csqU311IY/kzUzif8zhz+TNTOJ/zOHPyZDguKOwoc/JkOC4o7Chz/GWVt3KLCIP8ZZW3cosIg/TF4gla3fiD9MXiCVrd+IP9Ji5bIyD4k/0mLlsjIPiT9lcDQMwp2JP2VwNAzCnYk/BYcNoVuLij8Fhw2hW4uKPyuiq1N6qIs/K6KrU3qoiz/jyphfKFSNP+PKmF8oVI0//dys1jwSjj/93KzWPBKOPxbvwE1R0I4/Fu/ATVHQjj+p/A+n4F6PP6n8D6fgXo8/tQWa4uq9jz+1BZri6r2PP+cL16z/PZA/5wvXrP89kD+xkn5ZR4WQP7GSfllHhZA/DSd1Xx5bkT8NJ3VfHluRP5MrOn2jipE/kys6faOKkT/WrRwMZqKRP9atHAxmopE/oDTEuK3pkT+gNMS4remRP+O2pkdwAZI/47amR3ABkj+P1gkYFE6TP4/WCRgUTpM/cm/FO3BTlD9yb8U7cFOUP9sMRn1RiJU/2wxGfVGIlT+9pQGhrY2WP72lAaGtjZY/ULNQ+jwclz9Qs1D6PByXP5M1M4n/M5c/kzUzif8zlz9dvNo1R3uXP1282jVHe5c/rUdHABTylz+tR0cAFPKXP/zSs8rgaJg//NKzyuBomD9MXiCVrd+YP0xeIJWt35g/WWeq0Lc+mT9ZZ6rQtz6ZP99rb+48bpk/32tv7jxumT8i7lF9/4WZPyLuUX3/hZk/L/fbuAnlmT8v99u4CeWZP3J5vkfM/Jk/cnm+R8z8mT+YlFz66hmbP5iUXPrqGZs/pJ3mNfV4mz+kneY19XibPyuiq1N6qJs/K6KrU3qomz9uJI7iPMCbP24kjuI8wJs/N6s1j4QHnD83qzWPhAecP3otGB5HH5w/ei0YHkcfnD++r/qsCTecP76v+qwJN5w/yriE6BOWnD/KuIToE5acP13G00GjJJ0/XcbTQaMknT+gSLbQZTydP6BIttBlPJ0/48qYXyhUnT/jyphfKFSdPyZNe+7qa50/Jk177uprnT9qz119rYOdP2rPXX2tg50/LwHVxGWOnz8vAdXEZY6fP3KDt1Mopp8/coO3Uyimnz/nC9es/z2gP+cL16z/PaA/Ko65O8JVoD8qjrk7wlWgP49RDRJmeaA/j1ENEmZ5oD+xkn5ZR4WgP7GSfllHhaA/kys6faOKoT+TKzp9o4qhP9atHAxmoqE/1q0cDGaioT/47o1TR66hP/jujVNHrqE/O3Fw4gnGoT87cXDiCcahP609TvS3SKI/rT1O9LdIoj92xPWg/4+iP3bE9aD/j6I/YYwOlSjjoj9hjA6VKOOiP+eQ07KtEqM/55DTsq0Soz+o6B2PKAykP6joHY8oDKQ/i4HZsoQRpT+LgdmyhBGlP/BELYkoNaU/8EQtiSg1pT8Rhp7QCUGlPxGGntAJQaU/YRELm9a3pT9hEQub1relP6ST7SmZz6U/pJPtKZnPpT8rmLJHHv+lPyuYskce/6U/bhqV1uAWpj9uGpXW4BamP1nircoJaqY/WeKtyglqpj/f5nLojpmmP9/mcuiOmaY/yq6L3Lfspj/Krovct+ymP1CzUPo8HKc/ULNQ+jwcpz/XtxUYwkunP9e3FRjCS6c/fv1LfSiHpz9+/Ut9KIenP+PAn1PMqqc/48CfU8yqpz8RC5vWtxWoPxELm9a3Fag/mA9g9DxFqD+YD2D0PEWoP9uRQoP/XKg/25FCg/9cqD/80rPK4GioP/zSs8rgaKg/YZYHoYSMqD9hlgehhIyoP4PXeOhlmKg/g9d46GWYqD8W5cdB9SapPxblx0H1Jqk/Iu5Rff+FqT8i7lF9/4WpP8oziOJlwak/yjOI4mXBqT9yeb5HzPypP3J5vkfM/Kk/1zwSHnAgqj/XPBIecCCqPzsAZvQTRKo/OwBm9BNEqj/CBCsSmXOqP8IEKxKZc6o/EZCX3GXqqj8RkJfcZeqqP1USemsoAqs/VRJ6aygCqz9M4xybW7SrP0zjHJtbtKs/j2X/KR7Mqz+PZf8pHsyrP9Pn4bjg46s/0+fhuODjqz83qzWPhAesPzerNY+EB6w/ei0YHkcfrD96LRgeRx+sP9/wa/TqQqw/3/Br9OpCrD8ic06DrVqsPyJzToOtWqw/L3zYvre5rD8vfNi+t7msP3L+uk160aw/cv66TXrRrD/4AoBr/wCtP/gCgGv/AK0/BQwKpwlgrT8FDAqnCWCtP61RQAxwm60/rVFADHCbrT9MaBmhCYmuP0xoGaEJia4/WXGj3BPorj9ZcaPcE+iuP0Q5vNA8O68/RDm80Dw7rz88Cl8AcO2vPzwKXwBw7a8/NSqtwS0ssD81Kq3BLSywP91v4yaUZ7A/3W/jJpRnsD/r5QMYPU+xP+vlAxg9T7E/fIa8uy1VsT98hry7LVWxPy9o5qb/ZrE/L2jmpv9msT+/CJ9K8GyxP78In0rwbLE/curINcJ+sT9y6sg1wn6xPyTM8iCUkLE/JMzyIJSQsT9GDWRodZyxP0YNZGh1nLE/XbLhKevRsT9dsuEp69GxP6A0xLit6bE/oDTEuK3psT+32UF6Ix+yP7fZQXojH7I/HJ2VUMdCsj8cnZVQx0KyP6KhWm5McrI/oqFabkxysj8TbjiA+vSyPxNuOID69LI/pA7xI+v6sj+kDvEj6/qyP7EXe1/1WbM/sRd7X/VZsz+FOhaSqHezP4U6FpKod7M/qOgdjygMtD+o6B2PKAy0P5OwNoNRX7Q/k7A2g1FftD+qVbREx5S0P6pVtETHlLQ/PWMDnlYjtT89YwOeViO1P4Hl5SwZO7U/geXlLBk7tT8/0JlT9au1Pz/QmVP1q7U//rpNetEctj/+uk160Ry2P6YAhN83WLY/pgCE3zdYtj8LxNe123u2PwvE17Xbe7Y/vaUBoa2Ntj+9pQGhrY22PyJpVXdRsbY/ImlVd1Gxtj8NMW5regS3Pw0xbmt6BLc/cvTBQR4otz9y9MFBHii3PyTW6yzwObc/JNbrLPA5tz9VjX1lei24P1WNfWV6Lbg/KLAYmC1LuD8osBiYLUu4P5S6L4+tCLo/lLovj60Iuj/XPBIecCC6P9c8Eh5wILo/Gr/0rDI4uj8av/SsMji6P9sWP4mtMbs/2xY/ia0xuz9A2pJfUVW7P0Dakl9RVbs/Y4iaXNHpuz9jiJpc0em7PzHpbnRWQr0/MeludFZCvT8mTXvu6mu9PyZNe+7qa70/02zevo64vj/TbN6+jri+P2MNl2J/vr4/Yw2XYn++vj+IFn2ZkQXAP4gWfZmRBcA/DhtCtxY1wD8OG0K3FjXAPwlNSPTgScA/CU1I9OBJwD8nLVYuK/PAPyctVi4r88A/2g6AGf0EwT/aDoAZ/QTBPxjDaOWJMcE/GMNo5YkxwT8NJ3VfHlvBPw0ndV8eW8E/tWyrxISWwT+1bKvEhJbBPx/++F1epcE/H/74XV6lwT/zIJSQEcPBP/MglJARw8E/WlF+HFRvwj9aUX4cVG/CPwdlrkTwlcI/B2WuRPCVwj8lRbx+Oj/DPyVFvH46P8M/QrgzA+Zfwz9CuDMD5l/DP2IF2PLOkcQ/YgXY8s6RxD/ebamK6OrEP95tqYro6sQ/yTXCfhE+xT/JNcJ+ET7FP9sMRn1RiMU/2wxGfVGIxT/BBmWuRPDFP8EGZa5E8MU/LQVJ/byHxj8tBUn9vIfGP5HInNNgq8Y/kcic02Crxj9ruTHJSbTGP2u5MclJtMY/A5V65Q4uxz8DlXrlDi7HP5M1M4n/M8c/kzUzif8zxz+r2rBKdWnHP6vasEp1acc/pQy3hz9+xz+lDLeHP37HP+UtNglrM8g/5S02CWszyD9K8YnfDlfIP0rxid8OV8g/9hDtr7KjyT/2EO2vsqPJPzYybDHeWMo/NjJsMd5Yyj/ZqajTDqnKP9mpqNMOqco/+uoZG/C0yj/66hkb8LTKP4Hv3jh15Mo/ge/eOHXkyj81Pp/Z5X7LPzU+n9nlfss/a8Mq1aVdzD9rwyrVpV3MPzkYzEQjkMw/ORjMRCOQzD+e2x8bx7PMP57bHxvHs8w/lD8slVvdzD+UPyyVW93MP0FTXL33A80/QVNcvfcDzT8sG3WxIFfNPywbdbEgV80/AD4Q5NN0zT8APhDk03TNP86SsVNRp80/zpKxU1GnzT/gaTVSkfHNP+BpNVKR8c0/qvDc/tg4zj+q8Nz+2DjOP4VOCKpgys4/hU4IqmDKzj+XJYyooBTPP5cljKigFM8/0tPvoCiR0D/S0++gKJHQP2CNK2N+odA/YI0rY36h0D/KHnn8V7DQP8oeefxXsNA/MslJtJbJ0D8yyUm0lsnQP3VLLENZ4dA/dUssQ1nh0D8DBWgFr/HQPwMFaAWv8dA/yqSS0FtD0T/KpJLQW0PRP7o6pYe6gdE/ujqlh7qB0T/EXLLhKevRP8RcsuEp69E/3uishDoW0j/e6KyEOhbSP4gVYMs7R9I/iBVgyztH0j81KZDz123SPzUpkPPXbdI//Mi6voS/0j/8yLq+hL/SP76a68b7JdM/vprrxvsl0z8tgEz3DrPTPy2ATPcOs9M/UxXR1Sk91D9TFdHVKT3UPzkP8AYdpdQ/OQ/wBh2l1D9QtG3IktrUP1C0bciS2tQ/lR3NOPDn1D+VHc048OfUP0UYekInBNU/RRh6QicE1T89YwOeViPVPz1jA55WI9U/ucvUNXB81T+5y9Q1cHzVPwIcsYdof9U/Ahyxh2h/1T+IIHal7a7VP4ggdqXtrtU/VI6aM9Dr1T9Ujpoz0OvVP24aldbgFtY/bhqV1uAW1j+PWwYewiLWP49bBh7CItY/XrCnjT9V1j9esKeNP1XWPy0FSf28h9Y/LQVJ/byH1j+RyJzTYKvWP5HInNNgq9Y/GM1h8eXa1j8YzWHx5drWP1tPRICo8tY/W09EgKjy1j8NMW5regTXPw0xbmt6BNc/tXak0OA/1z+1dqTQ4D/XP4HkyF7DfNc/geTIXsN81z+34zqGf8jXP7fjOoZ/yNc/F9mUme0A2D8X2ZSZ7QDYP/cEugerfdg/9wS6B6t92D8RkbSqu6jYPxGRtKq7qNg/JU+1ipbo2D8lT7WKlujYP9B7aNGXGdk/0Hto0ZcZ2T9rPi7P94jZP2s+Ls/3iNk/s44KIfCL2T+zjgoh8IvZP4TKKHIItNk/hMoocgi02T9QOE0A6/DZP1A4TQDr8Nk/TlHQHlD72T9OUdAeUPvZP1C+ZtTug9o/UL5m1O6D2j/bkCW1qZ7aP9uQJbWpnto/RSJzToOt2j9FInNOg63aP0M79mzot9o/Qzv2bOi32j8w6otCrADbPzDqi0KsANs/vLxKI2cb2z+8vEojZxvbPz3zFX62X9s/PfMVfrZf2z81Pp/Z5X7bPzU+n9nlfts/Bnq9Kv6m2z8Ger0q/qbbP+el4pi7I9w/56XimLsj3D8GANf+ATrcPwYA1/4BOtw/yj6evBcp3T/KPp68FyndPw+o/Sx1Nt0/D6j9LHU23T9Fp29UMYLdP0Wnb1Qxgt0/FPwQxK603T8U/BDErrTdP+NQsjMs590/41CyMyzn3T9SNhNkP3TeP1I2E2Q/dN4/cJAHyoWK3j9wkAfKhYrePx6kN/Ihsd4/HqQ38iGx3j8gEc6nwDnfPyARzqfAOd8/0GZZ64kI4D/QZlnriQjgP5Vc+uoZG+A/lVz66hkb4D8T6Tt6TCDgPxPpO3pMIOA/ioMTTzCO4D+KgxNPMI7gP+9GZyXUseA/70ZnJdSx4D8inE+Bc77gPyKcT4FzvuA/xVB/OSLF4D/FUH85IsXgP7BVi0PJzuA/sFWLQ8nO4D8v4szS+9PgPy/izNL70+A/9Ndt0ovm4D/0123Si+bgP3Jkr2G+6+A/cmSvYb7r4D8nLVYuK/PgPyctVi4r8+A/N1pQYU7+4D83WlBhTv7gP1uCPorK/+A/W4I+isr/4D/I+ggFPwThP8j6CAU/BOE/GqrlxiQn4T8aquXGJCfhP5ZPqnS8NuE/lk+qdLw24T/HvRXvwE3hP8e9Fe/ATeE/ep8/2pJf4T96nz/akl/hP/grgWnFZOE/+CuBacVk4T9/MEaHSpThP38wRodKlOE/M7z5PTnl4T8zvPk9OeXhP4Bg6SZrZuI/gGDpJmtm4j89oROCKpjiPz2hE4IqmOI/5eZJ55DT4j/l5knnkNPiP2jHng39VuM/aMeeDf1W4z/Iu9tSFdHlP8i721IV0eU/7pmG77U35z/umYbvtTfnPwBxCu71gec/AHEK7vWB5z/WeiICRJXnP9Z6IgJElec/d0jV2Fem5z93SNXYV6bnP62EOhaSqOc/rYQ6FpKo5z8FAhGbrbbnPwUCEZuttuc/Oz522Oe45z87PnbY57jnP6XPw3HBx+c/pc/DccHH5z/oUaYAhN/nP+hRpgCE3+c/8rCmcHH/5z/ysKZwcf/nP4b76N9+ROg/hvvo335E6D/qvjy2ImjoP+q+PLYiaOg/CRkxHGl+6D8JGTEcaX7oP7EhdGtRA+k/sSF0a1ED6T+mhYDl5SzpP6aFgOXlLOk/fNi+t7kc6j982L63uRzqP79aoUZ8NOo/v1qhRnw06j+6jKeDRknqP7qMp4NGSeo/yrmhtmlU6j/KuaG2aVTqP3+CSIPWW+o/f4JIg9Zb6j/9DooSCWHqP/0OihIJYeo/Rl9mZAFk6j9GX2ZkAWTqPx9Q+1nqbOo/H1D7Weps6j+Ock+ge7DqP45yT6B7sOo/VU9tgaa46j9VT22BprjqP2R8Z7TJw+o/ZHxntMnD6j+JpFXdRcXqP4mkVd1Fxeo/F16Rn5vV6j8XXpGfm9XqPzuGf8gX1+o/O4Z/yBfX6j9xwuQFUtnqP3HC5AVS2eo/zCY4bAjd6j/MJjhsCN3qP0qzefs64uo/SrN5+zri6j9IzPwZoOzqP0jM/Bmg7Oo/aQ1uYYH46j9pDW5hgfjqPwf0o1b6E+s/B/SjVvoT6z8jZxvbpTTrPyNnG9ulNOs/DIWqA7JI6z8MhaoDskjrPwmeLSIXU+s/CZ4tIhdT6z/jjsIXAFzrP+OOwhcAXOs/4KdFNmVm6z/gp0U2ZWbrP93AyFTKcOs/3cDIVMpw6z//ATqcq3zrP/8BOpyrfOs/xt5XfdaE6z/G3ld91oTrP/ozQNl1kes/+jNA2XWR6z/0ZUYWQKbrP/RlRhZApus/AazDZ8i76z8BrMNnyLvrP6F5dj7czOs/oXl2PtzM6z9ELqb2itPrP0QupvaK0+s/n5L5XEHX6z+fkvlcQdfrP4iwiIVN6+s/iLCIhU3r6z/NGej1qvjrP80Z6PWq+Os/N6s1j4QH7D83qzWPhAfsP8+GfqtJgew/z4Z+q0mB7D+WY5yMdInsP5ZjnIx0iew/hry7LVUR7T+GvLstVRHtP2Ia59jcou0/Yhrn2Nyi7T8AAAAAAADwPw==\",\"dtype\":\"float64\",\"shape\":[773]},\"y\":{\"__ndarray__\":\"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\",\"dtype\":\"float64\",\"shape\":[773]}},\"selected\":{\"id\":\"1073\",\"type\":\"Selection\"},\"selection_policy\":{\"id\":\"1072\",\"type\":\"UnionRenderers\"}},\"id\":\"1043\",\"type\":\"ColumnDataSource\"},{\"attributes\":{\"axis_label\":\"True Positive Rate\",\"formatter\":{\"id\":\"1037\",\"type\":\"BasicTickFormatter\"},\"ticker\":{\"id\":\"1022\",\"type\":\"BasicTicker\"}},\"id\":\"1021\",\"type\":\"LinearAxis\"},{\"attributes\":{\"data_source\":{\"id\":\"1043\",\"type\":\"ColumnDataSource\"},\"glyph\":{\"id\":\"1044\",\"type\":\"Line\"},\"hover_glyph\":null,\"muted_glyph\":null,\"nonselection_glyph\":{\"id\":\"1045\",\"type\":\"Line\"},\"selection_glyph\":null,\"view\":{\"id\":\"1047\",\"type\":\"CDSView\"}},\"id\":\"1046\",\"type\":\"GlyphRenderer\"},{\"attributes\":{\"axis_label\":\"False Positive Rate\",\"formatter\":{\"id\":\"1039\",\"type\":\"BasicTickFormatter\"},\"ticker\":{\"id\":\"1017\",\"type\":\"BasicTicker\"}},\"id\":\"1016\",\"type\":\"LinearAxis\"},{\"attributes\":{\"overlay\":{\"id\":\"1040\",\"type\":\"BoxAnnotation\"}},\"id\":\"1002\",\"type\":\"BoxZoomTool\"},{\"attributes\":{\"callback\":null,\"data\":{\"x\":[0.44104051481917883],\"y\":[0.8]},\"selected\":{\"id\":\"1075\",\"type\":\"Selection\"},\"selection_policy\":{\"id\":\"1074\",\"type\":\"UnionRenderers\"}},\"id\":\"1060\",\"type\":\"ColumnDataSource\"},{\"attributes\":{},\"id\":\"1054\",\"type\":\"Selection\"},{\"attributes\":{},\"id\":\"1037\",\"type\":\"BasicTickFormatter\"},{\"attributes\":{},\"id\":\"1077\",\"type\":\"UnionRenderers\"},{\"attributes\":{\"line_alpha\":0.1,\"line_color\":\"#1f77b4\",\"line_dash\":[4,4],\"x\":{\"field\":\"x\"},\"y\":{\"field\":\"y\"}},\"id\":\"1032\",\"type\":\"Line\"},{\"attributes\":{\"fill_color\":{\"value\":\"black\"},\"size\":{\"units\":\"screen\",\"value\":8},\"x\":{\"field\":\"x\"},\"y\":{\"field\":\"y\"}},\"id\":\"1061\",\"type\":\"Circle\"},{\"attributes\":{\"source\":{\"id\":\"1030\",\"type\":\"ColumnDataSource\"}},\"id\":\"1034\",\"type\":\"CDSView\"},{\"attributes\":{\"callback\":null,\"data\":{\"fpr80_lab\":[0.44104051481917883],\"select_point_lab\":[0.8],\"text_lab\":[\"0.441\"]},\"selected\":{\"id\":\"1078\",\"type\":\"Selection\"},\"selection_policy\":{\"id\":\"1077\",\"type\":\"UnionRenderers\"}},\"id\":\"1057\",\"type\":\"ColumnDataSource\"},{\"attributes\":{\"label\":{\"value\":\" SGD - test - AUC: 0.78\"},\"renderers\":[{\"id\":\"1046\",\"type\":\"GlyphRenderer\"}]},\"id\":\"1056\",\"type\":\"LegendItem\"},{\"attributes\":{},\"id\":\"1022\",\"type\":\"BasicTicker\"},{\"attributes\":{\"dimension\":1,\"ticker\":{\"id\":\"1022\",\"type\":\"BasicTicker\"}},\"id\":\"1025\",\"type\":\"Grid\"},{\"attributes\":{\"line_alpha\":0.1,\"line_color\":\"#1f77b4\",\"line_width\":3,\"x\":{\"field\":\"x\"},\"y\":{\"field\":\"y\"}},\"id\":\"1045\",\"type\":\"Line\"},{\"attributes\":{\"line_color\":\"#155C8A\",\"line_width\":3,\"x\":{\"field\":\"x\"},\"y\":{\"field\":\"y\"}},\"id\":\"1044\",\"type\":\"Line\"},{\"attributes\":{\"source\":{\"id\":\"1043\",\"type\":\"ColumnDataSource\"}},\"id\":\"1047\",\"type\":\"CDSView\"},{\"attributes\":{\"data_source\":{\"id\":\"1060\",\"type\":\"ColumnDataSource\"},\"glyph\":{\"id\":\"1061\",\"type\":\"Circle\"},\"hover_glyph\":null,\"muted_glyph\":null,\"nonselection_glyph\":{\"id\":\"1062\",\"type\":\"Circle\"},\"selection_glyph\":null,\"view\":{\"id\":\"1064\",\"type\":\"CDSView\"}},\"id\":\"1063\",\"type\":\"GlyphRenderer\"},{\"attributes\":{\"line_color\":\"grey\",\"line_dash\":[4,4],\"x\":{\"field\":\"x\"},\"y\":{\"field\":\"y\"}},\"id\":\"1031\",\"type\":\"Line\"},{\"attributes\":{\"background_fill_color\":{\"value\":\"white\"},\"click_policy\":\"hide\",\"items\":[{\"id\":\"1042\",\"type\":\"LegendItem\"},{\"id\":\"1056\",\"type\":\"LegendItem\"}],\"label_text_color\":{\"value\":\"black\"},\"label_text_font_size\":{\"value\":\"12pt\"},\"location\":\"bottom_right\"},\"id\":\"1041\",\"type\":\"Legend\"},{\"attributes\":{\"active_drag\":\"auto\",\"active_inspect\":\"auto\",\"active_multi\":null,\"active_scroll\":\"auto\",\"active_tap\":\"auto\",\"tools\":[{\"id\":\"1002\",\"type\":\"BoxZoomTool\"},{\"id\":\"1003\",\"type\":\"ResetTool\"},{\"id\":\"1004\",\"type\":\"HoverTool\"}]},\"id\":\"1026\",\"type\":\"Toolbar\"},{\"attributes\":{\"data_source\":{\"id\":\"1030\",\"type\":\"ColumnDataSource\"},\"glyph\":{\"id\":\"1031\",\"type\":\"Line\"},\"hover_glyph\":null,\"muted_glyph\":null,\"nonselection_glyph\":{\"id\":\"1032\",\"type\":\"Line\"},\"selection_glyph\":null,\"view\":{\"id\":\"1034\",\"type\":\"CDSView\"}},\"id\":\"1033\",\"type\":\"GlyphRenderer\"},{\"attributes\":{},\"id\":\"1014\",\"type\":\"LinearScale\"},{\"attributes\":{},\"id\":\"1003\",\"type\":\"ResetTool\"},{\"attributes\":{\"callback\":null},\"id\":\"1010\",\"type\":\"DataRange1d\"},{\"attributes\":{},\"id\":\"1078\",\"type\":\"Selection\"},{\"attributes\":{\"fill_alpha\":{\"value\":0.1},\"fill_color\":{\"value\":\"#1f77b4\"},\"line_alpha\":{\"value\":0.1},\"line_color\":{\"value\":\"#1f77b4\"},\"size\":{\"units\":\"screen\",\"value\":8},\"x\":{\"field\":\"x\"},\"y\":{\"field\":\"y\"}},\"id\":\"1062\",\"type\":\"Circle\"},{\"attributes\":{},\"id\":\"1039\",\"type\":\"BasicTickFormatter\"},{\"attributes\":{},\"id\":\"1075\",\"type\":\"Selection\"},{\"attributes\":{},\"id\":\"1073\",\"type\":\"Selection\"},{\"attributes\":{},\"id\":\"1017\",\"type\":\"BasicTicker\"},{\"attributes\":{\"source\":{\"id\":\"1060\",\"type\":\"ColumnDataSource\"}},\"id\":\"1064\",\"type\":\"CDSView\"},{\"attributes\":{\"ticker\":{\"id\":\"1017\",\"type\":\"BasicTicker\"}},\"id\":\"1020\",\"type\":\"Grid\"},{\"attributes\":{\"text\":\"\"},\"id\":\"1006\",\"type\":\"Title\"}],\"root_ids\":[\"1005\"]},\"title\":\"Bokeh Application\",\"version\":\"1.2.0\"}};\n",
       "  var render_items = [{\"docid\":\"dd1462b1-9236-4dae-bfca-6ee2be1dfddf\",\"roots\":{\"1005\":\"3a9ba027-8671-4dac-b546-5bf084f73577\"}}];\n",
       "  root.Bokeh.embed.embed_items_notebook(docs_json, render_items);\n",
       "\n",
       "  }\n",
       "  if (root.Bokeh !== undefined) {\n",
       "    embed_document(root);\n",
       "  } else {\n",
       "    var attempts = 0;\n",
       "    var timer = setInterval(function(root) {\n",
       "      if (root.Bokeh !== undefined) {\n",
       "        embed_document(root);\n",
       "        clearInterval(timer);\n",
       "      }\n",
       "      attempts++;\n",
       "      if (attempts > 100) {\n",
       "        console.log(\"Bokeh: ERROR: Unable to run BokehJS code because BokehJS library is missing\");\n",
       "        clearInterval(timer);\n",
       "      }\n",
       "    }, 10, root)\n",
       "  }\n",
       "})(window);"
      ],
      "application/vnd.bokehjs_exec.v0+json": ""
     },
     "metadata": {
      "application/vnd.bokehjs_exec.v0+json": {
       "id": "1005"
      }
     },
     "output_type": "display_data"
    }
   ],
   "source": [
    "#Linear model Stochastic Gradient Descent\n",
    "sgd_clf = SGDClassifier(random_state=42, max_iter=250, loss='log', tol=0.0001) \n",
    "sgd_clf.fit(X_train, y_train)\n",
    "sgd_test_diag = model_oostest(sgd_clf,X_test, y_test)\n",
    "sgd_test_auc = plot_rocs([sgd_test_diag], p_width=600, p_height=600, model_appendix=['SGD - test'])\n",
    "show(sgd_test_auc)"
   ]
  },
  {
   "cell_type": "code",
   "execution_count": 10,
   "metadata": {},
   "outputs": [
    {
     "name": "stdout",
     "output_type": "stream",
     "text": [
      "Confusion matrix: \n",
      "[[0.91752 0.08248]\n",
      " [0.00852 0.03544]]\n",
      "AUC 0.954\n"
     ]
    },
    {
     "data": {
      "text/html": [
       "\n",
       "\n",
       "\n",
       "\n",
       "\n",
       "\n",
       "  <div class=\"bk-root\" id=\"6753e2f7-a281-4186-b5e0-17721b665e18\" data-root-id=\"1166\"></div>\n"
      ]
     },
     "metadata": {},
     "output_type": "display_data"
    },
    {
     "data": {
      "application/javascript": [
       "(function(root) {\n",
       "  function embed_document(root) {\n",
       "    \n",
       "  var docs_json = {\"d9af973d-04b1-4fdd-b21a-a8eacf8d9dcb\":{\"roots\":{\"references\":[{\"attributes\":{\"below\":[{\"id\":\"1177\",\"type\":\"LinearAxis\"}],\"center\":[{\"id\":\"1181\",\"type\":\"Grid\"},{\"id\":\"1186\",\"type\":\"Grid\"},{\"id\":\"1202\",\"type\":\"Legend\"},{\"id\":\"1219\",\"type\":\"LabelSet\"}],\"left\":[{\"id\":\"1182\",\"type\":\"LinearAxis\"}],\"output_backend\":\"webgl\",\"renderers\":[{\"id\":\"1194\",\"type\":\"GlyphRenderer\"},{\"id\":\"1207\",\"type\":\"GlyphRenderer\"},{\"id\":\"1224\",\"type\":\"GlyphRenderer\"}],\"title\":{\"id\":\"1167\",\"type\":\"Title\"},\"toolbar\":{\"id\":\"1187\",\"type\":\"Toolbar\"},\"toolbar_location\":\"above\",\"x_range\":{\"id\":\"1169\",\"type\":\"DataRange1d\"},\"x_scale\":{\"id\":\"1173\",\"type\":\"LinearScale\"},\"y_range\":{\"id\":\"1171\",\"type\":\"DataRange1d\"},\"y_scale\":{\"id\":\"1175\",\"type\":\"LinearScale\"}},\"id\":\"1166\",\"subtype\":\"Figure\",\"type\":\"Plot\"},{\"attributes\":{\"callback\":null},\"id\":\"1171\",\"type\":\"DataRange1d\"},{\"attributes\":{\"callback\":null,\"data\":{\"x\":{\"__ndarray__\":\"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\",\"dtype\":\"float64\",\"shape\":[2591]},\"y\":{\"__ndarray__\":\"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\",\"dtype\":\"float64\",\"shape\":[2591]}},\"selected\":{\"id\":\"1248\",\"type\":\"Selection\"},\"selection_policy\":{\"id\":\"1247\",\"type\":\"UnionRenderers\"}},\"id\":\"1204\",\"type\":\"ColumnDataSource\"},{\"attributes\":{\"line_alpha\":0.1,\"line_color\":\"#1f77b4\",\"line_dash\":[4,4],\"x\":{\"field\":\"x\"},\"y\":{\"field\":\"y\"}},\"id\":\"1193\",\"type\":\"Line\"},{\"attributes\":{\"source\":{\"id\":\"1204\",\"type\":\"ColumnDataSource\"}},\"id\":\"1208\",\"type\":\"CDSView\"},{\"attributes\":{\"line_color\":\"grey\",\"line_dash\":[4,4],\"x\":{\"field\":\"x\"},\"y\":{\"field\":\"y\"}},\"id\":\"1192\",\"type\":\"Line\"},{\"attributes\":{\"axis_label\":\"False Positive Rate\",\"formatter\":{\"id\":\"1200\",\"type\":\"BasicTickFormatter\"},\"ticker\":{\"id\":\"1178\",\"type\":\"BasicTicker\"}},\"id\":\"1177\",\"type\":\"LinearAxis\"},{\"attributes\":{},\"id\":\"1214\",\"type\":\"UnionRenderers\"},{\"attributes\":{\"callback\":null,\"data\":{\"x\":[0.07586331913350856],\"y\":[0.8]},\"selected\":{\"id\":\"1250\",\"type\":\"Selection\"},\"selection_policy\":{\"id\":\"1249\",\"type\":\"UnionRenderers\"}},\"id\":\"1221\",\"type\":\"ColumnDataSource\"},{\"attributes\":{\"label\":{\"value\":\" RF - test - AUC: 0.95\"},\"renderers\":[{\"id\":\"1207\",\"type\":\"GlyphRenderer\"}]},\"id\":\"1217\",\"type\":\"LegendItem\"},{\"attributes\":{},\"id\":\"1252\",\"type\":\"UnionRenderers\"},{\"attributes\":{},\"id\":\"1178\",\"type\":\"BasicTicker\"},{\"attributes\":{},\"id\":\"1253\",\"type\":\"Selection\"},{\"attributes\":{\"level\":\"glyph\",\"render_mode\":\"css\",\"source\":{\"id\":\"1218\",\"type\":\"ColumnDataSource\"},\"text\":{\"field\":\"text_lab\"},\"text_color\":{\"value\":\"black\"},\"text_font_size\":{\"value\":\"12pt\"},\"x\":{\"field\":\"fpr80_lab\"},\"x_offset\":{\"value\":-20},\"y\":{\"field\":\"select_point_lab\"},\"y_offset\":{\"value\":-28}},\"id\":\"1219\",\"type\":\"LabelSet\"},{\"attributes\":{\"data_source\":{\"id\":\"1191\",\"type\":\"ColumnDataSource\"},\"glyph\":{\"id\":\"1192\",\"type\":\"Line\"},\"hover_glyph\":null,\"muted_glyph\":null,\"nonselection_glyph\":{\"id\":\"1193\",\"type\":\"Line\"},\"selection_glyph\":null,\"view\":{\"id\":\"1195\",\"type\":\"CDSView\"}},\"id\":\"1194\",\"type\":\"GlyphRenderer\"},{\"attributes\":{\"ticker\":{\"id\":\"1178\",\"type\":\"BasicTicker\"}},\"id\":\"1181\",\"type\":\"Grid\"},{\"attributes\":{\"line_alpha\":0.1,\"line_color\":\"#1f77b4\",\"line_width\":3,\"x\":{\"field\":\"x\"},\"y\":{\"field\":\"y\"}},\"id\":\"1206\",\"type\":\"Line\"},{\"attributes\":{\"axis_label\":\"True Positive Rate\",\"formatter\":{\"id\":\"1198\",\"type\":\"BasicTickFormatter\"},\"ticker\":{\"id\":\"1183\",\"type\":\"BasicTicker\"}},\"id\":\"1182\",\"type\":\"LinearAxis\"},{\"attributes\":{\"source\":{\"id\":\"1221\",\"type\":\"ColumnDataSource\"}},\"id\":\"1225\",\"type\":\"CDSView\"},{\"attributes\":{},\"id\":\"1247\",\"type\":\"UnionRenderers\"},{\"attributes\":{\"data_source\":{\"id\":\"1221\",\"type\":\"ColumnDataSource\"},\"glyph\":{\"id\":\"1222\",\"type\":\"Circle\"},\"hover_glyph\":null,\"muted_glyph\":null,\"nonselection_glyph\":{\"id\":\"1223\",\"type\":\"Circle\"},\"selection_glyph\":null,\"view\":{\"id\":\"1225\",\"type\":\"CDSView\"}},\"id\":\"1224\",\"type\":\"GlyphRenderer\"},{\"attributes\":{},\"id\":\"1183\",\"type\":\"BasicTicker\"},{\"attributes\":{\"label\":{\"value\":\"AUC = 0.5\"},\"renderers\":[{\"id\":\"1194\",\"type\":\"GlyphRenderer\"}]},\"id\":\"1203\",\"type\":\"LegendItem\"},{\"attributes\":{\"fill_alpha\":{\"value\":0.1},\"fill_color\":{\"value\":\"#1f77b4\"},\"line_alpha\":{\"value\":0.1},\"line_color\":{\"value\":\"#1f77b4\"},\"size\":{\"units\":\"screen\",\"value\":8},\"x\":{\"field\":\"x\"},\"y\":{\"field\":\"y\"}},\"id\":\"1223\",\"type\":\"Circle\"},{\"attributes\":{\"line_color\":\"#155C8A\",\"line_width\":3,\"x\":{\"field\":\"x\"},\"y\":{\"field\":\"y\"}},\"id\":\"1205\",\"type\":\"Line\"},{\"attributes\":{},\"id\":\"1175\",\"type\":\"LinearScale\"},{\"attributes\":{\"data_source\":{\"id\":\"1204\",\"type\":\"ColumnDataSource\"},\"glyph\":{\"id\":\"1205\",\"type\":\"Line\"},\"hover_glyph\":null,\"muted_glyph\":null,\"nonselection_glyph\":{\"id\":\"1206\",\"type\":\"Line\"},\"selection_glyph\":null,\"view\":{\"id\":\"1208\",\"type\":\"CDSView\"}},\"id\":\"1207\",\"type\":\"GlyphRenderer\"},{\"attributes\":{},\"id\":\"1173\",\"type\":\"LinearScale\"},{\"attributes\":{\"dimension\":1,\"ticker\":{\"id\":\"1183\",\"type\":\"BasicTicker\"}},\"id\":\"1186\",\"type\":\"Grid\"},{\"attributes\":{\"fill_color\":{\"value\":\"black\"},\"size\":{\"units\":\"screen\",\"value\":8},\"x\":{\"field\":\"x\"},\"y\":{\"field\":\"y\"}},\"id\":\"1222\",\"type\":\"Circle\"},{\"attributes\":{\"overlay\":{\"id\":\"1201\",\"type\":\"BoxAnnotation\"}},\"id\":\"1163\",\"type\":\"BoxZoomTool\"},{\"attributes\":{},\"id\":\"1200\",\"type\":\"BasicTickFormatter\"},{\"attributes\":{\"background_fill_color\":{\"value\":\"white\"},\"click_policy\":\"hide\",\"items\":[{\"id\":\"1203\",\"type\":\"LegendItem\"},{\"id\":\"1217\",\"type\":\"LegendItem\"}],\"label_text_color\":{\"value\":\"black\"},\"label_text_font_size\":{\"value\":\"12pt\"},\"location\":\"bottom_right\"},\"id\":\"1202\",\"type\":\"Legend\"},{\"attributes\":{\"callback\":null,\"data\":{\"x\":[0,1],\"y\":[0,1]},\"selected\":{\"id\":\"1215\",\"type\":\"Selection\"},\"selection_policy\":{\"id\":\"1214\",\"type\":\"UnionRenderers\"}},\"id\":\"1191\",\"type\":\"ColumnDataSource\"},{\"attributes\":{},\"id\":\"1198\",\"type\":\"BasicTickFormatter\"},{\"attributes\":{},\"id\":\"1248\",\"type\":\"Selection\"},{\"attributes\":{\"callback\":null},\"id\":\"1169\",\"type\":\"DataRange1d\"},{\"attributes\":{\"text\":\"\"},\"id\":\"1167\",\"type\":\"Title\"},{\"attributes\":{},\"id\":\"1164\",\"type\":\"ResetTool\"},{\"attributes\":{},\"id\":\"1249\",\"type\":\"UnionRenderers\"},{\"attributes\":{},\"id\":\"1215\",\"type\":\"Selection\"},{\"attributes\":{\"source\":{\"id\":\"1191\",\"type\":\"ColumnDataSource\"}},\"id\":\"1195\",\"type\":\"CDSView\"},{\"attributes\":{\"callback\":null},\"id\":\"1165\",\"type\":\"HoverTool\"},{\"attributes\":{\"bottom_units\":\"screen\",\"fill_alpha\":{\"value\":0.5},\"fill_color\":{\"value\":\"lightgrey\"},\"left_units\":\"screen\",\"level\":\"overlay\",\"line_alpha\":{\"value\":1.0},\"line_color\":{\"value\":\"black\"},\"line_dash\":[4,4],\"line_width\":{\"value\":2},\"render_mode\":\"css\",\"right_units\":\"screen\",\"top_units\":\"screen\"},\"id\":\"1201\",\"type\":\"BoxAnnotation\"},{\"attributes\":{},\"id\":\"1250\",\"type\":\"Selection\"},{\"attributes\":{\"active_drag\":\"auto\",\"active_inspect\":\"auto\",\"active_multi\":null,\"active_scroll\":\"auto\",\"active_tap\":\"auto\",\"tools\":[{\"id\":\"1163\",\"type\":\"BoxZoomTool\"},{\"id\":\"1164\",\"type\":\"ResetTool\"},{\"id\":\"1165\",\"type\":\"HoverTool\"}]},\"id\":\"1187\",\"type\":\"Toolbar\"},{\"attributes\":{\"callback\":null,\"data\":{\"fpr80_lab\":[0.07586331913350856],\"select_point_lab\":[0.8],\"text_lab\":[\"0.0759\"]},\"selected\":{\"id\":\"1253\",\"type\":\"Selection\"},\"selection_policy\":{\"id\":\"1252\",\"type\":\"UnionRenderers\"}},\"id\":\"1218\",\"type\":\"ColumnDataSource\"}],\"root_ids\":[\"1166\"]},\"title\":\"Bokeh Application\",\"version\":\"1.2.0\"}};\n",
       "  var render_items = [{\"docid\":\"d9af973d-04b1-4fdd-b21a-a8eacf8d9dcb\",\"roots\":{\"1166\":\"6753e2f7-a281-4186-b5e0-17721b665e18\"}}];\n",
       "  root.Bokeh.embed.embed_items_notebook(docs_json, render_items);\n",
       "\n",
       "  }\n",
       "  if (root.Bokeh !== undefined) {\n",
       "    embed_document(root);\n",
       "  } else {\n",
       "    var attempts = 0;\n",
       "    var timer = setInterval(function(root) {\n",
       "      if (root.Bokeh !== undefined) {\n",
       "        embed_document(root);\n",
       "        clearInterval(timer);\n",
       "      }\n",
       "      attempts++;\n",
       "      if (attempts > 100) {\n",
       "        console.log(\"Bokeh: ERROR: Unable to run BokehJS code because BokehJS library is missing\");\n",
       "        clearInterval(timer);\n",
       "      }\n",
       "    }, 10, root)\n",
       "  }\n",
       "})(window);"
      ],
      "application/vnd.bokehjs_exec.v0+json": ""
     },
     "metadata": {
      "application/vnd.bokehjs_exec.v0+json": {
       "id": "1166"
      }
     },
     "output_type": "display_data"
    }
   ],
   "source": [
    "#random forest - benchmark\n",
    "n_estimators = 200\n",
    "max_leaf_nodes = 40\n",
    "rf_clf = RandomForestClassifier(random_state=42,\n",
    "                               n_estimators=n_estimators,\n",
    "                               max_leaf_nodes=max_leaf_nodes,\n",
    "                               class_weight=\"balanced\",\n",
    "                               n_jobs=7)\n",
    "\n",
    "rf_clf.fit(X_train, y_train)\n",
    "rf_test_diag = model_oostest(rf_clf,X_test, y_test)\n",
    "rf_test_auc = plot_rocs([rf_test_diag], p_width=600, p_height=600, model_appendix=['RF - test'])\n",
    "show(rf_test_auc)"
   ]
  },
  {
   "cell_type": "code",
   "execution_count": null,
   "metadata": {},
   "outputs": [],
   "source": []
  }
 ],
 "metadata": {
  "kernelspec": {
   "display_name": "Python 3",
   "language": "python",
   "name": "python3"
  },
  "language_info": {
   "codemirror_mode": {
    "name": "ipython",
    "version": 3
   },
   "file_extension": ".py",
   "mimetype": "text/x-python",
   "name": "python",
   "nbconvert_exporter": "python",
   "pygments_lexer": "ipython3",
   "version": "3.6.8"
  }
 },
 "nbformat": 4,
 "nbformat_minor": 2
}

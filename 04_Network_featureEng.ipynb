{
 "cells": [
  {
   "cell_type": "markdown",
   "metadata": {},
   "source": [
    "# Network feature engineering - node/edge stats"
   ]
  },
  {
   "cell_type": "markdown",
   "metadata": {},
   "source": [
    "This notebook starts from the file generated at step 01 (notebook '01_instrumentsFeatures.ipynb') and performs feature engineering adding useful node/edge stats"
   ]
  },
  {
   "cell_type": "markdown",
   "metadata": {},
   "source": [
    "## Data import"
   ]
  },
  {
   "cell_type": "code",
   "execution_count": 1,
   "metadata": {},
   "outputs": [],
   "source": [
    "import pandas as pd\n",
    "import numpy as np\n",
    "import seaborn as sns\n",
    "import matplotlib.pyplot as plt\n",
    "import datetime\n",
    "import os\n",
    "import itertools"
   ]
  },
  {
   "cell_type": "code",
   "execution_count": 2,
   "metadata": {},
   "outputs": [
    {
     "data": {
      "text/html": [
       "<div>\n",
       "<style scoped>\n",
       "    .dataframe tbody tr th:only-of-type {\n",
       "        vertical-align: middle;\n",
       "    }\n",
       "\n",
       "    .dataframe tbody tr th {\n",
       "        vertical-align: top;\n",
       "    }\n",
       "\n",
       "    .dataframe thead th {\n",
       "        text-align: right;\n",
       "    }\n",
       "</style>\n",
       "<table border=\"1\" class=\"dataframe\">\n",
       "  <thead>\n",
       "    <tr style=\"text-align: right;\">\n",
       "      <th></th>\n",
       "      <th>customer_id</th>\n",
       "      <th>customer_name_1</th>\n",
       "      <th>debtor_id</th>\n",
       "      <th>debtor_name_1</th>\n",
       "      <th>invoice_number</th>\n",
       "      <th>invoice_date</th>\n",
       "      <th>due_date</th>\n",
       "      <th>invoice_amount</th>\n",
       "      <th>purchase_amount</th>\n",
       "      <th>purchase_amount_open</th>\n",
       "      <th>...</th>\n",
       "      <th>total_repayment</th>\n",
       "      <th>total_impairment</th>\n",
       "      <th>is_open</th>\n",
       "      <th>we_payment_share</th>\n",
       "      <th>has_purchase</th>\n",
       "      <th>has_deduction</th>\n",
       "      <th>is_due</th>\n",
       "      <th>has_discharge</th>\n",
       "      <th>cash_check</th>\n",
       "      <th>unexpl</th>\n",
       "    </tr>\n",
       "    <tr>\n",
       "      <th>uid</th>\n",
       "      <th></th>\n",
       "      <th></th>\n",
       "      <th></th>\n",
       "      <th></th>\n",
       "      <th></th>\n",
       "      <th></th>\n",
       "      <th></th>\n",
       "      <th></th>\n",
       "      <th></th>\n",
       "      <th></th>\n",
       "      <th></th>\n",
       "      <th></th>\n",
       "      <th></th>\n",
       "      <th></th>\n",
       "      <th></th>\n",
       "      <th></th>\n",
       "      <th></th>\n",
       "      <th></th>\n",
       "      <th></th>\n",
       "      <th></th>\n",
       "      <th></th>\n",
       "    </tr>\n",
       "  </thead>\n",
       "  <tbody>\n",
       "    <tr>\n",
       "      <th>2744:79/231</th>\n",
       "      <td>2004008</td>\n",
       "      <td>Castillo GmbH</td>\n",
       "      <td>79</td>\n",
       "      <td>Sana Hyannis Sarl</td>\n",
       "      <td>2744</td>\n",
       "      <td>2013-07-23</td>\n",
       "      <td>2013-08-02</td>\n",
       "      <td>913.70</td>\n",
       "      <td>0.0</td>\n",
       "      <td>0.0</td>\n",
       "      <td>...</td>\n",
       "      <td>0.00</td>\n",
       "      <td>0.00</td>\n",
       "      <td>False</td>\n",
       "      <td>NaN</td>\n",
       "      <td>False</td>\n",
       "      <td>False</td>\n",
       "      <td>True</td>\n",
       "      <td>True</td>\n",
       "      <td>913.70</td>\n",
       "      <td>True</td>\n",
       "    </tr>\n",
       "    <tr>\n",
       "      <th>2861:79/232</th>\n",
       "      <td>2004008</td>\n",
       "      <td>Castillo GmbH</td>\n",
       "      <td>79</td>\n",
       "      <td>Sana Hyannis Sarl</td>\n",
       "      <td>2861</td>\n",
       "      <td>2013-07-30</td>\n",
       "      <td>2013-08-09</td>\n",
       "      <td>2233.45</td>\n",
       "      <td>0.0</td>\n",
       "      <td>0.0</td>\n",
       "      <td>...</td>\n",
       "      <td>0.00</td>\n",
       "      <td>0.00</td>\n",
       "      <td>False</td>\n",
       "      <td>NaN</td>\n",
       "      <td>False</td>\n",
       "      <td>False</td>\n",
       "      <td>True</td>\n",
       "      <td>True</td>\n",
       "      <td>2233.45</td>\n",
       "      <td>True</td>\n",
       "    </tr>\n",
       "    <tr>\n",
       "      <th>2932:79/233</th>\n",
       "      <td>2004008</td>\n",
       "      <td>Castillo GmbH</td>\n",
       "      <td>79</td>\n",
       "      <td>Sana Hyannis Sarl</td>\n",
       "      <td>2932</td>\n",
       "      <td>2013-08-06</td>\n",
       "      <td>2013-08-16</td>\n",
       "      <td>1370.50</td>\n",
       "      <td>0.0</td>\n",
       "      <td>0.0</td>\n",
       "      <td>...</td>\n",
       "      <td>1370.50</td>\n",
       "      <td>0.00</td>\n",
       "      <td>False</td>\n",
       "      <td>1.0</td>\n",
       "      <td>False</td>\n",
       "      <td>False</td>\n",
       "      <td>True</td>\n",
       "      <td>False</td>\n",
       "      <td>0.00</td>\n",
       "      <td>False</td>\n",
       "    </tr>\n",
       "    <tr>\n",
       "      <th>1472:489/688</th>\n",
       "      <td>2004009</td>\n",
       "      <td>Orpheus Wyandotte Supply LLC</td>\n",
       "      <td>489</td>\n",
       "      <td>Isfahan SA</td>\n",
       "      <td>1472</td>\n",
       "      <td>2013-08-13</td>\n",
       "      <td>2013-08-23</td>\n",
       "      <td>9195.10</td>\n",
       "      <td>0.0</td>\n",
       "      <td>0.0</td>\n",
       "      <td>...</td>\n",
       "      <td>0.00</td>\n",
       "      <td>0.00</td>\n",
       "      <td>False</td>\n",
       "      <td>NaN</td>\n",
       "      <td>False</td>\n",
       "      <td>False</td>\n",
       "      <td>True</td>\n",
       "      <td>True</td>\n",
       "      <td>9195.10</td>\n",
       "      <td>True</td>\n",
       "    </tr>\n",
       "    <tr>\n",
       "      <th>2042:512/645</th>\n",
       "      <td>2004009</td>\n",
       "      <td>Orpheus Wyandotte Supply LLC</td>\n",
       "      <td>512</td>\n",
       "      <td>Aldrich Chloe GmbH</td>\n",
       "      <td>2042</td>\n",
       "      <td>2013-08-13</td>\n",
       "      <td>2013-08-23</td>\n",
       "      <td>4594.60</td>\n",
       "      <td>0.0</td>\n",
       "      <td>0.0</td>\n",
       "      <td>...</td>\n",
       "      <td>164.35</td>\n",
       "      <td>164.35</td>\n",
       "      <td>False</td>\n",
       "      <td>1.0</td>\n",
       "      <td>False</td>\n",
       "      <td>False</td>\n",
       "      <td>True</td>\n",
       "      <td>True</td>\n",
       "      <td>4265.90</td>\n",
       "      <td>True</td>\n",
       "    </tr>\n",
       "  </tbody>\n",
       "</table>\n",
       "<p>5 rows × 57 columns</p>\n",
       "</div>"
      ],
      "text/plain": [
       "             customer_id               customer_name_1 debtor_id  \\\n",
       "uid                                                                \n",
       "2744:79/231      2004008                 Castillo GmbH        79   \n",
       "2861:79/232      2004008                 Castillo GmbH        79   \n",
       "2932:79/233      2004008                 Castillo GmbH        79   \n",
       "1472:489/688     2004009  Orpheus Wyandotte Supply LLC       489   \n",
       "2042:512/645     2004009  Orpheus Wyandotte Supply LLC       512   \n",
       "\n",
       "                   debtor_name_1 invoice_number invoice_date   due_date  \\\n",
       "uid                                                                       \n",
       "2744:79/231    Sana Hyannis Sarl           2744   2013-07-23 2013-08-02   \n",
       "2861:79/232    Sana Hyannis Sarl           2861   2013-07-30 2013-08-09   \n",
       "2932:79/233    Sana Hyannis Sarl           2932   2013-08-06 2013-08-16   \n",
       "1472:489/688          Isfahan SA           1472   2013-08-13 2013-08-23   \n",
       "2042:512/645  Aldrich Chloe GmbH           2042   2013-08-13 2013-08-23   \n",
       "\n",
       "              invoice_amount  purchase_amount  purchase_amount_open  ...  \\\n",
       "uid                                                                  ...   \n",
       "2744:79/231           913.70              0.0                   0.0  ...   \n",
       "2861:79/232          2233.45              0.0                   0.0  ...   \n",
       "2932:79/233          1370.50              0.0                   0.0  ...   \n",
       "1472:489/688         9195.10              0.0                   0.0  ...   \n",
       "2042:512/645         4594.60              0.0                   0.0  ...   \n",
       "\n",
       "             total_repayment  total_impairment is_open we_payment_share  \\\n",
       "uid                                                                       \n",
       "2744:79/231             0.00              0.00   False              NaN   \n",
       "2861:79/232             0.00              0.00   False              NaN   \n",
       "2932:79/233          1370.50              0.00   False              1.0   \n",
       "1472:489/688            0.00              0.00   False              NaN   \n",
       "2042:512/645          164.35            164.35   False              1.0   \n",
       "\n",
       "             has_purchase  has_deduction is_due has_discharge cash_check  \\\n",
       "uid                                                                        \n",
       "2744:79/231         False          False   True          True     913.70   \n",
       "2861:79/232         False          False   True          True    2233.45   \n",
       "2932:79/233         False          False   True         False       0.00   \n",
       "1472:489/688        False          False   True          True    9195.10   \n",
       "2042:512/645        False          False   True          True    4265.90   \n",
       "\n",
       "             unexpl  \n",
       "uid                  \n",
       "2744:79/231    True  \n",
       "2861:79/232    True  \n",
       "2932:79/233   False  \n",
       "1472:489/688   True  \n",
       "2042:512/645   True  \n",
       "\n",
       "[5 rows x 57 columns]"
      ]
     },
     "execution_count": 2,
     "metadata": {},
     "output_type": "execute_result"
    }
   ],
   "source": [
    "#Instruments dataset\n",
    "#import data\n",
    "user = os.environ[\"USERNAME\"]\n",
    "\n",
    "#from home\n",
    "filename = \"instrumentsdf_2.pkl\"\n",
    "datafolder = \"C:/Users/{}/Dropbox/University/MscDataScience_Birkbeck/thesis_project/data/\".format(user)\n",
    "\n",
    "#from work\n",
    "#filename = \"181109_instruments_merged.pkl\"\n",
    "#datafolder = \"C:/Users/{}/Tradeteq Dropbox/Tradeteq Team/Clients/#GoFactoring/data analysis/\".format(user)\n",
    "\n",
    "inst = pd.read_pickle(datafolder+filename)\n",
    "inst.head()"
   ]
  },
  {
   "cell_type": "code",
   "execution_count": 3,
   "metadata": {},
   "outputs": [
    {
     "name": "stdout",
     "output_type": "stream",
     "text": [
      "59820 instruments\n"
     ]
    }
   ],
   "source": [
    "print(\"{:} instruments\".format(inst.shape[0]))"
   ]
  },
  {
   "cell_type": "code",
   "execution_count": 4,
   "metadata": {},
   "outputs": [
    {
     "name": "stdout",
     "output_type": "stream",
     "text": [
      "8213 open, 12181 with no payments\n"
     ]
    }
   ],
   "source": [
    "print(\"{:} open, {:} with no payments\".format(sum(inst.document_status==\"offen\") ,sum(inst.last_payment_date.isnull())))"
   ]
  },
  {
   "cell_type": "markdown",
   "metadata": {},
   "source": [
    "### 1. Retrieving first and last posting date and payment date mismatch"
   ]
  },
  {
   "cell_type": "code",
   "execution_count": 5,
   "metadata": {},
   "outputs": [],
   "source": [
    "inst[\"first_posting_date\"] = inst.posting_date.apply(lambda x: min(x))\n",
    "inst[\"last_posting_date\"] = inst.posting_date.apply(lambda x: max(x))\n",
    "inst[\"payment_date_mismatch\"] = (inst.last_payment_date - inst.due_date).dt.days"
   ]
  },
  {
   "cell_type": "markdown",
   "metadata": {},
   "source": [
    "### 2. Isolating date columns and calculating offsets from invoice_date"
   ]
  },
  {
   "cell_type": "code",
   "execution_count": 6,
   "metadata": {},
   "outputs": [],
   "source": [
    "datecol = [  'due_date', \n",
    "           #\"invoice_date\", #almost always the earliest\n",
    "       'discharge_date',  'input_date', 'creation_date', \n",
    "       'debt_collection_date', 'last_payment_date', 'reminder_date',\n",
    "       'cancellation_date', 'value_date',\n",
    "       'first_posting_date', 'last_posting_date']\n",
    "\n",
    "for c in datecol:\n",
    "    inst[\"dd_\"+c] = (inst[c] - inst.invoice_date).apply(lambda x: x.days)"
   ]
  },
  {
   "cell_type": "code",
   "execution_count": 7,
   "metadata": {},
   "outputs": [
    {
     "data": {
      "text/html": [
       "<div>\n",
       "<style scoped>\n",
       "    .dataframe tbody tr th:only-of-type {\n",
       "        vertical-align: middle;\n",
       "    }\n",
       "\n",
       "    .dataframe tbody tr th {\n",
       "        vertical-align: top;\n",
       "    }\n",
       "\n",
       "    .dataframe thead th {\n",
       "        text-align: right;\n",
       "    }\n",
       "</style>\n",
       "<table border=\"1\" class=\"dataframe\">\n",
       "  <thead>\n",
       "    <tr style=\"text-align: right;\">\n",
       "      <th></th>\n",
       "      <th>dd_due_date</th>\n",
       "      <th>dd_discharge_date</th>\n",
       "      <th>dd_input_date</th>\n",
       "      <th>dd_creation_date</th>\n",
       "      <th>dd_debt_collection_date</th>\n",
       "      <th>dd_last_payment_date</th>\n",
       "      <th>dd_reminder_date</th>\n",
       "      <th>dd_cancellation_date</th>\n",
       "      <th>dd_value_date</th>\n",
       "      <th>dd_first_posting_date</th>\n",
       "      <th>dd_last_posting_date</th>\n",
       "    </tr>\n",
       "    <tr>\n",
       "      <th>uid</th>\n",
       "      <th></th>\n",
       "      <th></th>\n",
       "      <th></th>\n",
       "      <th></th>\n",
       "      <th></th>\n",
       "      <th></th>\n",
       "      <th></th>\n",
       "      <th></th>\n",
       "      <th></th>\n",
       "      <th></th>\n",
       "      <th></th>\n",
       "    </tr>\n",
       "  </thead>\n",
       "  <tbody>\n",
       "    <tr>\n",
       "      <th>2744:79/231</th>\n",
       "      <td>10</td>\n",
       "      <td>973.0</td>\n",
       "      <td>921</td>\n",
       "      <td>921</td>\n",
       "      <td>NaN</td>\n",
       "      <td>NaN</td>\n",
       "      <td>48.0</td>\n",
       "      <td>NaN</td>\n",
       "      <td>10</td>\n",
       "      <td>921</td>\n",
       "      <td>973</td>\n",
       "    </tr>\n",
       "    <tr>\n",
       "      <th>2861:79/232</th>\n",
       "      <td>10</td>\n",
       "      <td>966.0</td>\n",
       "      <td>914</td>\n",
       "      <td>914</td>\n",
       "      <td>NaN</td>\n",
       "      <td>NaN</td>\n",
       "      <td>55.0</td>\n",
       "      <td>NaN</td>\n",
       "      <td>10</td>\n",
       "      <td>914</td>\n",
       "      <td>966</td>\n",
       "    </tr>\n",
       "    <tr>\n",
       "      <th>2932:79/233</th>\n",
       "      <td>10</td>\n",
       "      <td>NaN</td>\n",
       "      <td>907</td>\n",
       "      <td>907</td>\n",
       "      <td>NaN</td>\n",
       "      <td>907.0</td>\n",
       "      <td>48.0</td>\n",
       "      <td>NaN</td>\n",
       "      <td>10</td>\n",
       "      <td>907</td>\n",
       "      <td>959</td>\n",
       "    </tr>\n",
       "    <tr>\n",
       "      <th>1472:489/688</th>\n",
       "      <td>10</td>\n",
       "      <td>952.0</td>\n",
       "      <td>900</td>\n",
       "      <td>900</td>\n",
       "      <td>NaN</td>\n",
       "      <td>NaN</td>\n",
       "      <td>69.0</td>\n",
       "      <td>NaN</td>\n",
       "      <td>10</td>\n",
       "      <td>900</td>\n",
       "      <td>952</td>\n",
       "    </tr>\n",
       "    <tr>\n",
       "      <th>2042:512/645</th>\n",
       "      <td>10</td>\n",
       "      <td>952.0</td>\n",
       "      <td>900</td>\n",
       "      <td>900</td>\n",
       "      <td>NaN</td>\n",
       "      <td>900.0</td>\n",
       "      <td>125.0</td>\n",
       "      <td>NaN</td>\n",
       "      <td>10</td>\n",
       "      <td>900</td>\n",
       "      <td>952</td>\n",
       "    </tr>\n",
       "  </tbody>\n",
       "</table>\n",
       "</div>"
      ],
      "text/plain": [
       "              dd_due_date  dd_discharge_date  dd_input_date  dd_creation_date  \\\n",
       "uid                                                                             \n",
       "2744:79/231            10              973.0            921               921   \n",
       "2861:79/232            10              966.0            914               914   \n",
       "2932:79/233            10                NaN            907               907   \n",
       "1472:489/688           10              952.0            900               900   \n",
       "2042:512/645           10              952.0            900               900   \n",
       "\n",
       "              dd_debt_collection_date  dd_last_payment_date  dd_reminder_date  \\\n",
       "uid                                                                             \n",
       "2744:79/231                       NaN                   NaN              48.0   \n",
       "2861:79/232                       NaN                   NaN              55.0   \n",
       "2932:79/233                       NaN                 907.0              48.0   \n",
       "1472:489/688                      NaN                   NaN              69.0   \n",
       "2042:512/645                      NaN                 900.0             125.0   \n",
       "\n",
       "              dd_cancellation_date  dd_value_date  dd_first_posting_date  \\\n",
       "uid                                                                        \n",
       "2744:79/231                    NaN             10                    921   \n",
       "2861:79/232                    NaN             10                    914   \n",
       "2932:79/233                    NaN             10                    907   \n",
       "1472:489/688                   NaN             10                    900   \n",
       "2042:512/645                   NaN             10                    900   \n",
       "\n",
       "              dd_last_posting_date  \n",
       "uid                                 \n",
       "2744:79/231                    973  \n",
       "2861:79/232                    966  \n",
       "2932:79/233                    959  \n",
       "1472:489/688                   952  \n",
       "2042:512/645                   952  "
      ]
     },
     "execution_count": 7,
     "metadata": {},
     "output_type": "execute_result"
    }
   ],
   "source": [
    "inst[['dd_'+i for i in datecol]].head()"
   ]
  },
  {
   "cell_type": "code",
   "execution_count": 8,
   "metadata": {},
   "outputs": [
    {
     "data": {
      "text/plain": [
       "Index(['customer_id', 'customer_name_1', 'debtor_id', 'debtor_name_1',\n",
       "       'invoice_number', 'invoice_date', 'due_date', 'invoice_amount',\n",
       "       'purchase_amount', 'purchase_amount_open', 'discharge_type',\n",
       "       'discharge_amount', 'discharge_date', 'posting_date',\n",
       "       'transaction_type', 'document_stack_id', 'booking_text', 'input_date',\n",
       "       'creation_date', 'factoring_type', 'debt_collection_date',\n",
       "       'last_payment_date', 'reminder_date', 'test_feature_tested',\n",
       "       'test_characteristic_id', 'bill_id', 'cancellation_date', 'value_date',\n",
       "       'currency', 'purchase_examination', 'prosecution', 'deduction_amount',\n",
       "       'payment_amount', 'payment_date', 'document_status', 'uid', 'ttype',\n",
       "       'nrecords', 'ttypeset', 'discharge_loss', 'has_impairment1',\n",
       "       'has_prosecution', 'is_pastdue', 'is_pastdue30', 'is_pastdue90',\n",
       "       'is_pastdue180', 'last_payment_amount', 'total_repayment',\n",
       "       'total_impairment', 'is_open', 'we_payment_share', 'has_purchase',\n",
       "       'has_deduction', 'is_due', 'has_discharge', 'cash_check', 'unexpl',\n",
       "       'first_posting_date', 'last_posting_date', 'payment_date_mismatch',\n",
       "       'dd_due_date', 'dd_discharge_date', 'dd_input_date', 'dd_creation_date',\n",
       "       'dd_debt_collection_date', 'dd_last_payment_date', 'dd_reminder_date',\n",
       "       'dd_cancellation_date', 'dd_value_date', 'dd_first_posting_date',\n",
       "       'dd_last_posting_date'],\n",
       "      dtype='object')"
      ]
     },
     "execution_count": 8,
     "metadata": {},
     "output_type": "execute_result"
    }
   ],
   "source": [
    "inst.columns"
   ]
  },
  {
   "cell_type": "markdown",
   "metadata": {},
   "source": [
    "### 3. Marking up instruments with buyer/seller relationship details properties known at instrument inception"
   ]
  },
  {
   "cell_type": "markdown",
   "metadata": {},
   "source": [
    "For each instrument, stats will be added and classified depending on their nature.  \n",
    "The type of stats can be of 3 types, and it will be named accordingly:  \n",
    "- edge stats, referred to a customer/debtor pair - it will have the prefix 'cd'\n",
    "- node stats referred to a customer - it will have the prefix 'c'\n",
    "- node stats referred to a debtor - it will have the prefix 'd'"
   ]
  },
  {
   "cell_type": "code",
   "execution_count": 11,
   "metadata": {},
   "outputs": [],
   "source": [
    "#UTILS\n",
    "\n",
    "from scipy import stats\n",
    "\n",
    "def series_trend(s, applylog=True):\n",
    "    \"\"\"\n",
    "    This function defines a trend for a particular given series using linear regression.\n",
    "    To be used with invoice_amount for the current dataset, in order to establish the entity of the transactions.\n",
    "    \"\"\"\n",
    "    x=np.arange(s.shape[0])\n",
    "    slope, intercept, r_value, p_value, std_err = stats.linregress(x,s)\n",
    "    #print(slope)\n",
    "    if applylog:\n",
    "        res = 0 if np.abs(slope)<1e-8 else np.sign(slope) * np.log(np.abs(slope))\n",
    "    else:\n",
    "        res = slope\n",
    "    return res\n",
    "\n",
    "decision_date_col = \"value_date\" #this is the main reference date for each instrument to establish if it has been repaid on time or if it is pastdue\n",
    "\n",
    "def add_node_stats(inst, igroup, idx, id, ii, prefix):\n",
    "    \"\"\"\n",
    "    This function adds stats to each node.\n",
    "    inst: instruments dataframe sorted by invoice_date\n",
    "    igroup: group of instruments between a certain buyer and a certain seller\n",
    "    idx: instrument index in the igroup \n",
    "    id: instrument id\n",
    "    ii: instrument features (literally the dataset sliced in correspondence of that instrument)\n",
    "    \"\"\"\n",
    "    #adding counter of previously lent in this customer/debtor pair (inst is sorted by invoice date)\n",
    "    inst.loc[id, prefix+\"lent_c\"] = idx \n",
    "        \n",
    "    #adding counter of previously repaid instruments in this customer/debtor pair\n",
    "    #to be repaid, the last payment date needs to be smaller than all the instrument date and the instrument needs to not be open\n",
    "    repaid = (igroup.loc[:, \"last_payment_date\"] < ii[decision_date_col]) & (~ igroup.loc[:, \"is_open\"]) #filter for repaid instruments in this customer/debtor pair\n",
    "    inst.loc[id, prefix+\"repaid_c\"] = sum(repaid) \n",
    "            \n",
    "    #adding counter of previously impaired in this customer/debtor pair\n",
    "    inst.loc[id, prefix+\"impaired1_c\"] = sum(igroup.loc[repaid,\"has_impairment1\"])\n",
    "        \n",
    "    #counter of overdue in this customer/debtor pair (considering previous instruments)\n",
    "    previous = igroup.index[:idx] #previous instruments selector\n",
    "    inst.loc[id, prefix+\"pastdue90_c\"] = sum((igroup.loc[previous,\"due_date\"] < ii[decision_date_col] - datetime.timedelta(90)) & igroup.loc[previous,\"is_pastdue90\"])\n",
    "    inst.loc[id, prefix+\"pastdue180_c\"] = sum((igroup.loc[previous,\"due_date\"] < ii[decision_date_col] - datetime.timedelta(180)) & igroup.loc[previous,\"is_pastdue180\"])\n",
    "        \n",
    "    #adding trend in amount lent in this customer/debtor pair\n",
    "    inst.loc[id, prefix+\"trend_a\"] = 0 if idx<2 else series_trend(igroup.loc[previous,\"invoice_amount\"])\n",
    "        \n",
    "    #adding counter of weekend payments in this pair\n",
    "    inst.loc[id, prefix+\"we_payment_share\"] = igroup.loc[repaid, \"we_payment_share\"].agg(\"mean\")\n",
    "        \n",
    "    #adding payment_date_mismatch stats\n",
    "    inst.loc[id, prefix+\"pd_mismatch_mean\"] = igroup.loc[repaid, \"payment_date_mismatch\"].agg(\"mean\")\n",
    "    inst.loc[id, prefix+\"pd_mismatch_std\"] = igroup.loc[repaid, \"payment_date_mismatch\"].agg(\"std\") "
   ]
  },
  {
   "cell_type": "markdown",
   "metadata": {},
   "source": [
    "### 3.1 Adding buyer/seller pair attributes (cd)"
   ]
  },
  {
   "cell_type": "code",
   "execution_count": 13,
   "metadata": {},
   "outputs": [
    {
     "name": "stdout",
     "output_type": "stream",
     "text": [
      "Adding buyer/seller pair attributes...\n"
     ]
    }
   ],
   "source": [
    "#Adding buyer/seller pair attributes\n",
    "print(\"Adding buyer/seller pair attributes...\")\n",
    "prefix = \"cd_\" #stands for customer/debtor\n",
    "g_cb = inst.groupby([\"customer_name_1\", \"debtor_name_1\"])\n",
    "for (customer, debtor), igroup in g_cb:\n",
    "    #for each instrument in this group, already sorted by invoice_date\n",
    "    for idx, (id, ii) in enumerate(igroup.iterrows()):\n",
    "       add_node_stats(inst, igroup, idx, id, ii, prefix)\n",
    "\n",
    "#Adding the ratio columns for the previously calculated stats\n",
    "cl = [prefix+\"repaid_\", prefix+\"impaired1_\",\n",
    "      prefix+\"pastdue90_\", prefix+\"pastdue180_\"]\n",
    "for c in cl:\n",
    "    inst[c+\"r\"] = inst[c+\"c\"] / inst[prefix+\"lent_c\"]"
   ]
  },
  {
   "cell_type": "markdown",
   "metadata": {},
   "source": [
    "### 3.2 Adding buyer attributes (d)"
   ]
  },
  {
   "cell_type": "code",
   "execution_count": 14,
   "metadata": {},
   "outputs": [
    {
     "name": "stdout",
     "output_type": "stream",
     "text": [
      "Adding buyer attributes...\n"
     ]
    }
   ],
   "source": [
    "print(\"Adding buyer attributes...\")\n",
    "#buyer attributes\n",
    "prefix = \"d_\"\n",
    "g_b = inst.groupby([\"debtor_name_1\"])\n",
    "for _, igroup in g_b:\n",
    "    #for each instrument in this group, already sorted by invoice_date\n",
    "    for idx, (id, ii) in enumerate(igroup.iterrows()):\n",
    "        add_node_stats(inst, igroup, idx, id, ii, prefix)      \n",
    "#add the ratio columns\n",
    "cl = [prefix+\"repaid_\", prefix+\"impaired1_\",\n",
    "      prefix+\"pastdue90_\", prefix+\"pastdue180_\"]\n",
    "for c in cl:\n",
    "    inst[c+\"r\"] = inst[c+\"c\"] / inst[prefix+\"lent_c\"]"
   ]
  },
  {
   "cell_type": "markdown",
   "metadata": {},
   "source": [
    "### 3.3 Adding seller attributes (c)"
   ]
  },
  {
   "cell_type": "code",
   "execution_count": 15,
   "metadata": {},
   "outputs": [
    {
     "name": "stdout",
     "output_type": "stream",
     "text": [
      "Adding seller attributes...\n"
     ]
    }
   ],
   "source": [
    "#Adding seller attributes\n",
    "print(\"Adding seller attributes...\")\n",
    "prefix = \"c_\"\n",
    "g_b = inst.groupby([\"customer_name_1\"])\n",
    "for _, igroup in g_b:\n",
    "    #for each instrument in this group, already sorted by invoice_date\n",
    "    for idx, (id, ii) in enumerate(igroup.iterrows()):\n",
    "        add_node_stats(inst, igroup, idx, id, ii, prefix)      \n",
    "#add the ratio columns\n",
    "cl = [prefix+\"repaid_\", prefix+\"impaired1_\",  \n",
    "      prefix+\"pastdue90_\", prefix+\"pastdue180_\"]\n",
    "for c in cl:\n",
    "    inst[c+\"r\"] = inst[c+\"c\"] / inst[prefix+\"lent_c\"]"
   ]
  },
  {
   "cell_type": "code",
   "execution_count": 16,
   "metadata": {},
   "outputs": [],
   "source": [
    "outputfile = 'instrumentsdf_deg1stats.pkl'\n",
    "inst.to_pickle(datafolder+outputfile)"
   ]
  },
  {
   "cell_type": "code",
   "execution_count": null,
   "metadata": {},
   "outputs": [],
   "source": []
  }
 ],
 "metadata": {
  "kernelspec": {
   "display_name": "Python 3",
   "language": "python",
   "name": "python3"
  },
  "language_info": {
   "codemirror_mode": {
    "name": "ipython",
    "version": 3
   },
   "file_extension": ".py",
   "mimetype": "text/x-python",
   "name": "python",
   "nbconvert_exporter": "python",
   "pygments_lexer": "ipython3",
   "version": "3.6.8"
  }
 },
 "nbformat": 4,
 "nbformat_minor": 2
}

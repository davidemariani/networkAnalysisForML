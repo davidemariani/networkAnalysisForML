{
 "cells": [
  {
   "cell_type": "code",
   "execution_count": 2,
   "metadata": {},
   "outputs": [],
   "source": [
    "#create anonimized dataset\n",
    "import pandas as pd\n",
    "import numpy as np\n",
    "from sim_names import *\n",
    "from os import environ\n",
    "\n",
    "user = os.environ[\"USERNAME\"]\n",
    "filename = \"190108_instrumentsdf.pkl\"\n",
    "datafolder = \"C:/Users/{}/Dropbox/University/MscDataScience_Birkbeck/thesis_project/data/\".format(user)\n",
    "df = pd.read_pickle(datafolder+filename)"
   ]
  },
  {
   "cell_type": "code",
   "execution_count": 3,
   "metadata": {},
   "outputs": [
    {
     "data": {
      "text/plain": [
       "4277"
      ]
     },
     "execution_count": 3,
     "metadata": {},
     "output_type": "execute_result"
    }
   ],
   "source": [
    "allnames = list(df.customer_name_1.unique()) + list(df.debtor_name_1.unique())\n",
    "len(allnames)"
   ]
  },
  {
   "cell_type": "code",
   "execution_count": 4,
   "metadata": {},
   "outputs": [
    {
     "data": {
      "text/plain": [
       "True"
      ]
     },
     "execution_count": 4,
     "metadata": {},
     "output_type": "execute_result"
    }
   ],
   "source": [
    "'Simon Germann' in set(allnames)"
   ]
  },
  {
   "cell_type": "code",
   "execution_count": 5,
   "metadata": {},
   "outputs": [
    {
     "name": "stdout",
     "output_type": "stream",
     "text": [
      "DINE: file ~Webster2.txt not found in C:\\Users\\david\\Dropbox\\University\\MscDataScience_Birkbeck\\thesis_project\\code, downloading...\n"
     ]
    }
   ],
   "source": [
    "simNames = sim_names(len(allnames))"
   ]
  },
  {
   "cell_type": "code",
   "execution_count": 6,
   "metadata": {},
   "outputs": [
    {
     "data": {
      "text/plain": [
       "4277"
      ]
     },
     "execution_count": 6,
     "metadata": {},
     "output_type": "execute_result"
    }
   ],
   "source": [
    "len(simNames)"
   ]
  },
  {
   "cell_type": "code",
   "execution_count": 8,
   "metadata": {},
   "outputs": [],
   "source": [
    "dictnames = dict(zip(allnames,simNames))"
   ]
  },
  {
   "cell_type": "code",
   "execution_count": 9,
   "metadata": {},
   "outputs": [],
   "source": [
    "df['customer_name_1'] = df['customer_name_1'].apply(lambda x:dictnames[x])\n",
    "df['debtor_name_1'] = df['debtor_name_1'].apply(lambda x:dictnames[x])"
   ]
  },
  {
   "cell_type": "code",
   "execution_count": 11,
   "metadata": {},
   "outputs": [],
   "source": [
    "df.to_pickle(datafolder+'instrumentsdf_simNames.pkl')"
   ]
  },
  {
   "cell_type": "code",
   "execution_count": null,
   "metadata": {},
   "outputs": [],
   "source": []
  }
 ],
 "metadata": {
  "kernelspec": {
   "display_name": "Python 3",
   "language": "python",
   "name": "python3"
  },
  "language_info": {
   "codemirror_mode": {
    "name": "ipython",
    "version": 3
   },
   "file_extension": ".py",
   "mimetype": "text/x-python",
   "name": "python",
   "nbconvert_exporter": "python",
   "pygments_lexer": "ipython3",
   "version": "3.6.8"
  }
 },
 "nbformat": 4,
 "nbformat_minor": 2
}

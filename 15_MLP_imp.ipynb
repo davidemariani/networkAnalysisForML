{
 "cells": [
  {
   "cell_type": "code",
   "execution_count": 1,
   "metadata": {},
   "outputs": [],
   "source": [
    "import numpy as np\n",
    "import pandas as pd\n",
    "import seaborn as sns\n",
    "import matplotlib.pyplot as plt\n",
    "import math\n",
    "\n",
    "# Import TensorFlow\n",
    "import tensorflow as tf\n",
    "from tensorflow.keras.regularizers import l1, l2\n",
    "from tensorflow.keras.optimizers import RMSprop, Adam, SGD\n",
    "\n",
    "from scripts_ml.ann_utils import *"
   ]
  },
  {
   "cell_type": "code",
   "execution_count": 2,
   "metadata": {},
   "outputs": [],
   "source": [
    "preproc_folder = \"enriched_time_seq\"\n",
    "datafolder = \"../data/preproc_traintest/\"+preproc_folder+'/'\n",
    "prefix_time_seq = 'time_2018-04-30_imp_bg_'\n",
    "valid_code = '_val_24000_6000_'\n",
    "postfix_time_seq_val = '_190815_645'\n",
    "postfix_time_seq = '_190812_1547'\n",
    "preproc_folder = \"enriched_time_seq\"\n",
    "datafolder = \"../data/preproc_traintest/\"+preproc_folder+'/'\n",
    "indexfile = '_fold_indexes'\n",
    "expname = \"MLP_\"+preproc_folder+valid_code.split('_val_')[1][:-1]+\"_imp\""
   ]
  },
  {
   "cell_type": "code",
   "execution_count": null,
   "metadata": {},
   "outputs": [],
   "source": [
    "experiment = mlp_exp_timeseq(datafolder, prefix_time_seq, postfix_time_seq,\n",
    "                postfix_time_seq_val, valid_code, indexfile,\n",
    "                         experiment_name=expname, \n",
    "                         hidden_layers_no=2,  #4\n",
    "                         hidden_nodes=[50, 20, 10],       \n",
    "                         optimizer=Adam(0.0001),\n",
    "                         hl_activations=[tf.nn.relu]*2,      \n",
    "                         dropout=[0.4]*2,            \n",
    "                         loss_func = tf.keras.losses.BinaryCrossentropy(),\n",
    "                         metrics=['accuracy', tf.keras.metrics.AUC(), tf.keras.metrics.Precision(), tf.keras.metrics.Recall()],\n",
    "                         to_monitor=('accuracy', 0.98),\n",
    "                         validation_ep=True,\n",
    "                         epochs=3000, \n",
    "                         batch_size=2048,\n",
    "                         use_batch_and_steps=False,\n",
    "                         class_1_weight=25,\n",
    "                         pred_threshold = 0.55,\n",
    "                         verbose=0,\n",
    "                         early_stopping=False, \n",
    "                         save_model=True, \n",
    "                         save_results_for_viz=False,\n",
    "                         mlf_tracking=True)"
   ]
  },
  {
   "cell_type": "code",
   "execution_count": null,
   "metadata": {},
   "outputs": [],
   "source": []
  }
 ],
 "metadata": {
  "kernelspec": {
   "display_name": "Python 3",
   "language": "python",
   "name": "python3"
  },
  "language_info": {
   "codemirror_mode": {
    "name": "ipython",
    "version": 3
   },
   "file_extension": ".py",
   "mimetype": "text/x-python",
   "name": "python",
   "nbconvert_exporter": "python",
   "pygments_lexer": "ipython3",
   "version": "3.6.8"
  }
 },
 "nbformat": 4,
 "nbformat_minor": 2
}

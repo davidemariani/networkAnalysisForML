{
 "cells": [
  {
   "cell_type": "code",
   "execution_count": 1,
   "metadata": {},
   "outputs": [],
   "source": [
    "import numpy as np\n",
    "import pandas as pd\n",
    "import seaborn as sns\n",
    "import matplotlib.pyplot as plt\n",
    "import math\n",
    "\n",
    "# Import TensorFlow\n",
    "import tensorflow as tf\n",
    "from tensorflow.keras.regularizers import l1, l2\n",
    "from tensorflow.keras.optimizers import RMSprop, Adam, SGD\n",
    "\n",
    "from scripts_ml.ann_utils import *"
   ]
  },
  {
   "cell_type": "code",
   "execution_count": 2,
   "metadata": {},
   "outputs": [],
   "source": [
    "preproc_folder = \"enriched_time_seq\"\n",
    "datafolder = \"../data/preproc_traintest/\"+preproc_folder+'/'\n",
    "prefix_time_seq = 'time_2018-04-30_imp_bg_'\n",
    "valid_code = '_val_24000_6000_'\n",
    "postfix_time_seq_val = '_190815_645'\n",
    "postfix_time_seq = '_190812_1547'\n",
    "preproc_folder = \"enriched_time_seq\"\n",
    "datafolder = \"../data/preproc_traintest/\"+preproc_folder+'/'\n",
    "indexfile = '_fold_indexes'\n",
    "expname = \"MLP_\"+preproc_folder+valid_code.split('_val_')[1][:-1]+\"_imp\""
   ]
  },
  {
   "cell_type": "code",
   "execution_count": null,
   "metadata": {},
   "outputs": [
    {
     "name": "stdout",
     "output_type": "stream",
     "text": [
      "-Loading preprocessed data...\n",
      "validation training files: ../data/preproc_traintest/enriched_time_seq/time_2018-04-30_imp_bg__val_24000_6000__traindata_190815_645.pkl\n",
      "validation testing files: ../data/preproc_traintest/enriched_time_seq/time_2018-04-30_imp_bg__val_24000_6000__testdata_190815_645.pkl\n",
      "training files: ../data/preproc_traintest/enriched_time_seq/time_2018-04-30_imp_bg__traindata_190812_1547.pkl\n",
      "testing files: ../data/preproc_traintest/enriched_time_seq/time_2018-04-30_imp_bg__testdata_190812_1547.pkl\n",
      "Model: \"sequential_26\"\n",
      "_________________________________________________________________\n",
      "Layer (type)                 Output Shape              Param #   \n",
      "=================================================================\n",
      "dense_89 (Dense)             (None, 180)               6480      \n",
      "_________________________________________________________________\n",
      "dropout_63 (Dropout)         (None, 180)               0         \n",
      "_________________________________________________________________\n",
      "dense_90 (Dense)             (None, 90)                16290     \n",
      "_________________________________________________________________\n",
      "dropout_64 (Dropout)         (None, 90)                0         \n",
      "_________________________________________________________________\n",
      "dense_91 (Dense)             (None, 50)                4550      \n",
      "_________________________________________________________________\n",
      "dropout_65 (Dropout)         (None, 50)                0         \n",
      "_________________________________________________________________\n",
      "dense_92 (Dense)             (None, 20)                1020      \n",
      "_________________________________________________________________\n",
      "dropout_66 (Dropout)         (None, 20)                0         \n",
      "_________________________________________________________________\n",
      "dense_93 (Dense)             (None, 1)                 21        \n",
      "=================================================================\n",
      "Total params: 28,361\n",
      "Trainable params: 28,361\n",
      "Non-trainable params: 0\n",
      "_________________________________________________________________\n",
      "None\n",
      "Model: \"sequential_27\"\n",
      "_________________________________________________________________\n",
      "Layer (type)                 Output Shape              Param #   \n",
      "=================================================================\n",
      "dense_94 (Dense)             (None, 180)               6480      \n",
      "_________________________________________________________________\n",
      "dropout_67 (Dropout)         (None, 180)               0         \n",
      "_________________________________________________________________\n",
      "dense_95 (Dense)             (None, 90)                16290     \n",
      "_________________________________________________________________\n",
      "dropout_68 (Dropout)         (None, 90)                0         \n",
      "_________________________________________________________________\n",
      "dense_96 (Dense)             (None, 50)                4550      \n",
      "_________________________________________________________________\n",
      "dropout_69 (Dropout)         (None, 50)                0         \n",
      "_________________________________________________________________\n",
      "dense_97 (Dense)             (None, 20)                1020      \n",
      "_________________________________________________________________\n",
      "dropout_70 (Dropout)         (None, 20)                0         \n",
      "_________________________________________________________________\n",
      "dense_98 (Dense)             (None, 1)                 21        \n",
      "=================================================================\n",
      "Total params: 28,361\n",
      "Trainable params: 28,361\n",
      "Non-trainable params: 0\n",
      "_________________________________________________________________\n",
      "None\n",
      "-----------------------------VALIDATION FOLD 1 - train on 28101 observations and test on 6000 observations\n",
      "Early stopping active: training will be stopped when accuracy overcomes the value 0.98 or when epoch n. 1000 is reached\n"
     ]
    }
   ],
   "source": [
    "experiment = mlp_exp_timeseq(datafolder, prefix_time_seq, postfix_time_seq,\n",
    "                postfix_time_seq_val, valid_code, indexfile,\n",
    "                         experiment_name=expname, \n",
    "                         hidden_layers_no=4,  #4\n",
    "                         hidden_nodes=[180, 90, 50, 20],       #try 50 at next     #[70, 45,30,15],\n",
    "                         optimizer=Adam(0.0001),\n",
    "                         hl_activations=[tf.nn.relu]*4,       #[tf.nn.relu]*4,\n",
    "                         dropout=[0.4]*4,            #[0.5]*2,\n",
    "                         loss_func = tf.keras.losses.BinaryCrossentropy(),\n",
    "                         metrics=['accuracy', tf.keras.metrics.AUC(), tf.keras.metrics.Precision(), tf.keras.metrics.Recall()],\n",
    "                         to_monitor=('accuracy', 0.98),\n",
    "                         validation_ep=True,\n",
    "                         epochs=1000, \n",
    "                         batch_size=1024,\n",
    "                         use_batch_and_steps=False,\n",
    "                         class_1_weight=25,\n",
    "                         pred_threshold = 0.55,\n",
    "                         verbose=0,\n",
    "                         early_stopping=True, \n",
    "                         save_model=True, \n",
    "                         save_results_for_viz=False,\n",
    "                         mlf_tracking=True)"
   ]
  },
  {
   "cell_type": "code",
   "execution_count": null,
   "metadata": {},
   "outputs": [],
   "source": []
  }
 ],
 "metadata": {
  "kernelspec": {
   "display_name": "Python 3",
   "language": "python",
   "name": "python3"
  },
  "language_info": {
   "codemirror_mode": {
    "name": "ipython",
    "version": 3
   },
   "file_extension": ".py",
   "mimetype": "text/x-python",
   "name": "python",
   "nbconvert_exporter": "python",
   "pygments_lexer": "ipython3",
   "version": "3.6.8"
  }
 },
 "nbformat": 4,
 "nbformat_minor": 2
}

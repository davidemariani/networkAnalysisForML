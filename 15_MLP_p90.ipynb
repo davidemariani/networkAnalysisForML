{
 "cells": [
  {
   "cell_type": "code",
   "execution_count": 3,
   "metadata": {},
   "outputs": [],
   "source": [
    "import numpy as np\n",
    "import pandas as pd\n",
    "import seaborn as sns\n",
    "import matplotlib.pyplot as plt\n",
    "import math\n",
    "\n",
    "# Import TensorFlow\n",
    "import tensorflow as tf\n",
    "from tensorflow.keras.regularizers import l1, l2\n",
    "from tensorflow.keras.optimizers import RMSprop, Adam, SGD\n",
    "\n",
    "from scripts_ml.ann_utils import *"
   ]
  },
  {
   "cell_type": "code",
   "execution_count": 8,
   "metadata": {},
   "outputs": [],
   "source": [
    "preproc_folder = \"enriched_time_seq\"\n",
    "datafolder = \"../data/preproc_traintest/\"+preproc_folder+'/'\n",
    "prefix_time_seq = 'time_2018-04-30_p90_bg_'\n",
    "valid_code = '_val_24000_6000_'\n",
    "postfix_time_seq_val = '_190815_70'\n",
    "postfix_time_seq = '_190812_1616'\n",
    "preproc_folder = \"enriched_time_seq\"\n",
    "datafolder = \"../data/preproc_traintest/\"+preproc_folder+'/'\n",
    "indexfile = '_fold_indexes'\n",
    "expname = \"MLP_\"+preproc_folder+valid_code.split('_val_')[1][:-1]+\"_p90\""
   ]
  },
  {
   "cell_type": "code",
   "execution_count": null,
   "metadata": {},
   "outputs": [
    {
     "name": "stdout",
     "output_type": "stream",
     "text": [
      "-Loading preprocessed data...\n",
      "validation training files: ../data/preproc_traintest/enriched_time_seq/time_2018-04-30_p90_bg__val_24000_6000__traindata_190815_70.pkl\n",
      "validation testing files: ../data/preproc_traintest/enriched_time_seq/time_2018-04-30_p90_bg__val_24000_6000__testdata_190815_70.pkl\n",
      "training files: ../data/preproc_traintest/enriched_time_seq/time_2018-04-30_p90_bg__traindata_190812_1616.pkl\n",
      "testing files: ../data/preproc_traintest/enriched_time_seq/time_2018-04-30_p90_bg__testdata_190812_1616.pkl\n",
      "Model: \"sequential\"\n",
      "_________________________________________________________________\n",
      "Layer (type)                 Output Shape              Param #   \n",
      "=================================================================\n",
      "dense (Dense)                (None, 20)                720       \n",
      "_________________________________________________________________\n",
      "dropout (Dropout)            (None, 20)                0         \n",
      "_________________________________________________________________\n",
      "dense_1 (Dense)              (None, 5)                 105       \n",
      "_________________________________________________________________\n",
      "dropout_1 (Dropout)          (None, 5)                 0         \n",
      "_________________________________________________________________\n",
      "dense_2 (Dense)              (None, 1)                 6         \n",
      "=================================================================\n",
      "Total params: 831\n",
      "Trainable params: 831\n",
      "Non-trainable params: 0\n",
      "_________________________________________________________________\n",
      "None\n",
      "Model: \"sequential_1\"\n",
      "_________________________________________________________________\n",
      "Layer (type)                 Output Shape              Param #   \n",
      "=================================================================\n",
      "dense_3 (Dense)              (None, 20)                720       \n",
      "_________________________________________________________________\n",
      "dropout_2 (Dropout)          (None, 20)                0         \n",
      "_________________________________________________________________\n",
      "dense_4 (Dense)              (None, 5)                 105       \n",
      "_________________________________________________________________\n",
      "dropout_3 (Dropout)          (None, 5)                 0         \n",
      "_________________________________________________________________\n",
      "dense_5 (Dense)              (None, 1)                 6         \n",
      "=================================================================\n",
      "Total params: 831\n",
      "Trainable params: 831\n",
      "Non-trainable params: 0\n",
      "_________________________________________________________________\n",
      "None\n",
      "-----------------------------VALIDATION FOLD 1 - train on 28101 observations and test on 6000 observations\n",
      "Early stopping active: training will be stopped when accuracy overcomes the value 0.9 or when epoch n. 500 is reached\n"
     ]
    }
   ],
   "source": [
    "experiment = mlp_exp_timeseq(datafolder, prefix_time_seq, postfix_time_seq,\n",
    "                postfix_time_seq_val, valid_code, indexfile,\n",
    "                         experiment_name=expname, \n",
    "                         hidden_layers_no=2,  #4\n",
    "                         hidden_nodes=[20, 5],\n",
    "                         optimizer=Adam(0.001),\n",
    "                         hl_activations=[tf.nn.relu]*2,       #[tf.nn.relu]*4,\n",
    "                         dropout=[0.5]*2,            #[0.5]*2,\n",
    "                         loss_func = tf.keras.losses.BinaryCrossentropy(),\n",
    "                         metrics=['accuracy', tf.keras.metrics.AUC(), tf.keras.metrics.Precision(), tf.keras.metrics.Recall()],\n",
    "                         to_monitor=('accuracy', 0.9),\n",
    "                         validation_ep=True,\n",
    "                         epochs=500, \n",
    "                         batch_size=32,\n",
    "                         use_batch_and_steps=False,\n",
    "                         class_1_weight=25,\n",
    "                         pred_threshold = 0.55,\n",
    "                         verbose=0,\n",
    "                         early_stopping=True, \n",
    "                         save_model=True, \n",
    "                         save_results_for_viz=False,\n",
    "                         mlf_tracking=True)"
   ]
  },
  {
   "cell_type": "code",
   "execution_count": null,
   "metadata": {},
   "outputs": [],
   "source": []
  }
 ],
 "metadata": {
  "kernelspec": {
   "display_name": "Python 3",
   "language": "python",
   "name": "python3"
  },
  "language_info": {
   "codemirror_mode": {
    "name": "ipython",
    "version": 3
   },
   "file_extension": ".py",
   "mimetype": "text/x-python",
   "name": "python",
   "nbconvert_exporter": "python",
   "pygments_lexer": "ipython3",
   "version": "3.6.8"
  }
 },
 "nbformat": 4,
 "nbformat_minor": 2
}

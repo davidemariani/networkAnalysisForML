{
 "cells": [
  {
   "cell_type": "code",
   "execution_count": 1,
   "metadata": {},
   "outputs": [
    {
     "data": {
      "text/html": [
       "\n",
       "    <div class=\"bk-root\">\n",
       "        <a href=\"https://bokeh.pydata.org\" target=\"_blank\" class=\"bk-logo bk-logo-small bk-logo-notebook\"></a>\n",
       "        <span id=\"1001\">Loading BokehJS ...</span>\n",
       "    </div>"
      ]
     },
     "metadata": {},
     "output_type": "display_data"
    },
    {
     "data": {
      "application/javascript": [
       "\n",
       "(function(root) {\n",
       "  function now() {\n",
       "    return new Date();\n",
       "  }\n",
       "\n",
       "  var force = true;\n",
       "\n",
       "  if (typeof (root._bokeh_onload_callbacks) === \"undefined\" || force === true) {\n",
       "    root._bokeh_onload_callbacks = [];\n",
       "    root._bokeh_is_loading = undefined;\n",
       "  }\n",
       "\n",
       "  var JS_MIME_TYPE = 'application/javascript';\n",
       "  var HTML_MIME_TYPE = 'text/html';\n",
       "  var EXEC_MIME_TYPE = 'application/vnd.bokehjs_exec.v0+json';\n",
       "  var CLASS_NAME = 'output_bokeh rendered_html';\n",
       "\n",
       "  /**\n",
       "   * Render data to the DOM node\n",
       "   */\n",
       "  function render(props, node) {\n",
       "    var script = document.createElement(\"script\");\n",
       "    node.appendChild(script);\n",
       "  }\n",
       "\n",
       "  /**\n",
       "   * Handle when an output is cleared or removed\n",
       "   */\n",
       "  function handleClearOutput(event, handle) {\n",
       "    var cell = handle.cell;\n",
       "\n",
       "    var id = cell.output_area._bokeh_element_id;\n",
       "    var server_id = cell.output_area._bokeh_server_id;\n",
       "    // Clean up Bokeh references\n",
       "    if (id != null && id in Bokeh.index) {\n",
       "      Bokeh.index[id].model.document.clear();\n",
       "      delete Bokeh.index[id];\n",
       "    }\n",
       "\n",
       "    if (server_id !== undefined) {\n",
       "      // Clean up Bokeh references\n",
       "      var cmd = \"from bokeh.io.state import curstate; print(curstate().uuid_to_server['\" + server_id + \"'].get_sessions()[0].document.roots[0]._id)\";\n",
       "      cell.notebook.kernel.execute(cmd, {\n",
       "        iopub: {\n",
       "          output: function(msg) {\n",
       "            var id = msg.content.text.trim();\n",
       "            if (id in Bokeh.index) {\n",
       "              Bokeh.index[id].model.document.clear();\n",
       "              delete Bokeh.index[id];\n",
       "            }\n",
       "          }\n",
       "        }\n",
       "      });\n",
       "      // Destroy server and session\n",
       "      var cmd = \"import bokeh.io.notebook as ion; ion.destroy_server('\" + server_id + \"')\";\n",
       "      cell.notebook.kernel.execute(cmd);\n",
       "    }\n",
       "  }\n",
       "\n",
       "  /**\n",
       "   * Handle when a new output is added\n",
       "   */\n",
       "  function handleAddOutput(event, handle) {\n",
       "    var output_area = handle.output_area;\n",
       "    var output = handle.output;\n",
       "\n",
       "    // limit handleAddOutput to display_data with EXEC_MIME_TYPE content only\n",
       "    if ((output.output_type != \"display_data\") || (!output.data.hasOwnProperty(EXEC_MIME_TYPE))) {\n",
       "      return\n",
       "    }\n",
       "\n",
       "    var toinsert = output_area.element.find(\".\" + CLASS_NAME.split(' ')[0]);\n",
       "\n",
       "    if (output.metadata[EXEC_MIME_TYPE][\"id\"] !== undefined) {\n",
       "      toinsert[toinsert.length - 1].firstChild.textContent = output.data[JS_MIME_TYPE];\n",
       "      // store reference to embed id on output_area\n",
       "      output_area._bokeh_element_id = output.metadata[EXEC_MIME_TYPE][\"id\"];\n",
       "    }\n",
       "    if (output.metadata[EXEC_MIME_TYPE][\"server_id\"] !== undefined) {\n",
       "      var bk_div = document.createElement(\"div\");\n",
       "      bk_div.innerHTML = output.data[HTML_MIME_TYPE];\n",
       "      var script_attrs = bk_div.children[0].attributes;\n",
       "      for (var i = 0; i < script_attrs.length; i++) {\n",
       "        toinsert[toinsert.length - 1].firstChild.setAttribute(script_attrs[i].name, script_attrs[i].value);\n",
       "      }\n",
       "      // store reference to server id on output_area\n",
       "      output_area._bokeh_server_id = output.metadata[EXEC_MIME_TYPE][\"server_id\"];\n",
       "    }\n",
       "  }\n",
       "\n",
       "  function register_renderer(events, OutputArea) {\n",
       "\n",
       "    function append_mime(data, metadata, element) {\n",
       "      // create a DOM node to render to\n",
       "      var toinsert = this.create_output_subarea(\n",
       "        metadata,\n",
       "        CLASS_NAME,\n",
       "        EXEC_MIME_TYPE\n",
       "      );\n",
       "      this.keyboard_manager.register_events(toinsert);\n",
       "      // Render to node\n",
       "      var props = {data: data, metadata: metadata[EXEC_MIME_TYPE]};\n",
       "      render(props, toinsert[toinsert.length - 1]);\n",
       "      element.append(toinsert);\n",
       "      return toinsert\n",
       "    }\n",
       "\n",
       "    /* Handle when an output is cleared or removed */\n",
       "    events.on('clear_output.CodeCell', handleClearOutput);\n",
       "    events.on('delete.Cell', handleClearOutput);\n",
       "\n",
       "    /* Handle when a new output is added */\n",
       "    events.on('output_added.OutputArea', handleAddOutput);\n",
       "\n",
       "    /**\n",
       "     * Register the mime type and append_mime function with output_area\n",
       "     */\n",
       "    OutputArea.prototype.register_mime_type(EXEC_MIME_TYPE, append_mime, {\n",
       "      /* Is output safe? */\n",
       "      safe: true,\n",
       "      /* Index of renderer in `output_area.display_order` */\n",
       "      index: 0\n",
       "    });\n",
       "  }\n",
       "\n",
       "  // register the mime type if in Jupyter Notebook environment and previously unregistered\n",
       "  if (root.Jupyter !== undefined) {\n",
       "    var events = require('base/js/events');\n",
       "    var OutputArea = require('notebook/js/outputarea').OutputArea;\n",
       "\n",
       "    if (OutputArea.prototype.mime_types().indexOf(EXEC_MIME_TYPE) == -1) {\n",
       "      register_renderer(events, OutputArea);\n",
       "    }\n",
       "  }\n",
       "\n",
       "  \n",
       "  if (typeof (root._bokeh_timeout) === \"undefined\" || force === true) {\n",
       "    root._bokeh_timeout = Date.now() + 5000;\n",
       "    root._bokeh_failed_load = false;\n",
       "  }\n",
       "\n",
       "  var NB_LOAD_WARNING = {'data': {'text/html':\n",
       "     \"<div style='background-color: #fdd'>\\n\"+\n",
       "     \"<p>\\n\"+\n",
       "     \"BokehJS does not appear to have successfully loaded. If loading BokehJS from CDN, this \\n\"+\n",
       "     \"may be due to a slow or bad network connection. Possible fixes:\\n\"+\n",
       "     \"</p>\\n\"+\n",
       "     \"<ul>\\n\"+\n",
       "     \"<li>re-rerun `output_notebook()` to attempt to load from CDN again, or</li>\\n\"+\n",
       "     \"<li>use INLINE resources instead, as so:</li>\\n\"+\n",
       "     \"</ul>\\n\"+\n",
       "     \"<code>\\n\"+\n",
       "     \"from bokeh.resources import INLINE\\n\"+\n",
       "     \"output_notebook(resources=INLINE)\\n\"+\n",
       "     \"</code>\\n\"+\n",
       "     \"</div>\"}};\n",
       "\n",
       "  function display_loaded() {\n",
       "    var el = document.getElementById(\"1001\");\n",
       "    if (el != null) {\n",
       "      el.textContent = \"BokehJS is loading...\";\n",
       "    }\n",
       "    if (root.Bokeh !== undefined) {\n",
       "      if (el != null) {\n",
       "        el.textContent = \"BokehJS \" + root.Bokeh.version + \" successfully loaded.\";\n",
       "      }\n",
       "    } else if (Date.now() < root._bokeh_timeout) {\n",
       "      setTimeout(display_loaded, 100)\n",
       "    }\n",
       "  }\n",
       "\n",
       "\n",
       "  function run_callbacks() {\n",
       "    try {\n",
       "      root._bokeh_onload_callbacks.forEach(function(callback) { callback() });\n",
       "    }\n",
       "    finally {\n",
       "      delete root._bokeh_onload_callbacks\n",
       "    }\n",
       "    console.info(\"Bokeh: all callbacks have finished\");\n",
       "  }\n",
       "\n",
       "  function load_libs(js_urls, callback) {\n",
       "    root._bokeh_onload_callbacks.push(callback);\n",
       "    if (root._bokeh_is_loading > 0) {\n",
       "      console.log(\"Bokeh: BokehJS is being loaded, scheduling callback at\", now());\n",
       "      return null;\n",
       "    }\n",
       "    if (js_urls == null || js_urls.length === 0) {\n",
       "      run_callbacks();\n",
       "      return null;\n",
       "    }\n",
       "    console.log(\"Bokeh: BokehJS not loaded, scheduling load and callback at\", now());\n",
       "    root._bokeh_is_loading = js_urls.length;\n",
       "    for (var i = 0; i < js_urls.length; i++) {\n",
       "      var url = js_urls[i];\n",
       "      var s = document.createElement('script');\n",
       "      s.src = url;\n",
       "      s.async = false;\n",
       "      s.onreadystatechange = s.onload = function() {\n",
       "        root._bokeh_is_loading--;\n",
       "        if (root._bokeh_is_loading === 0) {\n",
       "          console.log(\"Bokeh: all BokehJS libraries loaded\");\n",
       "          run_callbacks()\n",
       "        }\n",
       "      };\n",
       "      s.onerror = function() {\n",
       "        console.warn(\"failed to load library \" + url);\n",
       "      };\n",
       "      console.log(\"Bokeh: injecting script tag for BokehJS library: \", url);\n",
       "      document.getElementsByTagName(\"head\")[0].appendChild(s);\n",
       "    }\n",
       "  };var element = document.getElementById(\"1001\");\n",
       "  if (element == null) {\n",
       "    console.log(\"Bokeh: ERROR: autoload.js configured with elementid '1001' but no matching script tag was found. \")\n",
       "    return false;\n",
       "  }\n",
       "\n",
       "  var js_urls = [\"https://cdn.pydata.org/bokeh/release/bokeh-1.0.4.min.js\", \"https://cdn.pydata.org/bokeh/release/bokeh-widgets-1.0.4.min.js\", \"https://cdn.pydata.org/bokeh/release/bokeh-tables-1.0.4.min.js\", \"https://cdn.pydata.org/bokeh/release/bokeh-gl-1.0.4.min.js\"];\n",
       "\n",
       "  var inline_js = [\n",
       "    function(Bokeh) {\n",
       "      Bokeh.set_log_level(\"info\");\n",
       "    },\n",
       "    \n",
       "    function(Bokeh) {\n",
       "      \n",
       "    },\n",
       "    function(Bokeh) {\n",
       "      console.log(\"Bokeh: injecting CSS: https://cdn.pydata.org/bokeh/release/bokeh-1.0.4.min.css\");\n",
       "      Bokeh.embed.inject_css(\"https://cdn.pydata.org/bokeh/release/bokeh-1.0.4.min.css\");\n",
       "      console.log(\"Bokeh: injecting CSS: https://cdn.pydata.org/bokeh/release/bokeh-widgets-1.0.4.min.css\");\n",
       "      Bokeh.embed.inject_css(\"https://cdn.pydata.org/bokeh/release/bokeh-widgets-1.0.4.min.css\");\n",
       "      console.log(\"Bokeh: injecting CSS: https://cdn.pydata.org/bokeh/release/bokeh-tables-1.0.4.min.css\");\n",
       "      Bokeh.embed.inject_css(\"https://cdn.pydata.org/bokeh/release/bokeh-tables-1.0.4.min.css\");\n",
       "    }\n",
       "  ];\n",
       "\n",
       "  function run_inline_js() {\n",
       "    \n",
       "    if ((root.Bokeh !== undefined) || (force === true)) {\n",
       "      for (var i = 0; i < inline_js.length; i++) {\n",
       "        inline_js[i].call(root, root.Bokeh);\n",
       "      }if (force === true) {\n",
       "        display_loaded();\n",
       "      }} else if (Date.now() < root._bokeh_timeout) {\n",
       "      setTimeout(run_inline_js, 100);\n",
       "    } else if (!root._bokeh_failed_load) {\n",
       "      console.log(\"Bokeh: BokehJS failed to load within specified timeout.\");\n",
       "      root._bokeh_failed_load = true;\n",
       "    } else if (force !== true) {\n",
       "      var cell = $(document.getElementById(\"1001\")).parents('.cell').data().cell;\n",
       "      cell.output_area.append_execute_result(NB_LOAD_WARNING)\n",
       "    }\n",
       "\n",
       "  }\n",
       "\n",
       "  if (root._bokeh_is_loading === 0) {\n",
       "    console.log(\"Bokeh: BokehJS loaded, going straight to plotting\");\n",
       "    run_inline_js();\n",
       "  } else {\n",
       "    load_libs(js_urls, function() {\n",
       "      console.log(\"Bokeh: BokehJS plotting callback run at\", now());\n",
       "      run_inline_js();\n",
       "    });\n",
       "  }\n",
       "}(window));"
      ],
      "application/vnd.bokehjs_load.v0+json": "\n(function(root) {\n  function now() {\n    return new Date();\n  }\n\n  var force = true;\n\n  if (typeof (root._bokeh_onload_callbacks) === \"undefined\" || force === true) {\n    root._bokeh_onload_callbacks = [];\n    root._bokeh_is_loading = undefined;\n  }\n\n  \n\n  \n  if (typeof (root._bokeh_timeout) === \"undefined\" || force === true) {\n    root._bokeh_timeout = Date.now() + 5000;\n    root._bokeh_failed_load = false;\n  }\n\n  var NB_LOAD_WARNING = {'data': {'text/html':\n     \"<div style='background-color: #fdd'>\\n\"+\n     \"<p>\\n\"+\n     \"BokehJS does not appear to have successfully loaded. If loading BokehJS from CDN, this \\n\"+\n     \"may be due to a slow or bad network connection. Possible fixes:\\n\"+\n     \"</p>\\n\"+\n     \"<ul>\\n\"+\n     \"<li>re-rerun `output_notebook()` to attempt to load from CDN again, or</li>\\n\"+\n     \"<li>use INLINE resources instead, as so:</li>\\n\"+\n     \"</ul>\\n\"+\n     \"<code>\\n\"+\n     \"from bokeh.resources import INLINE\\n\"+\n     \"output_notebook(resources=INLINE)\\n\"+\n     \"</code>\\n\"+\n     \"</div>\"}};\n\n  function display_loaded() {\n    var el = document.getElementById(\"1001\");\n    if (el != null) {\n      el.textContent = \"BokehJS is loading...\";\n    }\n    if (root.Bokeh !== undefined) {\n      if (el != null) {\n        el.textContent = \"BokehJS \" + root.Bokeh.version + \" successfully loaded.\";\n      }\n    } else if (Date.now() < root._bokeh_timeout) {\n      setTimeout(display_loaded, 100)\n    }\n  }\n\n\n  function run_callbacks() {\n    try {\n      root._bokeh_onload_callbacks.forEach(function(callback) { callback() });\n    }\n    finally {\n      delete root._bokeh_onload_callbacks\n    }\n    console.info(\"Bokeh: all callbacks have finished\");\n  }\n\n  function load_libs(js_urls, callback) {\n    root._bokeh_onload_callbacks.push(callback);\n    if (root._bokeh_is_loading > 0) {\n      console.log(\"Bokeh: BokehJS is being loaded, scheduling callback at\", now());\n      return null;\n    }\n    if (js_urls == null || js_urls.length === 0) {\n      run_callbacks();\n      return null;\n    }\n    console.log(\"Bokeh: BokehJS not loaded, scheduling load and callback at\", now());\n    root._bokeh_is_loading = js_urls.length;\n    for (var i = 0; i < js_urls.length; i++) {\n      var url = js_urls[i];\n      var s = document.createElement('script');\n      s.src = url;\n      s.async = false;\n      s.onreadystatechange = s.onload = function() {\n        root._bokeh_is_loading--;\n        if (root._bokeh_is_loading === 0) {\n          console.log(\"Bokeh: all BokehJS libraries loaded\");\n          run_callbacks()\n        }\n      };\n      s.onerror = function() {\n        console.warn(\"failed to load library \" + url);\n      };\n      console.log(\"Bokeh: injecting script tag for BokehJS library: \", url);\n      document.getElementsByTagName(\"head\")[0].appendChild(s);\n    }\n  };var element = document.getElementById(\"1001\");\n  if (element == null) {\n    console.log(\"Bokeh: ERROR: autoload.js configured with elementid '1001' but no matching script tag was found. \")\n    return false;\n  }\n\n  var js_urls = [\"https://cdn.pydata.org/bokeh/release/bokeh-1.0.4.min.js\", \"https://cdn.pydata.org/bokeh/release/bokeh-widgets-1.0.4.min.js\", \"https://cdn.pydata.org/bokeh/release/bokeh-tables-1.0.4.min.js\", \"https://cdn.pydata.org/bokeh/release/bokeh-gl-1.0.4.min.js\"];\n\n  var inline_js = [\n    function(Bokeh) {\n      Bokeh.set_log_level(\"info\");\n    },\n    \n    function(Bokeh) {\n      \n    },\n    function(Bokeh) {\n      console.log(\"Bokeh: injecting CSS: https://cdn.pydata.org/bokeh/release/bokeh-1.0.4.min.css\");\n      Bokeh.embed.inject_css(\"https://cdn.pydata.org/bokeh/release/bokeh-1.0.4.min.css\");\n      console.log(\"Bokeh: injecting CSS: https://cdn.pydata.org/bokeh/release/bokeh-widgets-1.0.4.min.css\");\n      Bokeh.embed.inject_css(\"https://cdn.pydata.org/bokeh/release/bokeh-widgets-1.0.4.min.css\");\n      console.log(\"Bokeh: injecting CSS: https://cdn.pydata.org/bokeh/release/bokeh-tables-1.0.4.min.css\");\n      Bokeh.embed.inject_css(\"https://cdn.pydata.org/bokeh/release/bokeh-tables-1.0.4.min.css\");\n    }\n  ];\n\n  function run_inline_js() {\n    \n    if ((root.Bokeh !== undefined) || (force === true)) {\n      for (var i = 0; i < inline_js.length; i++) {\n        inline_js[i].call(root, root.Bokeh);\n      }if (force === true) {\n        display_loaded();\n      }} else if (Date.now() < root._bokeh_timeout) {\n      setTimeout(run_inline_js, 100);\n    } else if (!root._bokeh_failed_load) {\n      console.log(\"Bokeh: BokehJS failed to load within specified timeout.\");\n      root._bokeh_failed_load = true;\n    } else if (force !== true) {\n      var cell = $(document.getElementById(\"1001\")).parents('.cell').data().cell;\n      cell.output_area.append_execute_result(NB_LOAD_WARNING)\n    }\n\n  }\n\n  if (root._bokeh_is_loading === 0) {\n    console.log(\"Bokeh: BokehJS loaded, going straight to plotting\");\n    run_inline_js();\n  } else {\n    load_libs(js_urls, function() {\n      console.log(\"Bokeh: BokehJS plotting callback run at\", now());\n      run_inline_js();\n    });\n  }\n}(window));"
     },
     "metadata": {},
     "output_type": "display_data"
    }
   ],
   "source": [
    "import numpy as np\n",
    "import pandas as pd\n",
    "import re\n",
    "\n",
    "from network_modelling import *\n",
    "from network_visualization import *\n",
    "\n",
    "import BondGraphTools as bgt\n",
    "\n",
    "from bokeh.io import show, output_notebook\n",
    "\n",
    "from os import environ\n",
    "output_notebook()"
   ]
  },
  {
   "cell_type": "code",
   "execution_count": 2,
   "metadata": {},
   "outputs": [],
   "source": [
    "user = environ[\"USERNAME\"]\n",
    "#from work\n",
    "datafolder = 'C:/Users/DavideMariani/Tradeteq Dropbox/Davide Mariani/thesis_project/'\n",
    "\n",
    "#from home\n",
    "#datafolder = \"C:/Users/{}/Dropbox/University/MscDataScience_Birkbeck/thesis_project/data/\".format(user)\n",
    "inst = pd.read_pickle(datafolder+'snapshots_cd-d-cstats.pkl')"
   ]
  },
  {
   "cell_type": "code",
   "execution_count": 3,
   "metadata": {},
   "outputs": [],
   "source": [
    "#selecting one snapshot\n",
    "snapshot = 'sshot_35_'\n",
    "s35 = inst[inst[snapshot]][[c for c in inst.columns if snapshot in c] \\\n",
    "                      +['has_purchase', 'due_date', 'invoice_date', 'customer_name_1', \n",
    "                       'debtor_name_1', 'customer_id', 'debtor_id', 'uid']]\n",
    "s35 = s35[s35.has_purchase]\n",
    "#s35.transpose()"
   ]
  },
  {
   "cell_type": "code",
   "execution_count": 4,
   "metadata": {},
   "outputs": [
    {
     "data": {
      "text/plain": [
       "(3875, 59)"
      ]
     },
     "execution_count": 4,
     "metadata": {},
     "output_type": "execute_result"
    }
   ],
   "source": [
    "s35.shape"
   ]
  },
  {
   "cell_type": "code",
   "execution_count": 5,
   "metadata": {},
   "outputs": [
    {
     "data": {
      "text/plain": [
       "Index(['sshot_35_', 'sshot_35_payment_date', 'sshot_35_payment_amount',\n",
       "       'sshot_35_last_payment_amount', 'sshot_35_last_payment_date',\n",
       "       'sshot_35_total_repayment', 'sshot_35_is_pastdue90',\n",
       "       'sshot_35_is_pastdue180', 'sshot_35_payment_date_mismatch',\n",
       "       'sshot_35_is_open', 'sshot_35_we_payment_share', 'sshot_35_is_due',\n",
       "       'sshot_35_has_impairment1', 'sshot_35_cd_lent_c',\n",
       "       'sshot_35_cd_repaid_c', 'sshot_35_cd_impaired1_c',\n",
       "       'sshot_35_cd_pastdue90_c', 'sshot_35_cd_pastdue180_c',\n",
       "       'sshot_35_cd_trend_a', 'sshot_35_cd_we_payment_share',\n",
       "       'sshot_35_cd_pd_mismatch_mean', 'sshot_35_cd_pd_mismatch_std',\n",
       "       'sshot_35_cd_repaid_r', 'sshot_35_cd_pastdue90_r',\n",
       "       'sshot_35_cd_pastdue180_r', 'sshot_35_cd_impaired1_r',\n",
       "       'sshot_35_d_lent_c', 'sshot_35_d_repaid_c', 'sshot_35_d_impaired1_c',\n",
       "       'sshot_35_d_pastdue90_c', 'sshot_35_d_pastdue180_c',\n",
       "       'sshot_35_d_trend_a', 'sshot_35_d_we_payment_share',\n",
       "       'sshot_35_d_pd_mismatch_mean', 'sshot_35_d_pd_mismatch_std',\n",
       "       'sshot_35_d_repaid_r', 'sshot_35_d_pastdue90_r',\n",
       "       'sshot_35_d_pastdue180_r', 'sshot_35_d_impaired1_r',\n",
       "       'sshot_35_c_lent_c', 'sshot_35_c_repaid_c', 'sshot_35_c_impaired1_c',\n",
       "       'sshot_35_c_pastdue90_c', 'sshot_35_c_pastdue180_c',\n",
       "       'sshot_35_c_trend_a', 'sshot_35_c_we_payment_share',\n",
       "       'sshot_35_c_pd_mismatch_mean', 'sshot_35_c_pd_mismatch_std',\n",
       "       'sshot_35_c_repaid_r', 'sshot_35_c_pastdue90_r',\n",
       "       'sshot_35_c_pastdue180_r', 'has_purchase', 'due_date', 'invoice_date',\n",
       "       'customer_name_1', 'debtor_name_1', 'customer_id', 'debtor_id', 'uid'],\n",
       "      dtype='object')"
      ]
     },
     "execution_count": 5,
     "metadata": {},
     "output_type": "execute_result"
    }
   ],
   "source": [
    "s35.columns"
   ]
  },
  {
   "cell_type": "code",
   "execution_count": 6,
   "metadata": {},
   "outputs": [],
   "source": [
    "fields = ['sshot_35_', 'sshot_35_payment_date', 'sshot_35_payment_amount',\n",
    "       'sshot_35_last_payment_amount', 'sshot_35_last_payment_date',\n",
    "       'sshot_35_total_repayment', 'sshot_35_is_pastdue90',\n",
    "       'sshot_35_is_pastdue180', 'sshot_35_payment_date_mismatch',\n",
    "       'sshot_35_is_open', 'sshot_35_we_payment_share', 'sshot_35_is_due',\n",
    "       'sshot_35_has_impairment1', 'sshot_35_cd_lent_c',\n",
    "       'sshot_35_cd_repaid_c', 'sshot_35_cd_impaired1_c',\n",
    "       'sshot_35_cd_pastdue90_c', 'sshot_35_cd_pastdue180_c',\n",
    "       'sshot_35_cd_trend_a', 'sshot_35_cd_we_payment_share',\n",
    "       'sshot_35_cd_pd_mismatch_mean', 'sshot_35_cd_pd_mismatch_std',\n",
    "       'sshot_35_cd_repaid_r', 'sshot_35_cd_pastdue90_r',\n",
    "       'sshot_35_cd_pastdue180_r', 'sshot_35_cd_impaired1_r',\n",
    "       'sshot_35_d_lent_c', 'sshot_35_d_repaid_c', 'sshot_35_d_impaired1_c',\n",
    "       'sshot_35_d_pastdue90_c', 'sshot_35_d_pastdue180_c',\n",
    "       'sshot_35_d_trend_a', 'sshot_35_d_we_payment_share',\n",
    "       'sshot_35_d_pd_mismatch_mean', 'sshot_35_d_pd_mismatch_std',\n",
    "       'sshot_35_d_repaid_r', 'sshot_35_d_pastdue90_r',\n",
    "       'sshot_35_d_pastdue180_r', 'sshot_35_d_impaired1_r',\n",
    "       'sshot_35_c_lent_c', 'sshot_35_c_repaid_c', 'sshot_35_c_impaired1_c',\n",
    "       'sshot_35_c_pastdue90_c', 'sshot_35_c_pastdue180_c',\n",
    "       'sshot_35_c_trend_a', 'sshot_35_c_we_payment_share',\n",
    "       'sshot_35_c_pd_mismatch_mean', 'sshot_35_c_pd_mismatch_std',\n",
    "       'sshot_35_c_repaid_r', 'sshot_35_c_pastdue90_r',\n",
    "       'sshot_35_c_pastdue180_r']"
   ]
  },
  {
   "cell_type": "code",
   "execution_count": 7,
   "metadata": {},
   "outputs": [],
   "source": [
    "dtemp = prepare_connections(s35, fields = fields)"
   ]
  },
  {
   "cell_type": "code",
   "execution_count": 8,
   "metadata": {},
   "outputs": [],
   "source": [
    "nodes = create_nodes_df(dtemp)"
   ]
  },
  {
   "cell_type": "code",
   "execution_count": 9,
   "metadata": {},
   "outputs": [],
   "source": [
    "edges = create_edges_df(dtemp, fields = ['sshot_35_cd_pastdue180_c', 'sshot_35_has_impairment1'])"
   ]
  },
  {
   "cell_type": "code",
   "execution_count": 10,
   "metadata": {},
   "outputs": [
    {
     "name": "stderr",
     "output_type": "stream",
     "text": [
      "C:\\Users\\DavideMariani\\Tradeteq Dropbox\\Davide Mariani\\thesis_project\\networkAnalysisForML\\network_modelling.py:182: SettingWithCopyWarning: \n",
      "A value is trying to be set on a copy of a slice from a DataFrame.\n",
      "Try using .loc[row_indexer,col_indexer] = value instead\n",
      "\n",
      "See the caveats in the documentation: http://pandas.pydata.org/pandas-docs/stable/indexing.html#indexing-view-versus-copy\n",
      "  nodes['centrality'] = [centrality[n] for n in list(nodes['Company_Name'])]\n",
      "C:\\Users\\DavideMariani\\Tradeteq Dropbox\\Davide Mariani\\thesis_project\\networkAnalysisForML\\network_modelling.py:187: SettingWithCopyWarning: \n",
      "A value is trying to be set on a copy of a slice from a DataFrame.\n",
      "Try using .loc[row_indexer,col_indexer] = value instead\n",
      "\n",
      "See the caveats in the documentation: http://pandas.pydata.org/pandas-docs/stable/indexing.html#indexing-view-versus-copy\n",
      "  nodes['size'] = np.around(np.interp(nodes['centrality'], (nodes['centrality'].min(), nodes['centrality'].max()), (min_size, max_size)),2)\n"
     ]
    }
   ],
   "source": [
    "n, edges, nodes = create_network(edges, nodes)"
   ]
  },
  {
   "cell_type": "code",
   "execution_count": 11,
   "metadata": {},
   "outputs": [],
   "source": [
    "g = visualize_graph(n, edges, nodes, nx_k=0.08, to_highlight='sshot_35_has_impairment1')"
   ]
  },
  {
   "cell_type": "code",
   "execution_count": 12,
   "metadata": {},
   "outputs": [
    {
     "data": {
      "text/html": [
       "\n",
       "\n",
       "\n",
       "\n",
       "\n",
       "\n",
       "  <div class=\"bk-root\" id=\"c265cd43-35ad-45a1-a0eb-cc34c674da50\" data-root-id=\"1063\"></div>\n"
      ]
     },
     "metadata": {},
     "output_type": "display_data"
    },
    {
     "data": {
      "application/javascript": [
       "(function(root) {\n",
       "  function embed_document(root) {\n",
       "    \n",
       "  var docs_json = {\"914c211d-70f9-4f62-8218-4008c727d466\":{\"roots\":{\"references\":[{\"attributes\":{\"below\":[{\"id\":\"1073\",\"type\":\"LinearAxis\"}],\"left\":[{\"id\":\"1078\",\"type\":\"LinearAxis\"}],\"renderers\":[{\"id\":\"1073\",\"type\":\"LinearAxis\"},{\"id\":\"1077\",\"type\":\"Grid\"},{\"id\":\"1078\",\"type\":\"LinearAxis\"},{\"id\":\"1082\",\"type\":\"Grid\"},{\"id\":\"1089\",\"type\":\"BoxAnnotation\"},{\"id\":\"1004\",\"type\":\"GraphRenderer\"}],\"title\":{\"id\":\"1062\",\"type\":\"Title\"},\"toolbar\":{\"id\":\"1091\",\"type\":\"Toolbar\"},\"x_range\":{\"id\":\"1065\",\"type\":\"Range1d\"},\"x_scale\":{\"id\":\"1069\",\"type\":\"LinearScale\"},\"y_range\":{\"id\":\"1067\",\"type\":\"Range1d\"},\"y_scale\":{\"id\":\"1071\",\"type\":\"LinearScale\"}},\"id\":\"1063\",\"subtype\":\"Figure\",\"type\":\"Plot\"},{\"attributes\":{\"grid_line_color\":{\"value\":null},\"plot\":{\"id\":\"1063\",\"subtype\":\"Figure\",\"type\":\"Plot\"},\"ticker\":{\"id\":\"1074\",\"type\":\"BasicTicker\"}},\"id\":\"1077\",\"type\":\"Grid\"},{\"attributes\":{\"data_source\":{\"id\":\"1006\",\"type\":\"ColumnDataSource\"},\"glyph\":{\"id\":\"1027\",\"type\":\"Circle\"},\"hover_glyph\":{\"id\":\"1048\",\"type\":\"Circle\"},\"muted_glyph\":null,\"nonselection_glyph\":{\"id\":\"1033\",\"type\":\"Circle\"},\"view\":{\"id\":\"1008\",\"type\":\"CDSView\"}},\"id\":\"1007\",\"type\":\"GlyphRenderer\"},{\"attributes\":{\"formatter\":{\"id\":\"1102\",\"type\":\"BasicTickFormatter\"},\"plot\":{\"id\":\"1063\",\"subtype\":\"Figure\",\"type\":\"Plot\"},\"ticker\":{\"id\":\"1079\",\"type\":\"BasicTicker\"},\"visible\":false},\"id\":\"1078\",\"type\":\"LinearAxis\"},{\"attributes\":{},\"id\":\"1079\",\"type\":\"BasicTicker\"},{\"attributes\":{\"line_color\":{\"value\":\"#abdda4\"},\"line_width\":{\"value\":0.8}},\"id\":\"1053\",\"type\":\"MultiLine\"},{\"attributes\":{\"dimension\":1,\"grid_line_color\":{\"value\":null},\"plot\":{\"id\":\"1063\",\"subtype\":\"Figure\",\"type\":\"Plot\"},\"ticker\":{\"id\":\"1079\",\"type\":\"BasicTicker\"}},\"id\":\"1082\",\"type\":\"Grid\"},{\"attributes\":{\"line_alpha\":{\"value\":0.85},\"line_color\":{\"field\":\"highlight\",\"transform\":{\"id\":\"1042\",\"type\":\"LinearColorMapper\"}},\"line_width\":{\"value\":0.15}},\"id\":\"1043\",\"type\":\"MultiLine\"},{\"attributes\":{\"data_source\":{\"id\":\"1010\",\"type\":\"ColumnDataSource\"},\"glyph\":{\"id\":\"1043\",\"type\":\"MultiLine\"},\"hover_glyph\":{\"id\":\"1053\",\"type\":\"MultiLine\"},\"muted_glyph\":null,\"view\":{\"id\":\"1012\",\"type\":\"CDSView\"}},\"id\":\"1011\",\"type\":\"GlyphRenderer\"},{\"attributes\":{\"bottom_units\":\"screen\",\"fill_alpha\":{\"value\":0.5},\"fill_color\":{\"value\":\"lightgrey\"},\"left_units\":\"screen\",\"level\":\"overlay\",\"line_alpha\":{\"value\":1.0},\"line_color\":{\"value\":\"black\"},\"line_dash\":[4,4],\"line_width\":{\"value\":2},\"plot\":null,\"render_mode\":\"css\",\"right_units\":\"screen\",\"top_units\":\"screen\"},\"id\":\"1089\",\"type\":\"BoxAnnotation\"},{\"attributes\":{},\"id\":\"1115\",\"type\":\"UnionRenderers\"},{\"attributes\":{\"source\":{\"id\":\"1010\",\"type\":\"ColumnDataSource\"}},\"id\":\"1012\",\"type\":\"CDSView\"},{\"attributes\":{\"edge_renderer\":{\"id\":\"1011\",\"type\":\"GlyphRenderer\"},\"inspection_policy\":{\"id\":\"1060\",\"type\":\"NodesAndLinkedEdges\"},\"layout_provider\":{\"id\":\"1013\",\"type\":\"StaticLayoutProvider\"},\"node_renderer\":{\"id\":\"1007\",\"type\":\"GlyphRenderer\"},\"selection_policy\":{\"id\":\"1058\",\"type\":\"NodesAndLinkedEdges\"}},\"id\":\"1004\",\"type\":\"GraphRenderer\"},{\"attributes\":{\"callback\":null,\"tooltips\":[[\"Company Name\",\"@index\"],[\"Company Type\",\"@type\"]]},\"id\":\"1098\",\"type\":\"HoverTool\"},{\"attributes\":{},\"id\":\"1117\",\"type\":\"UnionRenderers\"},{\"attributes\":{\"callback\":null,\"overlay\":{\"id\":\"1089\",\"type\":\"BoxAnnotation\"}},\"id\":\"1083\",\"type\":\"BoxSelectTool\"},{\"attributes\":{},\"id\":\"1114\",\"type\":\"Selection\"},{\"attributes\":{\"graph_layout\":{\"3TECH SA\":[-0.7936552964217397,-0.292471181946777],\"A. Henrioud SA\":[-0.601509909198036,-0.443396338326688],\"ABC Steel Products GBP\":[-0.45307195313200954,-0.5341617474397605],\"ABC Steel Products GmbH\":[0.3295922721629542,-0.6872593709861049],\"ADEFI SA\":[0.7193362840141331,-0.2116661332331512],\"ADVANCED MACHINERY NV\":[-0.7666006835365523,-0.363720500431714],\"AGI AG f\\u00fcr Isolierungen\":[0.3199753073546094,-0.09344188704773833],\"ALVAZZI GENEVE SA CHAUFFAGE VENTILATION p.a. Alvaz\":[-0.6263633698714675,-0.49139541821136623],\"AMCOR FLEXIBLES PACKAGING FRANCE SAS Boite de tri\":[-0.7562179900447662,-0.49642178200234854],\"AUXILIAR DE SENALIZACIONES Y BALIZAMIENTOS SA\":[0.441652408279278,-0.8722011367119963],\"AXIONS SA\":[-0.6887499822749262,0.6220626317936259],\"AZ Elektro AG\":[0.7038748912775293,-0.5094595196558004],\"Abarisk SA\":[0.7111989476330134,-0.2433584603052288],\"Achwalden AG\":[-0.45732441769163856,-0.6140012037698332],\"Airport Staff GmbH\":[-0.7124774181862464,0.48163378987435324],\"Akka Ingenerie Process SAS\":[0.6258160986091171,0.5305967547958581],\"Albert Leutwyler GmbH\":[0.33892527021654384,0.542834096402683],\"Alstom Power Systems SA\":[0.48095351957543253,0.8204782778105961],\"Amcor Flexibles France SAS Bo\\u00eete de tri 2.20.1 BP\":[-0.729589944898728,-0.4583590676712343],\"Amedeo Gipser AG\":[0.5857941299526193,0.4391383468025088],\"Amerex Ltd.\":[-0.5703840925536152,-0.5702585653489582],\"Arnosti Arkuba (Schweiz) AG\":[-0.09469492146513345,0.11760487922146631],\"Arnosti Arkuba AG\":[0.30065774589744,-0.6181154877924365],\"Atlantic Steel Processing Ltd\":[-0.6044244881252074,-0.676522236701652],\"Aufdermaur S\\u00f6hne Immobilien AG\":[-0.39524938956512046,-0.692117408395881],\"B+R ELECOM SERVICE GMBH\":[0.3745284243883939,0.5540712572239832],\"BB ENTREPRISE GENERALE SA\":[-0.894340151454318,-0.5508113268835372],\"BULA Chemin\\u00e9e Ofenbau\":[-0.4233278600199624,-0.43059960150173243],\"Babberger Brandschutz AG\":[0.6633397751574995,-0.26457299659909783],\"Bacardi GmbH\":[-0.7761721643753955,0.4555040610557698],\"Bafento AG\":[0.3292604905070585,0.6232602066509413],\"Bamix Bau GmbH\":[-0.18023887665860153,-0.5987058634020314],\"Barcelonesa de Metales S.A.\":[0.2115548653943806,-0.7285397137765465],\"Basilea Pharmaceutica International AG\":[-0.2586106503533972,0.21538354087320932],\"Baugesch\\u00e4ft Gysi AG\":[-0.2682638076578457,-0.6514355901896578],\"Bayer Pfl\\u00e4sterungen GmbH\":[0.4588416666988914,0.29180373381072483],\"Beat H\\u00fcrlimann GmbH\":[0.26794691821761074,0.2579280385773109],\"Beaute Prestige International SA \\\"B.P.I.\\\"\":[-0.8436247747403274,0.35093324355271155],\"Benninghoven GmbH & Co. KG\":[0.3087476214546482,0.24349700687903178],\"Bertrandt SA\":[0.6063836150827614,0.8401088807532374],\"Betonab AG\":[-0.30320211218336446,-0.6776867597621605],\"Bingesser Huber Elektro AG\":[-0.23722349704918846,0.6309006194545262],\"Blatter AG\":[-0.3184288886451915,-0.9383362900757988],\"BluePlan AG\":[-0.3053607608286743,-0.4997367293971976],\"Bobst Bielefeld GmbH Postfach 101131\":[-0.6394174907547343,-0.3331534283533138],\"Bobst Italia SpA.u.s.\":[-0.4367746589399456,-0.30090100041619333],\"Boner Holzbau AG\":[-0.6666384815863161,-0.14166380285593613],\"Breger Centre\":[-0.548104927250248,-0.4716802208981229],\"Brendle Elektro AG\":[-0.08385767765305237,0.43409025763991677],\"Burkhardt Heizug + Sanit\\u00e4r AG\":[-0.6971943507752962,-0.18494241289249874],\"B\\u00fchler AG\":[0.46994877419412456,-0.22568349312778133],\"B\\u00fclent Tan Gastronomiebedarf\":[-0.8390215028938832,0.11070074220355745],\"CDP SWISS AG\":[0.7476306715965076,0.23177289325366285],\"CFS Cellpack Packaging B.P. 29\":[-0.5787509403316721,-0.432703704724703],\"CHIYODA EUROPA NV Freddy Dohlen Genk-Zuid Zone 11\":[-0.4110725196283069,-0.23518570375962358],\"CJ Upton & Sons Ltd\":[-0.31068484963363263,-0.48776178371800477],\"CTI Group GmbH\":[-0.014539028419270919,-0.6008465420613799],\"Cantelli Rotoweb S.R.L\":[-0.7310761237012244,0.09366666028936703],\"Carlo Massaro AG\":[-0.072427272684268,-0.3931669533251254],\"Chainbridge Steel (North East) Ltd\":[-0.5422936334747043,-0.7129980189385691],\"Chinchurreta SA\":[0.48814666489814074,-0.8113751324690176],\"Chollet & Baldacci S.A.\":[-0.8548186008818989,-0.4031682463723981],\"Clarins Groupe SARL\":[-0.7946056499176835,0.2916948833447394],\"Clopay Aschersleben GmbH\":[-0.38887835760024236,-0.2701867265103469],\"Commit Siderurgica SPA\":[0.3916587370969238,-0.6413041324882847],\"Conimmo Immobilienberatung GmbH Herr Heinrich Lust\":[0.24237202759476967,0.6208078406565446],\"Conrad Thomas Keramische Wand- und Bodenbel\\u00e4ge\":[0.4476949554295565,0.6449911062793585],\"Contrafeu AG\":[0.723434897516255,-0.14809959720978827],\"Controx Brandschutz GmbH\":[0.20953412800168658,-0.025721683623171378],\"Corrodi + Keller AG\":[-0.04712655217709959,0.4734191086308518],\"Coty Geneva SA Versoix\":[-0.6705425542636899,0.3578877893487593],\"Coveris Flexibles Deutschland GmbH\":[-0.4037544710349854,-0.33331126256073046],\"Covertec AG Montagetechnik\":[0.4139613105799218,0.6084821762581667],\"Cowa Service Geb\\u00e4udedienste AG\":[0.5182048146275201,0.2987866325281156],\"Creative Promotions GmbH (CHF01)\":[-0.7494843160148659,0.5362621619012412],\"Creative Promotions GmbH (CHF02)\":[-0.7267956994245188,0.3639672785546065],\"Cutler & Woolf Steel Ltd\":[-0.5793104151787376,-0.690193159688605],\"D.E.S. Syst\\u00e8mes de s\\u00e9curit\\u00e9 SA\":[0.6767384915119659,-0.133667854980694],\"D.N.T Company Ltd\":[-0.5939127354898891,-0.6494614315213907],\"DKZet Offsetrotatie B.V.\":[-0.9239275932235343,0.034373987623143906],\"DP Metallbau GmbH\":[-0.07724502157869104,0.19157684748666984],\"DRENI GmbH\":[-0.07703533472254369,-0.86884841226447],\"DRcom Switzerland S\\u00e0rl\":[0.6391983440589099,0.29219572698871915],\"DZS Grafik D.O.O.\":[-0.9367960166967738,0.08682604106835674],\"Dach + Wand Reusser GmbH\":[0.4878886741949024,0.5612018583187575],\"Dachbau Gehring AG\":[0.4164995274121404,0.5608804707926013],\"Dachfensterservice Helfenstein GmbH\":[0.6258933383181258,0.432510173003428],\"Davro Steel Ltd\":[-0.5734065726629269,-0.7175287335246655],\"Delag Elektrotechnische Anlagen AG\":[0.570430222692432,0.5655246308538359],\"Diageo Singapore Pte. Ltd.\":[-0.5510951448949576,0.3162737405274496],\"Dourado Cabral Sensation Daniella Caroline Dourado\":[0.9184087119480665,0.27823876644224116],\"Dr. Eicher + Pauli AG\":[-0.20679850370682404,-0.6073619103472919],\"EC Technik GmbH\":[0.012110596224540594,0.43215997999940076],\"ELEKTRO-MATERIAL AG\":[0.6756920083378685,-0.2017842214689476],\"ERI Bau GmbH\":[-0.15583848764442998,-0.5937028432838508],\"ESS GmbH\":[-0.13959360027857726,0.8155423195180157],\"ETAVIS AG\":[-0.17437121863152452,0.45292663769696434],\"ETM Energie- Technik Meier AG\":[-0.2723606924401559,0.7389423924644426],\"EVG Elektro Installationen AG\":[-0.031034908160982297,0.6719277997366103],\"EW Aadorf\":[-0.23079697082977293,0.5508481942877426],\"EW Elektro Widmer AG\":[-0.18857892309640775,0.6313917118346379],\"EW Sirnach AG\":[-0.12363143423525885,0.8350037496074703],\"EWE Elektro AG Planung Installation\":[-0.12450137603421078,0.7568955851949737],\"Eddy Fritz\":[-0.678702777607548,-0.5372570927799256],\"Eggstein Holz AG\":[0.511926880687577,0.3637699350158503],\"Ego Elektriker-Genossenschaft\":[-0.14017915296858754,0.7762720722274699],\"Einsa Print SA\":[-0.5256859746149615,0.04596058685692492],\"Elektrizit\\u00e4tswerk Obwalden\":[0.3883058705577406,0.6539834983470457],\"Elektrizit\\u00e4tswerk Schwyz AG\":[0.4031663454729254,0.30179887118265036],\"Elektrizit\\u00e4tswerke des Kantons Z\\u00fcrich (EKZ)\":[-0.2455971512745038,0.7571506363952826],\"Elektro B\\u00fcrgin AG\":[-0.23079270807169813,0.587719165056343],\"Elektro Favre\":[0.0257442570781174,0.535097468966692],\"Elektro Gander AG\":[0.19887788917793214,0.969749522085178],\"Elektro K\\u00fcnzler & A. Vogt AG\":[-0.041247854500632654,0.3725815484865525],\"Elektro M. Andreoli GmbH\":[0.5489232677000657,0.5397897575279279],\"Elektro Schwizer AG\":[0.2593164952872496,0.32116758733544076],\"Elektro-Reisch GmbH\":[-0.19292754452953903,0.4893092019666048],\"Elektro-Thoma AG Elektrogesch\\u00e4ft\":[-0.20006166417593935,0.7578413229261151],\"Empresa Grafica Funchalense\":[-0.937341248490377,0.059631050567533435],\"Enemag Telecom AG\":[0.5346814098472488,0.5894273143506278],\"Entreprise Duret SA\":[-0.9347209609057433,-0.5026820777719737],\"F. Hoffmann-La Roche AG\":[-0.2298017190471884,0.21605581775201907],\"FERRINOX GmbH\":[0.49109068960731794,-0.25154173406889685],\"FHB Bau GmbH\":[-0.20523509393173217,-0.9195168461477149],\"Fasler Metallbau AG\":[0.28739527088706424,0.5096664060770619],\"Fasnacht Solutions AG\":[-0.5846602785261787,-0.36628886165845154],\"Fenster B\\u00e4rtsch GmbH\":[0.25791657075176816,0.2881650360099237],\"Ferro Lamiere Metalli SRL\":[0.29414548479681946,-0.8166023124443627],\"Ferrostaal Air Technology GmbH\":[0.5877409684957048,-0.43631324927904636],\"Fidelis HR Switzerland AG\":[0.6570326536884651,-0.8351953776465099],\"Fl\\u00fcck Umbau Gmbh\":[0.49376960559648847,0.612035460375123],\"Fortuna & Partner Bau AG\":[-0.10177609096696646,-0.6524085411102434],\"Fortuna Personalberatung GmbH\":[-0.2279953730657738,-0.7443024959153466],\"Fowle & Co Ltd\":[-0.505514665095402,-0.712208058909738],\"Fracht AG\":[-0.6583446040923157,-0.18611743551966187],\"Frutiger AG Basel\":[-0.09266429801652708,-0.83567338252584],\"Frutiger Display AG\":[0.7003760354485657,-0.17550625649092047],\"Fux Josi, Haustechnik\":[0.565650072276769,0.3660405111501642],\"GALDERMA INTERNATIONAL\":[0.801737963393142,0.24291897169450963],\"GEHE Pharma Handel GmbH\":[0.12338410161581345,0.8939455476574183],\"GMT Bau GmbH\":[0.16294792402417624,0.29005827068905504],\"GRIMMO AG\":[0.1466089540527616,0.32875484073964284],\"GalaTech GmbH\":[-0.01629749839642851,0.48103449052162367],\"Gallo AG\":[0.5351323975627492,0.6131772615435716],\"Gardiner Colours Limited Douglas House, Ripley Dri\":[-0.7890280726076487,-0.06102711713918636],\"Gastro Best Price AG\":[-0.8266679303766816,0.20946211084131508],\"Gavex Produtos Sider\\u00fargicos SA\":[0.21418291729633235,-0.47528551129095487],\"Gebr. Baur AG Zufikon\":[0.4639500942377325,0.44387754585403577],\"Gebr. Candeloro\":[0.6009399008577143,0.49002252934236196],\"Gebr. Umbricht AG\":[0.5633631120826078,0.30333288430172556],\"General Dynamics European Land Systems - Mowag Gmb\":[0.5969103653864031,-0.24646399860373444],\"Gerber Bau AG\":[-0.11996761817106065,-0.604143701180221],\"Giger-UWA  AG\":[-0.42823164178383255,-0.5905310761334291],\"Gips Team GmbH\":[0.250178832727754,0.49267453308516374],\"Gipser Meier GmbH\":[0.03455013856246583,-0.042968632137425695],\"Glattal Installationen AG, Elektro + Telekommunika\":[-0.13824176893893933,0.4121962010573627],\"Grafedisport - Impressao e Artes Graficas S.A.\":[-0.5759989372550571,-0.01964229421660023],\"Grafica Veneta S.p.a.a.\":[-0.946835150650611,0.019109509798497046],\"Grafodinamica, Lda. Rua Cidade de Faro, Lt. G-H.Fr\":[-0.9508966826134664,-0.010931645835572473],\"Greuter H. AG\":[-0.21474646341217343,0.6755628421241799],\"Gromann und Murer AG\":[-0.28125728338764183,-0.6888451815140556],\"Gr\\u00f6tzinger & Rychard AG\":[0.4069192725792905,0.443484976326674],\"G\\u00fcnther Scheikl Malerei\":[0.4937838877295435,0.3358239253431682],\"H + T Home & Technology AG\":[-0.12144914000246015,-0.8553698765809534],\"HELIO CORBEIL\":[-0.6601947979430937,-0.2782690006677307],\"HKM SA\":[-0.9177850616708602,-0.5292725184828911],\"Haag Streit AG\":[-0.7699507370268582,-0.46151376885743006],\"Habegger Bau AG\":[0.4310915788082689,0.2727220234999414],\"Hager AG\":[-0.20683622303304897,0.7330334863837973],\"Hajdu Malergesch\\u00e4ft GmbH\":[0.4869198572636467,-0.2668296703519573],\"Hampton & Meier SA\":[-0.2704481110769737,-0.566026094034461],\"Hans K. Schibli AG\":[-0.23942643010827222,0.7184205440045153],\"Haus Wieden, Wohnen und Pflege im Alter\":[0.4667099080264743,-0.3617101568690515],\"Heinrich Brenner AG\":[0.314227968523386,0.5670847899684701],\"Helios Periers SAS Zone Industrielle\":[-0.4109849572925885,-0.37154688139079295],\"Hertli & Bertschy AG Elektrische Anlagen\":[0.5859975610929596,0.32557454336273883],\"Hi-Tech Steel Services Ltd\":[-0.4107019911543985,-0.33155260339367176],\"Hierros de Levante S.A.\":[0.20410974109617347,-0.6945565221436995],\"Hintermann AG\":[0.32716971141351925,0.363818415616707],\"Holder Huber AG\":[-0.33349566622828825,-0.7276340372020258],\"Home+Technology AG\":[0.2120220949916938,-0.690801531045186],\"Hustech Installations AG\":[0.021486735694791415,0.5778719447208156],\"H\\u00e4lg & Co. AG\":[0.8374671393581766,-0.4384119739401035],\"H\\u00e4lg + Co. AG\":[0.4161766018277523,0.6590016289544361],\"H\\u00f6hener Armierungen AG\":[-0.3687197468871108,-0.6209026702535383],\"H\\u00fcrzeler & Schafroth Elektrotechnik AG\":[0.13264819842621348,0.5479147541019869],\"H\\u00fcseyin Basbayandur, Viamala Haustechnik\":[-0.1711036758106379,0.24936629579307576],\"I.C.L. Societa Per Azioni Siglabile SPA\":[0.38632691080753945,-0.5703387213359523],\"I.ME.VA - Industria Meccanica Varrichio\":[0.36927539181787,-0.79821384632371],\"ICM Swiss AG\":[-0.4260982898022746,-0.6663274751802406],\"IHEID\":[0.12902231142654144,-0.737253412388211],\"IPS Personal GmbH\":[0.21440282147668124,0.7886282616115561],\"Iber Steel S.L\":[0.29664246696837127,-0.7674531724134005],\"Immobilien Meridiana AG\":[0.20102568072581575,-0.8802311041196815],\"Infiana Germany GmbH & Co. KG\":[-0.7162919641820876,-0.34735604977708745],\"Inocom Installationen AG\":[-0.018240492508741924,0.4094629677021242],\"Inter Parfums Holding SA\":[-0.6791965998984866,0.25305478155268285],\"Italiane Editrice Spa\":[-0.5305795192220172,-0.05865211186565375],\"J. Peter-Reich AG\":[0.016748516150057517,0.6694398490130595],\"J.C.-Maler- Gipsergesch\\u00e4ft\":[0.2982881468228069,0.44827226060145864],\"J.Soares Correira - Armaz\\u00e9ns de Ferro, SA\":[0.42691113431715727,-0.8007872997936499],\"JCY Steel Supplies Ltd\":[-0.22194292686630043,-0.34857212376758495],\"JT International SA\":[-0.776168869022429,0.6255669218385379],\"John Haustechnik AG\":[-0.12144533474784963,-0.5844521202458874],\"Johner Elektro AG\":[0.5265957630574707,0.5646069858397692],\"Jomos Brandschutz AG\":[0.445153773860985,-0.08897328424010195],\"Joos Metall- und Stahlbau AG\":[0.2241156657505647,0.3248033163096896],\"Josef Amb\\u00fchl Zimmerei\":[0.603825110541194,0.4186295175148446],\"J\\u00e4ggi Vollmer GmbH\":[0.35452741941256954,0.32299640503701343],\"KB Bauunternehmen GmbH\":[-0.6367506235043455,-0.15276079882820734],\"Kaufmann Oberholzer Sch\\u00f6nenberg AG\":[0.5379438427172872,0.2745321726279207],\"Keramik-Aeschbacher GmbH\":[0.5913744612627667,0.5459563268803139],\"Klaus Remmert Gastroshop 2000\":[-1.0,0.2683471546732001],\"Koller Thomas Akkordunternehmung\":[-0.17231403503582468,-0.8976766125779397],\"Kontax AG\":[0.5346530865923398,-0.7085430866549773],\"Kozan Ladenbau e.K.\":[-0.9415717853321107,0.15007280944918558],\"Krieger Produktions AG\":[0.3346995161925013,0.5966760878657025],\"Kury AG\":[0.23241601963125708,-0.8839928335449506],\"Kurz Heizungen AG\":[0.6078081847756008,0.3644433361447991],\"L'AQ AG\":[-0.3246037904158162,-0.35693289696797464],\"LOASE AG\":[0.36060254407905185,0.6030799209766657],\"Laima Holding AG\":[-0.4379523676729724,-0.48618074394464017],\"Landwirtschaftliche Baugenossenschaft\":[0.567924716915811,0.614284719545225],\"Lauber Iwisa AG\":[0.33773114427107614,0.23252940776523048],\"Legima AG\":[-0.2215429282458946,0.49722090961355697],\"Lemania Interim SA\":[-0.7362152169532057,-0.4195881283626298],\"Leu Elektro GmbH\":[-0.19471734883562217,0.7897472322735817],\"Leu und Partner Elektro AG\":[-0.1651301845163914,0.2115346357924245],\"Lindt & Spr\\u00fcngli (Schweiz) AG Promotion Manager Du\":[-0.7271850634317363,0.6330107831783734],\"Lisi Automotive Mohr + Friedrich\":[-0.7011653906039018,-0.4743191875940357],\"Lonstroff AG\":[-0.2668481281276555,0.18124332781914151],\"Lussmann Spenglerei und Bedachungen AG\":[0.26392510443390466,0.5664451409688936],\"Luzerner Kantonsspital Sursee\":[0.8220913629737994,-0.47035312342317137],\"L\\u00fcthi-Nobel AG\":[0.4648967851492361,0.5167144274012608],\"L\\u00fctolf Teppich + Bodenbel\\u00e4ge GmbH\":[0.5656596054529357,0.49730411049852863],\"M. Kundert Bauunternehmung AG\":[-0.31387628488684594,-0.8682923374592462],\"MARCHI  ATTARDO SARL\":[-0.9228684532400971,-0.47556526576487584],\"MAROCOM AG\":[-0.15581325762345516,0.49684770805563655],\"METTLER PRADER AG\":[-0.40186578544605517,-0.6139722628282775],\"MIBAG Property Managers AG\":[0.0795278098217522,-0.4214480178359884],\"MINO SA\":[-0.7104931098951685,-0.5308255504513639],\"MPS Steuerungen AG\":[-0.2687103097674666,0.64376385832143],\"MTL Elektro AG\":[-0.20244166476216827,0.8190188523639552],\"Maler- und Gipsergesch\\u00e4ft Romeo Pfammatter AG\":[0.5248551732929254,0.6344267703471171],\"Malerei Greiner AG\":[0.2906940864791105,0.5905320574894688],\"Markus Helbling\":[-0.3356166345328368,-0.6119655730151492],\"Meier Elektro AG Oberglatt\":[-0.06708533622359245,0.791846174419065],\"Meier Schaltanlagen\":[-0.10552023426808076,0.6012685512117099],\"Meisser Immobilien GmbH\":[0.29477053273780895,0.6654658453906459],\"Melcom AG electro-communication\":[-0.08650827320149386,0.8088104160290743],\"Meta Tech AG\":[0.24907372710832296,-0.5496972077680744],\"Metallbau Steg AG\":[0.46974856434717277,0.5906385181770637],\"Met\\u00e1licas Albar\\u00f3s, S.L.\":[0.25386809498313717,-0.7837430732332142],\"Mili-Bau GmbH\":[-0.3447633337714821,-0.6832828500338199],\"Mine Meyer Elektro AG\":[0.49043897691208915,0.251473837713777],\"Minimax Z\\u00fcrich\":[-0.10231180586475709,0.7834646356181464],\"Mundo Consulting GmbH\":[-0.04454341184772721,-0.8595635181484725],\"NESTEC SA\":[0.656689608024125,0.1372364981316563],\"NETTOIE'NET SA\":[-0.8933802282083605,-0.4020623127400781],\"NOBILE & MARTIN SA\":[-0.503750552023972,-0.3418381992415083],\"Natural Skin GmbH\":[0.8869540857734626,0.192561344294347],\"Nordmeccanica SpA Group\":[-0.7484476231465248,-0.38961163401987803],\"Novisol AG\":[-0.00522211723223851,-0.6768449080991206],\"Nussbaumer Holzleimbau AG\":[0.3349959932294986,0.4963621432038853],\"ONJO AG\":[-0.02213446810579961,0.2399170154116917],\"Oberland Keramik AG\":[-0.7180451844797844,-0.06318642015265603],\"Oeschger Brandschutz AG\":[0.36970301343366835,-0.1265467777585182],\"Online Trafic GmbH\":[-0.15459804917452571,0.17495006277369854],\"Oscacer - C\\u00e9sar Rola Lda\":[0.30003635400306494,-0.4971688414417609],\"Oschwald Rothrist AG\":[0.3646957879854669,0.2817972105738699],\"Otto Fischer AG\":[0.5147396826645921,-0.2518155566149332],\"P + P Personal AG\":[-0.36710548991612907,-0.6694944855049424],\"P+P Personal AG\":[0.14605922382874545,-0.27700038980630587],\"PAMAG Personal St. Gallen GmbH\":[0.6477358590992127,-0.36768591187634336],\"PGT Healthcare LLP\":[0.7728132827826213,0.19887797580355132],\"PINTSCH TIEFENBACH GmbH\":[-0.6994613877820011,-0.2967811620220167],\"PLANOS FERRICOS FL\":[0.3628389261991681,-0.8678583316549929],\"PM Personal GmbH\":[-0.5183314221143474,-0.004242697202564126],\"PRISMAFOOD S.R.L.\":[-0.6690097388717873,0.25245974527151405],\"Papier Mettler Papier und Kunststoffverpackungen\":[-0.66782967578699,-0.3244680506160365],\"Parfums Christian Dior SA\":[-0.9008891939509898,0.4530592564856762],\"Pavoni Italia S.p.A.\":[-0.6966650013214902,0.23878476828506495],\"Pepi Adank GmbH Malergesch\\u00e4ft\":[0.4449984960305637,0.23915559372978096],\"Pernod Ricard UK Ltd\":[-0.7133734511455061,0.22766452110315274],\"Peter Imhof AG\":[0.2653815155414517,0.3881862040490008],\"Phoenix Contact AG\":[-0.1698970174690542,0.7668305292543739],\"Plusenergietechnik GmbH\":[0.2675161230641866,0.4584528840855868],\"Pluu AG\":[0.6775624163387947,-0.23637770965459723],\"Popp Sanit\\u00e4r AG\":[0.49611894018344727,0.5160265370886498],\"Pro-Bau GmbH\":[-0.27513723558780195,-0.4047231462431542],\"Procter & Gamble Distributing Company Europe BVBA\":[0.8337209007430088,0.34082486030399267],\"Procter & Gamble Espa\\u00f1a SA\":[0.5786141315493796,0.44108547249269575],\"Procter & Gamble International Operations SA\":[0.8031141139049517,0.287159802788116],\"Procter & Gamble Pharmaceuticals France SAS\":[0.6617844900069423,0.47219437118161306],\"Procter and Gamble Australia\":[0.5591729489693745,0.37195071463837065],\"R. Betschart Holzbau AG\":[0.5093738270035245,0.6548257594001817],\"RG Baumanagement AG\":[-0.1551888002148782,-0.5759100793650231],\"RODRIGUEZ et Fils SARL\":[-0.5937439960285418,-0.31147730382415456],\"RSteel - F\\u00e1brica De Tubos Met\\u00e1licos, S.A.\":[0.21732333883077073,-0.6297904684926895],\"Ramada A\\u00e7os SA\":[0.4009486758825696,-0.7211607271428045],\"ReEnergy Projects AG\":[0.32366048902344763,0.6847307620938455],\"Realini & Brandalise Carrelages Sarl\":[0.48267793650792096,0.4126758478085413],\"Rehaklinik Zihlschlacht AG Personalabteilung\":[0.8067549236033653,-0.4178547209911815],\"Reinold Perreten AG\":[0.5396627252103705,0.3333706265247147],\"Rhomberg Bahntechnik GmbH Zweigniederlassung ZH\":[0.5288277649215313,0.46406273559817734],\"Riesen Holzbau AG\":[0.5533007108551816,0.41605378084824785],\"Robowindow Sarl\":[-0.5124920705455394,-0.27334716534757725],\"Rui Santos - Produtos Siderurgicos SA.\":[0.4500790128911399,-0.6817106665405047],\"Rusch Elektrotechnik AG\":[-0.2588284920462055,0.6885073432735158],\"Rytz Simon Bedachungen\":[0.5159136137332022,0.49278555531734713],\"S+S Trading GmbH\":[-0.7659737490321775,0.019587012429637715],\"SCHWYTER.AG\":[0.28124723688900016,0.22620396738964815],\"SK Gipser GmbH\":[0.5956110733237867,0.3901891490886879],\"SPD Swiss Precision Diagnostics GmbH\":[0.687301477734886,0.43191462725012825],\"SWAROVSKI INTERNATIONAL DISTRIBUTION AG Travel Ret\":[-0.735524874929432,0.45662990566992606],\"Sangoi SPA\":[0.4481390255510305,-0.6446828511272824],\"Sattler Media Press GmbH\":[-0.7740486496434743,0.11040467723022163],\"Sauter W\\u00e4rmetechnik GmbH\":[0.45081098709391626,0.6702919568503476],\"Scherrer Haustechnik AG\":[0.4933841198566833,0.28390620365510666],\"Schlosserei Gew\\u00fcrzm\\u00fchle\":[0.3734690864221672,0.21645998321223883],\"Schuler & Rusch Armierungen GmbH\":[-0.43556610777481286,-0.6353066203615221],\"Schultheis-M\\u00f6ckli AG\":[-0.22678827186762085,0.7801495773337142],\"Sideco S.R.L\":[0.27210638912214924,-0.7103461134027846],\"Sideralba SpA\":[0.4760561750563649,-0.8417296288153409],\"Siderurgica Astico S.P.A\":[0.44607898202698326,-0.8412711603953099],\"Siderurgica Fiorentina S.p.A\":[0.47793710831518627,-0.6748553089558978],\"Siderver S.R.L\":[0.4227157719579026,-0.6919215302214722],\"Sihlpark Bau AG\":[-0.39458936608571327,-0.6543461221707519],\"Softub Inc.\":[-0.7786683925942014,-0.3908087004556206],\"Softub Schweiz AG\":[-0.82079271077434,-0.26633475028244064],\"Somedia Partner AG, Zeitungsdruck\":[-0.7096450252705517,-0.06729181099979575],\"Sommer Umbauten & Renovationen\":[0.5783522744545122,0.5853462597698161],\"South Essex Stockholders Ltd\":[-0.35497486978713255,-0.33001603354598935],\"Spenglerei Rolf Merki GmbH\":[0.6102870456036621,0.4618581778156199],\"Speo S\\u00e0rl\":[0.48361852736494193,0.6514030397411024],\"Spitalverband Surselva \\\"Spital regiunal Surselva\\\"\":[0.7940160058448974,-0.48681489370848263],\"Spitalzentrum Biel AG\":[0.5646703059326197,-0.42865386950947393],\"Stadelmann Energie & Haustechnik AG\":[0.4519824400694407,0.6171772346225465],\"Stegim GmbH\":[-0.21868627700736054,-0.8868357119316752],\"Steinegger Elektro AG\":[-0.2246148345589498,-0.5636180856714498],\"Stiftung Erlenhof\":[0.5125427704461141,0.40192396281041576],\"St\\u00f6ckli Bodenbel\\u00e4ge AG\":[-0.7368363771263772,-0.032137353940536545],\"Suministros Siderurgicos Monta\\u00f1eses SA\":[0.1476297811343978,-0.4019549163471798],\"Sunier AG\":[-0.10552747129376278,-0.7091982946646996],\"Swiscovital AG\":[0.12137458736078967,0.689755784139245],\"Swisspro AG\":[0.05052213308303679,0.7208369200372057],\"TAMETAL SA\":[0.4016473478148186,-0.8588895072343733],\"TIGESTIM SA\":[0.4303619934565503,0.5259029482547876],\"TM Fassadenbau AG\":[0.388939236574901,0.5977387902705402],\"Team Fortis GmbH\":[-0.7809627221147956,0.42931773455094335],\"The Nuance Group AG Buchhaltung\":[-0.8342543262634406,0.4799635893645888],\"The Procter & Gamble Company\":[0.39189534530311027,0.1889106426960962],\"Tiffany & Co.\":[-0.6242971009537474,0.4126805863719712],\"Tino Bodenbel\\u00e4ge GmbH\":[0.39906804556442993,0.20182683482999328],\"Titan Software Consulting AG\":[0.26483252253153133,-0.8823390479396425],\"Top Tubes Ltd\":[-0.4480772130680385,-0.3968363418489577],\"Trost GmbH Bauspenglerei / Sanit\\u00e4r / Bedachungen\":[0.20230580572324627,0.3705490094110542],\"Tubos Aranda SA\":[0.2500356722214742,-0.8143201003973729],\"Tubos y Flejes SLU\":[0.4107953400198857,-0.8946763272078914],\"Tunno Gipsergesch\\u00e4ft GmbH\":[-0.7156252640581563,-0.011765156483754311],\"Tyco Integrated Fire & Security (Schweiz) AG\":[0.6002474110674835,-0.08793482940500597],\"URS BAUUNTERNEHMUNG & IMMOBILIEN, Jetmir Imeri\":[0.39601099738592566,0.5022663798606256],\"United Personal Management AG\":[0.3832946504503065,0.4230049780633156],\"VAF FP Vitali\":[0.33252459379651844,0.44469316556054667],\"VTF Treuhand GmbH\":[-0.0963355815341036,-0.6938202377596758],\"Vacasa Bau GmbH\":[-0.5197535852087996,-0.3170914461291489],\"Viansone SA\":[0.26808143063307915,-0.09024667896920634],\"Vitag AG\":[-0.28385542441813433,-0.9571526633696544],\"Von Ro Echafaudages SA Lancy\":[-0.8850577951802024,-0.38173919063079426],\"V\\u00f6gele AG\":[0.5788707045275803,0.5189914683197695],\"W. Hess Elektro AG\":[0.012895178235211174,0.4851608516285162],\"WB B\\u00fcrgin AG\":[0.22983742829038034,0.24405931759007943],\"WBFS AG\":[-0.24461841607231102,-0.9599849664888707],\"Widmer Elektro\":[-0.05077684158186768,0.4199261904608959],\"Windm\\u00f6ller & H\\u00f6lscher KG Postfach 1660\":[-0.5130520143292291,-0.4605375175874164],\"Winterhalter + Fenner AG\":[0.7377420449526441,-0.18500783498406226],\"Wyler AG\":[-0.2531346671814596,-0.9190314204602806],\"Wyss & Partner Maurerakkord GmbH\":[0.23579048350299914,0.5274542062511071],\"Wyss Fux AG\":[0.4401517683082929,0.33467776755092976],\"W\\u00e4lti Luft- & Klimatechnik AG Edelstahlcenter\":[0.2290371251989657,0.4573562095440733],\"ZELLcom AG\":[-0.12624406026999324,0.4394472671068505],\"ZKD B\\u00fcrom\\u00f6bel AG\":[0.7232302879120865,-0.339933870138631],\"Zimmerberg Haustechnik AG\":[-0.2913416848385514,-0.9061557216493957],\"Zimmerei Birchler Bau & Handel\":[0.46131424466500603,0.3808010020024432],\"Zwingli-Agro GmbH\":[0.30633662403752365,-0.8065159080297922],\"bbf Weber\":[0.5708622097874004,0.34585746003972934],\"benz-bau.ch GmbH\":[0.2632575461971463,0.5344951309466129],\"bestfuture.jobs ag\":[-0.04465368242654378,-0.5121829778670886],\"e.e.com elektroanlagen ag\":[-0.1116242265685596,-0.5329316440187041],\"eicoma AG\":[-0.16589009930022136,0.8085517898651774],\"illudec AG\":[0.5302770898218335,-0.153515893125937],\"inter personal GmbH\":[-0.6109499998907648,0.35515473581107626],\"jobs united GmbH\":[0.6499716719273677,-0.4381749168228122],\"opm Bau GmbH\":[0.15078195382937915,0.30712968968426],\"swisspro NW AG\":[0.22228109003967192,0.3845500774018244]}},\"id\":\"1013\",\"type\":\"StaticLayoutProvider\"},{\"attributes\":{\"callback\":null},\"id\":\"1084\",\"type\":\"TapTool\"},{\"attributes\":{},\"id\":\"1058\",\"type\":\"NodesAndLinkedEdges\"},{\"attributes\":{},\"id\":\"1085\",\"type\":\"WheelZoomTool\"},{\"attributes\":{},\"id\":\"1086\",\"type\":\"ResetTool\"},{\"attributes\":{},\"id\":\"1060\",\"type\":\"NodesAndLinkedEdges\"},{\"attributes\":{\"plot\":null,\"text\":\"Network Graph\"},\"id\":\"1062\",\"type\":\"Title\"},{\"attributes\":{\"callback\":null,\"data\":{\"end\":[\"Team Fortis GmbH\",\"Dourado Cabral Sensation Daniella Caroline Dourado\",\"Natural Skin GmbH\",\"AZ Elektro AG\",\"Bertrandt SA\",\"Akka Ingenerie Process SAS\",\"Alstom Power Systems SA\",\"St\\u00f6ckli Bodenbel\\u00e4ge AG\",\"KB Bauunternehmen GmbH\",\"Oberland Keramik AG\",\"Tunno Gipsergesch\\u00e4ft GmbH\",\"DP Metallbau GmbH\",\"Boner Holzbau AG\",\"Leu und Partner Elektro AG\",\"GMT Bau GmbH\",\"GRIMMO AG\",\"Online Trafic GmbH\",\"opm Bau GmbH\",\"H\\u00fcseyin Basbayandur, Viamala Haustechnik\",\"DP Metallbau GmbH\",\"GEHE Pharma Handel GmbH\",\"ZKD B\\u00fcrom\\u00f6bel AG\",\"FERRINOX GmbH\",\"Luzerner Kantonsspital Sursee\",\"Ferrostaal Air Technology GmbH\",\"Haus Wieden, Wohnen und Pflege im Alter\",\"Spitalverband Surselva \\\"Spital regiunal Surselva\\\"\",\"General Dynamics European Land Systems - Mowag Gmb\",\"Rehaklinik Zihlschlacht AG Personalabteilung\",\"B\\u00fchler AG\",\"H\\u00e4lg & Co. AG\",\"Spitalzentrum Biel AG\",\"Diageo Singapore Pte. Ltd.\",\"Parfums Christian Dior SA\",\"Beaute Prestige International SA \\\"B.P.I.\\\"\",\"Clarins Groupe SARL\",\"Pernod Ricard UK Ltd\",\"Bacardi GmbH\",\"Inter Parfums Holding SA\",\"SWAROVSKI INTERNATIONAL DISTRIBUTION AG Travel Ret\",\"Airport Staff GmbH\",\"Tiffany & Co.\",\"AXIONS SA\",\"Coty Geneva SA Versoix\",\"JT International SA\",\"The Nuance Group AG Buchhaltung\",\"Lindt & Spr\\u00fcngli (Schweiz) AG Promotion Manager Du\",\"Amcor Flexibles France SAS Bo\\u00eete de tri 2.20.1 BP\",\"Windm\\u00f6ller & H\\u00f6lscher KG Postfach 1660\",\"Bobst Bielefeld GmbH Postfach 101131\",\"HELIO CORBEIL\",\"Bobst Italia SpA.u.s.\",\"PINTSCH TIEFENBACH GmbH\",\"AMCOR FLEXIBLES PACKAGING FRANCE SAS Boite de tri\",\"Infiana Germany GmbH & Co. KG\",\"Helios Periers SAS Zone Industrielle\",\"Haag Streit AG\",\"Coveris Flexibles Deutschland GmbH\",\"Nordmeccanica SpA Group\",\"CHIYODA EUROPA NV Freddy Dohlen Genk-Zuid Zone 11\",\"CFS Cellpack Packaging B.P. 29\",\"Lisi Automotive Mohr + Friedrich\",\"ADVANCED MACHINERY NV\",\"Papier Mettler Papier und Kunststoffverpackungen\",\"Breger Centre\",\"Clopay Aschersleben GmbH\",\"Widmer Elektro\",\"ESS GmbH\",\"Phoenix Contact AG\",\"MTL Elektro AG\",\"Corrodi + Keller AG\",\"J. Peter-Reich AG\",\"EVG Elektro Installationen AG\",\"EW Sirnach AG\",\"Elektro K\\u00fcnzler & A. Vogt AG\",\"Glattal Installationen AG, Elektro + Telekommunika\",\"Legima AG\",\"Elektro-Thoma AG Elektrogesch\\u00e4ft\",\"ZELLcom AG\",\"MPS Steuerungen AG\",\"ETAVIS AG\",\"Elektro B\\u00fcrgin AG\",\"Swisspro AG\",\"EC Technik GmbH\",\"eicoma AG\",\"W. Hess Elektro AG\",\"Elektro-Reisch GmbH\",\"Rusch Elektrotechnik AG\",\"Hans K. Schibli AG\",\"Elektro Favre\",\"H\\u00fcrzeler & Schafroth Elektrotechnik AG\",\"Schultheis-M\\u00f6ckli AG\",\"EW Elektro Widmer AG\",\"Leu Elektro GmbH\",\"Greuter H. AG\",\"EWE Elektro AG Planung Installation\",\"Ego Elektriker-Genossenschaft\",\"Brendle Elektro AG\",\"GalaTech GmbH\",\"Bingesser Huber Elektro AG\",\"ETM Energie- Technik Meier AG\",\"EW Aadorf\",\"Hustech Installations AG\",\"Hager AG\",\"Inocom Installationen AG\",\"Melcom AG electro-communication\",\"Minimax Z\\u00fcrich\",\"Meier Elektro AG Oberglatt\",\"MAROCOM AG\",\"Elektrizit\\u00e4tswerke des Kantons Z\\u00fcrich (EKZ)\",\"G\\u00fcnther Scheikl Malerei\",\"GMT Bau GmbH\",\"Meisser Immobilien GmbH\",\"GRIMMO AG\",\"ReEnergy Projects AG\",\"TM Fassadenbau AG\",\"Conimmo Immobilienberatung GmbH Herr Heinrich Lust\",\"opm Bau GmbH\",\"J.C.-Maler- Gipsergesch\\u00e4ft\",\"DP Metallbau GmbH\",\"Rhomberg Bahntechnik GmbH Zweigniederlassung ZH\",\"LOASE AG\",\"Habegger Bau AG\",\"Keramik-Aeschbacher GmbH\",\"WB B\\u00fcrgin AG\",\"Gebr. Baur AG Zufikon\",\"Peter Imhof AG\",\"B+R ELECOM SERVICE GMBH\",\"bbf Weber\",\"Elektro M. Andreoli GmbH\",\"Dachfensterservice Helfenstein GmbH\",\"Dach + Wand Reusser GmbH\",\"L\\u00fcthi-Nobel AG\",\"TIGESTIM SA\",\"Benninghoven GmbH & Co. KG\",\"Oschwald Rothrist AG\",\"Elektrizit\\u00e4tswerk Obwalden\",\"Elektrizit\\u00e4tswerk Schwyz AG\",\"Gr\\u00f6tzinger & Rychard AG\",\"Beat H\\u00fcrlimann GmbH\",\"H\\u00e4lg + Co. AG\",\"Kurz Heizungen AG\",\"Mine Meyer Elektro AG\",\"Scherrer Haustechnik AG\",\"Stiftung Erlenhof\",\"V\\u00f6gele AG\",\"Josef Amb\\u00fchl Zimmerei\",\"Bafento AG\",\"Elektro Schwizer AG\",\"Reinold Perreten AG\",\"Popp Sanit\\u00e4r AG\",\"Wyss & Partner Maurerakkord GmbH\",\"Realini & Brandalise Carrelages Sarl\",\"Wyss Fux AG\",\"Tino Bodenbel\\u00e4ge GmbH\",\"Zimmerei Birchler Bau & Handel\",\"Hertli & Bertschy AG Elektrische Anlagen\",\"H\\u00fcrzeler & Schafroth Elektrotechnik AG\",\"Fenster B\\u00e4rtsch GmbH\",\"Plusenergietechnik GmbH\",\"SCHWYTER.AG\",\"Gipser Meier GmbH\",\"Sommer Umbauten & Renovationen\",\"Krieger Produktions AG\",\"Sauter W\\u00e4rmetechnik GmbH\",\"Maler- und Gipsergesch\\u00e4ft Romeo Pfammatter AG\",\"Heinrich Brenner AG\",\"Gallo AG\",\"URS BAUUNTERNEHMUNG & IMMOBILIEN, Jetmir Imeri\",\"benz-bau.ch GmbH\",\"Joos Metall- und Stahlbau AG\",\"Albert Leutwyler GmbH\",\"Riesen Holzbau AG\",\"Fasler Metallbau AG\",\"Lussmann Spenglerei und Bedachungen AG\",\"swisspro NW AG\",\"Conrad Thomas Keramische Wand- und Bodenbel\\u00e4ge\",\"Covertec AG Montagetechnik\",\"W\\u00e4lti Luft- & Klimatechnik AG Edelstahlcenter\",\"R. Betschart Holzbau AG\",\"Delag Elektrotechnische Anlagen AG\",\"Lauber Iwisa AG\",\"Stadelmann Energie & Haustechnik AG\",\"Metallbau Steg AG\",\"Fux Josi, Haustechnik\",\"Bayer Pfl\\u00e4sterungen GmbH\",\"Cowa Service Geb\\u00e4udedienste AG\",\"SK Gipser GmbH\",\"Gebr. Umbricht AG\",\"Dachbau Gehring AG\",\"Nussbaumer Holzleimbau AG\",\"Spenglerei Rolf Merki GmbH\",\"Hintermann AG\",\"Rytz Simon Bedachungen\",\"Gebr. Candeloro\",\"Amedeo Gipser AG\",\"Schlosserei Gew\\u00fcrzm\\u00fchle\",\"Landwirtschaftliche Baugenossenschaft\",\"Trost GmbH Bauspenglerei / Sanit\\u00e4r / Bedachungen\",\"Pepi Adank GmbH Malergesch\\u00e4ft\",\"Fl\\u00fcck Umbau Gmbh\",\"Gips Team GmbH\",\"Kaufmann Oberholzer Sch\\u00f6nenberg AG\",\"Malerei Greiner AG\",\"L\\u00fctolf Teppich + Bodenbel\\u00e4ge GmbH\",\"Johner Elektro AG\",\"J\\u00e4ggi Vollmer GmbH\",\"Enemag Telecom AG\",\"VAF FP Vitali\",\"Eggstein Holz AG\",\"Meisser Immobilien GmbH\",\"ReEnergy Projects AG\",\"Conimmo Immobilienberatung GmbH Herr Heinrich Lust\",\"Elektro Gander AG\",\"Swisspro AG\",\"Koller Thomas Akkordunternehmung\",\"BluePlan AG\",\"FHB Bau GmbH\",\"Baugesch\\u00e4ft Gysi AG\",\"Holder Huber AG\",\"Stegim GmbH\",\"Sunier AG\",\"Gromann und Murer AG\",\"M. Kundert Bauunternehmung AG\",\"RG Baumanagement AG\",\"Blatter AG\",\"WBFS AG\",\"Fortuna & Partner Bau AG\",\"Wyler AG\",\"Gerber Bau AG\",\"Hampton & Meier SA\",\"e.e.com elektroanlagen ag\",\"Steinegger Elektro AG\",\"Zimmerberg Haustechnik AG\",\"Betonab AG\",\"Vitag AG\",\"Klaus Remmert Gastroshop 2000\",\"Kozan Ladenbau e.K.\",\"PRISMAFOOD S.R.L.\",\"B\\u00fclent Tan Gastronomiebedarf\",\"Pavoni Italia S.p.A.\",\"Tyco Integrated Fire & Security (Schweiz) AG\",\"Contrafeu AG\",\"Babberger Brandschutz AG\",\"D.E.S. Syst\\u00e8mes de s\\u00e9curit\\u00e9 SA\",\"Jomos Brandschutz AG\",\"Abarisk SA\",\"Oeschger Brandschutz AG\",\"Pluu AG\",\"ADEFI SA\",\"Viansone SA\",\"Hajdu Malergesch\\u00e4ft GmbH\",\"ELEKTRO-MATERIAL AG\",\"Winterhalter + Fenner AG\",\"Controx Brandschutz GmbH\",\"Otto Fischer AG\",\"Frutiger Display AG\",\"AGI AG f\\u00fcr Isolierungen\",\"Pro-Bau GmbH\",\"Achwalden AG\",\"Gromann und Murer AG\",\"ICM Swiss AG\",\"Baugesch\\u00e4ft Gysi AG\",\"Vacasa Bau GmbH\",\"Laima Holding AG\",\"Schuler & Rusch Armierungen GmbH\",\"Aufdermaur S\\u00f6hne Immobilien AG\",\"Mili-Bau GmbH\",\"H\\u00f6hener Armierungen AG\",\"Sihlpark Bau AG\",\"BULA Chemin\\u00e9e Ofenbau\",\"Giger-UWA  AG\",\"Markus Helbling\",\"Carlo Massaro AG\",\"P + P Personal AG\",\"METTLER PRADER AG\",\"Gipser Meier GmbH\",\"L'AQ AG\",\"Mundo Consulting GmbH\",\"Novisol AG\",\"CTI Group GmbH\",\"Frutiger AG Basel\",\"bestfuture.jobs ag\",\"H + T Home & Technology AG\",\"Dr. Eicher + Pauli AG\",\"ERI Bau GmbH\",\"DRENI GmbH\",\"Bamix Bau GmbH\",\"John Haustechnik AG\",\"Sattler Media Press GmbH\",\"Cantelli Rotoweb S.R.L\",\"DZS Grafik D.O.O.\",\"Grafodinamica, Lda. Rua Cidade de Faro, Lt. G-H.Fr\",\"DKZet Offsetrotatie B.V.\",\"Einsa Print SA\",\"Grafedisport - Impressao e Artes Graficas S.A.\",\"Gardiner Colours Limited Douglas House, Ripley Dri\",\"Italiane Editrice Spa\",\"Somedia Partner AG, Zeitungsdruck\",\"Grafica Veneta S.p.a.a.\",\"Empresa Grafica Funchalense\",\"Entreprise Duret SA\",\"A. Henrioud SA\",\"ALVAZZI GENEVE SA CHAUFFAGE VENTILATION p.a. Alvaz\",\"Robowindow Sarl\",\"RODRIGUEZ et Fils SARL\",\"NETTOIE'NET SA\",\"HKM SA\",\"Eddy Fritz\",\"3TECH SA\",\"MARCHI  ATTARDO SARL\",\"Chollet & Baldacci S.A.\",\"BB ENTREPRISE GENERALE SA\",\"MINO SA\",\"Von Ro Echafaudages SA Lancy\",\"NOBILE & MARTIN SA\",\"Arnosti Arkuba (Schweiz) AG\",\"GALDERMA INTERNATIONAL\",\"Procter & Gamble International Operations SA\",\"PGT Healthcare LLP\",\"Procter and Gamble Australia\",\"NESTEC SA\",\"Procter & Gamble Distributing Company Europe BVBA\",\"Procter & Gamble Espa\\u00f1a SA\",\"The Procter & Gamble Company\",\"SPD Swiss Precision Diagnostics GmbH\",\"Procter & Gamble Pharmaceuticals France SAS\",\"MIBAG Property Managers AG\",\"Arnosti Arkuba AG\",\"Kury AG\",\"Zwingli-Agro GmbH\",\"Immobilien Meridiana AG\",\"Meta Tech AG\",\"Titan Software Consulting AG\",\"IHEID\",\"Sideralba SpA\",\"Suministros Siderurgicos Monta\\u00f1eses SA\",\"Met\\u00e1licas Albar\\u00f3s, S.L.\",\"J.Soares Correira - Armaz\\u00e9ns de Ferro, SA\",\"RSteel - F\\u00e1brica De Tubos Met\\u00e1licos, S.A.\",\"I.ME.VA - Industria Meccanica Varrichio\",\"Chinchurreta SA\",\"Siderurgica Astico S.P.A\",\"Sideco S.R.L\",\"I.C.L. Societa Per Azioni Siglabile SPA\",\"Siderver S.R.L\",\"Siderurgica Fiorentina S.p.A\",\"Commit Siderurgica SPA\",\"Hierros de Levante S.A.\",\"Tubos y Flejes SLU\",\"Iber Steel S.L\",\"Rui Santos - Produtos Siderurgicos SA.\",\"Gavex Produtos Sider\\u00fargicos SA\",\"Ramada A\\u00e7os SA\",\"AUXILIAR DE SENALIZACIONES Y BALIZAMIENTOS SA\",\"Ferro Lamiere Metalli SRL\",\"Sangoi SPA\",\"Barcelonesa de Metales S.A.\",\"TAMETAL SA\",\"PLANOS FERRICOS FL\",\"Oscacer - C\\u00e9sar Rola Lda\",\"Tubos Aranda SA\",\"Softub Schweiz AG\",\"Fracht AG\",\"F. Hoffmann-La Roche AG\",\"Basilea Pharmaceutica International AG\",\"Lonstroff AG\",\"Burkhardt Heizug + Sanit\\u00e4r AG\",\"Davro Steel Ltd\",\"CJ Upton & Sons Ltd\",\"South Essex Stockholders Ltd\",\"JCY Steel Supplies Ltd\",\"Fowle & Co Ltd\",\"D.N.T Company Ltd\",\"Cutler & Woolf Steel Ltd\",\"Atlantic Steel Processing Ltd\",\"Amerex Ltd.\",\"Top Tubes Ltd\",\"Chainbridge Steel (North East) Ltd\",\"Hi-Tech Steel Services Ltd\",\"P+P Personal AG\",\"Fidelis HR Switzerland AG\"],\"highlight\":[false,false,false,false,false,false,false,false,false,false,false,false,false,false,false,false,false,false,false,false,false,false,true,false,false,false,false,false,false,false,false,false,false,false,false,false,false,true,false,false,false,false,true,false,false,false,false,false,false,false,false,false,false,true,false,false,false,false,false,false,false,false,false,false,false,false,false,false,false,false,false,false,false,false,false,false,false,false,false,false,false,false,false,false,false,false,false,false,true,true,false,false,true,false,false,false,false,false,false,false,false,false,false,false,false,false,false,false,false,false,false,true,false,false,false,false,false,false,false,false,false,false,false,false,false,false,false,false,false,false,false,true,false,false,false,false,false,false,false,false,false,false,false,false,false,false,false,false,false,false,false,false,false,false,false,false,false,false,false,false,false,false,false,false,false,false,false,false,false,false,false,false,false,false,false,false,false,false,false,false,false,false,true,false,false,false,false,false,false,false,false,false,false,true,false,true,false,false,false,false,false,false,false,false,false,false,false,false,false,false,false,false,false,false,false,false,false,true,false,false,false,false,false,false,false,false,false,false,false,false,false,false,false,false,false,false,false,false,false,false,false,false,false,false,false,false,false,false,false,false,false,false,false,false,false,false,false,false,false,false,false,false,false,false,false,false,false,false,false,false,false,false,false,false,false,false,false,false,false,false,false,false,false,false,false,false,false,false,false,false,false,false,false,false,false,false,false,false,false,false,false,false,false,false,false,false,false,false,false,false,false,false,false,false,false,false,false,false,false,false,false,false,false,false,false,false,false,false,false,false,false,false,false,false,false,false,false,false,false,false,false,false,false,false,false,false,false,false,false,false,false,false,false,false,false,false,false,false,false,false,false,false,false,false,false,false,false,false,false,false,false,false,false,false,false,false,false,false,false,false,false,false],\"start\":[\"inter personal GmbH\",\"CDP SWISS AG\",\"CDP SWISS AG\",\"jobs united GmbH\",\"Speo S\\u00e0rl\",\"Speo S\\u00e0rl\",\"Speo S\\u00e0rl\",\"PM Personal GmbH\",\"PM Personal GmbH\",\"PM Personal GmbH\",\"PM Personal GmbH\",\"PM Personal GmbH\",\"PM Personal GmbH\",\"ONJO AG\",\"ONJO AG\",\"ONJO AG\",\"ONJO AG\",\"ONJO AG\",\"ONJO AG\",\"ONJO AG\",\"Swiscovital AG\",\"PAMAG Personal St. Gallen GmbH\",\"PAMAG Personal St. Gallen GmbH\",\"PAMAG Personal St. Gallen GmbH\",\"PAMAG Personal St. Gallen GmbH\",\"PAMAG Personal St. Gallen GmbH\",\"PAMAG Personal St. Gallen GmbH\",\"PAMAG Personal St. Gallen GmbH\",\"PAMAG Personal St. Gallen GmbH\",\"PAMAG Personal St. Gallen GmbH\",\"PAMAG Personal St. Gallen GmbH\",\"PAMAG Personal St. Gallen GmbH\",\"Creative Promotions GmbH (CHF02)\",\"Creative Promotions GmbH (CHF02)\",\"Creative Promotions GmbH (CHF02)\",\"Creative Promotions GmbH (CHF02)\",\"Creative Promotions GmbH (CHF02)\",\"Creative Promotions GmbH (CHF02)\",\"Creative Promotions GmbH (CHF02)\",\"Creative Promotions GmbH (CHF02)\",\"Creative Promotions GmbH (CHF02)\",\"Creative Promotions GmbH (CHF02)\",\"Creative Promotions GmbH (CHF01)\",\"Creative Promotions GmbH (CHF01)\",\"Creative Promotions GmbH (CHF01)\",\"Creative Promotions GmbH (CHF01)\",\"Creative Promotions GmbH (CHF01)\",\"Fasnacht Solutions AG\",\"Fasnacht Solutions AG\",\"Fasnacht Solutions AG\",\"Fasnacht Solutions AG\",\"Fasnacht Solutions AG\",\"Fasnacht Solutions AG\",\"Fasnacht Solutions AG\",\"Fasnacht Solutions AG\",\"Fasnacht Solutions AG\",\"Fasnacht Solutions AG\",\"Fasnacht Solutions AG\",\"Fasnacht Solutions AG\",\"Fasnacht Solutions AG\",\"Fasnacht Solutions AG\",\"Fasnacht Solutions AG\",\"Fasnacht Solutions AG\",\"Fasnacht Solutions AG\",\"Fasnacht Solutions AG\",\"Fasnacht Solutions AG\",\"Meier Schaltanlagen\",\"Meier Schaltanlagen\",\"Meier Schaltanlagen\",\"Meier Schaltanlagen\",\"Meier Schaltanlagen\",\"Meier Schaltanlagen\",\"Meier Schaltanlagen\",\"Meier Schaltanlagen\",\"Meier Schaltanlagen\",\"Meier Schaltanlagen\",\"Meier Schaltanlagen\",\"Meier Schaltanlagen\",\"Meier Schaltanlagen\",\"Meier Schaltanlagen\",\"Meier Schaltanlagen\",\"Meier Schaltanlagen\",\"Meier Schaltanlagen\",\"Meier Schaltanlagen\",\"Meier Schaltanlagen\",\"Meier Schaltanlagen\",\"Meier Schaltanlagen\",\"Meier Schaltanlagen\",\"Meier Schaltanlagen\",\"Meier Schaltanlagen\",\"Meier Schaltanlagen\",\"Meier Schaltanlagen\",\"Meier Schaltanlagen\",\"Meier Schaltanlagen\",\"Meier Schaltanlagen\",\"Meier Schaltanlagen\",\"Meier Schaltanlagen\",\"Meier Schaltanlagen\",\"Meier Schaltanlagen\",\"Meier Schaltanlagen\",\"Meier Schaltanlagen\",\"Meier Schaltanlagen\",\"Meier Schaltanlagen\",\"Meier Schaltanlagen\",\"Meier Schaltanlagen\",\"Meier Schaltanlagen\",\"Meier Schaltanlagen\",\"Meier Schaltanlagen\",\"Meier Schaltanlagen\",\"Meier Schaltanlagen\",\"United Personal Management AG\",\"United Personal Management AG\",\"United Personal Management AG\",\"United Personal Management AG\",\"United Personal Management AG\",\"United Personal Management AG\",\"United Personal Management AG\",\"United Personal Management AG\",\"United Personal Management AG\",\"United Personal Management AG\",\"United Personal Management AG\",\"United Personal Management AG\",\"United Personal Management AG\",\"United Personal Management AG\",\"United Personal Management AG\",\"United Personal Management AG\",\"United Personal Management AG\",\"United Personal Management AG\",\"United Personal Management AG\",\"United Personal Management AG\",\"United Personal Management AG\",\"United Personal Management AG\",\"United Personal Management AG\",\"United Personal Management AG\",\"United Personal Management AG\",\"United Personal Management AG\",\"United Personal Management AG\",\"United Personal Management AG\",\"United Personal Management AG\",\"United Personal Management AG\",\"United Personal Management AG\",\"United Personal Management AG\",\"United Personal Management AG\",\"United Personal Management AG\",\"United Personal Management AG\",\"United Personal Management AG\",\"United Personal Management AG\",\"United Personal Management AG\",\"United Personal Management AG\",\"United Personal Management AG\",\"United Personal Management AG\",\"United Personal Management AG\",\"United Personal Management AG\",\"United Personal Management AG\",\"United Personal Management AG\",\"United Personal Management AG\",\"United Personal Management AG\",\"United Personal Management AG\",\"United Personal Management AG\",\"United Personal Management AG\",\"United Personal Management AG\",\"United Personal Management AG\",\"United Personal Management AG\",\"United Personal Management AG\",\"United Personal Management AG\",\"United Personal Management AG\",\"United Personal Management AG\",\"United Personal Management AG\",\"United Personal Management AG\",\"United Personal Management AG\",\"United Personal Management AG\",\"United Personal Management AG\",\"United Personal Management AG\",\"United Personal Management AG\",\"United Personal Management AG\",\"United Personal Management AG\",\"United Personal Management AG\",\"United Personal Management AG\",\"United Personal Management AG\",\"United Personal Management AG\",\"United Personal Management AG\",\"United Personal Management AG\",\"United Personal Management AG\",\"United Personal Management AG\",\"United Personal Management AG\",\"United Personal Management AG\",\"United Personal Management AG\",\"United Personal Management AG\",\"United Personal Management AG\",\"United Personal Management AG\",\"United Personal Management AG\",\"United Personal Management AG\",\"United Personal Management AG\",\"United Personal Management AG\",\"United Personal Management AG\",\"United Personal Management AG\",\"United Personal Management AG\",\"United Personal Management AG\",\"United Personal Management AG\",\"United Personal Management AG\",\"United Personal Management AG\",\"United Personal Management AG\",\"United Personal Management AG\",\"United Personal Management AG\",\"United Personal Management AG\",\"United Personal Management AG\",\"United Personal Management AG\",\"United Personal Management AG\",\"United Personal Management AG\",\"United Personal Management AG\",\"IPS Personal GmbH\",\"IPS Personal GmbH\",\"IPS Personal GmbH\",\"IPS Personal GmbH\",\"IPS Personal GmbH\",\"Fortuna Personalberatung GmbH\",\"Fortuna Personalberatung GmbH\",\"Fortuna Personalberatung GmbH\",\"Fortuna Personalberatung GmbH\",\"Fortuna Personalberatung GmbH\",\"Fortuna Personalberatung GmbH\",\"Fortuna Personalberatung GmbH\",\"Fortuna Personalberatung GmbH\",\"Fortuna Personalberatung GmbH\",\"Fortuna Personalberatung GmbH\",\"Fortuna Personalberatung GmbH\",\"Fortuna Personalberatung GmbH\",\"Fortuna Personalberatung GmbH\",\"Fortuna Personalberatung GmbH\",\"Fortuna Personalberatung GmbH\",\"Fortuna Personalberatung GmbH\",\"Fortuna Personalberatung GmbH\",\"Fortuna Personalberatung GmbH\",\"Fortuna Personalberatung GmbH\",\"Fortuna Personalberatung GmbH\",\"Fortuna Personalberatung GmbH\",\"Gastro Best Price AG\",\"Gastro Best Price AG\",\"Gastro Best Price AG\",\"Gastro Best Price AG\",\"Gastro Best Price AG\",\"illudec AG\",\"illudec AG\",\"illudec AG\",\"illudec AG\",\"illudec AG\",\"illudec AG\",\"illudec AG\",\"illudec AG\",\"illudec AG\",\"illudec AG\",\"illudec AG\",\"illudec AG\",\"illudec AG\",\"illudec AG\",\"illudec AG\",\"illudec AG\",\"illudec AG\",\"BluePlan AG\",\"BluePlan AG\",\"BluePlan AG\",\"BluePlan AG\",\"BluePlan AG\",\"BluePlan AG\",\"BluePlan AG\",\"BluePlan AG\",\"BluePlan AG\",\"BluePlan AG\",\"BluePlan AG\",\"BluePlan AG\",\"BluePlan AG\",\"BluePlan AG\",\"BluePlan AG\",\"BluePlan AG\",\"BluePlan AG\",\"BluePlan AG\",\"BluePlan AG\",\"BluePlan AG\",\"VTF Treuhand GmbH\",\"VTF Treuhand GmbH\",\"VTF Treuhand GmbH\",\"VTF Treuhand GmbH\",\"VTF Treuhand GmbH\",\"VTF Treuhand GmbH\",\"VTF Treuhand GmbH\",\"VTF Treuhand GmbH\",\"VTF Treuhand GmbH\",\"VTF Treuhand GmbH\",\"VTF Treuhand GmbH\",\"S+S Trading GmbH\",\"S+S Trading GmbH\",\"S+S Trading GmbH\",\"S+S Trading GmbH\",\"S+S Trading GmbH\",\"S+S Trading GmbH\",\"S+S Trading GmbH\",\"S+S Trading GmbH\",\"S+S Trading GmbH\",\"S+S Trading GmbH\",\"S+S Trading GmbH\",\"S+S Trading GmbH\",\"Lemania Interim SA\",\"Lemania Interim SA\",\"Lemania Interim SA\",\"Lemania Interim SA\",\"Lemania Interim SA\",\"Lemania Interim SA\",\"Lemania Interim SA\",\"Lemania Interim SA\",\"Lemania Interim SA\",\"Lemania Interim SA\",\"Lemania Interim SA\",\"Lemania Interim SA\",\"Lemania Interim SA\",\"Lemania Interim SA\",\"Lemania Interim SA\",\"Controx Brandschutz GmbH\",\"DRcom Switzerland S\\u00e0rl\",\"DRcom Switzerland S\\u00e0rl\",\"DRcom Switzerland S\\u00e0rl\",\"DRcom Switzerland S\\u00e0rl\",\"DRcom Switzerland S\\u00e0rl\",\"DRcom Switzerland S\\u00e0rl\",\"DRcom Switzerland S\\u00e0rl\",\"DRcom Switzerland S\\u00e0rl\",\"DRcom Switzerland S\\u00e0rl\",\"DRcom Switzerland S\\u00e0rl\",\"Home+Technology AG\",\"Home+Technology AG\",\"Home+Technology AG\",\"Home+Technology AG\",\"Home+Technology AG\",\"Home+Technology AG\",\"Home+Technology AG\",\"Home+Technology AG\",\"ABC Steel Products GmbH\",\"ABC Steel Products GmbH\",\"ABC Steel Products GmbH\",\"ABC Steel Products GmbH\",\"ABC Steel Products GmbH\",\"ABC Steel Products GmbH\",\"ABC Steel Products GmbH\",\"ABC Steel Products GmbH\",\"ABC Steel Products GmbH\",\"ABC Steel Products GmbH\",\"ABC Steel Products GmbH\",\"ABC Steel Products GmbH\",\"ABC Steel Products GmbH\",\"ABC Steel Products GmbH\",\"ABC Steel Products GmbH\",\"ABC Steel Products GmbH\",\"ABC Steel Products GmbH\",\"ABC Steel Products GmbH\",\"ABC Steel Products GmbH\",\"ABC Steel Products GmbH\",\"ABC Steel Products GmbH\",\"ABC Steel Products GmbH\",\"ABC Steel Products GmbH\",\"ABC Steel Products GmbH\",\"ABC Steel Products GmbH\",\"ABC Steel Products GmbH\",\"ABC Steel Products GmbH\",\"Softub Inc.\",\"Softub Schweiz AG\",\"Arnosti Arkuba (Schweiz) AG\",\"Arnosti Arkuba (Schweiz) AG\",\"Arnosti Arkuba (Schweiz) AG\",\"Vacasa Bau GmbH\",\"ABC Steel Products GBP\",\"ABC Steel Products GBP\",\"ABC Steel Products GBP\",\"ABC Steel Products GBP\",\"ABC Steel Products GBP\",\"ABC Steel Products GBP\",\"ABC Steel Products GBP\",\"ABC Steel Products GBP\",\"ABC Steel Products GBP\",\"ABC Steel Products GBP\",\"ABC Steel Products GBP\",\"ABC Steel Products GBP\",\"Carlo Massaro AG\",\"Kontax AG\"]},\"selected\":{\"id\":\"1114\",\"type\":\"Selection\"},\"selection_policy\":{\"id\":\"1115\",\"type\":\"UnionRenderers\"}},\"id\":\"1010\",\"type\":\"ColumnDataSource\"},{\"attributes\":{},\"id\":\"1087\",\"type\":\"PanTool\"},{\"attributes\":{\"fill_alpha\":{\"value\":0.1},\"fill_color\":{\"field\":\"type\",\"transform\":{\"id\":\"1032\",\"type\":\"CategoricalColorMapper\"}},\"line_alpha\":{\"value\":0.05},\"size\":{\"field\":\"size\",\"units\":\"screen\"}},\"id\":\"1033\",\"type\":\"Circle\"},{\"attributes\":{},\"id\":\"1088\",\"type\":\"SaveTool\"},{\"attributes\":{\"callback\":null,\"end\":1.2,\"start\":-1.2},\"id\":\"1065\",\"type\":\"Range1d\"},{\"attributes\":{\"callback\":null,\"end\":1.2,\"start\":-1.2},\"id\":\"1067\",\"type\":\"Range1d\"},{\"attributes\":{},\"id\":\"1102\",\"type\":\"BasicTickFormatter\"},{\"attributes\":{},\"id\":\"1069\",\"type\":\"LinearScale\"},{\"attributes\":{\"active_drag\":\"auto\",\"active_inspect\":\"auto\",\"active_multi\":null,\"active_scroll\":\"auto\",\"active_tap\":\"auto\",\"tools\":[{\"id\":\"1083\",\"type\":\"BoxSelectTool\"},{\"id\":\"1084\",\"type\":\"TapTool\"},{\"id\":\"1085\",\"type\":\"WheelZoomTool\"},{\"id\":\"1086\",\"type\":\"ResetTool\"},{\"id\":\"1087\",\"type\":\"PanTool\"},{\"id\":\"1088\",\"type\":\"SaveTool\"},{\"id\":\"1098\",\"type\":\"HoverTool\"}]},\"id\":\"1091\",\"type\":\"Toolbar\"},{\"attributes\":{\"high\":true,\"low\":false,\"palette\":[\"#EDECE9\",\"#ce130b\"]},\"id\":\"1042\",\"type\":\"LinearColorMapper\"},{\"attributes\":{\"factors\":[\"buyer\",\"seller and buyer\",\"seller\"],\"palette\":[\"#76B9D0\",\"#F1B096\",\"#F6601E\"]},\"id\":\"1026\",\"type\":\"CategoricalColorMapper\"},{\"attributes\":{},\"id\":\"1071\",\"type\":\"LinearScale\"},{\"attributes\":{\"fill_alpha\":{\"value\":0.8},\"fill_color\":{\"field\":\"type\",\"transform\":{\"id\":\"1026\",\"type\":\"CategoricalColorMapper\"}},\"line_color\":{\"value\":\"white\"},\"line_width\":{\"value\":0.5},\"size\":{\"field\":\"size\",\"units\":\"screen\"}},\"id\":\"1027\",\"type\":\"Circle\"},{\"attributes\":{\"source\":{\"id\":\"1006\",\"type\":\"ColumnDataSource\"}},\"id\":\"1008\",\"type\":\"CDSView\"},{\"attributes\":{},\"id\":\"1104\",\"type\":\"BasicTickFormatter\"},{\"attributes\":{\"formatter\":{\"id\":\"1104\",\"type\":\"BasicTickFormatter\"},\"plot\":{\"id\":\"1063\",\"subtype\":\"Figure\",\"type\":\"Plot\"},\"ticker\":{\"id\":\"1074\",\"type\":\"BasicTicker\"},\"visible\":false},\"id\":\"1073\",\"type\":\"LinearAxis\"},{\"attributes\":{\"callback\":null,\"data\":{\"index\":[\"inter personal GmbH\",\"Team Fortis GmbH\",\"CDP SWISS AG\",\"Dourado Cabral Sensation Daniella Caroline Dourado\",\"jobs united GmbH\",\"AZ Elektro AG\",\"Natural Skin GmbH\",\"Speo S\\u00e0rl\",\"Bertrandt SA\",\"PM Personal GmbH\",\"St\\u00f6ckli Bodenbel\\u00e4ge AG\",\"ONJO AG\",\"Leu und Partner Elektro AG\",\"Swiscovital AG\",\"GEHE Pharma Handel GmbH\",\"PAMAG Personal St. Gallen GmbH\",\"ZKD B\\u00fcrom\\u00f6bel AG\",\"Creative Promotions GmbH (CHF02)\",\"Diageo Singapore Pte. Ltd.\",\"Akka Ingenerie Process SAS\",\"Creative Promotions GmbH (CHF01)\",\"AXIONS SA\",\"Alstom Power Systems SA\",\"Fasnacht Solutions AG\",\"Amcor Flexibles France SAS Bo\\u00eete de tri 2.20.1 BP\",\"Meier Schaltanlagen\",\"Widmer Elektro\",\"United Personal Management AG\",\"G\\u00fcnther Scheikl Malerei\",\"GMT Bau GmbH\",\"IPS Personal GmbH\",\"Meisser Immobilien GmbH\",\"GRIMMO AG\",\"Online Trafic GmbH\",\"ReEnergy Projects AG\",\"TM Fassadenbau AG\",\"Windm\\u00f6ller & H\\u00f6lscher KG Postfach 1660\",\"Fortuna Personalberatung GmbH\",\"Koller Thomas Akkordunternehmung\",\"Conimmo Immobilienberatung GmbH Herr Heinrich Lust\",\"Coty Geneva SA Versoix\",\"opm Bau GmbH\",\"Parfums Christian Dior SA\",\"Bobst Bielefeld GmbH Postfach 101131\",\"Beaute Prestige International SA \\\"B.P.I.\\\"\",\"FERRINOX GmbH\",\"Gastro Best Price AG\",\"Klaus Remmert Gastroshop 2000\",\"Kozan Ladenbau e.K.\",\"illudec AG\",\"Tyco Integrated Fire & Security (Schweiz) AG\",\"BluePlan AG\",\"PRISMAFOOD S.R.L.\",\"H\\u00fcseyin Basbayandur, Viamala Haustechnik\",\"Elektro Gander AG\",\"Swisspro AG\",\"FHB Bau GmbH\",\"Contrafeu AG\",\"Babberger Brandschutz AG\",\"D.E.S. Syst\\u00e8mes de s\\u00e9curit\\u00e9 SA\",\"Jomos Brandschutz AG\",\"Abarisk SA\",\"Clarins Groupe SARL\",\"VTF Treuhand GmbH\",\"Mundo Consulting GmbH\",\"KB Bauunternehmen GmbH\",\"HELIO CORBEIL\",\"Novisol AG\",\"Bobst Italia SpA.u.s.\",\"S+S Trading GmbH\",\"Sattler Media Press GmbH\",\"PINTSCH TIEFENBACH GmbH\",\"CTI Group GmbH\",\"Frutiger AG Basel\",\"AMCOR FLEXIBLES PACKAGING FRANCE SAS Boite de tri\",\"Oeschger Brandschutz AG\",\"bestfuture.jobs ag\",\"Cantelli Rotoweb S.R.L\",\"H + T Home & Technology AG\",\"Infiana Germany GmbH & Co. KG\",\"Pluu AG\",\"Dr. Eicher + Pauli AG\",\"Baugesch\\u00e4ft Gysi AG\",\"Helios Periers SAS Zone Industrielle\",\"ADEFI SA\",\"Lemania Interim SA\",\"Entreprise Duret SA\",\"Haag Streit AG\",\"JT International SA\",\"Coveris Flexibles Deutschland GmbH\",\"Viansone SA\",\"Nordmeccanica SpA Group\",\"Holder Huber AG\",\"J.C.-Maler- Gipsergesch\\u00e4ft\",\"DP Metallbau GmbH\",\"ESS GmbH\",\"Oberland Keramik AG\",\"Tunno Gipsergesch\\u00e4ft GmbH\",\"Boner Holzbau AG\",\"Hajdu Malergesch\\u00e4ft GmbH\",\"Pernod Ricard UK Ltd\",\"Bacardi GmbH\",\"B\\u00fclent Tan Gastronomiebedarf\",\"A. Henrioud SA\",\"Inter Parfums Holding SA\",\"Stegim GmbH\",\"SWAROVSKI INTERNATIONAL DISTRIBUTION AG Travel Ret\",\"ELEKTRO-MATERIAL AG\",\"Rhomberg Bahntechnik GmbH Zweigniederlassung ZH\",\"Winterhalter + Fenner AG\",\"Phoenix Contact AG\",\"CHIYODA EUROPA NV Freddy Dohlen Genk-Zuid Zone 11\",\"MTL Elektro AG\",\"LOASE AG\",\"Habegger Bau AG\",\"Keramik-Aeschbacher GmbH\",\"WB B\\u00fcrgin AG\",\"ALVAZZI GENEVE SA CHAUFFAGE VENTILATION p.a. Alvaz\",\"CFS Cellpack Packaging B.P. 29\",\"DZS Grafik D.O.O.\",\"Controx Brandschutz GmbH\",\"Pavoni Italia S.p.A.\",\"Luzerner Kantonsspital Sursee\",\"Lisi Automotive Mohr + Friedrich\",\"Gebr. Baur AG Zufikon\",\"Peter Imhof AG\",\"ADVANCED MACHINERY NV\",\"Ferrostaal Air Technology GmbH\",\"Grafodinamica, Lda. Rua Cidade de Faro, Lt. G-H.Fr\",\"Papier Mettler Papier und Kunststoffverpackungen\",\"Airport Staff GmbH\",\"DRcom Switzerland S\\u00e0rl\",\"GALDERMA INTERNATIONAL\",\"The Nuance Group AG Buchhaltung\",\"B+R ELECOM SERVICE GMBH\",\"bbf Weber\",\"Elektro M. Andreoli GmbH\",\"Haus Wieden, Wohnen und Pflege im Alter\",\"Breger Centre\",\"Dachfensterservice Helfenstein GmbH\",\"Dach + Wand Reusser GmbH\",\"Spitalverband Surselva \\\"Spital regiunal Surselva\\\"\",\"L\\u00fcthi-Nobel AG\",\"TIGESTIM SA\",\"Clopay Aschersleben GmbH\",\"Corrodi + Keller AG\",\"J. Peter-Reich AG\",\"EVG Elektro Installationen AG\",\"DKZet Offsetrotatie B.V.\",\"EW Sirnach AG\",\"Benninghoven GmbH & Co. KG\",\"Oschwald Rothrist AG\",\"Elektro K\\u00fcnzler & A. Vogt AG\",\"Glattal Installationen AG, Elektro + Telekommunika\",\"Elektrizit\\u00e4tswerk Obwalden\",\"Elektrizit\\u00e4tswerk Schwyz AG\",\"Gr\\u00f6tzinger & Rychard AG\",\"Beat H\\u00fcrlimann GmbH\",\"H\\u00e4lg + Co. AG\",\"Kurz Heizungen AG\",\"Mine Meyer Elektro AG\",\"Scherrer Haustechnik AG\",\"Stiftung Erlenhof\",\"V\\u00f6gele AG\",\"Legima AG\",\"Home+Technology AG\",\"MIBAG Property Managers AG\",\"Elektro-Thoma AG Elektrogesch\\u00e4ft\",\"ZELLcom AG\",\"Josef Amb\\u00fchl Zimmerei\",\"Bafento AG\",\"Elektro Schwizer AG\",\"Reinold Perreten AG\",\"ERI Bau GmbH\",\"Sunier AG\",\"Robowindow Sarl\",\"RODRIGUEZ et Fils SARL\",\"NETTOIE'NET SA\",\"HKM SA\",\"Procter & Gamble International Operations SA\",\"Einsa Print SA\",\"General Dynamics European Land Systems - Mowag Gmb\",\"Grafedisport - Impressao e Artes Graficas S.A.\",\"Popp Sanit\\u00e4r AG\",\"MPS Steuerungen AG\",\"Wyss & Partner Maurerakkord GmbH\",\"Eddy Fritz\",\"3TECH SA\",\"MARCHI  ATTARDO SARL\",\"Gardiner Colours Limited Douglas House, Ripley Dri\",\"Otto Fischer AG\",\"ETAVIS AG\",\"Elektro B\\u00fcrgin AG\",\"Realini & Brandalise Carrelages Sarl\",\"EC Technik GmbH\",\"ABC Steel Products GmbH\",\"Sideralba SpA\",\"Wyss Fux AG\",\"Tino Bodenbel\\u00e4ge GmbH\",\"Zimmerei Birchler Bau & Handel\",\"Hertli & Bertschy AG Elektrische Anlagen\",\"H\\u00fcrzeler & Schafroth Elektrotechnik AG\",\"Softub Inc.\",\"Softub Schweiz AG\",\"Frutiger Display AG\",\"Suministros Siderurgicos Monta\\u00f1eses SA\",\"Met\\u00e1licas Albar\\u00f3s, S.L.\",\"PGT Healthcare LLP\",\"J.Soares Correira - Armaz\\u00e9ns de Ferro, SA\",\"RSteel - F\\u00e1brica De Tubos Met\\u00e1licos, S.A.\",\"I.ME.VA - Industria Meccanica Varrichio\",\"Procter and Gamble Australia\",\"Rehaklinik Zihlschlacht AG Personalabteilung\",\"Pro-Bau GmbH\",\"eicoma AG\",\"Arnosti Arkuba AG\",\"Fenster B\\u00e4rtsch GmbH\",\"Plusenergietechnik GmbH\",\"NESTEC SA\",\"Chollet & Baldacci S.A.\",\"Tiffany & Co.\",\"Procter & Gamble Distributing Company Europe BVBA\",\"W. Hess Elektro AG\",\"Elektro-Reisch GmbH\",\"Rusch Elektrotechnik AG\",\"Fracht AG\",\"Arnosti Arkuba (Schweiz) AG\",\"F. Hoffmann-La Roche AG\",\"Procter & Gamble Espa\\u00f1a SA\",\"Chinchurreta SA\",\"Hans K. Schibli AG\",\"Elektro Favre\",\"BB ENTREPRISE GENERALE SA\",\"Siderurgica Astico S.P.A\",\"Achwalden AG\",\"Italiane Editrice Spa\",\"DRENI GmbH\",\"Bamix Bau GmbH\",\"SCHWYTER.AG\",\"Somedia Partner AG, Zeitungsdruck\",\"Gipser Meier GmbH\",\"Gromann und Murer AG\",\"AGI AG f\\u00fcr Isolierungen\",\"Sommer Umbauten & Renovationen\",\"Krieger Produktions AG\",\"The Procter & Gamble Company\",\"SPD Swiss Precision Diagnostics GmbH\",\"John Haustechnik AG\",\"ICM Swiss AG\",\"Sauter W\\u00e4rmetechnik GmbH\",\"M. Kundert Bauunternehmung AG\",\"RG Baumanagement AG\",\"Blatter AG\",\"Maler- und Gipsergesch\\u00e4ft Romeo Pfammatter AG\",\"Procter & Gamble Pharmaceuticals France SAS\",\"Heinrich Brenner AG\",\"Vacasa Bau GmbH\",\"Gallo AG\",\"URS BAUUNTERNEHMUNG & IMMOBILIEN, Jetmir Imeri\",\"Sideco S.R.L\",\"I.C.L. Societa Per Azioni Siglabile SPA\",\"Siderver S.R.L\",\"Siderurgica Fiorentina S.p.A\",\"Commit Siderurgica SPA\",\"Basilea Pharmaceutica International AG\",\"benz-bau.ch GmbH\",\"Joos Metall- und Stahlbau AG\",\"Laima Holding AG\",\"Lindt & Spr\\u00fcngli (Schweiz) AG Promotion Manager Du\",\"Hierros de Levante S.A.\",\"Tubos y Flejes SLU\",\"Iber Steel S.L\",\"WBFS AG\",\"Kury AG\",\"Fortuna & Partner Bau AG\",\"Zwingli-Agro GmbH\",\"Schultheis-M\\u00f6ckli AG\",\"EW Elektro Widmer AG\",\"Albert Leutwyler GmbH\",\"Riesen Holzbau AG\",\"Fasler Metallbau AG\",\"Lussmann Spenglerei und Bedachungen AG\",\"Rui Santos - Produtos Siderurgicos SA.\",\"Gavex Produtos Sider\\u00fargicos SA\",\"Ramada A\\u00e7os SA\",\"Leu Elektro GmbH\",\"Greuter H. AG\",\"Wyler AG\",\"Grafica Veneta S.p.a.a.\",\"Immobilien Meridiana AG\",\"B\\u00fchler AG\",\"Schuler & Rusch Armierungen GmbH\",\"Gerber Bau AG\",\"Aufdermaur S\\u00f6hne Immobilien AG\",\"swisspro NW AG\",\"Conrad Thomas Keramische Wand- und Bodenbel\\u00e4ge\",\"Covertec AG Montagetechnik\",\"AUXILIAR DE SENALIZACIONES Y BALIZAMIENTOS SA\",\"Mili-Bau GmbH\",\"Hampton & Meier SA\",\"H\\u00f6hener Armierungen AG\",\"EWE Elektro AG Planung Installation\",\"Ego Elektriker-Genossenschaft\",\"W\\u00e4lti Luft- & Klimatechnik AG Edelstahlcenter\",\"R. Betschart Holzbau AG\",\"Delag Elektrotechnische Anlagen AG\",\"Sihlpark Bau AG\",\"e.e.com elektroanlagen ag\",\"BULA Chemin\\u00e9e Ofenbau\",\"Steinegger Elektro AG\",\"ABC Steel Products GBP\",\"Davro Steel Ltd\",\"CJ Upton & Sons Ltd\",\"South Essex Stockholders Ltd\",\"JCY Steel Supplies Ltd\",\"Fowle & Co Ltd\",\"D.N.T Company Ltd\",\"Cutler & Woolf Steel Ltd\",\"Atlantic Steel Processing Ltd\",\"Amerex Ltd.\",\"Top Tubes Ltd\",\"Brendle Elektro AG\",\"GalaTech GmbH\",\"Lauber Iwisa AG\",\"Stadelmann Energie & Haustechnik AG\",\"Metallbau Steg AG\",\"Fux Josi, Haustechnik\",\"Bayer Pfl\\u00e4sterungen GmbH\",\"Cowa Service Geb\\u00e4udedienste AG\",\"Meta Tech AG\",\"Giger-UWA  AG\",\"Markus Helbling\",\"Zimmerberg Haustechnik AG\",\"Ferro Lamiere Metalli SRL\",\"Sangoi SPA\",\"SK Gipser GmbH\",\"Gebr. Umbricht AG\",\"Barcelonesa de Metales S.A.\",\"Empresa Grafica Funchalense\",\"Carlo Massaro AG\",\"P+P Personal AG\",\"P + P Personal AG\",\"Chainbridge Steel (North East) Ltd\",\"Dachbau Gehring AG\",\"Nussbaumer Holzleimbau AG\",\"Bingesser Huber Elektro AG\",\"ETM Energie- Technik Meier AG\",\"EW Aadorf\",\"Hustech Installations AG\",\"H\\u00e4lg & Co. AG\",\"METTLER PRADER AG\",\"Spitalzentrum Biel AG\",\"TAMETAL SA\",\"PLANOS FERRICOS FL\",\"Spenglerei Rolf Merki GmbH\",\"Hintermann AG\",\"Rytz Simon Bedachungen\",\"Hager AG\",\"Oscacer - C\\u00e9sar Rola Lda\",\"Hi-Tech Steel Services Ltd\",\"Gebr. Candeloro\",\"Amedeo Gipser AG\",\"Schlosserei Gew\\u00fcrzm\\u00fchle\",\"MINO SA\",\"Lonstroff AG\",\"Inocom Installationen AG\",\"Melcom AG electro-communication\",\"Tubos Aranda SA\",\"Titan Software Consulting AG\",\"Landwirtschaftliche Baugenossenschaft\",\"Trost GmbH Bauspenglerei / Sanit\\u00e4r / Bedachungen\",\"Pepi Adank GmbH Malergesch\\u00e4ft\",\"Von Ro Echafaudages SA Lancy\",\"IHEID\",\"Fl\\u00fcck Umbau Gmbh\",\"Gips Team GmbH\",\"Kaufmann Oberholzer Sch\\u00f6nenberg AG\",\"Malerei Greiner AG\",\"Minimax Z\\u00fcrich\",\"NOBILE & MARTIN SA\",\"L\\u00fctolf Teppich + Bodenbel\\u00e4ge GmbH\",\"Johner Elektro AG\",\"Meier Elektro AG Oberglatt\",\"L'AQ AG\",\"Betonab AG\",\"J\\u00e4ggi Vollmer GmbH\",\"Enemag Telecom AG\",\"VAF FP Vitali\",\"Burkhardt Heizug + Sanit\\u00e4r AG\",\"Kontax AG\",\"Fidelis HR Switzerland AG\",\"Vitag AG\",\"MAROCOM AG\",\"Elektrizit\\u00e4tswerke des Kantons Z\\u00fcrich (EKZ)\",\"Eggstein Holz AG\"],\"size\":[6.0,6.0,6.09,6.0,6.0,6.0,6.0,6.18,6.0,6.45,6.0,6.55,6.0,6.0,6.0,6.91,6.0,6.82,6.0,6.0,6.36,6.0,6.0,7.64,6.0,9.91,6.0,15.0,6.0,6.09,6.36,6.09,6.09,6.0,6.09,6.0,6.0,7.82,6.0,6.09,6.0,6.09,6.0,6.0,6.0,6.0,6.36,6.0,6.0,7.45,6.0,7.82,6.0,6.0,6.0,6.09,6.0,6.0,6.0,6.0,6.0,6.0,6.0,6.91,6.0,6.0,6.0,6.0,6.0,7.0,6.0,6.0,6.0,6.0,6.0,6.0,6.0,6.0,6.0,6.0,6.0,6.0,6.09,6.0,6.0,7.27,6.0,6.0,6.0,6.0,6.0,6.0,6.0,6.0,6.18,6.0,6.0,6.0,6.0,6.0,6.0,6.0,6.0,6.0,6.0,6.0,6.0,6.0,6.0,6.0,6.0,6.0,6.0,6.0,6.0,6.0,6.0,6.0,6.0,6.0,6.09,6.0,6.0,6.0,6.0,6.0,6.0,6.0,6.0,6.0,6.0,6.82,6.0,6.0,6.0,6.0,6.0,6.0,6.0,6.0,6.0,6.0,6.0,6.0,6.0,6.0,6.0,6.0,6.0,6.0,6.0,6.0,6.0,6.0,6.0,6.0,6.0,6.0,6.0,6.0,6.0,6.0,6.0,6.0,6.0,6.64,6.0,6.0,6.0,6.0,6.0,6.0,6.0,6.0,6.0,6.0,6.0,6.0,6.0,6.0,6.0,6.0,6.0,6.0,6.0,6.0,6.0,6.0,6.0,6.0,6.0,6.0,6.0,6.0,6.0,8.36,6.0,6.0,6.0,6.0,6.0,6.09,6.0,6.09,6.0,6.0,6.0,6.0,6.0,6.0,6.0,6.0,6.0,6.0,6.0,6.0,6.0,6.0,6.0,6.0,6.0,6.0,6.0,6.0,6.0,6.0,6.27,6.0,6.0,6.0,6.0,6.0,6.0,6.0,6.0,6.0,6.0,6.0,6.0,6.0,6.09,6.09,6.0,6.0,6.0,6.0,6.0,6.0,6.0,6.0,6.0,6.0,6.0,6.0,6.0,6.0,6.09,6.0,6.0,6.0,6.0,6.0,6.0,6.0,6.0,6.0,6.0,6.0,6.0,6.0,6.0,6.0,6.0,6.0,6.0,6.0,6.0,6.0,6.0,6.0,6.0,6.0,6.0,6.0,6.0,6.0,6.0,6.0,6.0,6.0,6.0,6.0,6.0,6.0,6.0,6.0,6.0,6.0,6.0,6.0,6.0,6.0,6.0,6.0,6.0,6.0,6.0,6.0,6.0,6.0,7.0,6.0,6.0,6.0,6.0,6.0,6.0,6.0,6.0,6.0,6.0,6.0,6.0,6.0,6.0,6.0,6.0,6.0,6.0,6.0,6.0,6.0,6.0,6.0,6.0,6.0,6.0,6.0,6.0,6.09,6.0,6.0,6.0,6.0,6.0,6.0,6.0,6.0,6.0,6.0,6.0,6.0,6.0,6.0,6.0,6.0,6.0,6.0,6.0,6.0,6.0,6.0,6.0,6.0,6.0,6.0,6.0,6.0,6.0,6.0,6.0,6.0,6.0,6.0,6.0,6.0,6.0,6.0,6.0,6.0,6.0,6.0,6.0,6.0,6.0,6.0,6.0,6.0,6.0,6.0,6.0,6.0,6.0,6.0,6.0],\"type\":[\"seller\",\"buyer\",\"seller\",\"buyer\",\"seller\",\"buyer\",\"buyer\",\"seller\",\"buyer\",\"seller\",\"buyer\",\"seller\",\"buyer\",\"seller\",\"buyer\",\"seller\",\"buyer\",\"seller\",\"buyer\",\"buyer\",\"seller\",\"buyer\",\"buyer\",\"seller\",\"buyer\",\"seller\",\"buyer\",\"seller\",\"buyer\",\"buyer\",\"seller\",\"buyer\",\"buyer\",\"buyer\",\"buyer\",\"buyer\",\"buyer\",\"seller\",\"buyer\",\"buyer\",\"buyer\",\"buyer\",\"buyer\",\"buyer\",\"buyer\",\"buyer\",\"seller and buyer\",\"buyer\",\"buyer\",\"seller\",\"buyer\",\"seller and buyer\",\"buyer\",\"buyer\",\"buyer\",\"buyer\",\"buyer\",\"buyer\",\"buyer\",\"buyer\",\"buyer\",\"buyer\",\"buyer\",\"seller\",\"buyer\",\"buyer\",\"buyer\",\"buyer\",\"buyer\",\"seller\",\"buyer\",\"buyer\",\"buyer\",\"buyer\",\"buyer\",\"buyer\",\"buyer\",\"buyer\",\"buyer\",\"buyer\",\"buyer\",\"buyer\",\"buyer\",\"buyer\",\"buyer\",\"seller\",\"buyer\",\"buyer\",\"buyer\",\"buyer\",\"buyer\",\"buyer\",\"buyer\",\"buyer\",\"buyer\",\"buyer\",\"buyer\",\"buyer\",\"buyer\",\"buyer\",\"buyer\",\"buyer\",\"buyer\",\"buyer\",\"buyer\",\"buyer\",\"buyer\",\"buyer\",\"buyer\",\"buyer\",\"buyer\",\"buyer\",\"buyer\",\"buyer\",\"buyer\",\"buyer\",\"buyer\",\"buyer\",\"buyer\",\"buyer\",\"buyer\",\"seller\",\"buyer\",\"buyer\",\"buyer\",\"buyer\",\"buyer\",\"buyer\",\"buyer\",\"buyer\",\"buyer\",\"seller\",\"buyer\",\"buyer\",\"buyer\",\"buyer\",\"buyer\",\"buyer\",\"buyer\",\"buyer\",\"buyer\",\"buyer\",\"buyer\",\"buyer\",\"buyer\",\"buyer\",\"buyer\",\"buyer\",\"buyer\",\"buyer\",\"buyer\",\"buyer\",\"buyer\",\"buyer\",\"buyer\",\"buyer\",\"buyer\",\"buyer\",\"buyer\",\"buyer\",\"buyer\",\"buyer\",\"buyer\",\"buyer\",\"buyer\",\"seller\",\"buyer\",\"buyer\",\"buyer\",\"buyer\",\"buyer\",\"buyer\",\"buyer\",\"buyer\",\"buyer\",\"buyer\",\"buyer\",\"buyer\",\"buyer\",\"buyer\",\"buyer\",\"buyer\",\"buyer\",\"buyer\",\"buyer\",\"buyer\",\"buyer\",\"buyer\",\"buyer\",\"buyer\",\"buyer\",\"buyer\",\"buyer\",\"buyer\",\"buyer\",\"seller\",\"buyer\",\"buyer\",\"buyer\",\"buyer\",\"buyer\",\"buyer\",\"seller\",\"buyer\",\"buyer\",\"buyer\",\"buyer\",\"buyer\",\"buyer\",\"buyer\",\"buyer\",\"buyer\",\"buyer\",\"buyer\",\"buyer\",\"buyer\",\"buyer\",\"buyer\",\"buyer\",\"buyer\",\"buyer\",\"buyer\",\"buyer\",\"buyer\",\"buyer\",\"seller\",\"seller\",\"buyer\",\"buyer\",\"buyer\",\"buyer\",\"buyer\",\"buyer\",\"buyer\",\"buyer\",\"buyer\",\"buyer\",\"buyer\",\"buyer\",\"buyer\",\"buyer\",\"buyer\",\"buyer\",\"buyer\",\"buyer\",\"buyer\",\"buyer\",\"buyer\",\"buyer\",\"buyer\",\"buyer\",\"buyer\",\"buyer\",\"buyer\",\"buyer\",\"buyer\",\"seller and buyer\",\"buyer\",\"buyer\",\"buyer\",\"buyer\",\"buyer\",\"buyer\",\"buyer\",\"buyer\",\"buyer\",\"buyer\",\"buyer\",\"buyer\",\"buyer\",\"buyer\",\"buyer\",\"buyer\",\"buyer\",\"buyer\",\"buyer\",\"buyer\",\"buyer\",\"buyer\",\"buyer\",\"buyer\",\"buyer\",\"buyer\",\"buyer\",\"buyer\",\"buyer\",\"buyer\",\"buyer\",\"buyer\",\"buyer\",\"buyer\",\"buyer\",\"buyer\",\"buyer\",\"buyer\",\"buyer\",\"buyer\",\"buyer\",\"buyer\",\"buyer\",\"buyer\",\"buyer\",\"buyer\",\"buyer\",\"buyer\",\"buyer\",\"buyer\",\"buyer\",\"buyer\",\"buyer\",\"seller\",\"buyer\",\"buyer\",\"buyer\",\"buyer\",\"buyer\",\"buyer\",\"buyer\",\"buyer\",\"buyer\",\"buyer\",\"buyer\",\"buyer\",\"buyer\",\"buyer\",\"buyer\",\"buyer\",\"buyer\",\"buyer\",\"buyer\",\"buyer\",\"buyer\",\"buyer\",\"buyer\",\"buyer\",\"buyer\",\"buyer\",\"buyer\",\"buyer\",\"buyer\",\"seller\",\"buyer\",\"buyer\",\"buyer\",\"buyer\",\"buyer\",\"buyer\",\"buyer\",\"buyer\",\"buyer\",\"buyer\",\"buyer\",\"buyer\",\"buyer\",\"buyer\",\"buyer\",\"buyer\",\"buyer\",\"buyer\",\"buyer\",\"buyer\",\"buyer\",\"buyer\",\"buyer\",\"buyer\",\"buyer\",\"buyer\",\"buyer\",\"buyer\",\"buyer\",\"buyer\",\"buyer\",\"buyer\",\"buyer\",\"buyer\",\"buyer\",\"buyer\",\"buyer\",\"buyer\",\"buyer\",\"buyer\",\"buyer\",\"buyer\",\"buyer\",\"buyer\",\"buyer\",\"buyer\",\"buyer\",\"buyer\",\"seller\",\"buyer\",\"buyer\",\"buyer\",\"buyer\",\"buyer\"]},\"selected\":{\"id\":\"1116\",\"type\":\"Selection\"},\"selection_policy\":{\"id\":\"1117\",\"type\":\"UnionRenderers\"}},\"id\":\"1006\",\"type\":\"ColumnDataSource\"},{\"attributes\":{\"factors\":[\"seller\",\"buyer\",\"seller and buyer\"],\"palette\":[\"#76B9D0\",\"#F1B096\",\"#F6601E\"]},\"id\":\"1032\",\"type\":\"CategoricalColorMapper\"},{\"attributes\":{},\"id\":\"1074\",\"type\":\"BasicTicker\"},{\"attributes\":{},\"id\":\"1116\",\"type\":\"Selection\"},{\"attributes\":{\"fill_alpha\":{\"value\":0.0},\"line_color\":{\"value\":\"green\"},\"line_width\":{\"value\":3},\"size\":{\"field\":\"size\",\"units\":\"screen\"}},\"id\":\"1048\",\"type\":\"Circle\"}],\"root_ids\":[\"1063\"]},\"title\":\"Bokeh Application\",\"version\":\"1.0.4\"}};\n",
       "  var render_items = [{\"docid\":\"914c211d-70f9-4f62-8218-4008c727d466\",\"roots\":{\"1063\":\"c265cd43-35ad-45a1-a0eb-cc34c674da50\"}}];\n",
       "  root.Bokeh.embed.embed_items_notebook(docs_json, render_items);\n",
       "\n",
       "  }\n",
       "  if (root.Bokeh !== undefined) {\n",
       "    embed_document(root);\n",
       "  } else {\n",
       "    var attempts = 0;\n",
       "    var timer = setInterval(function(root) {\n",
       "      if (root.Bokeh !== undefined) {\n",
       "        embed_document(root);\n",
       "        clearInterval(timer);\n",
       "      }\n",
       "      attempts++;\n",
       "      if (attempts > 100) {\n",
       "        console.log(\"Bokeh: ERROR: Unable to run BokehJS code because BokehJS library is missing\");\n",
       "        clearInterval(timer);\n",
       "      }\n",
       "    }, 10, root)\n",
       "  }\n",
       "})(window);"
      ],
      "application/vnd.bokehjs_exec.v0+json": ""
     },
     "metadata": {
      "application/vnd.bokehjs_exec.v0+json": {
       "id": "1063"
      }
     },
     "output_type": "display_data"
    }
   ],
   "source": [
    "show(g)"
   ]
  },
  {
   "cell_type": "markdown",
   "metadata": {},
   "source": [
    "## Bondgraphtool experiment"
   ]
  },
  {
   "cell_type": "code",
   "execution_count": 13,
   "metadata": {},
   "outputs": [],
   "source": [
    "cust = 'United Personal Management AG'\n",
    "debtors = s35[s35['customer_name_1']==cust].debtor_name_1.unique()"
   ]
  },
  {
   "cell_type": "code",
   "execution_count": 14,
   "metadata": {},
   "outputs": [],
   "source": [
    "model = bgt.new(name='network')"
   ]
  },
  {
   "cell_type": "code",
   "execution_count": 15,
   "metadata": {},
   "outputs": [],
   "source": [
    "#customer is of R type\n",
    "node_res = 1-(max(s35['sshot_35_c_impaired1_c'])/len(s35[s35['customer_name_1']==cust].drop_duplicates('debtor_name_1')))\n",
    "\n",
    "r = bgt.new(\"R\", value=node_res)\n",
    "zero_law=bgt.new(\"0\")\n",
    "bgt.add(model,r, zero_law)"
   ]
  },
  {
   "cell_type": "code",
   "execution_count": 16,
   "metadata": {},
   "outputs": [],
   "source": [
    "bgt.connect(r,zero_law)"
   ]
  },
  {
   "cell_type": "code",
   "execution_count": 17,
   "metadata": {},
   "outputs": [],
   "source": [
    "#debtors are of C type\n",
    "for d in debtors:\n",
    "    c = bgt.new(\"C\", value=list(s35.loc[s35['debtor_name_1']==d, 'sshot_35_d_impaired1_c'])[-1])\n",
    "    bgt.add(model, c)\n",
    "    bgt.connect(c, zero_law)"
   ]
  },
  {
   "cell_type": "code",
   "execution_count": 18,
   "metadata": {},
   "outputs": [
    {
     "data": {
      "text/plain": [
       "OrderedSet([R: R1, 0: 01, C: C2, C: C3, C: C4, C: C5, C: C6, C: C7, C: C8, C: C9, C: C10, C: C11, C: C12, C: C13, C: C14, C: C15, C: C16, C: C17, C: C18, C: C19, C: C20, C: C21, C: C22, C: C23, C: C24, C: C25, C: C26, C: C27, C: C28, C: C29, C: C30, C: C31, C: C32, C: C33, C: C34, C: C35, C: C36, C: C37, C: C38, C: C39, C: C40, C: C41, C: C42, C: C43, C: C44, C: C45, C: C46, C: C47, C: C48, C: C49, C: C50, C: C51, C: C52, C: C53, C: C54, C: C55, C: C56, C: C57, C: C58, C: C59, C: C60, C: C61, C: C62, C: C63, C: C64, C: C65, C: C66, C: C67, C: C68, C: C69, C: C70, C: C71, C: C72, C: C73, C: C74, C: C75, C: C76, C: C77, C: C78, C: C79, C: C80, C: C81, C: C82, C: C83, C: C84, C: C85, C: C86, C: C87, C: C88, C: C89, C: C90, C: C91, C: C92, C: C93, C: C94, C: C95, C: C96, C: C97, C: C98, C: C99, C: C100, C: C101])"
      ]
     },
     "execution_count": 18,
     "metadata": {},
     "output_type": "execute_result"
    }
   ],
   "source": [
    "model.components"
   ]
  },
  {
   "cell_type": "code",
   "execution_count": 20,
   "metadata": {},
   "outputs": [],
   "source": [
    "bgt.draw(model)"
   ]
  },
  {
   "cell_type": "code",
   "execution_count": 19,
   "metadata": {},
   "outputs": [
    {
     "ename": "FileNotFoundError",
     "evalue": "[WinError 2] The system cannot find the file specified",
     "output_type": "error",
     "traceback": [
      "\u001b[1;31m---------------------------------------------------------------------------\u001b[0m",
      "\u001b[1;31mFileNotFoundError\u001b[0m                         Traceback (most recent call last)",
      "\u001b[1;32m<ipython-input-19-17c46e3759df>\u001b[0m in \u001b[0;36m<module>\u001b[1;34m\u001b[0m\n\u001b[1;32m----> 1\u001b[1;33m \u001b[0mbgt\u001b[0m\u001b[1;33m.\u001b[0m\u001b[0msimulate\u001b[0m\u001b[1;33m(\u001b[0m\u001b[0mmodel\u001b[0m\u001b[1;33m,\u001b[0m \u001b[1;33m[\u001b[0m\u001b[1;36m0\u001b[0m\u001b[1;33m,\u001b[0m\u001b[1;36m1\u001b[0m\u001b[1;33m]\u001b[0m\u001b[1;33m,\u001b[0m \u001b[0mx0\u001b[0m\u001b[1;33m=\u001b[0m\u001b[1;33m[\u001b[0m\u001b[1;36m2\u001b[0m\u001b[1;33m]\u001b[0m\u001b[1;33m)\u001b[0m\u001b[1;33m\u001b[0m\u001b[1;33m\u001b[0m\u001b[0m\n\u001b[0m",
      "\u001b[1;32m~\\Anaconda3\\envs\\thesis\\lib\\site-packages\\BondGraphTools\\sim_tools.py\u001b[0m in \u001b[0;36msimulate\u001b[1;34m(system, timespan, x0, dx0, dt, control_vars)\u001b[0m\n\u001b[0;32m    102\u001b[0m         \u001b[0mModelException\u001b[0m\u001b[1;33m,\u001b[0m \u001b[0mSolverException\u001b[0m\u001b[1;33m\u001b[0m\u001b[1;33m\u001b[0m\u001b[0m\n\u001b[0;32m    103\u001b[0m     \"\"\"\n\u001b[1;32m--> 104\u001b[1;33m     \u001b[1;32mfrom\u001b[0m \u001b[1;33m.\u001b[0m\u001b[0mconfig\u001b[0m \u001b[1;32mimport\u001b[0m \u001b[0mconfig\u001b[0m\u001b[1;33m\u001b[0m\u001b[1;33m\u001b[0m\u001b[0m\n\u001b[0m\u001b[0;32m    105\u001b[0m     \u001b[0mde\u001b[0m \u001b[1;33m=\u001b[0m \u001b[0mconfig\u001b[0m\u001b[1;33m.\u001b[0m\u001b[0mde\u001b[0m\u001b[1;33m\u001b[0m\u001b[1;33m\u001b[0m\u001b[0m\n\u001b[0;32m    106\u001b[0m     \u001b[0mj\u001b[0m \u001b[1;33m=\u001b[0m \u001b[0mconfig\u001b[0m\u001b[1;33m.\u001b[0m\u001b[0mjulia\u001b[0m\u001b[1;33m\u001b[0m\u001b[1;33m\u001b[0m\u001b[0m\n",
      "\u001b[1;32m~\\Anaconda3\\envs\\thesis\\lib\\site-packages\\BondGraphTools\\config.py\u001b[0m in \u001b[0;36m<module>\u001b[1;34m\u001b[0m\n\u001b[0;32m    172\u001b[0m \u001b[1;33m\u001b[0m\u001b[0m\n\u001b[0;32m    173\u001b[0m \u001b[1;33m\u001b[0m\u001b[0m\n\u001b[1;32m--> 174\u001b[1;33m \u001b[0mconfig\u001b[0m \u001b[1;33m=\u001b[0m \u001b[0mConfig\u001b[0m\u001b[1;33m.\u001b[0m\u001b[0mload\u001b[0m\u001b[1;33m(\u001b[0m\u001b[1;33m)\u001b[0m\u001b[1;33m\u001b[0m\u001b[1;33m\u001b[0m\u001b[0m\n\u001b[0m\u001b[0;32m    175\u001b[0m \u001b[1;33m\u001b[0m\u001b[0m\n\u001b[0;32m    176\u001b[0m \u001b[0m__all__\u001b[0m \u001b[1;33m=\u001b[0m \u001b[1;33m[\u001b[0m\u001b[1;34m\"config\"\u001b[0m\u001b[1;33m]\u001b[0m\u001b[1;33m\u001b[0m\u001b[1;33m\u001b[0m\u001b[0m\n",
      "\u001b[1;32m~\\Anaconda3\\envs\\thesis\\lib\\site-packages\\BondGraphTools\\config.py\u001b[0m in \u001b[0;36mload\u001b[1;34m()\u001b[0m\n\u001b[0;32m    150\u001b[0m \u001b[1;33m\u001b[0m\u001b[0m\n\u001b[0;32m    151\u001b[0m         \u001b[1;32mif\u001b[0m \u001b[0msys\u001b[0m\u001b[1;33m.\u001b[0m\u001b[0mplatform\u001b[0m\u001b[1;33m.\u001b[0m\u001b[0mstartswith\u001b[0m\u001b[1;33m(\u001b[0m\u001b[1;34m'win'\u001b[0m\u001b[1;33m)\u001b[0m\u001b[1;33m:\u001b[0m\u001b[1;33m\u001b[0m\u001b[1;33m\u001b[0m\u001b[0m\n\u001b[1;32m--> 152\u001b[1;33m             \u001b[1;32mreturn\u001b[0m \u001b[0mWinConfig\u001b[0m\u001b[1;33m(\u001b[0m\u001b[1;33m**\u001b[0m\u001b[0mkwargs\u001b[0m\u001b[1;33m)\u001b[0m\u001b[1;33m\u001b[0m\u001b[1;33m\u001b[0m\u001b[0m\n\u001b[0m\u001b[0;32m    153\u001b[0m         \u001b[1;32melse\u001b[0m\u001b[1;33m:\u001b[0m\u001b[1;33m\u001b[0m\u001b[1;33m\u001b[0m\u001b[0m\n\u001b[0;32m    154\u001b[0m             \u001b[1;32mreturn\u001b[0m \u001b[0mConfig\u001b[0m\u001b[1;33m(\u001b[0m\u001b[1;33m**\u001b[0m\u001b[0mkwargs\u001b[0m\u001b[1;33m)\u001b[0m\u001b[1;33m\u001b[0m\u001b[1;33m\u001b[0m\u001b[0m\n",
      "\u001b[1;32m~\\Anaconda3\\envs\\thesis\\lib\\site-packages\\BondGraphTools\\config.py\u001b[0m in \u001b[0;36m__init__\u001b[1;34m(self, julia_executable, python_executable, **kwargs)\u001b[0m\n\u001b[0;32m     53\u001b[0m \u001b[1;33m\u001b[0m\u001b[0m\n\u001b[0;32m     54\u001b[0m         \u001b[1;32mif\u001b[0m \u001b[1;32mnot\u001b[0m \u001b[0mjulia_executable\u001b[0m\u001b[1;33m:\u001b[0m\u001b[1;33m\u001b[0m\u001b[1;33m\u001b[0m\u001b[0m\n\u001b[1;32m---> 55\u001b[1;33m             \u001b[0mself\u001b[0m\u001b[1;33m.\u001b[0m\u001b[0mjulia_executable\u001b[0m \u001b[1;33m=\u001b[0m \u001b[0mself\u001b[0m\u001b[1;33m.\u001b[0m\u001b[0mfind_julia\u001b[0m\u001b[1;33m(\u001b[0m\u001b[1;33m)\u001b[0m\u001b[1;33m\u001b[0m\u001b[1;33m\u001b[0m\u001b[0m\n\u001b[0m\u001b[0;32m     56\u001b[0m             \u001b[0mnew_config\u001b[0m \u001b[1;33m=\u001b[0m \u001b[1;32mTrue\u001b[0m\u001b[1;33m\u001b[0m\u001b[1;33m\u001b[0m\u001b[0m\n\u001b[0;32m     57\u001b[0m         \u001b[1;32melse\u001b[0m\u001b[1;33m:\u001b[0m\u001b[1;33m\u001b[0m\u001b[1;33m\u001b[0m\u001b[0m\n",
      "\u001b[1;32m~\\Anaconda3\\envs\\thesis\\lib\\site-packages\\BondGraphTools\\config.py\u001b[0m in \u001b[0;36mfind_julia\u001b[1;34m(self)\u001b[0m\n\u001b[0;32m     73\u001b[0m \u001b[1;33m\u001b[0m\u001b[0m\n\u001b[0;32m     74\u001b[0m     \u001b[1;32mdef\u001b[0m \u001b[0mfind_julia\u001b[0m\u001b[1;33m(\u001b[0m\u001b[0mself\u001b[0m\u001b[1;33m)\u001b[0m\u001b[1;33m:\u001b[0m\u001b[1;33m\u001b[0m\u001b[1;33m\u001b[0m\u001b[0m\n\u001b[1;32m---> 75\u001b[1;33m         \u001b[1;32mif\u001b[0m \u001b[0m_check_julia\u001b[0m\u001b[1;33m(\u001b[0m\u001b[1;34m'julia'\u001b[0m\u001b[1;33m)\u001b[0m\u001b[1;33m:\u001b[0m\u001b[1;33m\u001b[0m\u001b[1;33m\u001b[0m\u001b[0m\n\u001b[0m\u001b[0;32m     76\u001b[0m             \u001b[0mp\u001b[0m \u001b[1;33m=\u001b[0m \u001b[0mPopen\u001b[0m\u001b[1;33m(\u001b[0m\u001b[1;33m[\u001b[0m\u001b[0mself\u001b[0m\u001b[1;33m.\u001b[0m\u001b[0m_which\u001b[0m\u001b[1;33m,\u001b[0m \u001b[1;34m'julia'\u001b[0m\u001b[1;33m]\u001b[0m\u001b[1;33m,\u001b[0m \u001b[0mstdout\u001b[0m\u001b[1;33m=\u001b[0m\u001b[0mPIPE\u001b[0m\u001b[1;33m,\u001b[0m \u001b[0mstderr\u001b[0m\u001b[1;33m=\u001b[0m\u001b[1;32mNone\u001b[0m\u001b[1;33m)\u001b[0m\u001b[1;33m\u001b[0m\u001b[1;33m\u001b[0m\u001b[0m\n\u001b[0;32m     77\u001b[0m             \u001b[0mout\u001b[0m\u001b[1;33m,\u001b[0m \u001b[0merr\u001b[0m \u001b[1;33m=\u001b[0m \u001b[0mp\u001b[0m\u001b[1;33m.\u001b[0m\u001b[0mcommunicate\u001b[0m\u001b[1;33m(\u001b[0m\u001b[1;33m)\u001b[0m\u001b[1;33m\u001b[0m\u001b[1;33m\u001b[0m\u001b[0m\n",
      "\u001b[1;32m~\\Anaconda3\\envs\\thesis\\lib\\site-packages\\BondGraphTools\\config.py\u001b[0m in \u001b[0;36m_check_julia\u001b[1;34m(command)\u001b[0m\n\u001b[0;32m     30\u001b[0m     \u001b[1;31m# Check to see if Julia is already in the path\u001b[0m\u001b[1;33m\u001b[0m\u001b[1;33m\u001b[0m\u001b[1;33m\u001b[0m\u001b[0m\n\u001b[0;32m     31\u001b[0m \u001b[1;33m\u001b[0m\u001b[0m\n\u001b[1;32m---> 32\u001b[1;33m     \u001b[0mp\u001b[0m \u001b[1;33m=\u001b[0m \u001b[0mPopen\u001b[0m\u001b[1;33m(\u001b[0m\u001b[1;33m[\u001b[0m\u001b[0mcommand\u001b[0m\u001b[1;33m,\u001b[0m \u001b[1;34m\"-v\"\u001b[0m\u001b[1;33m]\u001b[0m\u001b[1;33m,\u001b[0m \u001b[0mstdout\u001b[0m\u001b[1;33m=\u001b[0m\u001b[0mPIPE\u001b[0m\u001b[1;33m,\u001b[0m \u001b[0mstderr\u001b[0m\u001b[1;33m=\u001b[0m\u001b[1;32mNone\u001b[0m\u001b[1;33m)\u001b[0m\u001b[1;33m\u001b[0m\u001b[1;33m\u001b[0m\u001b[0m\n\u001b[0m\u001b[0;32m     33\u001b[0m \u001b[1;33m\u001b[0m\u001b[0m\n\u001b[0;32m     34\u001b[0m     \u001b[0mout\u001b[0m\u001b[1;33m,\u001b[0m \u001b[0merr\u001b[0m \u001b[1;33m=\u001b[0m \u001b[0mp\u001b[0m\u001b[1;33m.\u001b[0m\u001b[0mcommunicate\u001b[0m\u001b[1;33m(\u001b[0m\u001b[1;33m)\u001b[0m\u001b[1;33m\u001b[0m\u001b[1;33m\u001b[0m\u001b[0m\n",
      "\u001b[1;32m~\\Anaconda3\\envs\\thesis\\lib\\subprocess.py\u001b[0m in \u001b[0;36m__init__\u001b[1;34m(self, args, bufsize, executable, stdin, stdout, stderr, preexec_fn, close_fds, shell, cwd, env, universal_newlines, startupinfo, creationflags, restore_signals, start_new_session, pass_fds, encoding, errors)\u001b[0m\n\u001b[0;32m    727\u001b[0m                                 \u001b[0mc2pread\u001b[0m\u001b[1;33m,\u001b[0m \u001b[0mc2pwrite\u001b[0m\u001b[1;33m,\u001b[0m\u001b[1;33m\u001b[0m\u001b[1;33m\u001b[0m\u001b[0m\n\u001b[0;32m    728\u001b[0m                                 \u001b[0merrread\u001b[0m\u001b[1;33m,\u001b[0m \u001b[0merrwrite\u001b[0m\u001b[1;33m,\u001b[0m\u001b[1;33m\u001b[0m\u001b[1;33m\u001b[0m\u001b[0m\n\u001b[1;32m--> 729\u001b[1;33m                                 restore_signals, start_new_session)\n\u001b[0m\u001b[0;32m    730\u001b[0m         \u001b[1;32mexcept\u001b[0m\u001b[1;33m:\u001b[0m\u001b[1;33m\u001b[0m\u001b[1;33m\u001b[0m\u001b[0m\n\u001b[0;32m    731\u001b[0m             \u001b[1;31m# Cleanup if the child failed starting.\u001b[0m\u001b[1;33m\u001b[0m\u001b[1;33m\u001b[0m\u001b[1;33m\u001b[0m\u001b[0m\n",
      "\u001b[1;32m~\\Anaconda3\\envs\\thesis\\lib\\subprocess.py\u001b[0m in \u001b[0;36m_execute_child\u001b[1;34m(self, args, executable, preexec_fn, close_fds, pass_fds, cwd, env, startupinfo, creationflags, shell, p2cread, p2cwrite, c2pread, c2pwrite, errread, errwrite, unused_restore_signals, unused_start_new_session)\u001b[0m\n\u001b[0;32m   1015\u001b[0m                                          \u001b[0menv\u001b[0m\u001b[1;33m,\u001b[0m\u001b[1;33m\u001b[0m\u001b[1;33m\u001b[0m\u001b[0m\n\u001b[0;32m   1016\u001b[0m                                          \u001b[0mos\u001b[0m\u001b[1;33m.\u001b[0m\u001b[0mfspath\u001b[0m\u001b[1;33m(\u001b[0m\u001b[0mcwd\u001b[0m\u001b[1;33m)\u001b[0m \u001b[1;32mif\u001b[0m \u001b[0mcwd\u001b[0m \u001b[1;32mis\u001b[0m \u001b[1;32mnot\u001b[0m \u001b[1;32mNone\u001b[0m \u001b[1;32melse\u001b[0m \u001b[1;32mNone\u001b[0m\u001b[1;33m,\u001b[0m\u001b[1;33m\u001b[0m\u001b[1;33m\u001b[0m\u001b[0m\n\u001b[1;32m-> 1017\u001b[1;33m                                          startupinfo)\n\u001b[0m\u001b[0;32m   1018\u001b[0m             \u001b[1;32mfinally\u001b[0m\u001b[1;33m:\u001b[0m\u001b[1;33m\u001b[0m\u001b[1;33m\u001b[0m\u001b[0m\n\u001b[0;32m   1019\u001b[0m                 \u001b[1;31m# Child is launched. Close the parent's copy of those pipe\u001b[0m\u001b[1;33m\u001b[0m\u001b[1;33m\u001b[0m\u001b[1;33m\u001b[0m\u001b[0m\n",
      "\u001b[1;31mFileNotFoundError\u001b[0m: [WinError 2] The system cannot find the file specified"
     ]
    }
   ],
   "source": [
    "bgt.simulate(model, [0,1], x0=[2])"
   ]
  },
  {
   "cell_type": "code",
   "execution_count": 23,
   "metadata": {},
   "outputs": [
    {
     "ename": "FileNotFoundError",
     "evalue": "[WinError 2] The system cannot find the file specified",
     "output_type": "error",
     "traceback": [
      "\u001b[1;31m---------------------------------------------------------------------------\u001b[0m",
      "\u001b[1;31mFileNotFoundError\u001b[0m                         Traceback (most recent call last)",
      "\u001b[1;32m<ipython-input-23-0c0a4e61e57c>\u001b[0m in \u001b[0;36m<module>\u001b[1;34m\u001b[0m\n\u001b[0;32m      1\u001b[0m \u001b[0mtimespan\u001b[0m \u001b[1;33m=\u001b[0m \u001b[1;33m[\u001b[0m\u001b[1;36m0\u001b[0m\u001b[1;33m,\u001b[0m \u001b[1;36m5\u001b[0m\u001b[1;33m]\u001b[0m\u001b[1;33m\u001b[0m\u001b[1;33m\u001b[0m\u001b[0m\n\u001b[0;32m      2\u001b[0m \u001b[0mx0\u001b[0m \u001b[1;33m=\u001b[0m \u001b[1;33m[\u001b[0m\u001b[1;36m1\u001b[0m\u001b[1;33m]\u001b[0m\u001b[1;33m\u001b[0m\u001b[1;33m\u001b[0m\u001b[0m\n\u001b[1;32m----> 3\u001b[1;33m \u001b[0mt\u001b[0m\u001b[1;33m,\u001b[0m \u001b[0mx\u001b[0m \u001b[1;33m=\u001b[0m \u001b[0mbgt\u001b[0m\u001b[1;33m.\u001b[0m\u001b[0msimulate\u001b[0m\u001b[1;33m(\u001b[0m\u001b[0mmodel\u001b[0m\u001b[1;33m,\u001b[0m \u001b[0mtimespan\u001b[0m\u001b[1;33m=\u001b[0m\u001b[0mtimespan\u001b[0m\u001b[1;33m,\u001b[0m \u001b[0mx0\u001b[0m\u001b[1;33m=\u001b[0m\u001b[0mx0\u001b[0m\u001b[1;33m)\u001b[0m\u001b[1;33m\u001b[0m\u001b[1;33m\u001b[0m\u001b[0m\n\u001b[0m",
      "\u001b[1;32m~\\Anaconda3\\envs\\thesis\\lib\\site-packages\\BondGraphTools\\sim_tools.py\u001b[0m in \u001b[0;36msimulate\u001b[1;34m(system, timespan, x0, dx0, dt, control_vars)\u001b[0m\n\u001b[0;32m    102\u001b[0m         \u001b[0mModelException\u001b[0m\u001b[1;33m,\u001b[0m \u001b[0mSolverException\u001b[0m\u001b[1;33m\u001b[0m\u001b[1;33m\u001b[0m\u001b[0m\n\u001b[0;32m    103\u001b[0m     \"\"\"\n\u001b[1;32m--> 104\u001b[1;33m     \u001b[1;32mfrom\u001b[0m \u001b[1;33m.\u001b[0m\u001b[0mconfig\u001b[0m \u001b[1;32mimport\u001b[0m \u001b[0mconfig\u001b[0m\u001b[1;33m\u001b[0m\u001b[1;33m\u001b[0m\u001b[0m\n\u001b[0m\u001b[0;32m    105\u001b[0m     \u001b[0mde\u001b[0m \u001b[1;33m=\u001b[0m \u001b[0mconfig\u001b[0m\u001b[1;33m.\u001b[0m\u001b[0mde\u001b[0m\u001b[1;33m\u001b[0m\u001b[1;33m\u001b[0m\u001b[0m\n\u001b[0;32m    106\u001b[0m     \u001b[0mj\u001b[0m \u001b[1;33m=\u001b[0m \u001b[0mconfig\u001b[0m\u001b[1;33m.\u001b[0m\u001b[0mjulia\u001b[0m\u001b[1;33m\u001b[0m\u001b[1;33m\u001b[0m\u001b[0m\n",
      "\u001b[1;32m~\\Anaconda3\\envs\\thesis\\lib\\site-packages\\BondGraphTools\\config.py\u001b[0m in \u001b[0;36m<module>\u001b[1;34m\u001b[0m\n\u001b[0;32m    172\u001b[0m \u001b[1;33m\u001b[0m\u001b[0m\n\u001b[0;32m    173\u001b[0m \u001b[1;33m\u001b[0m\u001b[0m\n\u001b[1;32m--> 174\u001b[1;33m \u001b[0mconfig\u001b[0m \u001b[1;33m=\u001b[0m \u001b[0mConfig\u001b[0m\u001b[1;33m.\u001b[0m\u001b[0mload\u001b[0m\u001b[1;33m(\u001b[0m\u001b[1;33m)\u001b[0m\u001b[1;33m\u001b[0m\u001b[1;33m\u001b[0m\u001b[0m\n\u001b[0m\u001b[0;32m    175\u001b[0m \u001b[1;33m\u001b[0m\u001b[0m\n\u001b[0;32m    176\u001b[0m \u001b[0m__all__\u001b[0m \u001b[1;33m=\u001b[0m \u001b[1;33m[\u001b[0m\u001b[1;34m\"config\"\u001b[0m\u001b[1;33m]\u001b[0m\u001b[1;33m\u001b[0m\u001b[1;33m\u001b[0m\u001b[0m\n",
      "\u001b[1;32m~\\Anaconda3\\envs\\thesis\\lib\\site-packages\\BondGraphTools\\config.py\u001b[0m in \u001b[0;36mload\u001b[1;34m()\u001b[0m\n\u001b[0;32m    150\u001b[0m \u001b[1;33m\u001b[0m\u001b[0m\n\u001b[0;32m    151\u001b[0m         \u001b[1;32mif\u001b[0m \u001b[0msys\u001b[0m\u001b[1;33m.\u001b[0m\u001b[0mplatform\u001b[0m\u001b[1;33m.\u001b[0m\u001b[0mstartswith\u001b[0m\u001b[1;33m(\u001b[0m\u001b[1;34m'win'\u001b[0m\u001b[1;33m)\u001b[0m\u001b[1;33m:\u001b[0m\u001b[1;33m\u001b[0m\u001b[1;33m\u001b[0m\u001b[0m\n\u001b[1;32m--> 152\u001b[1;33m             \u001b[1;32mreturn\u001b[0m \u001b[0mWinConfig\u001b[0m\u001b[1;33m(\u001b[0m\u001b[1;33m**\u001b[0m\u001b[0mkwargs\u001b[0m\u001b[1;33m)\u001b[0m\u001b[1;33m\u001b[0m\u001b[1;33m\u001b[0m\u001b[0m\n\u001b[0m\u001b[0;32m    153\u001b[0m         \u001b[1;32melse\u001b[0m\u001b[1;33m:\u001b[0m\u001b[1;33m\u001b[0m\u001b[1;33m\u001b[0m\u001b[0m\n\u001b[0;32m    154\u001b[0m             \u001b[1;32mreturn\u001b[0m \u001b[0mConfig\u001b[0m\u001b[1;33m(\u001b[0m\u001b[1;33m**\u001b[0m\u001b[0mkwargs\u001b[0m\u001b[1;33m)\u001b[0m\u001b[1;33m\u001b[0m\u001b[1;33m\u001b[0m\u001b[0m\n",
      "\u001b[1;32m~\\Anaconda3\\envs\\thesis\\lib\\site-packages\\BondGraphTools\\config.py\u001b[0m in \u001b[0;36m__init__\u001b[1;34m(self, julia_executable, python_executable, **kwargs)\u001b[0m\n\u001b[0;32m     53\u001b[0m \u001b[1;33m\u001b[0m\u001b[0m\n\u001b[0;32m     54\u001b[0m         \u001b[1;32mif\u001b[0m \u001b[1;32mnot\u001b[0m \u001b[0mjulia_executable\u001b[0m\u001b[1;33m:\u001b[0m\u001b[1;33m\u001b[0m\u001b[1;33m\u001b[0m\u001b[0m\n\u001b[1;32m---> 55\u001b[1;33m             \u001b[0mself\u001b[0m\u001b[1;33m.\u001b[0m\u001b[0mjulia_executable\u001b[0m \u001b[1;33m=\u001b[0m \u001b[0mself\u001b[0m\u001b[1;33m.\u001b[0m\u001b[0mfind_julia\u001b[0m\u001b[1;33m(\u001b[0m\u001b[1;33m)\u001b[0m\u001b[1;33m\u001b[0m\u001b[1;33m\u001b[0m\u001b[0m\n\u001b[0m\u001b[0;32m     56\u001b[0m             \u001b[0mnew_config\u001b[0m \u001b[1;33m=\u001b[0m \u001b[1;32mTrue\u001b[0m\u001b[1;33m\u001b[0m\u001b[1;33m\u001b[0m\u001b[0m\n\u001b[0;32m     57\u001b[0m         \u001b[1;32melse\u001b[0m\u001b[1;33m:\u001b[0m\u001b[1;33m\u001b[0m\u001b[1;33m\u001b[0m\u001b[0m\n",
      "\u001b[1;32m~\\Anaconda3\\envs\\thesis\\lib\\site-packages\\BondGraphTools\\config.py\u001b[0m in \u001b[0;36mfind_julia\u001b[1;34m(self)\u001b[0m\n\u001b[0;32m     73\u001b[0m \u001b[1;33m\u001b[0m\u001b[0m\n\u001b[0;32m     74\u001b[0m     \u001b[1;32mdef\u001b[0m \u001b[0mfind_julia\u001b[0m\u001b[1;33m(\u001b[0m\u001b[0mself\u001b[0m\u001b[1;33m)\u001b[0m\u001b[1;33m:\u001b[0m\u001b[1;33m\u001b[0m\u001b[1;33m\u001b[0m\u001b[0m\n\u001b[1;32m---> 75\u001b[1;33m         \u001b[1;32mif\u001b[0m \u001b[0m_check_julia\u001b[0m\u001b[1;33m(\u001b[0m\u001b[1;34m'julia'\u001b[0m\u001b[1;33m)\u001b[0m\u001b[1;33m:\u001b[0m\u001b[1;33m\u001b[0m\u001b[1;33m\u001b[0m\u001b[0m\n\u001b[0m\u001b[0;32m     76\u001b[0m             \u001b[0mp\u001b[0m \u001b[1;33m=\u001b[0m \u001b[0mPopen\u001b[0m\u001b[1;33m(\u001b[0m\u001b[1;33m[\u001b[0m\u001b[0mself\u001b[0m\u001b[1;33m.\u001b[0m\u001b[0m_which\u001b[0m\u001b[1;33m,\u001b[0m \u001b[1;34m'julia'\u001b[0m\u001b[1;33m]\u001b[0m\u001b[1;33m,\u001b[0m \u001b[0mstdout\u001b[0m\u001b[1;33m=\u001b[0m\u001b[0mPIPE\u001b[0m\u001b[1;33m,\u001b[0m \u001b[0mstderr\u001b[0m\u001b[1;33m=\u001b[0m\u001b[1;32mNone\u001b[0m\u001b[1;33m)\u001b[0m\u001b[1;33m\u001b[0m\u001b[1;33m\u001b[0m\u001b[0m\n\u001b[0;32m     77\u001b[0m             \u001b[0mout\u001b[0m\u001b[1;33m,\u001b[0m \u001b[0merr\u001b[0m \u001b[1;33m=\u001b[0m \u001b[0mp\u001b[0m\u001b[1;33m.\u001b[0m\u001b[0mcommunicate\u001b[0m\u001b[1;33m(\u001b[0m\u001b[1;33m)\u001b[0m\u001b[1;33m\u001b[0m\u001b[1;33m\u001b[0m\u001b[0m\n",
      "\u001b[1;32m~\\Anaconda3\\envs\\thesis\\lib\\site-packages\\BondGraphTools\\config.py\u001b[0m in \u001b[0;36m_check_julia\u001b[1;34m(command)\u001b[0m\n\u001b[0;32m     30\u001b[0m     \u001b[1;31m# Check to see if Julia is already in the path\u001b[0m\u001b[1;33m\u001b[0m\u001b[1;33m\u001b[0m\u001b[1;33m\u001b[0m\u001b[0m\n\u001b[0;32m     31\u001b[0m \u001b[1;33m\u001b[0m\u001b[0m\n\u001b[1;32m---> 32\u001b[1;33m     \u001b[0mp\u001b[0m \u001b[1;33m=\u001b[0m \u001b[0mPopen\u001b[0m\u001b[1;33m(\u001b[0m\u001b[1;33m[\u001b[0m\u001b[0mcommand\u001b[0m\u001b[1;33m,\u001b[0m \u001b[1;34m\"-v\"\u001b[0m\u001b[1;33m]\u001b[0m\u001b[1;33m,\u001b[0m \u001b[0mstdout\u001b[0m\u001b[1;33m=\u001b[0m\u001b[0mPIPE\u001b[0m\u001b[1;33m,\u001b[0m \u001b[0mstderr\u001b[0m\u001b[1;33m=\u001b[0m\u001b[1;32mNone\u001b[0m\u001b[1;33m)\u001b[0m\u001b[1;33m\u001b[0m\u001b[1;33m\u001b[0m\u001b[0m\n\u001b[0m\u001b[0;32m     33\u001b[0m \u001b[1;33m\u001b[0m\u001b[0m\n\u001b[0;32m     34\u001b[0m     \u001b[0mout\u001b[0m\u001b[1;33m,\u001b[0m \u001b[0merr\u001b[0m \u001b[1;33m=\u001b[0m \u001b[0mp\u001b[0m\u001b[1;33m.\u001b[0m\u001b[0mcommunicate\u001b[0m\u001b[1;33m(\u001b[0m\u001b[1;33m)\u001b[0m\u001b[1;33m\u001b[0m\u001b[1;33m\u001b[0m\u001b[0m\n",
      "\u001b[1;32m~\\Anaconda3\\envs\\thesis\\lib\\subprocess.py\u001b[0m in \u001b[0;36m__init__\u001b[1;34m(self, args, bufsize, executable, stdin, stdout, stderr, preexec_fn, close_fds, shell, cwd, env, universal_newlines, startupinfo, creationflags, restore_signals, start_new_session, pass_fds, encoding, errors)\u001b[0m\n\u001b[0;32m    727\u001b[0m                                 \u001b[0mc2pread\u001b[0m\u001b[1;33m,\u001b[0m \u001b[0mc2pwrite\u001b[0m\u001b[1;33m,\u001b[0m\u001b[1;33m\u001b[0m\u001b[1;33m\u001b[0m\u001b[0m\n\u001b[0;32m    728\u001b[0m                                 \u001b[0merrread\u001b[0m\u001b[1;33m,\u001b[0m \u001b[0merrwrite\u001b[0m\u001b[1;33m,\u001b[0m\u001b[1;33m\u001b[0m\u001b[1;33m\u001b[0m\u001b[0m\n\u001b[1;32m--> 729\u001b[1;33m                                 restore_signals, start_new_session)\n\u001b[0m\u001b[0;32m    730\u001b[0m         \u001b[1;32mexcept\u001b[0m\u001b[1;33m:\u001b[0m\u001b[1;33m\u001b[0m\u001b[1;33m\u001b[0m\u001b[0m\n\u001b[0;32m    731\u001b[0m             \u001b[1;31m# Cleanup if the child failed starting.\u001b[0m\u001b[1;33m\u001b[0m\u001b[1;33m\u001b[0m\u001b[1;33m\u001b[0m\u001b[0m\n",
      "\u001b[1;32m~\\Anaconda3\\envs\\thesis\\lib\\subprocess.py\u001b[0m in \u001b[0;36m_execute_child\u001b[1;34m(self, args, executable, preexec_fn, close_fds, pass_fds, cwd, env, startupinfo, creationflags, shell, p2cread, p2cwrite, c2pread, c2pwrite, errread, errwrite, unused_restore_signals, unused_start_new_session)\u001b[0m\n\u001b[0;32m   1015\u001b[0m                                          \u001b[0menv\u001b[0m\u001b[1;33m,\u001b[0m\u001b[1;33m\u001b[0m\u001b[1;33m\u001b[0m\u001b[0m\n\u001b[0;32m   1016\u001b[0m                                          \u001b[0mos\u001b[0m\u001b[1;33m.\u001b[0m\u001b[0mfspath\u001b[0m\u001b[1;33m(\u001b[0m\u001b[0mcwd\u001b[0m\u001b[1;33m)\u001b[0m \u001b[1;32mif\u001b[0m \u001b[0mcwd\u001b[0m \u001b[1;32mis\u001b[0m \u001b[1;32mnot\u001b[0m \u001b[1;32mNone\u001b[0m \u001b[1;32melse\u001b[0m \u001b[1;32mNone\u001b[0m\u001b[1;33m,\u001b[0m\u001b[1;33m\u001b[0m\u001b[1;33m\u001b[0m\u001b[0m\n\u001b[1;32m-> 1017\u001b[1;33m                                          startupinfo)\n\u001b[0m\u001b[0;32m   1018\u001b[0m             \u001b[1;32mfinally\u001b[0m\u001b[1;33m:\u001b[0m\u001b[1;33m\u001b[0m\u001b[1;33m\u001b[0m\u001b[0m\n\u001b[0;32m   1019\u001b[0m                 \u001b[1;31m# Child is launched. Close the parent's copy of those pipe\u001b[0m\u001b[1;33m\u001b[0m\u001b[1;33m\u001b[0m\u001b[1;33m\u001b[0m\u001b[0m\n",
      "\u001b[1;31mFileNotFoundError\u001b[0m: [WinError 2] The system cannot find the file specified"
     ]
    }
   ],
   "source": [
    "timespan = [0, 5]\n",
    "x0 = [1]\n",
    "t, x = bgt.simulate(model, timespan=timespan, x0=x0)\n",
    "from matplotlib.pyplot import plot\n",
    "fig = plot(t,x)"
   ]
  },
  {
   "cell_type": "code",
   "execution_count": null,
   "metadata": {},
   "outputs": [],
   "source": []
  }
 ],
 "metadata": {
  "kernelspec": {
   "display_name": "Python 3",
   "language": "python",
   "name": "python3"
  },
  "language_info": {
   "codemirror_mode": {
    "name": "ipython",
    "version": 3
   },
   "file_extension": ".py",
   "mimetype": "text/x-python",
   "name": "python",
   "nbconvert_exporter": "python",
   "pygments_lexer": "ipython3",
   "version": "3.6.8"
  }
 },
 "nbformat": 4,
 "nbformat_minor": 2
}
